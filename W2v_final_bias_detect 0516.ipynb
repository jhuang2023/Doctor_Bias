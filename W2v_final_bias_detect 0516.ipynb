{
 "cells": [
  {
   "cell_type": "code",
   "execution_count": 1,
   "metadata": {
    "collapsed": true
   },
   "outputs": [],
   "source": [
    "import spacy\n",
    "import textacy\n",
    "import gensim\n",
    "import os\n",
    "import re\n",
    "import numpy as np\n",
    "import pandas as pd\n",
    "import scipy\n",
    "from tqdm import tnrange,tqdm_notebook"
   ]
  },
  {
   "cell_type": "code",
   "execution_count": 2,
   "metadata": {
    "collapsed": true
   },
   "outputs": [],
   "source": [
    "# this command will enable Jupyter to interactively display outputs from all expressions\n",
    "from IPython.core.interactiveshell import InteractiveShell\n",
    "InteractiveShell.ast_node_interactivity = \"all\""
   ]
  },
  {
   "cell_type": "code",
   "execution_count": 3,
   "metadata": {
    "collapsed": true
   },
   "outputs": [],
   "source": [
    "# this command will enable Jupyter to hide warning messages\n",
    "import warnings\n",
    "warnings.filterwarnings(\"ignore\")"
   ]
  },
  {
   "cell_type": "markdown",
   "metadata": {},
   "source": [
    "# Prepare data and clarify gender"
   ]
  },
  {
   "cell_type": "markdown",
   "metadata": {
    "heading_collapsed": true
   },
   "source": [
    "### Import raw data"
   ]
  },
  {
   "cell_type": "code",
   "execution_count": 3,
   "metadata": {
    "hidden": true,
    "scrolled": true
   },
   "outputs": [
    {
     "data": {
      "text/html": [
       "<div>\n",
       "<style>\n",
       "    .dataframe thead tr:only-child th {\n",
       "        text-align: right;\n",
       "    }\n",
       "\n",
       "    .dataframe thead th {\n",
       "        text-align: left;\n",
       "    }\n",
       "\n",
       "    .dataframe tbody tr th {\n",
       "        vertical-align: top;\n",
       "    }\n",
       "</style>\n",
       "<table border=\"1\" class=\"dataframe\">\n",
       "  <thead>\n",
       "    <tr style=\"text-align: right;\">\n",
       "      <th></th>\n",
       "      <th>Id</th>\n",
       "      <th>review_id</th>\n",
       "      <th>href</th>\n",
       "      <th>overall_rating</th>\n",
       "      <th>Ease_of_Appointment</th>\n",
       "      <th>Promptness</th>\n",
       "      <th>Courteous_Staff</th>\n",
       "      <th>Accurate_Diagnosis</th>\n",
       "      <th>Bedside_Manner</th>\n",
       "      <th>Spends_Time_with_Me</th>\n",
       "      <th>...</th>\n",
       "      <th>Advanced_Technology</th>\n",
       "      <th>Caring_Manner</th>\n",
       "      <th>Pain_Minimized</th>\n",
       "      <th>Satisfaction</th>\n",
       "      <th>date</th>\n",
       "      <th>reviewer</th>\n",
       "      <th>title</th>\n",
       "      <th>content</th>\n",
       "      <th>helpful_vote</th>\n",
       "      <th>crawl_date</th>\n",
       "    </tr>\n",
       "  </thead>\n",
       "  <tbody>\n",
       "    <tr>\n",
       "      <th>0</th>\n",
       "      <td>12949966</td>\n",
       "      <td>23507540</td>\n",
       "      <td>/dentists/Dr_Aarika_Anderson_Elter</td>\n",
       "      <td>5</td>\n",
       "      <td>4.0</td>\n",
       "      <td>NaN</td>\n",
       "      <td>NaN</td>\n",
       "      <td>NaN</td>\n",
       "      <td>NaN</td>\n",
       "      <td>NaN</td>\n",
       "      <td>...</td>\n",
       "      <td>NaN</td>\n",
       "      <td>5.0</td>\n",
       "      <td>5.0</td>\n",
       "      <td>NaN</td>\n",
       "      <td>2012-11-16</td>\n",
       "      <td>NaN</td>\n",
       "      <td>Great results</td>\n",
       "      <td>Dr. Anderson explained in detail my options fo...</td>\n",
       "      <td>NaN</td>\n",
       "      <td>2016-09-06 20:54:01</td>\n",
       "    </tr>\n",
       "    <tr>\n",
       "      <th>1</th>\n",
       "      <td>12949967</td>\n",
       "      <td>27184431</td>\n",
       "      <td>/dentists/Dr_Aamir_Wahab</td>\n",
       "      <td>5</td>\n",
       "      <td>5.0</td>\n",
       "      <td>NaN</td>\n",
       "      <td>NaN</td>\n",
       "      <td>NaN</td>\n",
       "      <td>NaN</td>\n",
       "      <td>NaN</td>\n",
       "      <td>...</td>\n",
       "      <td>5.0</td>\n",
       "      <td>5.0</td>\n",
       "      <td>5.0</td>\n",
       "      <td>5.0</td>\n",
       "      <td>2015-03-15</td>\n",
       "      <td>Brad s.</td>\n",
       "      <td>implant</td>\n",
       "      <td>Had an implant done and it was painless. I cou...</td>\n",
       "      <td>NaN</td>\n",
       "      <td>2016-09-06 20:54:10</td>\n",
       "    </tr>\n",
       "    <tr>\n",
       "      <th>2</th>\n",
       "      <td>12949968</td>\n",
       "      <td>26307282</td>\n",
       "      <td>/dentists/Dr_Aanal_Parikh</td>\n",
       "      <td>1</td>\n",
       "      <td>1.0</td>\n",
       "      <td>NaN</td>\n",
       "      <td>NaN</td>\n",
       "      <td>NaN</td>\n",
       "      <td>NaN</td>\n",
       "      <td>NaN</td>\n",
       "      <td>...</td>\n",
       "      <td>1.0</td>\n",
       "      <td>1.0</td>\n",
       "      <td>1.0</td>\n",
       "      <td>1.0</td>\n",
       "      <td>2014-10-12</td>\n",
       "      <td>Bill johnson</td>\n",
       "      <td>Warning ..would not see this dentist</td>\n",
       "      <td>Do not go to this dentist office they scam peo...</td>\n",
       "      <td>NaN</td>\n",
       "      <td>2016-09-06 20:54:13</td>\n",
       "    </tr>\n",
       "    <tr>\n",
       "      <th>3</th>\n",
       "      <td>12949969</td>\n",
       "      <td>28904504</td>\n",
       "      <td>/dentists/Dr_Aaron_Aguilar</td>\n",
       "      <td>5</td>\n",
       "      <td>5.0</td>\n",
       "      <td>NaN</td>\n",
       "      <td>NaN</td>\n",
       "      <td>NaN</td>\n",
       "      <td>NaN</td>\n",
       "      <td>NaN</td>\n",
       "      <td>...</td>\n",
       "      <td>5.0</td>\n",
       "      <td>5.0</td>\n",
       "      <td>5.0</td>\n",
       "      <td>5.0</td>\n",
       "      <td>2015-06-11</td>\n",
       "      <td>NaN</td>\n",
       "      <td>NaN</td>\n",
       "      <td>Very thoughtful Dr.  Communicates/bedside mann...</td>\n",
       "      <td>NaN</td>\n",
       "      <td>2016-09-06 20:54:14</td>\n",
       "    </tr>\n",
       "    <tr>\n",
       "      <th>4</th>\n",
       "      <td>12949970</td>\n",
       "      <td>28380953</td>\n",
       "      <td>/dentists/Dr_Aaron_D_Larsen</td>\n",
       "      <td>4</td>\n",
       "      <td>3.0</td>\n",
       "      <td>NaN</td>\n",
       "      <td>NaN</td>\n",
       "      <td>NaN</td>\n",
       "      <td>NaN</td>\n",
       "      <td>NaN</td>\n",
       "      <td>...</td>\n",
       "      <td>4.0</td>\n",
       "      <td>4.0</td>\n",
       "      <td>4.0</td>\n",
       "      <td>5.0</td>\n",
       "      <td>2015-03-31</td>\n",
       "      <td>NaN</td>\n",
       "      <td>Dr larsen great others no</td>\n",
       "      <td>Would continue to see Dr.  Larsen however his ...</td>\n",
       "      <td>NaN</td>\n",
       "      <td>2016-09-06 20:54:18</td>\n",
       "    </tr>\n",
       "  </tbody>\n",
       "</table>\n",
       "<p>5 rows × 23 columns</p>\n",
       "</div>"
      ],
      "text/plain": [
       "         Id  review_id                                href  overall_rating  \\\n",
       "0  12949966   23507540  /dentists/Dr_Aarika_Anderson_Elter               5   \n",
       "1  12949967   27184431            /dentists/Dr_Aamir_Wahab               5   \n",
       "2  12949968   26307282           /dentists/Dr_Aanal_Parikh               1   \n",
       "3  12949969   28904504          /dentists/Dr_Aaron_Aguilar               5   \n",
       "4  12949970   28380953         /dentists/Dr_Aaron_D_Larsen               4   \n",
       "\n",
       "   Ease_of_Appointment  Promptness  Courteous_Staff  Accurate_Diagnosis  \\\n",
       "0                  4.0         NaN              NaN                 NaN   \n",
       "1                  5.0         NaN              NaN                 NaN   \n",
       "2                  1.0         NaN              NaN                 NaN   \n",
       "3                  5.0         NaN              NaN                 NaN   \n",
       "4                  3.0         NaN              NaN                 NaN   \n",
       "\n",
       "   Bedside_Manner  Spends_Time_with_Me         ...           \\\n",
       "0             NaN                  NaN         ...            \n",
       "1             NaN                  NaN         ...            \n",
       "2             NaN                  NaN         ...            \n",
       "3             NaN                  NaN         ...            \n",
       "4             NaN                  NaN         ...            \n",
       "\n",
       "   Advanced_Technology  Caring_Manner  Pain_Minimized  Satisfaction  \\\n",
       "0                  NaN            5.0             5.0           NaN   \n",
       "1                  5.0            5.0             5.0           5.0   \n",
       "2                  1.0            1.0             1.0           1.0   \n",
       "3                  5.0            5.0             5.0           5.0   \n",
       "4                  4.0            4.0             4.0           5.0   \n",
       "\n",
       "         date      reviewer                                 title  \\\n",
       "0  2012-11-16           NaN                        Great results    \n",
       "1  2015-03-15       Brad s.                               implant   \n",
       "2  2014-10-12  Bill johnson  Warning ..would not see this dentist   \n",
       "3  2015-06-11           NaN                                   NaN   \n",
       "4  2015-03-31           NaN             Dr larsen great others no   \n",
       "\n",
       "                                             content helpful_vote  \\\n",
       "0  Dr. Anderson explained in detail my options fo...          NaN   \n",
       "1  Had an implant done and it was painless. I cou...          NaN   \n",
       "2  Do not go to this dentist office they scam peo...          NaN   \n",
       "3  Very thoughtful Dr.  Communicates/bedside mann...          NaN   \n",
       "4  Would continue to see Dr.  Larsen however his ...          NaN   \n",
       "\n",
       "            crawl_date  \n",
       "0  2016-09-06 20:54:01  \n",
       "1  2016-09-06 20:54:10  \n",
       "2  2016-09-06 20:54:13  \n",
       "3  2016-09-06 20:54:14  \n",
       "4  2016-09-06 20:54:18  \n",
       "\n",
       "[5 rows x 23 columns]"
      ]
     },
     "execution_count": 3,
     "metadata": {},
     "output_type": "execute_result"
    }
   ],
   "source": [
    "review_panel = pd.read_csv('./data/reviews_panel_t8.csv')\n",
    "review_panel.head()"
   ]
  },
  {
   "cell_type": "code",
   "execution_count": 4,
   "metadata": {
    "hidden": true
   },
   "outputs": [
    {
     "data": {
      "text/plain": [
       "(1796204, 23)"
      ]
     },
     "execution_count": 4,
     "metadata": {},
     "output_type": "execute_result"
    }
   ],
   "source": [
    "review_panel.shape"
   ]
  },
  {
   "cell_type": "code",
   "execution_count": 94,
   "metadata": {
    "hidden": true
   },
   "outputs": [
    {
     "data": {
      "text/html": [
       "<div>\n",
       "<style>\n",
       "    .dataframe thead tr:only-child th {\n",
       "        text-align: right;\n",
       "    }\n",
       "\n",
       "    .dataframe thead th {\n",
       "        text-align: left;\n",
       "    }\n",
       "\n",
       "    .dataframe tbody tr th {\n",
       "        vertical-align: top;\n",
       "    }\n",
       "</style>\n",
       "<table border=\"1\" class=\"dataframe\">\n",
       "  <thead>\n",
       "    <tr style=\"text-align: right;\">\n",
       "      <th></th>\n",
       "      <th>review_id</th>\n",
       "      <th>href</th>\n",
       "      <th>title</th>\n",
       "      <th>content</th>\n",
       "    </tr>\n",
       "  </thead>\n",
       "  <tbody>\n",
       "    <tr>\n",
       "      <th>0</th>\n",
       "      <td>23507540</td>\n",
       "      <td>/dentists/Dr_Aarika_Anderson_Elter</td>\n",
       "      <td>Great results</td>\n",
       "      <td>Dr. Anderson explained in detail my options fo...</td>\n",
       "    </tr>\n",
       "    <tr>\n",
       "      <th>1</th>\n",
       "      <td>27184431</td>\n",
       "      <td>/dentists/Dr_Aamir_Wahab</td>\n",
       "      <td>implant</td>\n",
       "      <td>Had an implant done and it was painless. I cou...</td>\n",
       "    </tr>\n",
       "    <tr>\n",
       "      <th>2</th>\n",
       "      <td>26307282</td>\n",
       "      <td>/dentists/Dr_Aanal_Parikh</td>\n",
       "      <td>Warning ..would not see this dentist</td>\n",
       "      <td>Do not go to this dentist office they scam peo...</td>\n",
       "    </tr>\n",
       "    <tr>\n",
       "      <th>3</th>\n",
       "      <td>28904504</td>\n",
       "      <td>/dentists/Dr_Aaron_Aguilar</td>\n",
       "      <td>NaN</td>\n",
       "      <td>Very thoughtful Dr.  Communicates/bedside mann...</td>\n",
       "    </tr>\n",
       "    <tr>\n",
       "      <th>4</th>\n",
       "      <td>28380953</td>\n",
       "      <td>/dentists/Dr_Aaron_D_Larsen</td>\n",
       "      <td>Dr larsen great others no</td>\n",
       "      <td>Would continue to see Dr.  Larsen however his ...</td>\n",
       "    </tr>\n",
       "  </tbody>\n",
       "</table>\n",
       "</div>"
      ],
      "text/plain": [
       "   review_id                                href  \\\n",
       "0   23507540  /dentists/Dr_Aarika_Anderson_Elter   \n",
       "1   27184431            /dentists/Dr_Aamir_Wahab   \n",
       "2   26307282           /dentists/Dr_Aanal_Parikh   \n",
       "3   28904504          /dentists/Dr_Aaron_Aguilar   \n",
       "4   28380953         /dentists/Dr_Aaron_D_Larsen   \n",
       "\n",
       "                                  title  \\\n",
       "0                        Great results    \n",
       "1                               implant   \n",
       "2  Warning ..would not see this dentist   \n",
       "3                                   NaN   \n",
       "4             Dr larsen great others no   \n",
       "\n",
       "                                             content  \n",
       "0  Dr. Anderson explained in detail my options fo...  \n",
       "1  Had an implant done and it was painless. I cou...  \n",
       "2  Do not go to this dentist office they scam peo...  \n",
       "3  Very thoughtful Dr.  Communicates/bedside mann...  \n",
       "4  Would continue to see Dr.  Larsen however his ...  "
      ]
     },
     "execution_count": 94,
     "metadata": {},
     "output_type": "execute_result"
    }
   ],
   "source": [
    "# focus on text comments\n",
    "review = review_panel.loc[:,['review_id','href','title','content']]\n",
    "review.head()"
   ]
  },
  {
   "cell_type": "code",
   "execution_count": 95,
   "metadata": {
    "hidden": true
   },
   "outputs": [
    {
     "data": {
      "text/html": [
       "<div>\n",
       "<style>\n",
       "    .dataframe thead tr:only-child th {\n",
       "        text-align: right;\n",
       "    }\n",
       "\n",
       "    .dataframe thead th {\n",
       "        text-align: left;\n",
       "    }\n",
       "\n",
       "    .dataframe tbody tr th {\n",
       "        vertical-align: top;\n",
       "    }\n",
       "</style>\n",
       "<table border=\"1\" class=\"dataframe\">\n",
       "  <thead>\n",
       "    <tr style=\"text-align: right;\">\n",
       "      <th></th>\n",
       "      <th>review_id</th>\n",
       "      <th>href</th>\n",
       "      <th>title</th>\n",
       "      <th>content</th>\n",
       "      <th>comments</th>\n",
       "    </tr>\n",
       "  </thead>\n",
       "  <tbody>\n",
       "    <tr>\n",
       "      <th>0</th>\n",
       "      <td>23507540</td>\n",
       "      <td>/dentists/Dr_Aarika_Anderson_Elter</td>\n",
       "      <td>Great results</td>\n",
       "      <td>Dr. Anderson explained in detail my options fo...</td>\n",
       "      <td>Great results  Dr. Anderson explained in detai...</td>\n",
       "    </tr>\n",
       "    <tr>\n",
       "      <th>1</th>\n",
       "      <td>27184431</td>\n",
       "      <td>/dentists/Dr_Aamir_Wahab</td>\n",
       "      <td>implant</td>\n",
       "      <td>Had an implant done and it was painless. I cou...</td>\n",
       "      <td>implant Had an implant done and it was painles...</td>\n",
       "    </tr>\n",
       "    <tr>\n",
       "      <th>2</th>\n",
       "      <td>26307282</td>\n",
       "      <td>/dentists/Dr_Aanal_Parikh</td>\n",
       "      <td>Warning ..would not see this dentist</td>\n",
       "      <td>Do not go to this dentist office they scam peo...</td>\n",
       "      <td>Warning ..would not see this dentist Do not go...</td>\n",
       "    </tr>\n",
       "    <tr>\n",
       "      <th>3</th>\n",
       "      <td>28904504</td>\n",
       "      <td>/dentists/Dr_Aaron_Aguilar</td>\n",
       "      <td>NaN</td>\n",
       "      <td>Very thoughtful Dr.  Communicates/bedside mann...</td>\n",
       "      <td>Very thoughtful Dr.  Communicates/bedside man...</td>\n",
       "    </tr>\n",
       "    <tr>\n",
       "      <th>4</th>\n",
       "      <td>28380953</td>\n",
       "      <td>/dentists/Dr_Aaron_D_Larsen</td>\n",
       "      <td>Dr larsen great others no</td>\n",
       "      <td>Would continue to see Dr.  Larsen however his ...</td>\n",
       "      <td>Dr larsen great others no Would continue to se...</td>\n",
       "    </tr>\n",
       "  </tbody>\n",
       "</table>\n",
       "</div>"
      ],
      "text/plain": [
       "   review_id                                href  \\\n",
       "0   23507540  /dentists/Dr_Aarika_Anderson_Elter   \n",
       "1   27184431            /dentists/Dr_Aamir_Wahab   \n",
       "2   26307282           /dentists/Dr_Aanal_Parikh   \n",
       "3   28904504          /dentists/Dr_Aaron_Aguilar   \n",
       "4   28380953         /dentists/Dr_Aaron_D_Larsen   \n",
       "\n",
       "                                  title  \\\n",
       "0                        Great results    \n",
       "1                               implant   \n",
       "2  Warning ..would not see this dentist   \n",
       "3                                   NaN   \n",
       "4             Dr larsen great others no   \n",
       "\n",
       "                                             content  \\\n",
       "0  Dr. Anderson explained in detail my options fo...   \n",
       "1  Had an implant done and it was painless. I cou...   \n",
       "2  Do not go to this dentist office they scam peo...   \n",
       "3  Very thoughtful Dr.  Communicates/bedside mann...   \n",
       "4  Would continue to see Dr.  Larsen however his ...   \n",
       "\n",
       "                                            comments  \n",
       "0  Great results  Dr. Anderson explained in detai...  \n",
       "1  implant Had an implant done and it was painles...  \n",
       "2  Warning ..would not see this dentist Do not go...  \n",
       "3   Very thoughtful Dr.  Communicates/bedside man...  \n",
       "4  Dr larsen great others no Would continue to se...  "
      ]
     },
     "execution_count": 95,
     "metadata": {},
     "output_type": "execute_result"
    }
   ],
   "source": [
    "# combine the title and content as final mateiral\n",
    "review_panel_text = review_panel['title'].fillna('').astype(str) + \" \" + review_panel['content'].fillna('')\n",
    "review['comments']=review_panel_text\n",
    "review.drop(['title','content'], axis=1, inplace=True)\n",
    "review.head()"
   ]
  },
  {
   "cell_type": "markdown",
   "metadata": {
    "heading_collapsed": true
   },
   "source": [
    "### Predict gender using first name"
   ]
  },
  {
   "cell_type": "code",
   "execution_count": 104,
   "metadata": {
    "hidden": true
   },
   "outputs": [
    {
     "data": {
      "text/html": [
       "<div>\n",
       "<style>\n",
       "    .dataframe thead tr:only-child th {\n",
       "        text-align: right;\n",
       "    }\n",
       "\n",
       "    .dataframe thead th {\n",
       "        text-align: left;\n",
       "    }\n",
       "\n",
       "    .dataframe tbody tr th {\n",
       "        vertical-align: top;\n",
       "    }\n",
       "</style>\n",
       "<table border=\"1\" class=\"dataframe\">\n",
       "  <thead>\n",
       "    <tr style=\"text-align: right;\">\n",
       "      <th></th>\n",
       "      <th>review_id</th>\n",
       "      <th>href</th>\n",
       "      <th>title</th>\n",
       "      <th>content</th>\n",
       "      <th>comments</th>\n",
       "      <th>name</th>\n",
       "    </tr>\n",
       "  </thead>\n",
       "  <tbody>\n",
       "    <tr>\n",
       "      <th>0</th>\n",
       "      <td>23507540</td>\n",
       "      <td>/dentists/Dr_Aarika_Anderson_Elter</td>\n",
       "      <td>Great results</td>\n",
       "      <td>Dr. Anderson explained in detail my options fo...</td>\n",
       "      <td>Great results  Dr. Anderson explained in detai...</td>\n",
       "      <td>Aarika D Anderson Elter</td>\n",
       "    </tr>\n",
       "    <tr>\n",
       "      <th>1</th>\n",
       "      <td>27184431</td>\n",
       "      <td>/dentists/Dr_Aamir_Wahab</td>\n",
       "      <td>implant</td>\n",
       "      <td>Had an implant done and it was painless. I cou...</td>\n",
       "      <td>implant Had an implant done and it was painles...</td>\n",
       "      <td>Aamir Wahab</td>\n",
       "    </tr>\n",
       "    <tr>\n",
       "      <th>2</th>\n",
       "      <td>26307282</td>\n",
       "      <td>/dentists/Dr_Aanal_Parikh</td>\n",
       "      <td>Warning ..would not see this dentist</td>\n",
       "      <td>Do not go to this dentist office they scam peo...</td>\n",
       "      <td>Warning ..would not see this dentist Do not go...</td>\n",
       "      <td>Aanal K Parikh</td>\n",
       "    </tr>\n",
       "    <tr>\n",
       "      <th>3</th>\n",
       "      <td>28904504</td>\n",
       "      <td>/dentists/Dr_Aaron_Aguilar</td>\n",
       "      <td>NaN</td>\n",
       "      <td>Very thoughtful Dr.  Communicates/bedside mann...</td>\n",
       "      <td>Very thoughtful Dr.  Communicates/bedside man...</td>\n",
       "      <td>Aaron D Aguilar</td>\n",
       "    </tr>\n",
       "    <tr>\n",
       "      <th>4</th>\n",
       "      <td>28380953</td>\n",
       "      <td>/dentists/Dr_Aaron_D_Larsen</td>\n",
       "      <td>Dr larsen great others no</td>\n",
       "      <td>Would continue to see Dr.  Larsen however his ...</td>\n",
       "      <td>Dr larsen great others no Would continue to se...</td>\n",
       "      <td>Aaron D Larsen</td>\n",
       "    </tr>\n",
       "  </tbody>\n",
       "</table>\n",
       "</div>"
      ],
      "text/plain": [
       "   review_id                                href  \\\n",
       "0   23507540  /dentists/Dr_Aarika_Anderson_Elter   \n",
       "1   27184431            /dentists/Dr_Aamir_Wahab   \n",
       "2   26307282           /dentists/Dr_Aanal_Parikh   \n",
       "3   28904504          /dentists/Dr_Aaron_Aguilar   \n",
       "4   28380953         /dentists/Dr_Aaron_D_Larsen   \n",
       "\n",
       "                                  title  \\\n",
       "0                        Great results    \n",
       "1                               implant   \n",
       "2  Warning ..would not see this dentist   \n",
       "3                                   NaN   \n",
       "4             Dr larsen great others no   \n",
       "\n",
       "                                             content  \\\n",
       "0  Dr. Anderson explained in detail my options fo...   \n",
       "1  Had an implant done and it was painless. I cou...   \n",
       "2  Do not go to this dentist office they scam peo...   \n",
       "3  Very thoughtful Dr.  Communicates/bedside mann...   \n",
       "4  Would continue to see Dr.  Larsen however his ...   \n",
       "\n",
       "                                            comments                     name  \n",
       "0  Great results  Dr. Anderson explained in detai...  Aarika D Anderson Elter  \n",
       "1  implant Had an implant done and it was painles...              Aamir Wahab  \n",
       "2  Warning ..would not see this dentist Do not go...           Aanal K Parikh  \n",
       "3   Very thoughtful Dr.  Communicates/bedside man...          Aaron D Aguilar  \n",
       "4  Dr larsen great others no Would continue to se...           Aaron D Larsen  "
      ]
     },
     "execution_count": 104,
     "metadata": {},
     "output_type": "execute_result"
    }
   ],
   "source": [
    "doc_list = pd.read_csv(\"./data/doctors_list_t8.csv\").loc[:,['href','name']]\n",
    "review = pd.merge(review, doc_list, on=['href'])\n",
    "review.head()"
   ]
  },
  {
   "cell_type": "code",
   "execution_count": 105,
   "metadata": {
    "hidden": true
   },
   "outputs": [
    {
     "data": {
      "text/html": [
       "<div>\n",
       "<style>\n",
       "    .dataframe thead tr:only-child th {\n",
       "        text-align: right;\n",
       "    }\n",
       "\n",
       "    .dataframe thead th {\n",
       "        text-align: left;\n",
       "    }\n",
       "\n",
       "    .dataframe tbody tr th {\n",
       "        vertical-align: top;\n",
       "    }\n",
       "</style>\n",
       "<table border=\"1\" class=\"dataframe\">\n",
       "  <thead>\n",
       "    <tr style=\"text-align: right;\">\n",
       "      <th></th>\n",
       "      <th>review_id</th>\n",
       "      <th>href</th>\n",
       "      <th>title</th>\n",
       "      <th>content</th>\n",
       "      <th>comments</th>\n",
       "      <th>name</th>\n",
       "    </tr>\n",
       "  </thead>\n",
       "  <tbody>\n",
       "    <tr>\n",
       "      <th>0</th>\n",
       "      <td>23507540</td>\n",
       "      <td>/dentists/Dr_Aarika_Anderson_Elter</td>\n",
       "      <td>Great results</td>\n",
       "      <td>Dr. Anderson explained in detail my options fo...</td>\n",
       "      <td>Great results  Dr. Anderson explained in detai...</td>\n",
       "      <td>aarika</td>\n",
       "    </tr>\n",
       "    <tr>\n",
       "      <th>1</th>\n",
       "      <td>27184431</td>\n",
       "      <td>/dentists/Dr_Aamir_Wahab</td>\n",
       "      <td>implant</td>\n",
       "      <td>Had an implant done and it was painless. I cou...</td>\n",
       "      <td>implant Had an implant done and it was painles...</td>\n",
       "      <td>aamir</td>\n",
       "    </tr>\n",
       "    <tr>\n",
       "      <th>2</th>\n",
       "      <td>26307282</td>\n",
       "      <td>/dentists/Dr_Aanal_Parikh</td>\n",
       "      <td>Warning ..would not see this dentist</td>\n",
       "      <td>Do not go to this dentist office they scam peo...</td>\n",
       "      <td>Warning ..would not see this dentist Do not go...</td>\n",
       "      <td>aanal</td>\n",
       "    </tr>\n",
       "    <tr>\n",
       "      <th>3</th>\n",
       "      <td>28904504</td>\n",
       "      <td>/dentists/Dr_Aaron_Aguilar</td>\n",
       "      <td>NaN</td>\n",
       "      <td>Very thoughtful Dr.  Communicates/bedside mann...</td>\n",
       "      <td>Very thoughtful Dr.  Communicates/bedside man...</td>\n",
       "      <td>aaron</td>\n",
       "    </tr>\n",
       "    <tr>\n",
       "      <th>4</th>\n",
       "      <td>28380953</td>\n",
       "      <td>/dentists/Dr_Aaron_D_Larsen</td>\n",
       "      <td>Dr larsen great others no</td>\n",
       "      <td>Would continue to see Dr.  Larsen however his ...</td>\n",
       "      <td>Dr larsen great others no Would continue to se...</td>\n",
       "      <td>aaron</td>\n",
       "    </tr>\n",
       "  </tbody>\n",
       "</table>\n",
       "</div>"
      ],
      "text/plain": [
       "   review_id                                href  \\\n",
       "0   23507540  /dentists/Dr_Aarika_Anderson_Elter   \n",
       "1   27184431            /dentists/Dr_Aamir_Wahab   \n",
       "2   26307282           /dentists/Dr_Aanal_Parikh   \n",
       "3   28904504          /dentists/Dr_Aaron_Aguilar   \n",
       "4   28380953         /dentists/Dr_Aaron_D_Larsen   \n",
       "\n",
       "                                  title  \\\n",
       "0                        Great results    \n",
       "1                               implant   \n",
       "2  Warning ..would not see this dentist   \n",
       "3                                   NaN   \n",
       "4             Dr larsen great others no   \n",
       "\n",
       "                                             content  \\\n",
       "0  Dr. Anderson explained in detail my options fo...   \n",
       "1  Had an implant done and it was painless. I cou...   \n",
       "2  Do not go to this dentist office they scam peo...   \n",
       "3  Very thoughtful Dr.  Communicates/bedside mann...   \n",
       "4  Would continue to see Dr.  Larsen however his ...   \n",
       "\n",
       "                                            comments    name  \n",
       "0  Great results  Dr. Anderson explained in detai...  aarika  \n",
       "1  implant Had an implant done and it was painles...   aamir  \n",
       "2  Warning ..would not see this dentist Do not go...   aanal  \n",
       "3   Very thoughtful Dr.  Communicates/bedside man...   aaron  \n",
       "4  Dr larsen great others no Would continue to se...   aaron  "
      ]
     },
     "execution_count": 105,
     "metadata": {},
     "output_type": "execute_result"
    }
   ],
   "source": [
    "def firstname(x):\n",
    "    name = str(x).lower().split(' ')\n",
    "    return name[0]\n",
    "\n",
    "review['name']=review['name'].apply(firstname)\n",
    "review.head()"
   ]
  },
  {
   "cell_type": "code",
   "execution_count": 36,
   "metadata": {
    "collapsed": true,
    "hidden": true
   },
   "outputs": [],
   "source": [
    "from __future__ import absolute_import, division, print_function\n",
    "from six.moves import urllib\n",
    "import os\n",
    "from zipfile import ZipFile\n",
    "import csv\n",
    "import io\n",
    "\n",
    "\n",
    "class simpleGenderPredictor():\n",
    "    \n",
    "    def __init__(self):\n",
    "        self.name_dict = self.extractNamesDict()\n",
    "\n",
    "    def downloadNames(self):\n",
    "        urllib.request.urlretrieve(\n",
    "            'https://www.ssa.gov/oact/babynames/names.zip', 'names.zip')\n",
    "\n",
    "    def extractNamesDict(self):\n",
    "        \"\"\"\n",
    "        download names.zip from SSA if necessary\n",
    "        construct a dict from SSA name data: NAME: [number of M, number of F]\n",
    "        \"\"\"\n",
    "        if not os.path.exists('names.zip'):\n",
    "            print('names.zip does not exist, downloading from ssa.gov')\n",
    "            self.downloadNames()\n",
    "        else:\n",
    "            print('names.zip exists, not downloading')\n",
    "        zf = ZipFile('names.zip', 'r')\n",
    "        filenames = zf.namelist()\n",
    "\n",
    "        names = dict()\n",
    "        genderMap = {'M': 0, 'F': 1}\n",
    "\n",
    "        for filename in filenames:\n",
    "            if filename.endswith('.txt'):\n",
    "                file = zf.open(filename, 'r')\n",
    "                rows = csv.reader(\n",
    "                    io.TextIOWrapper(file, encoding=\"latin-1\"), delimiter=',')\n",
    "\n",
    "                for row in rows:\n",
    "                    name = row[0].upper()\n",
    "                    gender = genderMap[row[1]]\n",
    "                    count = int(row[2])\n",
    "\n",
    "                    if name not in names:\n",
    "                        names[name] = [0, 0]\n",
    "                    names[name][gender] = names[name][gender] + count\n",
    "                file.close()\n",
    "        print('name dictionary constructed')\n",
    "        return names\n",
    "\n",
    "    def predict_name(self, a_name):\n",
    "        \"\"\"\n",
    "        Outputs a tuple: prediction, probability from historical data\n",
    "        \"\"\"\n",
    "        freq = self.name_dict.get(a_name.upper())\n",
    "        if freq is None:\n",
    "            return 'Unknown', None\n",
    "        elif freq[0] >= freq[1]:\n",
    "            return 'M', freq[0] / (freq[0] + freq[1])\n",
    "        else:\n",
    "            return 'F', freq[1] / (freq[0] + freq[1])"
   ]
  },
  {
   "cell_type": "code",
   "execution_count": 106,
   "metadata": {
    "hidden": true
   },
   "outputs": [
    {
     "name": "stdout",
     "output_type": "stream",
     "text": [
      "names.zip exists, not downloading\n",
      "name dictionary constructed\n"
     ]
    },
    {
     "data": {
      "application/vnd.jupyter.widget-view+json": {
       "model_id": "6c1c11c9fba342e0895803ef102db169"
      }
     },
     "metadata": {},
     "output_type": "display_data"
    }
   ],
   "source": [
    "p = simpleGenderPredictor()\n",
    "firstNameList = list(review.name)\n",
    "\n",
    "gender_pred = []\n",
    "for i in tqdm_notebook(firstNameList):\n",
    "    pred = p.predict_name(str(i))\n",
    "    gender_pred += [pred[0]]"
   ]
  },
  {
   "cell_type": "code",
   "execution_count": 108,
   "metadata": {
    "hidden": true
   },
   "outputs": [
    {
     "data": {
      "text/html": [
       "<div>\n",
       "<style>\n",
       "    .dataframe thead tr:only-child th {\n",
       "        text-align: right;\n",
       "    }\n",
       "\n",
       "    .dataframe thead th {\n",
       "        text-align: left;\n",
       "    }\n",
       "\n",
       "    .dataframe tbody tr th {\n",
       "        vertical-align: top;\n",
       "    }\n",
       "</style>\n",
       "<table border=\"1\" class=\"dataframe\">\n",
       "  <thead>\n",
       "    <tr style=\"text-align: right;\">\n",
       "      <th></th>\n",
       "      <th>review_id</th>\n",
       "      <th>href</th>\n",
       "      <th>title</th>\n",
       "      <th>content</th>\n",
       "      <th>comments</th>\n",
       "      <th>name</th>\n",
       "      <th>name_gender</th>\n",
       "    </tr>\n",
       "  </thead>\n",
       "  <tbody>\n",
       "    <tr>\n",
       "      <th>0</th>\n",
       "      <td>23507540</td>\n",
       "      <td>/dentists/Dr_Aarika_Anderson_Elter</td>\n",
       "      <td>Great results</td>\n",
       "      <td>Dr. Anderson explained in detail my options fo...</td>\n",
       "      <td>Great results  Dr. Anderson explained in detai...</td>\n",
       "      <td>aarika</td>\n",
       "      <td>F</td>\n",
       "    </tr>\n",
       "    <tr>\n",
       "      <th>1</th>\n",
       "      <td>27184431</td>\n",
       "      <td>/dentists/Dr_Aamir_Wahab</td>\n",
       "      <td>implant</td>\n",
       "      <td>Had an implant done and it was painless. I cou...</td>\n",
       "      <td>implant Had an implant done and it was painles...</td>\n",
       "      <td>aamir</td>\n",
       "      <td>M</td>\n",
       "    </tr>\n",
       "    <tr>\n",
       "      <th>2</th>\n",
       "      <td>26307282</td>\n",
       "      <td>/dentists/Dr_Aanal_Parikh</td>\n",
       "      <td>Warning ..would not see this dentist</td>\n",
       "      <td>Do not go to this dentist office they scam peo...</td>\n",
       "      <td>Warning ..would not see this dentist Do not go...</td>\n",
       "      <td>aanal</td>\n",
       "      <td>Unknown</td>\n",
       "    </tr>\n",
       "    <tr>\n",
       "      <th>3</th>\n",
       "      <td>28904504</td>\n",
       "      <td>/dentists/Dr_Aaron_Aguilar</td>\n",
       "      <td>NaN</td>\n",
       "      <td>Very thoughtful Dr.  Communicates/bedside mann...</td>\n",
       "      <td>Very thoughtful Dr.  Communicates/bedside man...</td>\n",
       "      <td>aaron</td>\n",
       "      <td>M</td>\n",
       "    </tr>\n",
       "    <tr>\n",
       "      <th>4</th>\n",
       "      <td>28380953</td>\n",
       "      <td>/dentists/Dr_Aaron_D_Larsen</td>\n",
       "      <td>Dr larsen great others no</td>\n",
       "      <td>Would continue to see Dr.  Larsen however his ...</td>\n",
       "      <td>Dr larsen great others no Would continue to se...</td>\n",
       "      <td>aaron</td>\n",
       "      <td>M</td>\n",
       "    </tr>\n",
       "  </tbody>\n",
       "</table>\n",
       "</div>"
      ],
      "text/plain": [
       "   review_id                                href  \\\n",
       "0   23507540  /dentists/Dr_Aarika_Anderson_Elter   \n",
       "1   27184431            /dentists/Dr_Aamir_Wahab   \n",
       "2   26307282           /dentists/Dr_Aanal_Parikh   \n",
       "3   28904504          /dentists/Dr_Aaron_Aguilar   \n",
       "4   28380953         /dentists/Dr_Aaron_D_Larsen   \n",
       "\n",
       "                                  title  \\\n",
       "0                        Great results    \n",
       "1                               implant   \n",
       "2  Warning ..would not see this dentist   \n",
       "3                                   NaN   \n",
       "4             Dr larsen great others no   \n",
       "\n",
       "                                             content  \\\n",
       "0  Dr. Anderson explained in detail my options fo...   \n",
       "1  Had an implant done and it was painless. I cou...   \n",
       "2  Do not go to this dentist office they scam peo...   \n",
       "3  Very thoughtful Dr.  Communicates/bedside mann...   \n",
       "4  Would continue to see Dr.  Larsen however his ...   \n",
       "\n",
       "                                            comments    name name_gender  \n",
       "0  Great results  Dr. Anderson explained in detai...  aarika           F  \n",
       "1  implant Had an implant done and it was painles...   aamir           M  \n",
       "2  Warning ..would not see this dentist Do not go...   aanal     Unknown  \n",
       "3   Very thoughtful Dr.  Communicates/bedside man...   aaron           M  \n",
       "4  Dr larsen great others no Would continue to se...   aaron           M  "
      ]
     },
     "execution_count": 108,
     "metadata": {},
     "output_type": "execute_result"
    }
   ],
   "source": [
    "review['name_gender']=pd.Series(gender_pred).values\n",
    "review.head()"
   ]
  },
  {
   "cell_type": "markdown",
   "metadata": {
    "heading_collapsed": true
   },
   "source": [
    "### Predict gender using comments    & Filter (nurse, helper, ...)"
   ]
  },
  {
   "cell_type": "code",
   "execution_count": 176,
   "metadata": {
    "collapsed": true,
    "hidden": true
   },
   "outputs": [],
   "source": [
    "female_pronoun=set(['she','her'])\n",
    "male_pronoun=set(['he','his','him'])\n",
    "special_positions=set(['nurse','secretary','receptionist','assistant','nurses','nurseassistant','scheduler','helper'])\n",
    "\n",
    "def contentHe(s):\n",
    "    s = s.lower().strip() \n",
    "    s = re.sub('[^a-z]',' ',s)\n",
    "    s = s.split(' ')\n",
    "    content_he= int()\n",
    "    if any(word in s for word in male_pronoun):\n",
    "          content_he= 1\n",
    "    return content_he\n",
    "\n",
    "def contentShe(s):\n",
    "    s = s.lower().strip() \n",
    "    s = re.sub('[^a-z]',' ',s)\n",
    "    s = s.split(' ')\n",
    "    content_she= int()\n",
    "    if any(word in s for word in female_pronoun):\n",
    "          content_she= 1\n",
    "    return content_she\n",
    "\n",
    "def positionFilter(s):\n",
    "    s = s.lower().strip() \n",
    "    s = re.sub('[^a-z]',' ',s)\n",
    "    s = s.split(' ')\n",
    "    sp_positions = int()\n",
    "    if any(word in s for word in special_positions):\n",
    "        sp_positions = 1\n",
    "    return sp_positions"
   ]
  },
  {
   "cell_type": "code",
   "execution_count": 177,
   "metadata": {
    "hidden": true
   },
   "outputs": [
    {
     "data": {
      "text/html": [
       "<div>\n",
       "<style>\n",
       "    .dataframe thead tr:only-child th {\n",
       "        text-align: right;\n",
       "    }\n",
       "\n",
       "    .dataframe thead th {\n",
       "        text-align: left;\n",
       "    }\n",
       "\n",
       "    .dataframe tbody tr th {\n",
       "        vertical-align: top;\n",
       "    }\n",
       "</style>\n",
       "<table border=\"1\" class=\"dataframe\">\n",
       "  <thead>\n",
       "    <tr style=\"text-align: right;\">\n",
       "      <th></th>\n",
       "      <th>review_id</th>\n",
       "      <th>href</th>\n",
       "      <th>title</th>\n",
       "      <th>content</th>\n",
       "      <th>comments</th>\n",
       "      <th>name</th>\n",
       "      <th>name_gender</th>\n",
       "      <th>content_he</th>\n",
       "      <th>content_she</th>\n",
       "      <th>sp_positions</th>\n",
       "    </tr>\n",
       "  </thead>\n",
       "  <tbody>\n",
       "    <tr>\n",
       "      <th>0</th>\n",
       "      <td>23507540</td>\n",
       "      <td>/dentists/Dr_Aarika_Anderson_Elter</td>\n",
       "      <td>Great results</td>\n",
       "      <td>Dr. Anderson explained in detail my options fo...</td>\n",
       "      <td>Great results  Dr. Anderson explained in detai...</td>\n",
       "      <td>aarika</td>\n",
       "      <td>F</td>\n",
       "      <td>0</td>\n",
       "      <td>0</td>\n",
       "      <td>0</td>\n",
       "    </tr>\n",
       "    <tr>\n",
       "      <th>1</th>\n",
       "      <td>27184431</td>\n",
       "      <td>/dentists/Dr_Aamir_Wahab</td>\n",
       "      <td>implant</td>\n",
       "      <td>Had an implant done and it was painless. I cou...</td>\n",
       "      <td>implant Had an implant done and it was painles...</td>\n",
       "      <td>aamir</td>\n",
       "      <td>M</td>\n",
       "      <td>1</td>\n",
       "      <td>0</td>\n",
       "      <td>0</td>\n",
       "    </tr>\n",
       "    <tr>\n",
       "      <th>2</th>\n",
       "      <td>26307282</td>\n",
       "      <td>/dentists/Dr_Aanal_Parikh</td>\n",
       "      <td>Warning ..would not see this dentist</td>\n",
       "      <td>Do not go to this dentist office they scam peo...</td>\n",
       "      <td>Warning ..would not see this dentist Do not go...</td>\n",
       "      <td>aanal</td>\n",
       "      <td>Unknown</td>\n",
       "      <td>0</td>\n",
       "      <td>0</td>\n",
       "      <td>0</td>\n",
       "    </tr>\n",
       "    <tr>\n",
       "      <th>3</th>\n",
       "      <td>28904504</td>\n",
       "      <td>/dentists/Dr_Aaron_Aguilar</td>\n",
       "      <td>NaN</td>\n",
       "      <td>Very thoughtful Dr.  Communicates/bedside mann...</td>\n",
       "      <td>Very thoughtful Dr.  Communicates/bedside man...</td>\n",
       "      <td>aaron</td>\n",
       "      <td>M</td>\n",
       "      <td>0</td>\n",
       "      <td>0</td>\n",
       "      <td>0</td>\n",
       "    </tr>\n",
       "    <tr>\n",
       "      <th>4</th>\n",
       "      <td>28380953</td>\n",
       "      <td>/dentists/Dr_Aaron_D_Larsen</td>\n",
       "      <td>Dr larsen great others no</td>\n",
       "      <td>Would continue to see Dr.  Larsen however his ...</td>\n",
       "      <td>Dr larsen great others no Would continue to se...</td>\n",
       "      <td>aaron</td>\n",
       "      <td>M</td>\n",
       "      <td>1</td>\n",
       "      <td>0</td>\n",
       "      <td>1</td>\n",
       "    </tr>\n",
       "    <tr>\n",
       "      <th>5</th>\n",
       "      <td>30421069</td>\n",
       "      <td>/dentists/Dr_Aaron_Acres</td>\n",
       "      <td>NaN</td>\n",
       "      <td>Dr. Acres and his staff are an exceptionally p...</td>\n",
       "      <td>Dr. Acres and his staff are an exceptionally ...</td>\n",
       "      <td>aaron</td>\n",
       "      <td>M</td>\n",
       "      <td>1</td>\n",
       "      <td>0</td>\n",
       "      <td>0</td>\n",
       "    </tr>\n",
       "    <tr>\n",
       "      <th>6</th>\n",
       "      <td>24080817</td>\n",
       "      <td>/dentists/Dr_Aaron_A_Johnson</td>\n",
       "      <td>Not Friendly</td>\n",
       "      <td>After smiling and shaking my hand he was just ...</td>\n",
       "      <td>Not Friendly After smiling and shaking my hand...</td>\n",
       "      <td>aaron</td>\n",
       "      <td>M</td>\n",
       "      <td>1</td>\n",
       "      <td>1</td>\n",
       "      <td>0</td>\n",
       "    </tr>\n",
       "    <tr>\n",
       "      <th>7</th>\n",
       "      <td>26586170</td>\n",
       "      <td>/dentists/Dr_Aaron_Larock</td>\n",
       "      <td>Dr. LaRock</td>\n",
       "      <td>There are three doctors, I've seen (Dr Sara, D...</td>\n",
       "      <td>Dr. LaRock There are three doctors, I've seen ...</td>\n",
       "      <td>aaron</td>\n",
       "      <td>M</td>\n",
       "      <td>0</td>\n",
       "      <td>0</td>\n",
       "      <td>0</td>\n",
       "    </tr>\n",
       "    <tr>\n",
       "      <th>8</th>\n",
       "      <td>30409668</td>\n",
       "      <td>/dentists/Dr_Aaron_K_Lee</td>\n",
       "      <td>Dental office</td>\n",
       "      <td>Dr. Lee is the best dentist I have seen in my ...</td>\n",
       "      <td>Dental office  Dr. Lee is the best dentist I h...</td>\n",
       "      <td>aaron</td>\n",
       "      <td>M</td>\n",
       "      <td>1</td>\n",
       "      <td>0</td>\n",
       "      <td>0</td>\n",
       "    </tr>\n",
       "    <tr>\n",
       "      <th>9</th>\n",
       "      <td>30156562</td>\n",
       "      <td>/dentists/Dr_Aaron_K_Lee</td>\n",
       "      <td>wonderful  office</td>\n",
       "      <td>Very clean office.  Very modern.  Staff is ext...</td>\n",
       "      <td>wonderful  office  Very clean office.  Very mo...</td>\n",
       "      <td>aaron</td>\n",
       "      <td>M</td>\n",
       "      <td>0</td>\n",
       "      <td>0</td>\n",
       "      <td>0</td>\n",
       "    </tr>\n",
       "  </tbody>\n",
       "</table>\n",
       "</div>"
      ],
      "text/plain": [
       "   review_id                                href  \\\n",
       "0   23507540  /dentists/Dr_Aarika_Anderson_Elter   \n",
       "1   27184431            /dentists/Dr_Aamir_Wahab   \n",
       "2   26307282           /dentists/Dr_Aanal_Parikh   \n",
       "3   28904504          /dentists/Dr_Aaron_Aguilar   \n",
       "4   28380953         /dentists/Dr_Aaron_D_Larsen   \n",
       "5   30421069            /dentists/Dr_Aaron_Acres   \n",
       "6   24080817        /dentists/Dr_Aaron_A_Johnson   \n",
       "7   26586170           /dentists/Dr_Aaron_Larock   \n",
       "8   30409668            /dentists/Dr_Aaron_K_Lee   \n",
       "9   30156562            /dentists/Dr_Aaron_K_Lee   \n",
       "\n",
       "                                  title  \\\n",
       "0                        Great results    \n",
       "1                               implant   \n",
       "2  Warning ..would not see this dentist   \n",
       "3                                   NaN   \n",
       "4             Dr larsen great others no   \n",
       "5                                   NaN   \n",
       "6                          Not Friendly   \n",
       "7                            Dr. LaRock   \n",
       "8                        Dental office    \n",
       "9                    wonderful  office    \n",
       "\n",
       "                                             content  \\\n",
       "0  Dr. Anderson explained in detail my options fo...   \n",
       "1  Had an implant done and it was painless. I cou...   \n",
       "2  Do not go to this dentist office they scam peo...   \n",
       "3  Very thoughtful Dr.  Communicates/bedside mann...   \n",
       "4  Would continue to see Dr.  Larsen however his ...   \n",
       "5  Dr. Acres and his staff are an exceptionally p...   \n",
       "6  After smiling and shaking my hand he was just ...   \n",
       "7  There are three doctors, I've seen (Dr Sara, D...   \n",
       "8  Dr. Lee is the best dentist I have seen in my ...   \n",
       "9  Very clean office.  Very modern.  Staff is ext...   \n",
       "\n",
       "                                            comments    name name_gender  \\\n",
       "0  Great results  Dr. Anderson explained in detai...  aarika           F   \n",
       "1  implant Had an implant done and it was painles...   aamir           M   \n",
       "2  Warning ..would not see this dentist Do not go...   aanal     Unknown   \n",
       "3   Very thoughtful Dr.  Communicates/bedside man...   aaron           M   \n",
       "4  Dr larsen great others no Would continue to se...   aaron           M   \n",
       "5   Dr. Acres and his staff are an exceptionally ...   aaron           M   \n",
       "6  Not Friendly After smiling and shaking my hand...   aaron           M   \n",
       "7  Dr. LaRock There are three doctors, I've seen ...   aaron           M   \n",
       "8  Dental office  Dr. Lee is the best dentist I h...   aaron           M   \n",
       "9  wonderful  office  Very clean office.  Very mo...   aaron           M   \n",
       "\n",
       "   content_he  content_she  sp_positions  \n",
       "0           0            0             0  \n",
       "1           1            0             0  \n",
       "2           0            0             0  \n",
       "3           0            0             0  \n",
       "4           1            0             1  \n",
       "5           1            0             0  \n",
       "6           1            1             0  \n",
       "7           0            0             0  \n",
       "8           1            0             0  \n",
       "9           0            0             0  "
      ]
     },
     "execution_count": 177,
     "metadata": {},
     "output_type": "execute_result"
    }
   ],
   "source": [
    "# increate columns as marks (~10 mins)\n",
    "review['content_he']=review['comments'].map(contentHe)\n",
    "review['content_she']=review['comments'].apply(contentShe)\n",
    "review['sp_positions']=review['comments'].apply(positionFilter)\n",
    "\n",
    "review.head(10)"
   ]
  },
  {
   "cell_type": "code",
   "execution_count": 182,
   "metadata": {
    "hidden": true
   },
   "outputs": [
    {
     "data": {
      "text/plain": [
       "\"Not Friendly After smiling and shaking my hand he was just cold. I was basically ordered where to sit because I was too slow for him I guess. Didn't ask me how I was or try to get to know me in the least. I'm used to friendly dentists who try to work a little humanity into a visit but he must see people as just financial resources, oh maybe I didn't rate any real courtesy because he wasn't making much off me the day I was there .  Explained my dental problems well enough, I think, but he really didn't want me to say ANYTHING, tried to interrupt if I had a question. Walked off like he was God's gift after he was done talking about what work my teeth needed. He's practicing now with Progressive Dentistry.  I was totally turned off, and stunned. I wouldn't go back to see him if he was the last dentist on the planet. His dental hygienist was wonderful. I have nothing bad to say about her or my teeth cleaning experience, but Dr. Johnson needs charm lessons. \""
      ]
     },
     "execution_count": 182,
     "metadata": {},
     "output_type": "execute_result"
    }
   ],
   "source": [
    "review.comments[6]"
   ]
  },
  {
   "cell_type": "code",
   "execution_count": 185,
   "metadata": {
    "hidden": true
   },
   "outputs": [
    {
     "data": {
      "text/plain": [
       "0.0645310793188714"
      ]
     },
     "execution_count": 185,
     "metadata": {},
     "output_type": "execute_result"
    },
    {
     "data": {
      "text/plain": [
       "0.06724944393289427"
      ]
     },
     "execution_count": 185,
     "metadata": {},
     "output_type": "execute_result"
    }
   ],
   "source": [
    "review.sp_positions.sum()/len(review)\n",
    "sum(review.name_gender=='Unknown')/len(review)"
   ]
  },
  {
   "cell_type": "markdown",
   "metadata": {
    "heading_collapsed": true
   },
   "source": [
    "### Gender clarification"
   ]
  },
  {
   "cell_type": "code",
   "execution_count": 223,
   "metadata": {
    "hidden": true,
    "scrolled": true
   },
   "outputs": [
    {
     "name": "stdout",
     "output_type": "stream",
     "text": [
      "Unknown: 34328\n",
      "Confict: 0\n",
      "F: 485657\n",
      "M: 1269320\n"
     ]
    }
   ],
   "source": [
    "# column 'classify' is the final gender inference result\n",
    "review['classify']=review['name_gender']\n",
    "review.loc[(review.name_gender=='Unknown') & (review.content_he==1) & (review.content_she==1), 'classify']='Conflict'\n",
    "review.loc[(review.name_gender=='Unknown') & (review.content_he==0) & (review.content_she==0), 'classify']='Unknown'\n",
    "review.loc[(review.name_gender=='Unknown') & (review.content_he==1) & (review.content_she==0), 'classify']='M'\n",
    "review.loc[(review.name_gender=='Unknown') & (review.content_he==0) & (review.content_she==1), 'classify']='F'\n",
    "\n",
    "print('Unknown:', sum(review.classify=='Unknown'))\n",
    "print('Confict:', sum(review.classify=='Confict'))\n",
    "print('F:', sum(review.classify=='F'))\n",
    "print('M:', sum(review.classify=='M')) "
   ]
  },
  {
   "cell_type": "code",
   "execution_count": 276,
   "metadata": {
    "hidden": true,
    "scrolled": false
   },
   "outputs": [
    {
     "name": "stdout",
     "output_type": "stream",
     "text": [
      "Confict: 120345 0.06703721095790602\n"
     ]
    },
    {
     "data": {
      "text/html": [
       "<div>\n",
       "<style>\n",
       "    .dataframe thead tr:only-child th {\n",
       "        text-align: right;\n",
       "    }\n",
       "\n",
       "    .dataframe thead th {\n",
       "        text-align: left;\n",
       "    }\n",
       "\n",
       "    .dataframe tbody tr th {\n",
       "        vertical-align: top;\n",
       "    }\n",
       "</style>\n",
       "<table border=\"1\" class=\"dataframe\">\n",
       "  <thead>\n",
       "    <tr style=\"text-align: right;\">\n",
       "      <th></th>\n",
       "      <th>review_id</th>\n",
       "      <th>href</th>\n",
       "      <th>comments</th>\n",
       "      <th>name</th>\n",
       "      <th>name_gender</th>\n",
       "      <th>content_he</th>\n",
       "      <th>content_she</th>\n",
       "      <th>sp_positions</th>\n",
       "      <th>classify</th>\n",
       "      <th>gender_conflict</th>\n",
       "    </tr>\n",
       "  </thead>\n",
       "  <tbody>\n",
       "    <tr>\n",
       "      <th>0</th>\n",
       "      <td>23507540</td>\n",
       "      <td>/dentists/Dr_Aarika_Anderson_Elter</td>\n",
       "      <td>Great results  Dr. Anderson explained in detai...</td>\n",
       "      <td>aarika</td>\n",
       "      <td>F</td>\n",
       "      <td>0</td>\n",
       "      <td>0</td>\n",
       "      <td>0</td>\n",
       "      <td>F</td>\n",
       "      <td>0</td>\n",
       "    </tr>\n",
       "    <tr>\n",
       "      <th>1</th>\n",
       "      <td>27184431</td>\n",
       "      <td>/dentists/Dr_Aamir_Wahab</td>\n",
       "      <td>implant Had an implant done and it was painles...</td>\n",
       "      <td>aamir</td>\n",
       "      <td>M</td>\n",
       "      <td>1</td>\n",
       "      <td>0</td>\n",
       "      <td>0</td>\n",
       "      <td>M</td>\n",
       "      <td>0</td>\n",
       "    </tr>\n",
       "    <tr>\n",
       "      <th>2</th>\n",
       "      <td>26307282</td>\n",
       "      <td>/dentists/Dr_Aanal_Parikh</td>\n",
       "      <td>Warning ..would not see this dentist Do not go...</td>\n",
       "      <td>aanal</td>\n",
       "      <td>Unknown</td>\n",
       "      <td>0</td>\n",
       "      <td>0</td>\n",
       "      <td>0</td>\n",
       "      <td>Unknown</td>\n",
       "      <td>0</td>\n",
       "    </tr>\n",
       "    <tr>\n",
       "      <th>3</th>\n",
       "      <td>28904504</td>\n",
       "      <td>/dentists/Dr_Aaron_Aguilar</td>\n",
       "      <td>Very thoughtful Dr.  Communicates/bedside man...</td>\n",
       "      <td>aaron</td>\n",
       "      <td>M</td>\n",
       "      <td>0</td>\n",
       "      <td>0</td>\n",
       "      <td>0</td>\n",
       "      <td>M</td>\n",
       "      <td>0</td>\n",
       "    </tr>\n",
       "    <tr>\n",
       "      <th>4</th>\n",
       "      <td>28380953</td>\n",
       "      <td>/dentists/Dr_Aaron_D_Larsen</td>\n",
       "      <td>Dr larsen great others no Would continue to se...</td>\n",
       "      <td>aaron</td>\n",
       "      <td>M</td>\n",
       "      <td>1</td>\n",
       "      <td>0</td>\n",
       "      <td>1</td>\n",
       "      <td>M</td>\n",
       "      <td>0</td>\n",
       "    </tr>\n",
       "  </tbody>\n",
       "</table>\n",
       "</div>"
      ],
      "text/plain": [
       "   review_id                                href  \\\n",
       "0   23507540  /dentists/Dr_Aarika_Anderson_Elter   \n",
       "1   27184431            /dentists/Dr_Aamir_Wahab   \n",
       "2   26307282           /dentists/Dr_Aanal_Parikh   \n",
       "3   28904504          /dentists/Dr_Aaron_Aguilar   \n",
       "4   28380953         /dentists/Dr_Aaron_D_Larsen   \n",
       "\n",
       "                                            comments    name name_gender  \\\n",
       "0  Great results  Dr. Anderson explained in detai...  aarika           F   \n",
       "1  implant Had an implant done and it was painles...   aamir           M   \n",
       "2  Warning ..would not see this dentist Do not go...   aanal     Unknown   \n",
       "3   Very thoughtful Dr.  Communicates/bedside man...   aaron           M   \n",
       "4  Dr larsen great others no Would continue to se...   aaron           M   \n",
       "\n",
       "   content_he  content_she  sp_positions classify  gender_conflict  \n",
       "0           0            0             0        F                0  \n",
       "1           1            0             0        M                0  \n",
       "2           0            0             0  Unknown                0  \n",
       "3           0            0             0        M                0  \n",
       "4           1            0             1        M                0  "
      ]
     },
     "execution_count": 276,
     "metadata": {},
     "output_type": "execute_result"
    }
   ],
   "source": [
    "# column 'gender_conflict' indicates where name_gender conflicts with content_he/content_she \n",
    "# or content_he conflicts with content_she\n",
    "review['gender_conflict']=0\n",
    "review.loc[(review.name_gender=='F') & (review.content_he==1), 'gender_conflict']=1\n",
    "review.loc[(review.name_gender=='M') & (review.content_she==1), 'gender_conflict']=1\n",
    "review.loc[(review.classify=='Conflict'), 'gender_conflict']=1\n",
    "\n",
    "print('Confict:', sum(review.gender_conflict), sum(review.gender_conflict)/len(review))\n",
    "review.head()"
   ]
  },
  {
   "cell_type": "code",
   "execution_count": 277,
   "metadata": {
    "hidden": true
   },
   "outputs": [
    {
     "data": {
      "text/plain": [
       "(1586809, 10)"
      ]
     },
     "execution_count": 277,
     "metadata": {},
     "output_type": "execute_result"
    },
    {
     "data": {
      "text/plain": [
       "0.8839191464780746"
      ]
     },
     "execution_count": 277,
     "metadata": {},
     "output_type": "execute_result"
    }
   ],
   "source": [
    "clr_review=review[(review.sp_positions!=1) & (review.gender_conflict!=1)]\n",
    "clr_review.shape\n",
    "len(clr_review)/len(review)"
   ]
  },
  {
   "cell_type": "markdown",
   "metadata": {
    "heading_collapsed": true
   },
   "source": [
    "### Save this cleaned and marked data"
   ]
  },
  {
   "cell_type": "code",
   "execution_count": 278,
   "metadata": {
    "collapsed": true,
    "hidden": true
   },
   "outputs": [],
   "source": [
    "# save the data as a CSV file (20 seconds)\n",
    "clr_review.to_csv(\"./data/clr_review_df.csv\", index=False)"
   ]
  },
  {
   "cell_type": "markdown",
   "metadata": {
    "hidden": true
   },
   "source": [
    "- Review_test dataset"
   ]
  },
  {
   "cell_type": "code",
   "execution_count": 220,
   "metadata": {
    "hidden": true
   },
   "outputs": [
    {
     "data": {
      "text/html": [
       "<div>\n",
       "<style>\n",
       "    .dataframe thead tr:only-child th {\n",
       "        text-align: right;\n",
       "    }\n",
       "\n",
       "    .dataframe thead th {\n",
       "        text-align: left;\n",
       "    }\n",
       "\n",
       "    .dataframe tbody tr th {\n",
       "        vertical-align: top;\n",
       "    }\n",
       "</style>\n",
       "<table border=\"1\" class=\"dataframe\">\n",
       "  <thead>\n",
       "    <tr style=\"text-align: right;\">\n",
       "      <th></th>\n",
       "      <th>review_id</th>\n",
       "      <th>href</th>\n",
       "      <th>comments</th>\n",
       "      <th>name</th>\n",
       "      <th>name_gender</th>\n",
       "      <th>content_he</th>\n",
       "      <th>content_she</th>\n",
       "      <th>sp_positions</th>\n",
       "      <th>classify</th>\n",
       "      <th>gender_conflict</th>\n",
       "    </tr>\n",
       "  </thead>\n",
       "  <tbody>\n",
       "    <tr>\n",
       "      <th>0</th>\n",
       "      <td>23507540</td>\n",
       "      <td>/dentists/Dr_Aarika_Anderson_Elter</td>\n",
       "      <td>Great results  Dr. Anderson explained in detai...</td>\n",
       "      <td>aarika</td>\n",
       "      <td>F</td>\n",
       "      <td>0</td>\n",
       "      <td>0</td>\n",
       "      <td>0</td>\n",
       "      <td>F</td>\n",
       "      <td>0</td>\n",
       "    </tr>\n",
       "    <tr>\n",
       "      <th>1</th>\n",
       "      <td>27184431</td>\n",
       "      <td>/dentists/Dr_Aamir_Wahab</td>\n",
       "      <td>implant Had an implant done and it was painles...</td>\n",
       "      <td>aamir</td>\n",
       "      <td>M</td>\n",
       "      <td>0</td>\n",
       "      <td>1</td>\n",
       "      <td>0</td>\n",
       "      <td>M</td>\n",
       "      <td>0</td>\n",
       "    </tr>\n",
       "    <tr>\n",
       "      <th>2</th>\n",
       "      <td>26307282</td>\n",
       "      <td>/dentists/Dr_Aanal_Parikh</td>\n",
       "      <td>Warning ..would not see this dentist Do not go...</td>\n",
       "      <td>aanal</td>\n",
       "      <td>Unknown</td>\n",
       "      <td>0</td>\n",
       "      <td>0</td>\n",
       "      <td>0</td>\n",
       "      <td>Unknown</td>\n",
       "      <td>0</td>\n",
       "    </tr>\n",
       "    <tr>\n",
       "      <th>3</th>\n",
       "      <td>28904504</td>\n",
       "      <td>/dentists/Dr_Aaron_Aguilar</td>\n",
       "      <td>Very thoughtful Dr.  Communicates/bedside man...</td>\n",
       "      <td>aaron</td>\n",
       "      <td>M</td>\n",
       "      <td>0</td>\n",
       "      <td>0</td>\n",
       "      <td>0</td>\n",
       "      <td>M</td>\n",
       "      <td>0</td>\n",
       "    </tr>\n",
       "    <tr>\n",
       "      <th>4</th>\n",
       "      <td>28380953</td>\n",
       "      <td>/dentists/Dr_Aaron_D_Larsen</td>\n",
       "      <td>Dr larsen great others no Would continue to se...</td>\n",
       "      <td>aaron</td>\n",
       "      <td>M</td>\n",
       "      <td>0</td>\n",
       "      <td>1</td>\n",
       "      <td>1</td>\n",
       "      <td>M</td>\n",
       "      <td>0</td>\n",
       "    </tr>\n",
       "    <tr>\n",
       "      <th>5</th>\n",
       "      <td>30421069</td>\n",
       "      <td>/dentists/Dr_Aaron_Acres</td>\n",
       "      <td>Dr. Acres and his staff are an exceptionally ...</td>\n",
       "      <td>aaron</td>\n",
       "      <td>M</td>\n",
       "      <td>0</td>\n",
       "      <td>1</td>\n",
       "      <td>0</td>\n",
       "      <td>M</td>\n",
       "      <td>0</td>\n",
       "    </tr>\n",
       "    <tr>\n",
       "      <th>6</th>\n",
       "      <td>24080817</td>\n",
       "      <td>/dentists/Dr_Aaron_A_Johnson</td>\n",
       "      <td>Not Friendly After smiling and shaking my hand...</td>\n",
       "      <td>aaron</td>\n",
       "      <td>M</td>\n",
       "      <td>1</td>\n",
       "      <td>1</td>\n",
       "      <td>0</td>\n",
       "      <td>M</td>\n",
       "      <td>1</td>\n",
       "    </tr>\n",
       "    <tr>\n",
       "      <th>7</th>\n",
       "      <td>26586170</td>\n",
       "      <td>/dentists/Dr_Aaron_Larock</td>\n",
       "      <td>Dr. LaRock There are three doctors, I've seen ...</td>\n",
       "      <td>aaron</td>\n",
       "      <td>M</td>\n",
       "      <td>0</td>\n",
       "      <td>0</td>\n",
       "      <td>0</td>\n",
       "      <td>M</td>\n",
       "      <td>0</td>\n",
       "    </tr>\n",
       "    <tr>\n",
       "      <th>8</th>\n",
       "      <td>30409668</td>\n",
       "      <td>/dentists/Dr_Aaron_K_Lee</td>\n",
       "      <td>Dental office  Dr. Lee is the best dentist I h...</td>\n",
       "      <td>aaron</td>\n",
       "      <td>M</td>\n",
       "      <td>0</td>\n",
       "      <td>1</td>\n",
       "      <td>0</td>\n",
       "      <td>M</td>\n",
       "      <td>0</td>\n",
       "    </tr>\n",
       "    <tr>\n",
       "      <th>9</th>\n",
       "      <td>30156562</td>\n",
       "      <td>/dentists/Dr_Aaron_K_Lee</td>\n",
       "      <td>wonderful  office  Very clean office.  Very mo...</td>\n",
       "      <td>aaron</td>\n",
       "      <td>M</td>\n",
       "      <td>0</td>\n",
       "      <td>0</td>\n",
       "      <td>0</td>\n",
       "      <td>M</td>\n",
       "      <td>0</td>\n",
       "    </tr>\n",
       "    <tr>\n",
       "      <th>10</th>\n",
       "      <td>30119433</td>\n",
       "      <td>/dentists/Dr_Aaron_K_Lee</td>\n",
       "      <td>Downtown Concord Dental  Dr. Lee was wonderful...</td>\n",
       "      <td>aaron</td>\n",
       "      <td>M</td>\n",
       "      <td>0</td>\n",
       "      <td>1</td>\n",
       "      <td>0</td>\n",
       "      <td>M</td>\n",
       "      <td>0</td>\n",
       "    </tr>\n",
       "    <tr>\n",
       "      <th>11</th>\n",
       "      <td>30119405</td>\n",
       "      <td>/dentists/Dr_Aaron_K_Lee</td>\n",
       "      <td>LOVE THIS OFFICE  This office is very clean, m...</td>\n",
       "      <td>aaron</td>\n",
       "      <td>M</td>\n",
       "      <td>0</td>\n",
       "      <td>1</td>\n",
       "      <td>0</td>\n",
       "      <td>M</td>\n",
       "      <td>0</td>\n",
       "    </tr>\n",
       "    <tr>\n",
       "      <th>12</th>\n",
       "      <td>29972274</td>\n",
       "      <td>/dentists/Dr_Aaron_K_Lee</td>\n",
       "      <td>Kudos to Dr. Aaron Lee and his wonderful staff...</td>\n",
       "      <td>aaron</td>\n",
       "      <td>M</td>\n",
       "      <td>0</td>\n",
       "      <td>1</td>\n",
       "      <td>0</td>\n",
       "      <td>M</td>\n",
       "      <td>0</td>\n",
       "    </tr>\n",
       "    <tr>\n",
       "      <th>13</th>\n",
       "      <td>23807060</td>\n",
       "      <td>/dentists/Dr_Aaron_D_Mortensen</td>\n",
       "      <td>Great dentist.  Takes time to explain what is...</td>\n",
       "      <td>aaron</td>\n",
       "      <td>M</td>\n",
       "      <td>0</td>\n",
       "      <td>0</td>\n",
       "      <td>0</td>\n",
       "      <td>M</td>\n",
       "      <td>0</td>\n",
       "    </tr>\n",
       "    <tr>\n",
       "      <th>14</th>\n",
       "      <td>20347094</td>\n",
       "      <td>/dentists/Dr_Aaron_D_Mortensen</td>\n",
       "      <td>Such a sweet and kind dentist. He's a great de...</td>\n",
       "      <td>aaron</td>\n",
       "      <td>M</td>\n",
       "      <td>0</td>\n",
       "      <td>1</td>\n",
       "      <td>0</td>\n",
       "      <td>M</td>\n",
       "      <td>0</td>\n",
       "    </tr>\n",
       "    <tr>\n",
       "      <th>15</th>\n",
       "      <td>22152947</td>\n",
       "      <td>/dentists/Dr_Aaron_Mangum</td>\n",
       "      <td>Excellent Care! Dr. Mangum was very gentle and...</td>\n",
       "      <td>aaron</td>\n",
       "      <td>M</td>\n",
       "      <td>0</td>\n",
       "      <td>0</td>\n",
       "      <td>0</td>\n",
       "      <td>M</td>\n",
       "      <td>0</td>\n",
       "    </tr>\n",
       "    <tr>\n",
       "      <th>16</th>\n",
       "      <td>27125312</td>\n",
       "      <td>/dentists/Dr_Aaron_M_Rosen</td>\n",
       "      <td>Awful dentist terrible person  Dr Aaron Rosen ...</td>\n",
       "      <td>aaron</td>\n",
       "      <td>M</td>\n",
       "      <td>0</td>\n",
       "      <td>1</td>\n",
       "      <td>0</td>\n",
       "      <td>M</td>\n",
       "      <td>0</td>\n",
       "    </tr>\n",
       "    <tr>\n",
       "      <th>17</th>\n",
       "      <td>27125288</td>\n",
       "      <td>/dentists/Dr_Aaron_M_Rosen</td>\n",
       "      <td>Awful dentist awful person  Words can't descri...</td>\n",
       "      <td>aaron</td>\n",
       "      <td>M</td>\n",
       "      <td>0</td>\n",
       "      <td>1</td>\n",
       "      <td>0</td>\n",
       "      <td>M</td>\n",
       "      <td>0</td>\n",
       "    </tr>\n",
       "    <tr>\n",
       "      <th>18</th>\n",
       "      <td>31160439</td>\n",
       "      <td>/dentists/Dr_Aaron_Pokorny</td>\n",
       "      <td>My daughter had jaw surgery and the pre-op an...</td>\n",
       "      <td>aaron</td>\n",
       "      <td>M</td>\n",
       "      <td>0</td>\n",
       "      <td>0</td>\n",
       "      <td>0</td>\n",
       "      <td>M</td>\n",
       "      <td>0</td>\n",
       "    </tr>\n",
       "    <tr>\n",
       "      <th>19</th>\n",
       "      <td>26946884</td>\n",
       "      <td>/dentists/Dr_Aaron_Pokorny</td>\n",
       "      <td>Highly Recommend I am an extremely fearful pat...</td>\n",
       "      <td>aaron</td>\n",
       "      <td>M</td>\n",
       "      <td>0</td>\n",
       "      <td>1</td>\n",
       "      <td>0</td>\n",
       "      <td>M</td>\n",
       "      <td>0</td>\n",
       "    </tr>\n",
       "    <tr>\n",
       "      <th>20</th>\n",
       "      <td>23604518</td>\n",
       "      <td>/dentists/Dr_Aaron_Pokorny</td>\n",
       "      <td>great dentist I really like going to his offic...</td>\n",
       "      <td>aaron</td>\n",
       "      <td>M</td>\n",
       "      <td>0</td>\n",
       "      <td>1</td>\n",
       "      <td>0</td>\n",
       "      <td>M</td>\n",
       "      <td>0</td>\n",
       "    </tr>\n",
       "    <tr>\n",
       "      <th>21</th>\n",
       "      <td>23563376</td>\n",
       "      <td>/dentists/Dr_Aaron_Pokorny</td>\n",
       "      <td>Outstanding I took my three your old son to se...</td>\n",
       "      <td>aaron</td>\n",
       "      <td>M</td>\n",
       "      <td>0</td>\n",
       "      <td>1</td>\n",
       "      <td>1</td>\n",
       "      <td>M</td>\n",
       "      <td>0</td>\n",
       "    </tr>\n",
       "    <tr>\n",
       "      <th>22</th>\n",
       "      <td>22163741</td>\n",
       "      <td>/dentists/Dr_Aaron_Pokorny</td>\n",
       "      <td>Very happy! He treated me like more like a fam...</td>\n",
       "      <td>aaron</td>\n",
       "      <td>M</td>\n",
       "      <td>0</td>\n",
       "      <td>1</td>\n",
       "      <td>0</td>\n",
       "      <td>M</td>\n",
       "      <td>0</td>\n",
       "    </tr>\n",
       "    <tr>\n",
       "      <th>23</th>\n",
       "      <td>20295985</td>\n",
       "      <td>/dentists/Dr_Aaron_Pokorny</td>\n",
       "      <td>Do not go to this Dentist!!!!!! Do not go and ...</td>\n",
       "      <td>aaron</td>\n",
       "      <td>M</td>\n",
       "      <td>0</td>\n",
       "      <td>1</td>\n",
       "      <td>0</td>\n",
       "      <td>M</td>\n",
       "      <td>0</td>\n",
       "    </tr>\n",
       "    <tr>\n",
       "      <th>24</th>\n",
       "      <td>32666625</td>\n",
       "      <td>/dentists/Dr_Aaron_Memon</td>\n",
       "      <td>Honest</td>\n",
       "      <td>aaron</td>\n",
       "      <td>M</td>\n",
       "      <td>0</td>\n",
       "      <td>0</td>\n",
       "      <td>0</td>\n",
       "      <td>M</td>\n",
       "      <td>0</td>\n",
       "    </tr>\n",
       "    <tr>\n",
       "      <th>25</th>\n",
       "      <td>20288558</td>\n",
       "      <td>/dentists/Dr_Aaron_Memon</td>\n",
       "      <td>I really thought the dentist was nice and con...</td>\n",
       "      <td>aaron</td>\n",
       "      <td>M</td>\n",
       "      <td>0</td>\n",
       "      <td>1</td>\n",
       "      <td>0</td>\n",
       "      <td>M</td>\n",
       "      <td>0</td>\n",
       "    </tr>\n",
       "    <tr>\n",
       "      <th>26</th>\n",
       "      <td>30099349</td>\n",
       "      <td>/dentists/Dr_Aaron_Neale</td>\n",
       "      <td>Best experience ever  Awesome staff and doctor...</td>\n",
       "      <td>aaron</td>\n",
       "      <td>M</td>\n",
       "      <td>0</td>\n",
       "      <td>0</td>\n",
       "      <td>0</td>\n",
       "      <td>M</td>\n",
       "      <td>0</td>\n",
       "    </tr>\n",
       "    <tr>\n",
       "      <th>27</th>\n",
       "      <td>24666020</td>\n",
       "      <td>/dentists/Dr_Aaron_Neale</td>\n",
       "      <td>Great dentist and office Very kind office. The...</td>\n",
       "      <td>aaron</td>\n",
       "      <td>M</td>\n",
       "      <td>0</td>\n",
       "      <td>0</td>\n",
       "      <td>0</td>\n",
       "      <td>M</td>\n",
       "      <td>0</td>\n",
       "    </tr>\n",
       "    <tr>\n",
       "      <th>28</th>\n",
       "      <td>23865650</td>\n",
       "      <td>/dentists/Dr_Aaron_Neale</td>\n",
       "      <td>great doctor Doctor Neale is efficient and kin...</td>\n",
       "      <td>aaron</td>\n",
       "      <td>M</td>\n",
       "      <td>0</td>\n",
       "      <td>1</td>\n",
       "      <td>0</td>\n",
       "      <td>M</td>\n",
       "      <td>0</td>\n",
       "    </tr>\n",
       "    <tr>\n",
       "      <th>29</th>\n",
       "      <td>31054436</td>\n",
       "      <td>/dentists/Dr_Aaron_Park</td>\n",
       "      <td>Dr Aaron Park--an excellent doctor! NC is luck...</td>\n",
       "      <td>aaron</td>\n",
       "      <td>M</td>\n",
       "      <td>0</td>\n",
       "      <td>1</td>\n",
       "      <td>0</td>\n",
       "      <td>M</td>\n",
       "      <td>0</td>\n",
       "    </tr>\n",
       "    <tr>\n",
       "      <th>...</th>\n",
       "      <td>...</td>\n",
       "      <td>...</td>\n",
       "      <td>...</td>\n",
       "      <td>...</td>\n",
       "      <td>...</td>\n",
       "      <td>...</td>\n",
       "      <td>...</td>\n",
       "      <td>...</td>\n",
       "      <td>...</td>\n",
       "      <td>...</td>\n",
       "    </tr>\n",
       "    <tr>\n",
       "      <th>70</th>\n",
       "      <td>26161980</td>\n",
       "      <td>/dentists/Dr_Aaron_Shaftel</td>\n",
       "      <td>Exceeded my expectations Very impressed with t...</td>\n",
       "      <td>aaron</td>\n",
       "      <td>M</td>\n",
       "      <td>0</td>\n",
       "      <td>0</td>\n",
       "      <td>0</td>\n",
       "      <td>M</td>\n",
       "      <td>0</td>\n",
       "    </tr>\n",
       "    <tr>\n",
       "      <th>71</th>\n",
       "      <td>24269178</td>\n",
       "      <td>/dentists/Dr_Aaron_Shaftel</td>\n",
       "      <td>My Whole Family Loves This Doctor I have never...</td>\n",
       "      <td>aaron</td>\n",
       "      <td>M</td>\n",
       "      <td>0</td>\n",
       "      <td>0</td>\n",
       "      <td>0</td>\n",
       "      <td>M</td>\n",
       "      <td>0</td>\n",
       "    </tr>\n",
       "    <tr>\n",
       "      <th>72</th>\n",
       "      <td>24160586</td>\n",
       "      <td>/dentists/Dr_Aaron_Shaftel</td>\n",
       "      <td>Happy patient I was referred by my uncle and I...</td>\n",
       "      <td>aaron</td>\n",
       "      <td>M</td>\n",
       "      <td>0</td>\n",
       "      <td>1</td>\n",
       "      <td>0</td>\n",
       "      <td>M</td>\n",
       "      <td>0</td>\n",
       "    </tr>\n",
       "    <tr>\n",
       "      <th>73</th>\n",
       "      <td>23768870</td>\n",
       "      <td>/dentists/Dr_Aaron_Shaftel</td>\n",
       "      <td>Great Dentist Pain free root canal. I like tha...</td>\n",
       "      <td>aaron</td>\n",
       "      <td>M</td>\n",
       "      <td>0</td>\n",
       "      <td>1</td>\n",
       "      <td>0</td>\n",
       "      <td>M</td>\n",
       "      <td>0</td>\n",
       "    </tr>\n",
       "    <tr>\n",
       "      <th>74</th>\n",
       "      <td>23679381</td>\n",
       "      <td>/dentists/Dr_Aaron_Shaftel</td>\n",
       "      <td>High Tech I have been seeing my previous denti...</td>\n",
       "      <td>aaron</td>\n",
       "      <td>M</td>\n",
       "      <td>0</td>\n",
       "      <td>1</td>\n",
       "      <td>0</td>\n",
       "      <td>M</td>\n",
       "      <td>0</td>\n",
       "    </tr>\n",
       "    <tr>\n",
       "      <th>75</th>\n",
       "      <td>23672847</td>\n",
       "      <td>/dentists/Dr_Aaron_Shaftel</td>\n",
       "      <td>EXCELLENT Dr. Shaftel is a caring and very pro...</td>\n",
       "      <td>aaron</td>\n",
       "      <td>M</td>\n",
       "      <td>0</td>\n",
       "      <td>1</td>\n",
       "      <td>0</td>\n",
       "      <td>M</td>\n",
       "      <td>0</td>\n",
       "    </tr>\n",
       "    <tr>\n",
       "      <th>76</th>\n",
       "      <td>23663746</td>\n",
       "      <td>/dentists/Dr_Aaron_Shaftel</td>\n",
       "      <td>First Visit The office staff was friendly and ...</td>\n",
       "      <td>aaron</td>\n",
       "      <td>M</td>\n",
       "      <td>0</td>\n",
       "      <td>1</td>\n",
       "      <td>0</td>\n",
       "      <td>M</td>\n",
       "      <td>0</td>\n",
       "    </tr>\n",
       "    <tr>\n",
       "      <th>77</th>\n",
       "      <td>31456591</td>\n",
       "      <td>/dentists/Dr_Aaron_Studer</td>\n",
       "      <td>I receive the best care from Dr. Studer at Ad...</td>\n",
       "      <td>aaron</td>\n",
       "      <td>M</td>\n",
       "      <td>0</td>\n",
       "      <td>0</td>\n",
       "      <td>0</td>\n",
       "      <td>M</td>\n",
       "      <td>0</td>\n",
       "    </tr>\n",
       "    <tr>\n",
       "      <th>78</th>\n",
       "      <td>28902209</td>\n",
       "      <td>/dentists/Dr_Aaron_Studer</td>\n",
       "      <td>Wonderful I am so grateful that I have found D...</td>\n",
       "      <td>aaron</td>\n",
       "      <td>M</td>\n",
       "      <td>0</td>\n",
       "      <td>1</td>\n",
       "      <td>0</td>\n",
       "      <td>M</td>\n",
       "      <td>0</td>\n",
       "    </tr>\n",
       "    <tr>\n",
       "      <th>79</th>\n",
       "      <td>23651485</td>\n",
       "      <td>/dentists/Dr_Abbey_Onan</td>\n",
       "      <td>Dr Onan is an excellent dentist in the Facult...</td>\n",
       "      <td>abbey</td>\n",
       "      <td>F</td>\n",
       "      <td>1</td>\n",
       "      <td>0</td>\n",
       "      <td>0</td>\n",
       "      <td>F</td>\n",
       "      <td>0</td>\n",
       "    </tr>\n",
       "    <tr>\n",
       "      <th>80</th>\n",
       "      <td>26899274</td>\n",
       "      <td>/dentists/Dr_Abbe_Orlansky</td>\n",
       "      <td>I been going to Dr Orlansky for many years he...</td>\n",
       "      <td>abbe</td>\n",
       "      <td>F</td>\n",
       "      <td>0</td>\n",
       "      <td>1</td>\n",
       "      <td>0</td>\n",
       "      <td>F</td>\n",
       "      <td>1</td>\n",
       "    </tr>\n",
       "    <tr>\n",
       "      <th>81</th>\n",
       "      <td>33523807</td>\n",
       "      <td>/dentists/Dr_Aaron_Vaughn</td>\n",
       "      <td>Root canal I was very nervous about this visit...</td>\n",
       "      <td>aaron</td>\n",
       "      <td>M</td>\n",
       "      <td>0</td>\n",
       "      <td>1</td>\n",
       "      <td>0</td>\n",
       "      <td>M</td>\n",
       "      <td>0</td>\n",
       "    </tr>\n",
       "    <tr>\n",
       "      <th>82</th>\n",
       "      <td>32233007</td>\n",
       "      <td>/dentists/Dr_Abdallah_Al-Harazneh</td>\n",
       "      <td>Dr. Al-Harazneh is excellent! I'm very happy ...</td>\n",
       "      <td>abdallah</td>\n",
       "      <td>M</td>\n",
       "      <td>0</td>\n",
       "      <td>1</td>\n",
       "      <td>0</td>\n",
       "      <td>M</td>\n",
       "      <td>0</td>\n",
       "    </tr>\n",
       "    <tr>\n",
       "      <th>83</th>\n",
       "      <td>28479229</td>\n",
       "      <td>/dentists/Dr_Abdallah_Al-Harazneh</td>\n",
       "      <td>The best dentist! I highly recommend him!</td>\n",
       "      <td>abdallah</td>\n",
       "      <td>M</td>\n",
       "      <td>0</td>\n",
       "      <td>1</td>\n",
       "      <td>0</td>\n",
       "      <td>M</td>\n",
       "      <td>0</td>\n",
       "    </tr>\n",
       "    <tr>\n",
       "      <th>84</th>\n",
       "      <td>26908591</td>\n",
       "      <td>/dentists/Dr_Aaron_W_Wagner</td>\n",
       "      <td>Staff was great</td>\n",
       "      <td>aaron</td>\n",
       "      <td>M</td>\n",
       "      <td>0</td>\n",
       "      <td>0</td>\n",
       "      <td>0</td>\n",
       "      <td>M</td>\n",
       "      <td>0</td>\n",
       "    </tr>\n",
       "    <tr>\n",
       "      <th>85</th>\n",
       "      <td>24121382</td>\n",
       "      <td>/dentists/Dr_Aaron_W_Wagner</td>\n",
       "      <td>The Most Gentle Dentist I've EVER Been To! I h...</td>\n",
       "      <td>aaron</td>\n",
       "      <td>M</td>\n",
       "      <td>0</td>\n",
       "      <td>1</td>\n",
       "      <td>0</td>\n",
       "      <td>M</td>\n",
       "      <td>0</td>\n",
       "    </tr>\n",
       "    <tr>\n",
       "      <th>86</th>\n",
       "      <td>31039434</td>\n",
       "      <td>/dentists/Dr_Abdolhossein_Shahrasbi</td>\n",
       "      <td>He is great doctor.</td>\n",
       "      <td>abdolhossein</td>\n",
       "      <td>Unknown</td>\n",
       "      <td>0</td>\n",
       "      <td>1</td>\n",
       "      <td>0</td>\n",
       "      <td>F</td>\n",
       "      <td>0</td>\n",
       "    </tr>\n",
       "    <tr>\n",
       "      <th>87</th>\n",
       "      <td>27067472</td>\n",
       "      <td>/dentists/Dr_Aaron_Santos</td>\n",
       "      <td>I'm looking forward to experiencing Dr. Santo...</td>\n",
       "      <td>aaron</td>\n",
       "      <td>M</td>\n",
       "      <td>0</td>\n",
       "      <td>0</td>\n",
       "      <td>0</td>\n",
       "      <td>M</td>\n",
       "      <td>0</td>\n",
       "    </tr>\n",
       "    <tr>\n",
       "      <th>88</th>\n",
       "      <td>23596233</td>\n",
       "      <td>/dentists/Dr_Abdirahman_Nur</td>\n",
       "      <td>I have been to several dentist offices in the...</td>\n",
       "      <td>abdirahman</td>\n",
       "      <td>M</td>\n",
       "      <td>0</td>\n",
       "      <td>1</td>\n",
       "      <td>0</td>\n",
       "      <td>M</td>\n",
       "      <td>0</td>\n",
       "    </tr>\n",
       "    <tr>\n",
       "      <th>89</th>\n",
       "      <td>23673142</td>\n",
       "      <td>/dentists/Dr_Aaron_Sheinfeld</td>\n",
       "      <td>Go elsewhere Front desk rude.  Dr only cares a...</td>\n",
       "      <td>aaron</td>\n",
       "      <td>M</td>\n",
       "      <td>0</td>\n",
       "      <td>1</td>\n",
       "      <td>1</td>\n",
       "      <td>M</td>\n",
       "      <td>0</td>\n",
       "    </tr>\n",
       "    <tr>\n",
       "      <th>90</th>\n",
       "      <td>24137146</td>\n",
       "      <td>/dentists/Dr_Abdul-Sattar_Shakfa</td>\n",
       "      <td>I visited dr shakfa in Royal Oak, the office ...</td>\n",
       "      <td>abdul-sattar</td>\n",
       "      <td>Unknown</td>\n",
       "      <td>0</td>\n",
       "      <td>1</td>\n",
       "      <td>0</td>\n",
       "      <td>F</td>\n",
       "      <td>0</td>\n",
       "    </tr>\n",
       "    <tr>\n",
       "      <th>91</th>\n",
       "      <td>23872995</td>\n",
       "      <td>/dentists/Dr_Abdul-Sattar_Shakfa</td>\n",
       "      <td>Wounderfule  team My mother had the most diffi...</td>\n",
       "      <td>abdul-sattar</td>\n",
       "      <td>Unknown</td>\n",
       "      <td>1</td>\n",
       "      <td>1</td>\n",
       "      <td>1</td>\n",
       "      <td>Conflict</td>\n",
       "      <td>1</td>\n",
       "    </tr>\n",
       "    <tr>\n",
       "      <th>92</th>\n",
       "      <td>23672836</td>\n",
       "      <td>/dentists/Dr_Abdul-Sattar_Shakfa</td>\n",
       "      <td>Amazing tooth, no pain Dr shakfa was the best,...</td>\n",
       "      <td>abdul-sattar</td>\n",
       "      <td>Unknown</td>\n",
       "      <td>0</td>\n",
       "      <td>1</td>\n",
       "      <td>0</td>\n",
       "      <td>F</td>\n",
       "      <td>0</td>\n",
       "    </tr>\n",
       "    <tr>\n",
       "      <th>93</th>\n",
       "      <td>20364952</td>\n",
       "      <td>/dentists/Dr_Abdul-Sattar_Shakfa</td>\n",
       "      <td>Dr Mohamed Khalifa One of the best dentist ever.</td>\n",
       "      <td>abdul-sattar</td>\n",
       "      <td>Unknown</td>\n",
       "      <td>0</td>\n",
       "      <td>0</td>\n",
       "      <td>0</td>\n",
       "      <td>Unknown</td>\n",
       "      <td>0</td>\n",
       "    </tr>\n",
       "    <tr>\n",
       "      <th>94</th>\n",
       "      <td>27100165</td>\n",
       "      <td>/dentists/Dr_Abbas_Nejad</td>\n",
       "      <td>\"ALL STARS\" Experiencing Dr. Nejad and his sup...</td>\n",
       "      <td>abbas</td>\n",
       "      <td>M</td>\n",
       "      <td>0</td>\n",
       "      <td>1</td>\n",
       "      <td>0</td>\n",
       "      <td>M</td>\n",
       "      <td>0</td>\n",
       "    </tr>\n",
       "    <tr>\n",
       "      <th>95</th>\n",
       "      <td>33579433</td>\n",
       "      <td>/dentists/Dr_Abdol_Rahbar</td>\n",
       "      <td>GREAT DENTIST- GREAT PRACTICE  GREAT STAFF Peo...</td>\n",
       "      <td>abdol</td>\n",
       "      <td>Unknown</td>\n",
       "      <td>0</td>\n",
       "      <td>0</td>\n",
       "      <td>0</td>\n",
       "      <td>Unknown</td>\n",
       "      <td>0</td>\n",
       "    </tr>\n",
       "    <tr>\n",
       "      <th>96</th>\n",
       "      <td>28911270</td>\n",
       "      <td>/dentists/Dr_Abdol_Rahbar</td>\n",
       "      <td>Best Ever! I met Dr Rahbar a few years ago and...</td>\n",
       "      <td>abdol</td>\n",
       "      <td>Unknown</td>\n",
       "      <td>0</td>\n",
       "      <td>1</td>\n",
       "      <td>0</td>\n",
       "      <td>F</td>\n",
       "      <td>0</td>\n",
       "    </tr>\n",
       "    <tr>\n",
       "      <th>97</th>\n",
       "      <td>31664309</td>\n",
       "      <td>/dentists/Dr_Abbas_Razvi</td>\n",
       "      <td>Mike Goyer Great job! He kept saying\" Mazza Pl...</td>\n",
       "      <td>abbas</td>\n",
       "      <td>M</td>\n",
       "      <td>0</td>\n",
       "      <td>1</td>\n",
       "      <td>0</td>\n",
       "      <td>M</td>\n",
       "      <td>0</td>\n",
       "    </tr>\n",
       "    <tr>\n",
       "      <th>98</th>\n",
       "      <td>33565675</td>\n",
       "      <td>/dentists/Dr_Abdul_Alas</td>\n",
       "      <td>The Best Dr. Alas is a kind, understanding, an...</td>\n",
       "      <td>abdul</td>\n",
       "      <td>M</td>\n",
       "      <td>0</td>\n",
       "      <td>1</td>\n",
       "      <td>0</td>\n",
       "      <td>M</td>\n",
       "      <td>0</td>\n",
       "    </tr>\n",
       "    <tr>\n",
       "      <th>99</th>\n",
       "      <td>33575775</td>\n",
       "      <td>/dentists/Dr_Abdul_Alas</td>\n",
       "      <td>Best dentist in Bakersfield in terms of knowle...</td>\n",
       "      <td>abdul</td>\n",
       "      <td>M</td>\n",
       "      <td>0</td>\n",
       "      <td>0</td>\n",
       "      <td>0</td>\n",
       "      <td>M</td>\n",
       "      <td>0</td>\n",
       "    </tr>\n",
       "  </tbody>\n",
       "</table>\n",
       "<p>100 rows × 10 columns</p>\n",
       "</div>"
      ],
      "text/plain": [
       "    review_id                                 href  \\\n",
       "0    23507540   /dentists/Dr_Aarika_Anderson_Elter   \n",
       "1    27184431             /dentists/Dr_Aamir_Wahab   \n",
       "2    26307282            /dentists/Dr_Aanal_Parikh   \n",
       "3    28904504           /dentists/Dr_Aaron_Aguilar   \n",
       "4    28380953          /dentists/Dr_Aaron_D_Larsen   \n",
       "5    30421069             /dentists/Dr_Aaron_Acres   \n",
       "6    24080817         /dentists/Dr_Aaron_A_Johnson   \n",
       "7    26586170            /dentists/Dr_Aaron_Larock   \n",
       "8    30409668             /dentists/Dr_Aaron_K_Lee   \n",
       "9    30156562             /dentists/Dr_Aaron_K_Lee   \n",
       "10   30119433             /dentists/Dr_Aaron_K_Lee   \n",
       "11   30119405             /dentists/Dr_Aaron_K_Lee   \n",
       "12   29972274             /dentists/Dr_Aaron_K_Lee   \n",
       "13   23807060       /dentists/Dr_Aaron_D_Mortensen   \n",
       "14   20347094       /dentists/Dr_Aaron_D_Mortensen   \n",
       "15   22152947            /dentists/Dr_Aaron_Mangum   \n",
       "16   27125312           /dentists/Dr_Aaron_M_Rosen   \n",
       "17   27125288           /dentists/Dr_Aaron_M_Rosen   \n",
       "18   31160439           /dentists/Dr_Aaron_Pokorny   \n",
       "19   26946884           /dentists/Dr_Aaron_Pokorny   \n",
       "20   23604518           /dentists/Dr_Aaron_Pokorny   \n",
       "21   23563376           /dentists/Dr_Aaron_Pokorny   \n",
       "22   22163741           /dentists/Dr_Aaron_Pokorny   \n",
       "23   20295985           /dentists/Dr_Aaron_Pokorny   \n",
       "24   32666625             /dentists/Dr_Aaron_Memon   \n",
       "25   20288558             /dentists/Dr_Aaron_Memon   \n",
       "26   30099349             /dentists/Dr_Aaron_Neale   \n",
       "27   24666020             /dentists/Dr_Aaron_Neale   \n",
       "28   23865650             /dentists/Dr_Aaron_Neale   \n",
       "29   31054436              /dentists/Dr_Aaron_Park   \n",
       "..        ...                                  ...   \n",
       "70   26161980           /dentists/Dr_Aaron_Shaftel   \n",
       "71   24269178           /dentists/Dr_Aaron_Shaftel   \n",
       "72   24160586           /dentists/Dr_Aaron_Shaftel   \n",
       "73   23768870           /dentists/Dr_Aaron_Shaftel   \n",
       "74   23679381           /dentists/Dr_Aaron_Shaftel   \n",
       "75   23672847           /dentists/Dr_Aaron_Shaftel   \n",
       "76   23663746           /dentists/Dr_Aaron_Shaftel   \n",
       "77   31456591            /dentists/Dr_Aaron_Studer   \n",
       "78   28902209            /dentists/Dr_Aaron_Studer   \n",
       "79   23651485              /dentists/Dr_Abbey_Onan   \n",
       "80   26899274           /dentists/Dr_Abbe_Orlansky   \n",
       "81   33523807            /dentists/Dr_Aaron_Vaughn   \n",
       "82   32233007    /dentists/Dr_Abdallah_Al-Harazneh   \n",
       "83   28479229    /dentists/Dr_Abdallah_Al-Harazneh   \n",
       "84   26908591          /dentists/Dr_Aaron_W_Wagner   \n",
       "85   24121382          /dentists/Dr_Aaron_W_Wagner   \n",
       "86   31039434  /dentists/Dr_Abdolhossein_Shahrasbi   \n",
       "87   27067472            /dentists/Dr_Aaron_Santos   \n",
       "88   23596233          /dentists/Dr_Abdirahman_Nur   \n",
       "89   23673142         /dentists/Dr_Aaron_Sheinfeld   \n",
       "90   24137146     /dentists/Dr_Abdul-Sattar_Shakfa   \n",
       "91   23872995     /dentists/Dr_Abdul-Sattar_Shakfa   \n",
       "92   23672836     /dentists/Dr_Abdul-Sattar_Shakfa   \n",
       "93   20364952     /dentists/Dr_Abdul-Sattar_Shakfa   \n",
       "94   27100165             /dentists/Dr_Abbas_Nejad   \n",
       "95   33579433            /dentists/Dr_Abdol_Rahbar   \n",
       "96   28911270            /dentists/Dr_Abdol_Rahbar   \n",
       "97   31664309             /dentists/Dr_Abbas_Razvi   \n",
       "98   33565675              /dentists/Dr_Abdul_Alas   \n",
       "99   33575775              /dentists/Dr_Abdul_Alas   \n",
       "\n",
       "                                             comments          name  \\\n",
       "0   Great results  Dr. Anderson explained in detai...        aarika   \n",
       "1   implant Had an implant done and it was painles...         aamir   \n",
       "2   Warning ..would not see this dentist Do not go...         aanal   \n",
       "3    Very thoughtful Dr.  Communicates/bedside man...         aaron   \n",
       "4   Dr larsen great others no Would continue to se...         aaron   \n",
       "5    Dr. Acres and his staff are an exceptionally ...         aaron   \n",
       "6   Not Friendly After smiling and shaking my hand...         aaron   \n",
       "7   Dr. LaRock There are three doctors, I've seen ...         aaron   \n",
       "8   Dental office  Dr. Lee is the best dentist I h...         aaron   \n",
       "9   wonderful  office  Very clean office.  Very mo...         aaron   \n",
       "10  Downtown Concord Dental  Dr. Lee was wonderful...         aaron   \n",
       "11  LOVE THIS OFFICE  This office is very clean, m...         aaron   \n",
       "12  Kudos to Dr. Aaron Lee and his wonderful staff...         aaron   \n",
       "13   Great dentist.  Takes time to explain what is...         aaron   \n",
       "14  Such a sweet and kind dentist. He's a great de...         aaron   \n",
       "15  Excellent Care! Dr. Mangum was very gentle and...         aaron   \n",
       "16  Awful dentist terrible person  Dr Aaron Rosen ...         aaron   \n",
       "17  Awful dentist awful person  Words can't descri...         aaron   \n",
       "18   My daughter had jaw surgery and the pre-op an...         aaron   \n",
       "19  Highly Recommend I am an extremely fearful pat...         aaron   \n",
       "20  great dentist I really like going to his offic...         aaron   \n",
       "21  Outstanding I took my three your old son to se...         aaron   \n",
       "22  Very happy! He treated me like more like a fam...         aaron   \n",
       "23  Do not go to this Dentist!!!!!! Do not go and ...         aaron   \n",
       "24                                             Honest         aaron   \n",
       "25   I really thought the dentist was nice and con...         aaron   \n",
       "26  Best experience ever  Awesome staff and doctor...         aaron   \n",
       "27  Great dentist and office Very kind office. The...         aaron   \n",
       "28  great doctor Doctor Neale is efficient and kin...         aaron   \n",
       "29  Dr Aaron Park--an excellent doctor! NC is luck...         aaron   \n",
       "..                                                ...           ...   \n",
       "70  Exceeded my expectations Very impressed with t...         aaron   \n",
       "71  My Whole Family Loves This Doctor I have never...         aaron   \n",
       "72  Happy patient I was referred by my uncle and I...         aaron   \n",
       "73  Great Dentist Pain free root canal. I like tha...         aaron   \n",
       "74  High Tech I have been seeing my previous denti...         aaron   \n",
       "75  EXCELLENT Dr. Shaftel is a caring and very pro...         aaron   \n",
       "76  First Visit The office staff was friendly and ...         aaron   \n",
       "77   I receive the best care from Dr. Studer at Ad...         aaron   \n",
       "78  Wonderful I am so grateful that I have found D...         aaron   \n",
       "79   Dr Onan is an excellent dentist in the Facult...         abbey   \n",
       "80   I been going to Dr Orlansky for many years he...          abbe   \n",
       "81  Root canal I was very nervous about this visit...         aaron   \n",
       "82   Dr. Al-Harazneh is excellent! I'm very happy ...      abdallah   \n",
       "83          The best dentist! I highly recommend him!      abdallah   \n",
       "84                                   Staff was great          aaron   \n",
       "85  The Most Gentle Dentist I've EVER Been To! I h...         aaron   \n",
       "86                                He is great doctor.  abdolhossein   \n",
       "87   I'm looking forward to experiencing Dr. Santo...         aaron   \n",
       "88   I have been to several dentist offices in the...    abdirahman   \n",
       "89  Go elsewhere Front desk rude.  Dr only cares a...         aaron   \n",
       "90   I visited dr shakfa in Royal Oak, the office ...  abdul-sattar   \n",
       "91  Wounderfule  team My mother had the most diffi...  abdul-sattar   \n",
       "92  Amazing tooth, no pain Dr shakfa was the best,...  abdul-sattar   \n",
       "93   Dr Mohamed Khalifa One of the best dentist ever.  abdul-sattar   \n",
       "94  \"ALL STARS\" Experiencing Dr. Nejad and his sup...         abbas   \n",
       "95  GREAT DENTIST- GREAT PRACTICE  GREAT STAFF Peo...         abdol   \n",
       "96  Best Ever! I met Dr Rahbar a few years ago and...         abdol   \n",
       "97  Mike Goyer Great job! He kept saying\" Mazza Pl...         abbas   \n",
       "98  The Best Dr. Alas is a kind, understanding, an...         abdul   \n",
       "99  Best dentist in Bakersfield in terms of knowle...         abdul   \n",
       "\n",
       "   name_gender  content_he  content_she  sp_positions  classify  \\\n",
       "0            F           0            0             0         F   \n",
       "1            M           0            1             0         M   \n",
       "2      Unknown           0            0             0   Unknown   \n",
       "3            M           0            0             0         M   \n",
       "4            M           0            1             1         M   \n",
       "5            M           0            1             0         M   \n",
       "6            M           1            1             0         M   \n",
       "7            M           0            0             0         M   \n",
       "8            M           0            1             0         M   \n",
       "9            M           0            0             0         M   \n",
       "10           M           0            1             0         M   \n",
       "11           M           0            1             0         M   \n",
       "12           M           0            1             0         M   \n",
       "13           M           0            0             0         M   \n",
       "14           M           0            1             0         M   \n",
       "15           M           0            0             0         M   \n",
       "16           M           0            1             0         M   \n",
       "17           M           0            1             0         M   \n",
       "18           M           0            0             0         M   \n",
       "19           M           0            1             0         M   \n",
       "20           M           0            1             0         M   \n",
       "21           M           0            1             1         M   \n",
       "22           M           0            1             0         M   \n",
       "23           M           0            1             0         M   \n",
       "24           M           0            0             0         M   \n",
       "25           M           0            1             0         M   \n",
       "26           M           0            0             0         M   \n",
       "27           M           0            0             0         M   \n",
       "28           M           0            1             0         M   \n",
       "29           M           0            1             0         M   \n",
       "..         ...         ...          ...           ...       ...   \n",
       "70           M           0            0             0         M   \n",
       "71           M           0            0             0         M   \n",
       "72           M           0            1             0         M   \n",
       "73           M           0            1             0         M   \n",
       "74           M           0            1             0         M   \n",
       "75           M           0            1             0         M   \n",
       "76           M           0            1             0         M   \n",
       "77           M           0            0             0         M   \n",
       "78           M           0            1             0         M   \n",
       "79           F           1            0             0         F   \n",
       "80           F           0            1             0         F   \n",
       "81           M           0            1             0         M   \n",
       "82           M           0            1             0         M   \n",
       "83           M           0            1             0         M   \n",
       "84           M           0            0             0         M   \n",
       "85           M           0            1             0         M   \n",
       "86     Unknown           0            1             0         F   \n",
       "87           M           0            0             0         M   \n",
       "88           M           0            1             0         M   \n",
       "89           M           0            1             1         M   \n",
       "90     Unknown           0            1             0         F   \n",
       "91     Unknown           1            1             1  Conflict   \n",
       "92     Unknown           0            1             0         F   \n",
       "93     Unknown           0            0             0   Unknown   \n",
       "94           M           0            1             0         M   \n",
       "95     Unknown           0            0             0   Unknown   \n",
       "96     Unknown           0            1             0         F   \n",
       "97           M           0            1             0         M   \n",
       "98           M           0            1             0         M   \n",
       "99           M           0            0             0         M   \n",
       "\n",
       "    gender_conflict  \n",
       "0                 0  \n",
       "1                 0  \n",
       "2                 0  \n",
       "3                 0  \n",
       "4                 0  \n",
       "5                 0  \n",
       "6                 1  \n",
       "7                 0  \n",
       "8                 0  \n",
       "9                 0  \n",
       "10                0  \n",
       "11                0  \n",
       "12                0  \n",
       "13                0  \n",
       "14                0  \n",
       "15                0  \n",
       "16                0  \n",
       "17                0  \n",
       "18                0  \n",
       "19                0  \n",
       "20                0  \n",
       "21                0  \n",
       "22                0  \n",
       "23                0  \n",
       "24                0  \n",
       "25                0  \n",
       "26                0  \n",
       "27                0  \n",
       "28                0  \n",
       "29                0  \n",
       "..              ...  \n",
       "70                0  \n",
       "71                0  \n",
       "72                0  \n",
       "73                0  \n",
       "74                0  \n",
       "75                0  \n",
       "76                0  \n",
       "77                0  \n",
       "78                0  \n",
       "79                0  \n",
       "80                1  \n",
       "81                0  \n",
       "82                0  \n",
       "83                0  \n",
       "84                0  \n",
       "85                0  \n",
       "86                0  \n",
       "87                0  \n",
       "88                0  \n",
       "89                0  \n",
       "90                0  \n",
       "91                1  \n",
       "92                0  \n",
       "93                0  \n",
       "94                0  \n",
       "95                0  \n",
       "96                0  \n",
       "97                0  \n",
       "98                0  \n",
       "99                0  \n",
       "\n",
       "[100 rows x 10 columns]"
      ]
     },
     "execution_count": 220,
     "metadata": {},
     "output_type": "execute_result"
    }
   ],
   "source": [
    "# use first 100 comments to do experiment\n",
    "review_test = review.iloc[:100,:]\n",
    "review_test['name']= 1\n",
    "\n",
    "\n",
    "# obtain first name\n",
    "def firstname(x):\n",
    "    name = str(x).lower().split('_')\n",
    "    return name[1]\n",
    "review_test['name']=review_test['href'].apply(firstname)    \n",
    "\n",
    "# predict gender using first name\n",
    "p = simpleGenderPredictor()\n",
    "firstNameList = list(review_test.name)\n",
    "\n",
    "gender_pre = []\n",
    "for i in tqdm_notebook(firstNameList):\n",
    "    pred = p.predict_name(str(i))\n",
    "    gender_pre += [pred[0]]\n",
    "\n",
    "review_test['name_gender']=pd.Series(gender_pre).values\n",
    "\n",
    "\n",
    "# Predict gender using comments & Filter {nurse, helper,...}\n",
    "review_test['content_he'] = 0\n",
    "review_test['content_she'] = 0\n",
    "review_test['sp_positions'] = 0\n",
    "\n",
    "female_pronoun=set(['she','her'])\n",
    "male_pronoun=set(['he','his','him'])\n",
    "special_positions=set(['nurse','secretary','receptionist','assistant','nurses','nurseassistant','scheduler','helper'])\n",
    "\n",
    "for i in tnrange(len(review_test)):\n",
    "    s = review_test.iloc[i,4]  # read in comments\n",
    "    s = s.lower().strip() \n",
    "    s = re.sub('[^a-z]',' ',s)\n",
    "    s = s.split(' ')\n",
    "    if any(word in s for word in male_pronoun):\n",
    "        review_test.iloc[i,7] = 1   \n",
    "    if any(word in s for word in female_pronoun):\n",
    "        review_test.iloc[i,8] = 1        \n",
    "    if any(word in s for word in special_positions):\n",
    "        review_test.iloc[i,9] = 1\n",
    "\n",
    "        \n",
    "# column 'classify' is the final gender result\n",
    "review_test['classify']=review_test['name_gender']\n",
    "review_test.loc[(review_test.name_gender=='Unknown') & (review_test.content_he==1) & (review_test.content_she==1), 'classify']='Conflict'\n",
    "review_test.loc[(review_test.name_gender=='Unknown') & (review_test.content_he==0) & (review_test.content_she==0), 'classify']='Unknown'\n",
    "review_test.loc[(review_test.name_gender=='Unknown') & (review_test.content_he==1) & (review_test.content_she==0), 'classify']='M'\n",
    "review_test.loc[(review_test.name_gender=='Unknown') & (review_test.content_he==0) & (review_test.content_she==1), 'classify']='F'\n",
    "\n",
    "print('Unknown:', sum(review_test.classify=='Unknown'))\n",
    "print('Confict:', sum(review_test.classify=='Confict'))\n",
    "print('F:', sum(review_test.classify=='F'))\n",
    "print('M:', sum(review_test.classify=='M'))        \n",
    "        \n",
    "\n",
    "# column 'gender_conflict' indicates where name_gender conflicts with content_he/content_she\n",
    "review_test['gender_conflict']=0\n",
    "review_test.loc[(review_test.name_gender=='F') & (review_test.content_he==1), 'gender_conflict']=1\n",
    "review_test.loc[(review_test.name_gender=='M') & (review_test.content_she==1), 'gender_conflict']=1\n",
    "review_test.loc[(review_test.classify=='Conflict'), 'gender_conflict']=1\n",
    "print('Confict:', sum(review_test.gender_conflict==1))\n",
    "\n",
    "\n",
    "# Now we have a clean review dataset to be our corpus\n",
    "clr_review_test=review_test[(review_test.sp_positions!=1) & (review_test.gender_conflict!=1)]\n",
    "clr_review_test.shape\n",
    "len(clr_review_test)/len(review_test)\n",
    "\n",
    "review_test"
   ]
  },
  {
   "cell_type": "markdown",
   "metadata": {},
   "source": [
    "# Pre-process via spaCy"
   ]
  },
  {
   "cell_type": "markdown",
   "metadata": {
    "heading_collapsed": true
   },
   "source": [
    "### Punctuation removal & Lemmatization"
   ]
  },
  {
   "cell_type": "code",
   "execution_count": 234,
   "metadata": {
    "collapsed": true,
    "hidden": true
   },
   "outputs": [],
   "source": [
    "nlp = spacy.load('en')"
   ]
  },
  {
   "cell_type": "code",
   "execution_count": 279,
   "metadata": {
    "collapsed": true,
    "hidden": true
   },
   "outputs": [],
   "source": [
    "# take comments as text mateiral\n",
    "review_panel_text = clr_review['comments'].fillna('').astype(str)\n",
    "sample_s = review_panel_text.tolist()"
   ]
  },
  {
   "cell_type": "code",
   "execution_count": 280,
   "metadata": {
    "hidden": true,
    "scrolled": true
   },
   "outputs": [
    {
     "data": {
      "application/vnd.jupyter.widget-view+json": {
       "model_id": "a7dcb140f68d4a4e94e86b49da06c6ca"
      }
     },
     "metadata": {},
     "output_type": "display_data"
    },
    {
     "name": "stdout",
     "output_type": "stream",
     "text": [
      "\n",
      "[['great', 'result', 'dr', 'anderson', 'explain', 'in', 'detail', 'my', 'option', 'for', 'the', 'repair', 'on', 'my', 'tooth', 'in', 'the', 'end', 'I', 'receive', 'great', 'result'], ['implant', 'have', 'an', 'implant', 'do', 'and', '-PRON-', 'be', 'painless', 'I', 'could', 'not', 'afford', '-PRON-', 'so', 'he', 'put', 'me', 'on', 'a', 'payment', 'plan', 'I', 'be', 'pleased', 'with', 'the', 'service', 'great', 'doctor'], ['warning', 'would', 'not', 'see', 'this', 'dentist', 'do', 'not', 'go', 'to', 'this', 'dentist', 'office', '-PRON-', 'scam', 'people', 'and', 'do', 'not', 'pay', 'there', 'bill', '-PRON-', 'snow', 'plow', 'for', '-PRON-', 'and', 'when', 'the', 'season', 'be', 'over', '-PRON-', 'would', 'not', 'pay', '-PRON-', 'this', 'be', 'just', 'to', 'let', '-PRON-', 'know', 'what', 'type', 'of', 'dentist', '-PRON-', 'deal', 'with'], ['very', 'thoughtful', 'dr', 'communicatesbedside', 'manner', 'great'], ['dr', 'acres', 'and', 'his', 'staff', 'be', 'an', 'exceptionally', 'professional', 'and', 'caring', 'team', 'of', 'health', 'professional', 'that', 'I', 'highly', 'recommend']]\n"
     ]
    }
   ],
   "source": [
    "# lemmatize and fitler documents; deal with punctuation(3h 30mins)\n",
    "terms_list=[]\n",
    "words_to_keep = set(['he','his','him','she','her','I','my','me','mine'])\n",
    "def lemma(x):\n",
    "    if x.text in words_to_keep: \n",
    "        return x.text\n",
    "    elif x.text not in words_to_keep:\n",
    "        return x.lemma_\n",
    "\n",
    "for doc in tqdm_notebook(sample_s):\n",
    "    doc_cleared = textacy.preprocess_text(doc, lowercase=False, no_punct=True)\n",
    "    doc_new = nlp(doc_cleared)\n",
    "    tokens=[lemma(x) for x in doc_new]  #to keep pronouns\n",
    "    terms_list.append(tokens)\n",
    "\n",
    "print(terms_list[:5])"
   ]
  },
  {
   "cell_type": "markdown",
   "metadata": {
    "heading_collapsed": true
   },
   "source": [
    "### Spellcheck and correction\n",
    "- Manually collect the most frequent typos of attribute words and gender words.\n",
    "- This method can __obtain better correction results__ since we focused on key words we need."
   ]
  },
  {
   "cell_type": "code",
   "execution_count": 242,
   "metadata": {
    "collapsed": true,
    "hidden": true
   },
   "outputs": [],
   "source": [
    "words_to_filter={\n",
    "    'heshe':'she','shehe':'he','hisher':'her','herhis':'his','himher':'her','herhim':'him',\n",
    "    'womenas':'women','womena':'women','womans':'women','womens':'women',\n",
    "    'females':'female','femalei':'female',\n",
    "    'heri':'her','herand':'her',\n",
    "    'hershe':'she','doctorshe':'she','babieshe':'she','physicianshe':'she','professionalshe':'she',\n",
    "    'doctorsh':'she','drshe':'she','womanshe':'she',\n",
    "    'ladys':'lady','girls':'girl','blond':'blonde','brunet':'brunette',\n",
    "    'himhe':'he','himi':'him','hime':'him','himand':'him','hin':'him','himso':'him','hom':'him','himvery':'him',\n",
    "    'himthat':'him','himwe':'him',\n",
    "    'mens':'men','manand':'man',\n",
    "    'boys':'boy','guys':'guy','males':'male',\n",
    "    'doctorhe':'he','guyhe':'he','drhe':'he','manhe':'he','childrenhe':'he','personhe':'he','physicianhe':'he',\n",
    "    'experiencehe':'he','professionalhe':'he',\n",
    "    \n",
    "    'intellegent':'intelligent','inteligent':'intelligent', \n",
    "    'conscientous':'conscientious',\n",
    "    'imformative':'informative',\n",
    "    'skillfull':'skillful',\n",
    "    'efficent':'efficient',\n",
    "    'helpfull':'helpful','helping':'helpful','helful':'helpful',\n",
    "    'welleducat':'welleducated',\n",
    "    'welltrain':'welltrained', \n",
    "    'preventative':'preventive','preventitive':'preventive',\n",
    "    'effectivei':'efficacious',\n",
    "    'diagnositic':'diagnostic','diagnosic':'diagnostic','dianostic':'diagnostic','diagnotic':'diagnostic',\n",
    "    'ableto':'able',\n",
    "    'qualifed':'qualified','qualify':'qualified',\n",
    "    'competant':'competent','compentent':'competent',\n",
    "    'curteous':'courteous','curtious':'courteous','courtious':'courteous','couteous':'courteous',\n",
    "    'proffesional':'professional','proffessional':'professional','profesional':'professional',\n",
    "    'professionali':'professional','professinal':'professional','helpfulprofessional':'professional',\n",
    "    'knowledgable':'knowledgeable','knowlegable':'knowledgeable','knowlegeable':'knowledgeable',\n",
    "    'knowledable':'knowledgeable','knowledgeble':'knowledgeable',\n",
    "    'listen':'listening',\n",
    "    'thoughful':'thoughtful',\n",
    "    'pleasureable':'pleasurable',\n",
    "    'attentative':'attentive',\n",
    "    'compasionate':'compassionate','compationate':'compassionate',\n",
    "    'conceren':'concerned','concered':'concerned','consern':'concerned','concerend':'concerned','concer':'concerned',\n",
    "    'behavioural':'behavioral',\n",
    "    'pleasent':'pleasant','plesant':'pleasant',\n",
    "    'freindly':'friendly','friendlyi':'friendly','friendy':'friendly',\n",
    "    'empathic':'empathetic',\n",
    "    'careing':'caring','carring':'caring',\n",
    "    'releif':'relief','relif':'relief','relive':'relief','reliefhe':'relief',\n",
    "    'therapists':'therapist',\n",
    "    'technic':'technique',\n",
    "    'expereince':'experience','experiance':'experience','expierence':'experience','experence':'experience',\n",
    "    'experince':'experience','experiencei':'experience','expirience':'experience','expierience':'experience',\n",
    "    'exerience':'experience','expirence':'experience','experienc':'experience','experiece':'experience',\n",
    "    'exprience':'experience','experiene':'experience','experiences':'experience','expericence':'experience',\n",
    "    'expeience':'experience','exp':'experience','expeirence':'experience',\n",
    "    'theraphy':'therapy','theropy':'therapy','therepy':'therapy','therapyi':'therapy','therpy':'therapy',\n",
    "    'pt':'therapy','theapy':'therapy',\n",
    "    'improvment':'improvement','improved':'improvement', \n",
    "    'dx':'diagnosis','diagnoses':'diagnosis','diagnosishe':'diagnosis','dignosis':'diagnosis',\n",
    "    'diagnosiss':'diagnosis','diagnosisprognosis':'diagnosis','diagnosisvery':'diagnosis',\n",
    "    'diagonsis':'diagnosis','diagnosisi':'diagnosis','dianosis':'diagnosis','diagnosisshe':'diagnosis',\n",
    "    'diagonosis':'diagnosis','disgnosis':'diagnosis','diagnoisis':'diagnosis','diognosis':'diagnosis',\n",
    "    'diagnois':'diagnosis','diagnosic':'diagnosis','diagnosisno':'diagnosis',\n",
    "    'treament':'treatment','treatement':'treatment','treatmenti':'treatment','treatmentshe':'treatment',\n",
    "    'medicationtreatment':'treatment','caretreatment':'treatment','diagnosistreatment':'treatment',\n",
    "    'treatmenthe':'treatment',\n",
    "    'standards':'standard','standar':'standard',\n",
    "    'abilty':'ability',\n",
    "    'skills':'skill','skillsi':'skill','skillset':'skill','skil':'skill','skillshe':'skill',\n",
    "    'knowlege':'knowledge','knoweldge':'knowledge','knowlegde':'knowledge',\n",
    "    'competance':'competence',\n",
    "    'profesionalism':'professionalism','professionalismi':'professionalism',\n",
    "    'professionalsim':'professionalism','proffesionalism':'professionalism',\n",
    "    'expertize':'expertise','expertice':'expertise',\n",
    "    'resultsi':'result','reult':'result','results':'result','resultsand':'result','resultsshe':'result',\n",
    "    'resultshe':'result','resultswhich':'result','resut':'result','resultsthe':'result','resultsdr':'result',\n",
    "    'resultsa':'result','resultsmy':'result','resulst':'result','resultsnot':'result','resutls':'result',\n",
    "    'resultsit':'result','resulti':'result',\n",
    "    'outcomei':'outcome',\n",
    "    'listner':'listener',\n",
    "    'comunicator':'communicator',\n",
    "    'smilei':'smiley','smily':'smiley',\n",
    "    'repoire':'rapport','repor':'rapport','repore':'rapport','raport':'rapport',\n",
    "    'repoir':'rapport','rapore':'rapport','rapor':'rapport',\n",
    "    'compasion':'compassion','compation':'compassion','compassioni':'compassion','compasssion':'compassion',\n",
    "    'curtesy':'courtesy','courtsey':'courtesy',\n",
    "    'repect':'respect','respecti':'respect','respectand':'respect','respecthe':'respect',\n",
    "    'attn':'attention','attentioni':'attention','atttention':'attention','atention':'attention',\n",
    "    'attnetion':'attention','attentionand':'attention','attenton':'attention','attetion':'attention',\n",
    "    'attentionthe':'attention','attenion':'attention',\n",
    "    'tust':'trust','turst':'trust',\n",
    "    'behaviour':'behavior',\n",
    "    'additude':'attitude','attitute':'attitude','attidude':'attitude',\n",
    "    'atitude':'attitude','attitud':'attitude','attitudei':'attitude','attitiude':'attitude',\n",
    "    'comunication':'communication','communications':'communication',\n",
    "    'communcation':'communication','commuication':'communication',\n",
    "    'realationship':'relationship','relationshipi':'relationship',\n",
    "    'relationshiphe':'relationship','relatioship':'relationship',\n",
    "    'manor':'manner','mannor':'manner','mannerit':'manner','mannerhe':'manner','manneri':'manner',\n",
    "    'maner':'manner','mannershe':'manner','mannervery':'manner','mannersshe':'manner','mannerand':'manner',\n",
    "    'mannera':'manner','mannerpersonality':'manner','mannersand':'manner','manneralway':'manner',\n",
    "    'amnner':'manner','mammer':'manner','manne':'manner','mannar':'manner','mannerno':'manner',\n",
    "    'mannerthe':'manner','mannerhave':'manner','mannerthere':'manner','manori':'manner',\n",
    "    'mannerhis':'manner','mannerone':'manner','mannerher':'manner','mannersa':'manner','mannerexplain':'manner',\n",
    "    'manneryou':'manner','mannerexcellent':'manner','manneris':'manner','mannerdr':'manner',\n",
    "    'mannerwill':'manner','mannerwhen':'manner','mannernot':'manner','mannerin':'manner','mannernever':'manner',\n",
    "    'manneroffice':'manner','mannerhave':'manner','mannerwould':'manner','mannerlisten':'manner',\n",
    "    'mannerbut':'manner','mannerdid':'manner','mannersvery':'manner',\n",
    "    'emphathy':'empathy',\n",
    "    'pleasent':'pleasant','plesant':'pleasant',\n",
    "    'accomodating':'accommodating','accomodat':'accommodating','accomadat':'accommodating',\n",
    "    'accomidat':'accommodating','accomidating':'accommodating','accomadating':'accommodating'\n",
    "}"
   ]
  },
  {
   "cell_type": "code",
   "execution_count": 281,
   "metadata": {
    "hidden": true
   },
   "outputs": [
    {
     "data": {
      "application/vnd.jupyter.widget-view+json": {
       "model_id": "e5b30eda6b88462da85857e11f7e6315"
      }
     },
     "metadata": {},
     "output_type": "display_data"
    },
    {
     "name": "stdout",
     "output_type": "stream",
     "text": [
      "\n"
     ]
    }
   ],
   "source": [
    "# spellcheck the documents and correct spellings (35 seconds)\n",
    "for line in tqdm_notebook(terms_list, mininterval=2):\n",
    "    for i,word in enumerate(line):\n",
    "        if word in words_to_filter:\n",
    "            line[i]=words_to_filter[word]"
   ]
  },
  {
   "cell_type": "markdown",
   "metadata": {
    "heading_collapsed": true
   },
   "source": [
    "### Save & import trained corpus"
   ]
  },
  {
   "cell_type": "code",
   "execution_count": 282,
   "metadata": {
    "collapsed": true,
    "hidden": true
   },
   "outputs": [],
   "source": [
    "InteractiveShell.ast_node_interactivity = \"none\"  # speed this process"
   ]
  },
  {
   "cell_type": "code",
   "execution_count": 283,
   "metadata": {
    "hidden": true,
    "scrolled": false
   },
   "outputs": [
    {
     "data": {
      "application/vnd.jupyter.widget-view+json": {
       "model_id": "8000939b18674168a8f39f053a175c02"
      }
     },
     "metadata": {},
     "output_type": "display_data"
    },
    {
     "name": "stdout",
     "output_type": "stream",
     "text": [
      "\n"
     ]
    }
   ],
   "source": [
    "# save the corpus as a txt file (40 seconds)\n",
    "with open(\"./data/clr_terms_list.txt\",\"w\") as thefile:\n",
    "    for item in tqdm_notebook(terms_list):\n",
    "      thefile.write(\"%s\\n\" % item)"
   ]
  },
  {
   "cell_type": "code",
   "execution_count": 284,
   "metadata": {
    "collapsed": true,
    "hidden": true
   },
   "outputs": [],
   "source": [
    "InteractiveShell.ast_node_interactivity = \"all\" # resume the output option"
   ]
  },
  {
   "cell_type": "code",
   "execution_count": null,
   "metadata": {
    "collapsed": true,
    "hidden": true
   },
   "outputs": [],
   "source": [
    "# read in corpus (3 mins)\n",
    "with open('./data/clr_terms_list.txt','r') as file:\n",
    "    terms_list=[]\n",
    "    for line in file.readlines():\n",
    "        tmp=[]\n",
    "        for i in line[1:-2].split(','):\n",
    "            tmp.append(i.strip(\" '\"))\n",
    "        terms_list.append(tmp)"
   ]
  },
  {
   "cell_type": "markdown",
   "metadata": {
    "heading_collapsed": true
   },
   "source": [
    "# Build model via word2vec"
   ]
  },
  {
   "cell_type": "code",
   "execution_count": 285,
   "metadata": {
    "collapsed": true,
    "hidden": true
   },
   "outputs": [],
   "source": [
    "# train word2vec on the corpus (10 mins)\n",
    "model = gensim.models.Word2Vec(sentences=terms_list, size=100, window=7, min_count=5, workers=4)\n",
    "# to save a trained model\n",
    "model.save(\"./data/model_clr_comments\")"
   ]
  },
  {
   "cell_type": "markdown",
   "metadata": {
    "hidden": true
   },
   "source": [
    "- The analogic results seem better than the old model before clearance"
   ]
  },
  {
   "cell_type": "code",
   "execution_count": 249,
   "metadata": {
    "hidden": true,
    "scrolled": false
   },
   "outputs": [
    {
     "data": {
      "text/plain": [
       "[('personable', 0.9074916243553162),\n",
       " ('intelligent', 0.8988879919052124),\n",
       " ('approachable', 0.8902322053909302),\n",
       " ('competent', 0.8805422186851501),\n",
       " ('compassionate', 0.8744218349456787),\n",
       " ('thoughtful', 0.8704231977462769),\n",
       " ('thorough', 0.8680344820022583),\n",
       " ('conscientious', 0.8632931709289551),\n",
       " ('informative', 0.8625794649124146),\n",
       " ('attentive', 0.8617123365402222)]"
      ]
     },
     "execution_count": 249,
     "metadata": {},
     "output_type": "execute_result"
    }
   ],
   "source": [
    "# check any misspelling of key attribute words\n",
    "model.wv.most_similar_cosmul(positive=['knowledgeable'],topn=10)"
   ]
  },
  {
   "cell_type": "code",
   "execution_count": 250,
   "metadata": {
    "hidden": true,
    "scrolled": false
   },
   "outputs": [
    {
     "data": {
      "text/plain": [
       "[('she', 0.8664829730987549),\n",
       " ('-PRON-', 0.7346817851066589),\n",
       " ('shed', 0.7100279927253723),\n",
       " ('shell', 0.6926476359367371),\n",
       " ('overweight', 0.6855077743530273),\n",
       " ('that', 0.6851862668991089),\n",
       " ('daughter', 0.6832113265991211),\n",
       " ('alarm', 0.6810519695281982),\n",
       " ('parent', 0.674568235874176),\n",
       " ('obese', 0.6724981665611267)]"
      ]
     },
     "execution_count": 250,
     "metadata": {},
     "output_type": "execute_result"
    }
   ],
   "source": [
    "# found prevalant typos of gender words\n",
    "model.wv.most_similar_cosmul(positive=['her'],topn=10)"
   ]
  },
  {
   "cell_type": "code",
   "execution_count": 270,
   "metadata": {
    "hidden": true,
    "scrolled": true
   },
   "outputs": [
    {
     "data": {
      "text/plain": [
       "30494"
      ]
     },
     "execution_count": 270,
     "metadata": {},
     "output_type": "execute_result"
    }
   ],
   "source": [
    "vocab_obj = model.wv.vocab[\"friendly\"]\n",
    "vocab_obj.count"
   ]
  },
  {
   "cell_type": "code",
   "execution_count": 251,
   "metadata": {
    "hidden": true,
    "scrolled": false
   },
   "outputs": [
    {
     "data": {
      "text/plain": [
       "array([-0.64495885,  0.59357613,  0.05354114, -0.5356201 ,  0.03679908,\n",
       "        1.2303874 ,  1.0802594 ,  0.43073598,  1.1777514 , -0.19657007,\n",
       "       -0.61229813, -1.3695918 ,  3.3395555 ,  0.9843808 ,  0.5450105 ,\n",
       "       -2.0221436 , -4.035487  , -0.3032979 ,  0.74440515, -0.19493127,\n",
       "       -1.0600715 ,  2.2638512 ,  0.37473533,  1.253145  ,  0.7289774 ,\n",
       "        0.3971539 ,  0.39925283,  2.3111734 , -1.6316954 ,  1.8963535 ,\n",
       "        0.32695824, -0.561304  , -3.1125395 , -2.1620324 , -0.6255989 ,\n",
       "       -1.2920182 , -0.28051597,  1.0827161 ,  1.9925852 ,  0.6398726 ,\n",
       "        1.7055993 , -3.584166  , -1.2345035 , -0.78807765, -0.23221698,\n",
       "        1.2614936 ,  1.2686561 , -2.348656  ,  1.522818  , -1.0812918 ,\n",
       "       -0.5052574 ,  3.5710568 ,  0.21126084, -1.8686764 , -1.6131155 ,\n",
       "       -2.6090913 , -1.5247493 , -0.38346907, -0.8097224 , -2.7224376 ,\n",
       "        0.2064798 ,  4.6430526 , -1.1784403 ,  1.0314777 , -1.4779274 ,\n",
       "       -1.8528348 , -0.32165417,  1.1619599 ,  2.2512786 ,  0.3299098 ,\n",
       "       -4.278722  ,  0.90385926, -1.6300048 , -0.4643641 , -2.947184  ,\n",
       "       -2.5711496 , -3.2391877 ,  1.3258997 ,  1.3307886 ,  0.8566022 ,\n",
       "        0.85058355, -1.414098  , -1.016429  , -3.7961776 , -0.65362823,\n",
       "        0.46806523, -2.737673  , -1.4169803 , -2.3052201 ,  2.8549733 ,\n",
       "        0.929833  ,  1.442282  ,  0.77647305,  0.3674907 ,  0.2521294 ,\n",
       "        1.2607082 , -0.17259099,  2.1858625 ,  0.21345548,  3.0142388 ],\n",
       "      dtype=float32)"
      ]
     },
     "execution_count": 251,
     "metadata": {},
     "output_type": "execute_result"
    }
   ],
   "source": [
    "model.wv['I']  # numpy vector of a word"
   ]
  },
  {
   "cell_type": "markdown",
   "metadata": {},
   "source": [
    "# Measure the gender bias\n",
    "- via comparing comments on female and male physicians"
   ]
  },
  {
   "cell_type": "code",
   "execution_count": 10,
   "metadata": {
    "collapsed": true
   },
   "outputs": [],
   "source": [
    "# load the trained model\n",
    "model = gensim.models.Word2Vec.load(\"./data/model_clr_comments\")"
   ]
  },
  {
   "cell_type": "markdown",
   "metadata": {
    "heading_collapsed": true
   },
   "source": [
    "### Build sets of gender words & attribute words"
   ]
  },
  {
   "cell_type": "code",
   "execution_count": 11,
   "metadata": {
    "hidden": true,
    "scrolled": true
   },
   "outputs": [
    {
     "data": {
      "text/html": [
       "<div>\n",
       "<style>\n",
       "    .dataframe thead tr:only-child th {\n",
       "        text-align: right;\n",
       "    }\n",
       "\n",
       "    .dataframe thead th {\n",
       "        text-align: left;\n",
       "    }\n",
       "\n",
       "    .dataframe tbody tr th {\n",
       "        vertical-align: top;\n",
       "    }\n",
       "</style>\n",
       "<table border=\"1\" class=\"dataframe\">\n",
       "  <thead>\n",
       "    <tr style=\"text-align: right;\">\n",
       "      <th></th>\n",
       "      <th>man</th>\n",
       "      <th>woman</th>\n",
       "    </tr>\n",
       "  </thead>\n",
       "  <tbody>\n",
       "    <tr>\n",
       "      <th>0</th>\n",
       "      <td>he</td>\n",
       "      <td>she</td>\n",
       "    </tr>\n",
       "    <tr>\n",
       "      <th>1</th>\n",
       "      <td>his</td>\n",
       "      <td>her</td>\n",
       "    </tr>\n",
       "    <tr>\n",
       "      <th>2</th>\n",
       "      <td>him</td>\n",
       "      <td>her</td>\n",
       "    </tr>\n",
       "    <tr>\n",
       "      <th>3</th>\n",
       "      <td>himself</td>\n",
       "      <td>herself</td>\n",
       "    </tr>\n",
       "    <tr>\n",
       "      <th>4</th>\n",
       "      <td>man</td>\n",
       "      <td>woman</td>\n",
       "    </tr>\n",
       "    <tr>\n",
       "      <th>5</th>\n",
       "      <td>men</td>\n",
       "      <td>women</td>\n",
       "    </tr>\n",
       "    <tr>\n",
       "      <th>6</th>\n",
       "      <td>male</td>\n",
       "      <td>female</td>\n",
       "    </tr>\n",
       "    <tr>\n",
       "      <th>7</th>\n",
       "      <td>boy</td>\n",
       "      <td>girl</td>\n",
       "    </tr>\n",
       "    <tr>\n",
       "      <th>8</th>\n",
       "      <td>guy</td>\n",
       "      <td>gal</td>\n",
       "    </tr>\n",
       "    <tr>\n",
       "      <th>9</th>\n",
       "      <td>gentleman</td>\n",
       "      <td>lady</td>\n",
       "    </tr>\n",
       "    <tr>\n",
       "      <th>10</th>\n",
       "      <td>dude</td>\n",
       "      <td>chick</td>\n",
       "    </tr>\n",
       "    <tr>\n",
       "      <th>11</th>\n",
       "      <td>NaN</td>\n",
       "      <td>blonde</td>\n",
       "    </tr>\n",
       "    <tr>\n",
       "      <th>12</th>\n",
       "      <td>NaN</td>\n",
       "      <td>brunette</td>\n",
       "    </tr>\n",
       "  </tbody>\n",
       "</table>\n",
       "</div>"
      ],
      "text/plain": [
       "          man     woman\n",
       "0          he       she\n",
       "1         his       her\n",
       "2         him       her\n",
       "3     himself   herself\n",
       "4         man     woman\n",
       "5         men     women\n",
       "6        male    female\n",
       "7         boy      girl\n",
       "8         guy       gal\n",
       "9   gentleman      lady\n",
       "10       dude     chick\n",
       "11        NaN    blonde\n",
       "12        NaN  brunette"
      ]
     },
     "execution_count": 11,
     "metadata": {},
     "output_type": "execute_result"
    }
   ],
   "source": [
    "# gender words collected\n",
    "Gender_words=pd.read_excel('./data/Gender_words.xlsx')\n",
    "Gender_words"
   ]
  },
  {
   "cell_type": "code",
   "execution_count": 12,
   "metadata": {
    "hidden": true
   },
   "outputs": [
    {
     "name": "stdout",
     "output_type": "stream",
     "text": [
      "{'gentleman', 'man', 'his', 'he', 'boy', 'guy', 'male', 'him', 'dude', 'men', 'himself'}\n",
      "{'girl', 'chick', 'women', 'woman', 'herself', 'gal', 'her', 'female', 'she', 'lady'}\n"
     ]
    }
   ],
   "source": [
    "# final gender word sets\n",
    "man_set= set(Gender_words.man.dropna())  #n=11\n",
    "woman_set= set(Gender_words.woman.dropna())-{'blonde','brunette'} #n=10\n",
    "print(man_set)\n",
    "print(woman_set)"
   ]
  },
  {
   "cell_type": "code",
   "execution_count": 13,
   "metadata": {
    "hidden": true,
    "scrolled": true
   },
   "outputs": [
    {
     "data": {
      "text/html": [
       "<div>\n",
       "<style>\n",
       "    .dataframe thead tr:only-child th {\n",
       "        text-align: right;\n",
       "    }\n",
       "\n",
       "    .dataframe thead th {\n",
       "        text-align: left;\n",
       "    }\n",
       "\n",
       "    .dataframe tbody tr th {\n",
       "        vertical-align: top;\n",
       "    }\n",
       "</style>\n",
       "<table border=\"1\" class=\"dataframe\">\n",
       "  <thead>\n",
       "    <tr style=\"text-align: right;\">\n",
       "      <th></th>\n",
       "      <th>interaction</th>\n",
       "      <th>technique</th>\n",
       "      <th>enviroment</th>\n",
       "      <th>administration</th>\n",
       "      <th>interpersonal</th>\n",
       "      <th>technical</th>\n",
       "      <th>enviromental</th>\n",
       "      <th>administrative</th>\n",
       "    </tr>\n",
       "  </thead>\n",
       "  <tbody>\n",
       "    <tr>\n",
       "      <th>0</th>\n",
       "      <td>empathy</td>\n",
       "      <td>outcome</td>\n",
       "      <td>facility</td>\n",
       "      <td>arrangemnet</td>\n",
       "      <td>responsive</td>\n",
       "      <td>expert</td>\n",
       "      <td>comfortable</td>\n",
       "      <td>timely</td>\n",
       "    </tr>\n",
       "    <tr>\n",
       "      <th>1</th>\n",
       "      <td>manner</td>\n",
       "      <td>result</td>\n",
       "      <td>atmosphere</td>\n",
       "      <td>timeliness</td>\n",
       "      <td>reliable</td>\n",
       "      <td>professional</td>\n",
       "      <td>smelly</td>\n",
       "      <td>organized</td>\n",
       "    </tr>\n",
       "    <tr>\n",
       "      <th>2</th>\n",
       "      <td>responsiveness</td>\n",
       "      <td>expert</td>\n",
       "      <td>tangible</td>\n",
       "      <td>waiting</td>\n",
       "      <td>enthusiastic</td>\n",
       "      <td>competent</td>\n",
       "      <td>clean</td>\n",
       "      <td>admin</td>\n",
       "    </tr>\n",
       "    <tr>\n",
       "      <th>3</th>\n",
       "      <td>relationship</td>\n",
       "      <td>expertise</td>\n",
       "      <td>surrounding</td>\n",
       "      <td>appointment</td>\n",
       "      <td>supportive</td>\n",
       "      <td>knowledgeable</td>\n",
       "      <td>sterile</td>\n",
       "      <td>managed</td>\n",
       "    </tr>\n",
       "    <tr>\n",
       "      <th>4</th>\n",
       "      <td>interplay</td>\n",
       "      <td>professionalism</td>\n",
       "      <td>smell</td>\n",
       "      <td>operation</td>\n",
       "      <td>caring</td>\n",
       "      <td>qualified</td>\n",
       "      <td>decorative</td>\n",
       "      <td>efficient</td>\n",
       "    </tr>\n",
       "    <tr>\n",
       "      <th>5</th>\n",
       "      <td>communication</td>\n",
       "      <td>competency</td>\n",
       "      <td>layout</td>\n",
       "      <td>admin</td>\n",
       "      <td>empathetic</td>\n",
       "      <td>skilled</td>\n",
       "      <td>clean</td>\n",
       "      <td>accessable</td>\n",
       "    </tr>\n",
       "    <tr>\n",
       "      <th>6</th>\n",
       "      <td>attitude</td>\n",
       "      <td>competence</td>\n",
       "      <td>color</td>\n",
       "      <td>administration</td>\n",
       "      <td>interactive</td>\n",
       "      <td>standard</td>\n",
       "      <td>enviromental</td>\n",
       "      <td>costly</td>\n",
       "    </tr>\n",
       "    <tr>\n",
       "      <th>7</th>\n",
       "      <td>behavior</td>\n",
       "      <td>reliability</td>\n",
       "      <td>look</td>\n",
       "      <td>coordination</td>\n",
       "      <td>friendly</td>\n",
       "      <td>able</td>\n",
       "      <td>NaN</td>\n",
       "      <td>affordable</td>\n",
       "    </tr>\n",
       "    <tr>\n",
       "      <th>8</th>\n",
       "      <td>interaction</td>\n",
       "      <td>assurance</td>\n",
       "      <td>decoration</td>\n",
       "      <td>organization</td>\n",
       "      <td>pleasant</td>\n",
       "      <td>productive</td>\n",
       "      <td>NaN</td>\n",
       "      <td>administrative</td>\n",
       "    </tr>\n",
       "    <tr>\n",
       "      <th>9</th>\n",
       "      <td>mutuality</td>\n",
       "      <td>knowledge</td>\n",
       "      <td>lighting</td>\n",
       "      <td>integration</td>\n",
       "      <td>behavioral</td>\n",
       "      <td>working</td>\n",
       "      <td>NaN</td>\n",
       "      <td>NaN</td>\n",
       "    </tr>\n",
       "    <tr>\n",
       "      <th>10</th>\n",
       "      <td>trust</td>\n",
       "      <td>qualification</td>\n",
       "      <td>parking</td>\n",
       "      <td>support</td>\n",
       "      <td>encouraging</td>\n",
       "      <td>diagnostic</td>\n",
       "      <td>NaN</td>\n",
       "      <td>NaN</td>\n",
       "    </tr>\n",
       "    <tr>\n",
       "      <th>11</th>\n",
       "      <td>friendship</td>\n",
       "      <td>skill</td>\n",
       "      <td>temperature</td>\n",
       "      <td>furniture</td>\n",
       "      <td>understandable</td>\n",
       "      <td>diagnosing</td>\n",
       "      <td>NaN</td>\n",
       "      <td>NaN</td>\n",
       "    </tr>\n",
       "    <tr>\n",
       "      <th>12</th>\n",
       "      <td>attention</td>\n",
       "      <td>ability</td>\n",
       "      <td>seating</td>\n",
       "      <td>management</td>\n",
       "      <td>concerned</td>\n",
       "      <td>trained</td>\n",
       "      <td>NaN</td>\n",
       "      <td>NaN</td>\n",
       "    </tr>\n",
       "    <tr>\n",
       "      <th>13</th>\n",
       "      <td>warmth</td>\n",
       "      <td>standard</td>\n",
       "      <td>privacy</td>\n",
       "      <td>efficiency</td>\n",
       "      <td>warming</td>\n",
       "      <td>welltrained</td>\n",
       "      <td>NaN</td>\n",
       "      <td>NaN</td>\n",
       "    </tr>\n",
       "    <tr>\n",
       "      <th>14</th>\n",
       "      <td>respect</td>\n",
       "      <td>treatment</td>\n",
       "      <td>decoration</td>\n",
       "      <td>system</td>\n",
       "      <td>respectful</td>\n",
       "      <td>efficacious</td>\n",
       "      <td>NaN</td>\n",
       "      <td>NaN</td>\n",
       "    </tr>\n",
       "    <tr>\n",
       "      <th>15</th>\n",
       "      <td>kindness</td>\n",
       "      <td>diagnosis</td>\n",
       "      <td>location</td>\n",
       "      <td>accessibility</td>\n",
       "      <td>kind</td>\n",
       "      <td>therapeutic</td>\n",
       "      <td>NaN</td>\n",
       "      <td>NaN</td>\n",
       "    </tr>\n",
       "    <tr>\n",
       "      <th>16</th>\n",
       "      <td>willingness</td>\n",
       "      <td>improvement</td>\n",
       "      <td>surrounding</td>\n",
       "      <td>convenience</td>\n",
       "      <td>courteous</td>\n",
       "      <td>welleducated</td>\n",
       "      <td>NaN</td>\n",
       "      <td>NaN</td>\n",
       "    </tr>\n",
       "    <tr>\n",
       "      <th>17</th>\n",
       "      <td>courtesy</td>\n",
       "      <td>efficacy</td>\n",
       "      <td>instrument</td>\n",
       "      <td>cost</td>\n",
       "      <td>compassionate</td>\n",
       "      <td>preventive</td>\n",
       "      <td>NaN</td>\n",
       "      <td>NaN</td>\n",
       "    </tr>\n",
       "    <tr>\n",
       "      <th>18</th>\n",
       "      <td>compassion</td>\n",
       "      <td>therapy</td>\n",
       "      <td>blanket</td>\n",
       "      <td>continuity</td>\n",
       "      <td>attentive</td>\n",
       "      <td>proficient</td>\n",
       "      <td>NaN</td>\n",
       "      <td>NaN</td>\n",
       "    </tr>\n",
       "    <tr>\n",
       "      <th>19</th>\n",
       "      <td>rapport</td>\n",
       "      <td>prevention</td>\n",
       "      <td>lollipop</td>\n",
       "      <td>affordability</td>\n",
       "      <td>amiable</td>\n",
       "      <td>experienced</td>\n",
       "      <td>NaN</td>\n",
       "      <td>NaN</td>\n",
       "    </tr>\n",
       "    <tr>\n",
       "      <th>20</th>\n",
       "      <td>attentiveness</td>\n",
       "      <td>prognosis</td>\n",
       "      <td>tool</td>\n",
       "      <td>billing</td>\n",
       "      <td>courteous</td>\n",
       "      <td>helpful</td>\n",
       "      <td>NaN</td>\n",
       "      <td>NaN</td>\n",
       "    </tr>\n",
       "    <tr>\n",
       "      <th>21</th>\n",
       "      <td>patience</td>\n",
       "      <td>education</td>\n",
       "      <td>enviroment</td>\n",
       "      <td>NaN</td>\n",
       "      <td>personable</td>\n",
       "      <td>efficient</td>\n",
       "      <td>NaN</td>\n",
       "      <td>NaN</td>\n",
       "    </tr>\n",
       "    <tr>\n",
       "      <th>22</th>\n",
       "      <td>manner</td>\n",
       "      <td>triage</td>\n",
       "      <td>NaN</td>\n",
       "      <td>NaN</td>\n",
       "      <td>warm</td>\n",
       "      <td>beneficial</td>\n",
       "      <td>NaN</td>\n",
       "      <td>NaN</td>\n",
       "    </tr>\n",
       "    <tr>\n",
       "      <th>23</th>\n",
       "      <td>smiling</td>\n",
       "      <td>helpfulness</td>\n",
       "      <td>NaN</td>\n",
       "      <td>NaN</td>\n",
       "      <td>polite</td>\n",
       "      <td>skillful</td>\n",
       "      <td>NaN</td>\n",
       "      <td>NaN</td>\n",
       "    </tr>\n",
       "    <tr>\n",
       "      <th>24</th>\n",
       "      <td>smile</td>\n",
       "      <td>proficiency</td>\n",
       "      <td>NaN</td>\n",
       "      <td>NaN</td>\n",
       "      <td>welcoming</td>\n",
       "      <td>precise</td>\n",
       "      <td>NaN</td>\n",
       "      <td>NaN</td>\n",
       "    </tr>\n",
       "    <tr>\n",
       "      <th>25</th>\n",
       "      <td>handshake</td>\n",
       "      <td>experience</td>\n",
       "      <td>NaN</td>\n",
       "      <td>NaN</td>\n",
       "      <td>cordial</td>\n",
       "      <td>scientific</td>\n",
       "      <td>NaN</td>\n",
       "      <td>NaN</td>\n",
       "    </tr>\n",
       "    <tr>\n",
       "      <th>26</th>\n",
       "      <td>grin</td>\n",
       "      <td>methodology</td>\n",
       "      <td>NaN</td>\n",
       "      <td>NaN</td>\n",
       "      <td>cheerful</td>\n",
       "      <td>technical</td>\n",
       "      <td>NaN</td>\n",
       "      <td>NaN</td>\n",
       "    </tr>\n",
       "    <tr>\n",
       "      <th>27</th>\n",
       "      <td>hug</td>\n",
       "      <td>execution</td>\n",
       "      <td>NaN</td>\n",
       "      <td>NaN</td>\n",
       "      <td>charming</td>\n",
       "      <td>informative</td>\n",
       "      <td>NaN</td>\n",
       "      <td>NaN</td>\n",
       "    </tr>\n",
       "    <tr>\n",
       "      <th>28</th>\n",
       "      <td>scowl</td>\n",
       "      <td>precision</td>\n",
       "      <td>NaN</td>\n",
       "      <td>NaN</td>\n",
       "      <td>delightful</td>\n",
       "      <td>pharmacological</td>\n",
       "      <td>NaN</td>\n",
       "      <td>NaN</td>\n",
       "    </tr>\n",
       "    <tr>\n",
       "      <th>29</th>\n",
       "      <td>laughter</td>\n",
       "      <td>technique</td>\n",
       "      <td>NaN</td>\n",
       "      <td>NaN</td>\n",
       "      <td>hearty</td>\n",
       "      <td>insightful</td>\n",
       "      <td>NaN</td>\n",
       "      <td>NaN</td>\n",
       "    </tr>\n",
       "    <tr>\n",
       "      <th>30</th>\n",
       "      <td>expression</td>\n",
       "      <td>mastery</td>\n",
       "      <td>NaN</td>\n",
       "      <td>NaN</td>\n",
       "      <td>lively</td>\n",
       "      <td>observant</td>\n",
       "      <td>NaN</td>\n",
       "      <td>NaN</td>\n",
       "    </tr>\n",
       "    <tr>\n",
       "      <th>31</th>\n",
       "      <td>smirk</td>\n",
       "      <td>pharmacology</td>\n",
       "      <td>NaN</td>\n",
       "      <td>NaN</td>\n",
       "      <td>interpersonal</td>\n",
       "      <td>perceptive</td>\n",
       "      <td>NaN</td>\n",
       "      <td>NaN</td>\n",
       "    </tr>\n",
       "    <tr>\n",
       "      <th>32</th>\n",
       "      <td>tongue</td>\n",
       "      <td>method</td>\n",
       "      <td>NaN</td>\n",
       "      <td>NaN</td>\n",
       "      <td>smiley</td>\n",
       "      <td>effective</td>\n",
       "      <td>NaN</td>\n",
       "      <td>NaN</td>\n",
       "    </tr>\n",
       "    <tr>\n",
       "      <th>33</th>\n",
       "      <td>empathy</td>\n",
       "      <td>implementation</td>\n",
       "      <td>NaN</td>\n",
       "      <td>NaN</td>\n",
       "      <td>pleasurable</td>\n",
       "      <td>innovative</td>\n",
       "      <td>NaN</td>\n",
       "      <td>NaN</td>\n",
       "    </tr>\n",
       "    <tr>\n",
       "      <th>34</th>\n",
       "      <td>communicator</td>\n",
       "      <td>capability</td>\n",
       "      <td>NaN</td>\n",
       "      <td>NaN</td>\n",
       "      <td>nice</td>\n",
       "      <td>conservative</td>\n",
       "      <td>NaN</td>\n",
       "      <td>NaN</td>\n",
       "    </tr>\n",
       "    <tr>\n",
       "      <th>35</th>\n",
       "      <td>gentleness</td>\n",
       "      <td>effectiveness</td>\n",
       "      <td>NaN</td>\n",
       "      <td>NaN</td>\n",
       "      <td>gracious</td>\n",
       "      <td>NaN</td>\n",
       "      <td>NaN</td>\n",
       "      <td>NaN</td>\n",
       "    </tr>\n",
       "    <tr>\n",
       "      <th>36</th>\n",
       "      <td>thoughtfulness</td>\n",
       "      <td>therapist</td>\n",
       "      <td>NaN</td>\n",
       "      <td>NaN</td>\n",
       "      <td>thoughtful</td>\n",
       "      <td>NaN</td>\n",
       "      <td>NaN</td>\n",
       "      <td>NaN</td>\n",
       "    </tr>\n",
       "    <tr>\n",
       "      <th>37</th>\n",
       "      <td>friendliness</td>\n",
       "      <td>relief</td>\n",
       "      <td>NaN</td>\n",
       "      <td>NaN</td>\n",
       "      <td>listening</td>\n",
       "      <td>NaN</td>\n",
       "      <td>NaN</td>\n",
       "      <td>NaN</td>\n",
       "    </tr>\n",
       "    <tr>\n",
       "      <th>38</th>\n",
       "      <td>sweetness</td>\n",
       "      <td>NaN</td>\n",
       "      <td>NaN</td>\n",
       "      <td>NaN</td>\n",
       "      <td>considerate</td>\n",
       "      <td>NaN</td>\n",
       "      <td>NaN</td>\n",
       "      <td>NaN</td>\n",
       "    </tr>\n",
       "    <tr>\n",
       "      <th>39</th>\n",
       "      <td>generosity</td>\n",
       "      <td>NaN</td>\n",
       "      <td>NaN</td>\n",
       "      <td>NaN</td>\n",
       "      <td>conscientious</td>\n",
       "      <td>NaN</td>\n",
       "      <td>NaN</td>\n",
       "      <td>NaN</td>\n",
       "    </tr>\n",
       "    <tr>\n",
       "      <th>40</th>\n",
       "      <td>humbleness</td>\n",
       "      <td>NaN</td>\n",
       "      <td>NaN</td>\n",
       "      <td>NaN</td>\n",
       "      <td>NaN</td>\n",
       "      <td>NaN</td>\n",
       "      <td>NaN</td>\n",
       "      <td>NaN</td>\n",
       "    </tr>\n",
       "    <tr>\n",
       "      <th>41</th>\n",
       "      <td>humility</td>\n",
       "      <td>NaN</td>\n",
       "      <td>NaN</td>\n",
       "      <td>NaN</td>\n",
       "      <td>NaN</td>\n",
       "      <td>NaN</td>\n",
       "      <td>NaN</td>\n",
       "      <td>NaN</td>\n",
       "    </tr>\n",
       "    <tr>\n",
       "      <th>42</th>\n",
       "      <td>listener</td>\n",
       "      <td>NaN</td>\n",
       "      <td>NaN</td>\n",
       "      <td>NaN</td>\n",
       "      <td>NaN</td>\n",
       "      <td>NaN</td>\n",
       "      <td>NaN</td>\n",
       "      <td>NaN</td>\n",
       "    </tr>\n",
       "  </tbody>\n",
       "</table>\n",
       "</div>"
      ],
      "text/plain": [
       "       interaction        technique   enviroment  administration  \\\n",
       "0          empathy          outcome     facility     arrangemnet   \n",
       "1           manner           result   atmosphere      timeliness   \n",
       "2   responsiveness           expert     tangible         waiting   \n",
       "3     relationship        expertise  surrounding     appointment   \n",
       "4        interplay  professionalism        smell       operation   \n",
       "5    communication       competency       layout           admin   \n",
       "6         attitude       competence        color  administration   \n",
       "7         behavior      reliability         look    coordination   \n",
       "8      interaction        assurance   decoration    organization   \n",
       "9        mutuality        knowledge     lighting     integration   \n",
       "10           trust    qualification      parking         support   \n",
       "11      friendship            skill  temperature       furniture   \n",
       "12       attention          ability      seating      management   \n",
       "13          warmth         standard      privacy      efficiency   \n",
       "14         respect        treatment   decoration          system   \n",
       "15        kindness        diagnosis     location   accessibility   \n",
       "16     willingness      improvement  surrounding     convenience   \n",
       "17        courtesy         efficacy   instrument            cost   \n",
       "18      compassion          therapy      blanket      continuity   \n",
       "19         rapport       prevention     lollipop   affordability   \n",
       "20   attentiveness        prognosis         tool         billing   \n",
       "21        patience        education   enviroment             NaN   \n",
       "22          manner           triage          NaN             NaN   \n",
       "23         smiling      helpfulness          NaN             NaN   \n",
       "24           smile      proficiency          NaN             NaN   \n",
       "25       handshake       experience          NaN             NaN   \n",
       "26            grin      methodology          NaN             NaN   \n",
       "27             hug        execution          NaN             NaN   \n",
       "28           scowl        precision          NaN             NaN   \n",
       "29        laughter        technique          NaN             NaN   \n",
       "30      expression          mastery          NaN             NaN   \n",
       "31           smirk     pharmacology          NaN             NaN   \n",
       "32          tongue           method          NaN             NaN   \n",
       "33         empathy   implementation          NaN             NaN   \n",
       "34    communicator       capability          NaN             NaN   \n",
       "35      gentleness    effectiveness          NaN             NaN   \n",
       "36  thoughtfulness        therapist          NaN             NaN   \n",
       "37    friendliness           relief          NaN             NaN   \n",
       "38       sweetness              NaN          NaN             NaN   \n",
       "39      generosity              NaN          NaN             NaN   \n",
       "40      humbleness              NaN          NaN             NaN   \n",
       "41        humility              NaN          NaN             NaN   \n",
       "42        listener              NaN          NaN             NaN   \n",
       "\n",
       "     interpersonal        technical  enviromental  administrative  \n",
       "0       responsive           expert   comfortable          timely  \n",
       "1         reliable     professional        smelly       organized  \n",
       "2     enthusiastic        competent         clean           admin  \n",
       "3       supportive    knowledgeable       sterile         managed  \n",
       "4           caring        qualified    decorative       efficient  \n",
       "5       empathetic          skilled         clean      accessable  \n",
       "6      interactive         standard  enviromental          costly  \n",
       "7         friendly             able           NaN      affordable  \n",
       "8         pleasant       productive           NaN  administrative  \n",
       "9       behavioral          working           NaN             NaN  \n",
       "10     encouraging       diagnostic           NaN             NaN  \n",
       "11  understandable       diagnosing           NaN             NaN  \n",
       "12       concerned          trained           NaN             NaN  \n",
       "13         warming      welltrained           NaN             NaN  \n",
       "14      respectful      efficacious           NaN             NaN  \n",
       "15            kind      therapeutic           NaN             NaN  \n",
       "16       courteous     welleducated           NaN             NaN  \n",
       "17   compassionate       preventive           NaN             NaN  \n",
       "18       attentive       proficient           NaN             NaN  \n",
       "19         amiable      experienced           NaN             NaN  \n",
       "20       courteous          helpful           NaN             NaN  \n",
       "21      personable        efficient           NaN             NaN  \n",
       "22            warm       beneficial           NaN             NaN  \n",
       "23          polite         skillful           NaN             NaN  \n",
       "24       welcoming          precise           NaN             NaN  \n",
       "25         cordial       scientific           NaN             NaN  \n",
       "26        cheerful        technical           NaN             NaN  \n",
       "27        charming      informative           NaN             NaN  \n",
       "28      delightful  pharmacological           NaN             NaN  \n",
       "29          hearty       insightful           NaN             NaN  \n",
       "30          lively        observant           NaN             NaN  \n",
       "31   interpersonal       perceptive           NaN             NaN  \n",
       "32          smiley        effective           NaN             NaN  \n",
       "33     pleasurable       innovative           NaN             NaN  \n",
       "34            nice     conservative           NaN             NaN  \n",
       "35        gracious              NaN           NaN             NaN  \n",
       "36      thoughtful              NaN           NaN             NaN  \n",
       "37       listening              NaN           NaN             NaN  \n",
       "38     considerate              NaN           NaN             NaN  \n",
       "39   conscientious              NaN           NaN             NaN  \n",
       "40             NaN              NaN           NaN             NaN  \n",
       "41             NaN              NaN           NaN             NaN  \n",
       "42             NaN              NaN           NaN             NaN  "
      ]
     },
     "execution_count": 13,
     "metadata": {},
     "output_type": "execute_result"
    }
   ],
   "source": [
    "# attribute words collected\n",
    "Vocabulary=pd.read_excel('./data/Vocabulary.xlsx', na_values=\"\")\n",
    "Vocabulary"
   ]
  },
  {
   "cell_type": "code",
   "execution_count": 14,
   "metadata": {
    "collapsed": true,
    "hidden": true
   },
   "outputs": [],
   "source": [
    "# only keep words existing in our model\n",
    "def set_filter(att_set):\n",
    "    new_set=[]\n",
    "    del_word=[]\n",
    "    for word in att_set:\n",
    "        try:\n",
    "            if model[word].all():\n",
    "                new_set.append(word)\n",
    "        except KeyError:\n",
    "            del_word.append(word)\n",
    "    print(del_word)\n",
    "    return set(new_set)"
   ]
  },
  {
   "cell_type": "code",
   "execution_count": 15,
   "metadata": {
    "hidden": true
   },
   "outputs": [
    {
     "name": "stdout",
     "output_type": "stream",
     "text": [
      "['mutuality']\n",
      "[]\n",
      "[]\n",
      "[]\n",
      "40 38 39 35\n"
     ]
    }
   ],
   "source": [
    "# final attribute word sets\n",
    "att_n_1= set(Vocabulary.interaction.dropna())\n",
    "att_n_2= set(Vocabulary.technique.dropna())\n",
    "att_adj_1= set(Vocabulary.interpersonal.dropna())\n",
    "att_adj_2= set(Vocabulary.technical.dropna())\n",
    "\n",
    "att_n_1=set_filter(att_n_1)\n",
    "att_n_2=set_filter(att_n_2)\n",
    "att_adj_1=set_filter(att_adj_1)\n",
    "att_adj_2=set_filter(att_adj_2)\n",
    "\n",
    "print(len(att_n_1),len(att_n_2),len(att_adj_1),len(att_adj_2))"
   ]
  },
  {
   "cell_type": "code",
   "execution_count": 16,
   "metadata": {
    "hidden": true
   },
   "outputs": [
    {
     "name": "stdout",
     "output_type": "stream",
     "text": [
      "40 39 79\n",
      "38 35 71\n"
     ]
    }
   ],
   "source": [
    "# combine adj. and n. into one set\n",
    "att_1=att_n_1.union(att_adj_1)\n",
    "att_2=att_n_2.union(att_adj_2)\n",
    "print(len(att_n_1), len(att_adj_1), len(att_1))\n",
    "print(len(att_n_2), len(att_adj_2), len(att_2))"
   ]
  },
  {
   "cell_type": "markdown",
   "metadata": {
    "heading_collapsed": true
   },
   "source": [
    "## Method 1: word analogies generated by model\n",
    "- __analogy__ 'he' + (adj.) - 'she' = ? |  __converse__ 'she' + (adj.) - 'he' = ?\n",
    "- __analogy__ 'his' + (noun) - 'her' = ? |  __converse__ 'her' + (noun) - 'his' = ?\n",
    "- __To be noticed: Results heavily relies on the choice of keyword pairs__"
   ]
  },
  {
   "cell_type": "markdown",
   "metadata": {
    "hidden": true
   },
   "source": [
    "### Pattern 1: analogy  'he' + (adj.) - 'she' = ?  |  converse 'she' + (adj.) - 'he' = ?\n",
    "- attribute_words_adj_1 = {'nice','friendly','courteous','thoughtful','polite'}\n",
    "- attribute_words_adj_2 = {'professional',__'effective'__,__'competent'__,'skilled',__'knowledgeable'__}"
   ]
  },
  {
   "cell_type": "markdown",
   "metadata": {
    "heading_collapsed": true,
    "hidden": true
   },
   "source": [
    "#### attribute words (adj) interpersonal (1-5)"
   ]
  },
  {
   "cell_type": "code",
   "execution_count": 316,
   "metadata": {
    "hidden": true,
    "scrolled": false
   },
   "outputs": [
    {
     "data": {
      "text/plain": [
       "[('likable', 0.5753893256187439),\n",
       " ('cool', 0.5695706605911255),\n",
       " ('polite', 0.5640220642089844),\n",
       " ('likeable', 0.5541913509368896),\n",
       " ('friendly', 0.5536156892776489),\n",
       " ('pleasant', 0.5103829503059387),\n",
       " ('charming', 0.4990135431289673),\n",
       " ('handsome', 0.4929262101650238),\n",
       " ('talkative', 0.4812774956226349),\n",
       " ('cordial', 0.47065290808677673)]"
      ]
     },
     "execution_count": 316,
     "metadata": {},
     "output_type": "execute_result"
    },
    {
     "data": {
      "text/plain": [
       "[('sweet', 0.7454693913459778),\n",
       " ('friendly', 0.6398050785064697),\n",
       " ('lovely', 0.6141872406005859),\n",
       " ('pleasant', 0.6100215911865234),\n",
       " ('polite', 0.5795028209686279),\n",
       " ('welcoming', 0.5432094931602478),\n",
       " ('helpful', 0.5264031887054443),\n",
       " ('unfriendly', 0.5235804319381714),\n",
       " ('delightful', 0.508702278137207),\n",
       " ('cheery', 0.5075200796127319)]"
      ]
     },
     "execution_count": 316,
     "metadata": {},
     "output_type": "execute_result"
    }
   ],
   "source": [
    "# (1)\n",
    "model.wv.most_similar(positive=['he', 'nice'], negative=['she'], topn=10)\n",
    "# converse\n",
    "model.wv.most_similar(positive=['she', 'nice'], negative=['he'], topn=10)"
   ]
  },
  {
   "cell_type": "code",
   "execution_count": 320,
   "metadata": {
    "hidden": true
   },
   "outputs": [
    {
     "data": {
      "text/plain": [
       "[('polite', 0.7373115420341492),\n",
       " ('courteous', 0.7035645246505737),\n",
       " ('cordial', 0.6462650299072266),\n",
       " ('nice', 0.630955696105957),\n",
       " ('pleasant', 0.6214845776557922),\n",
       " ('accommodating', 0.5908196568489075),\n",
       " ('welcoming', 0.5776514410972595),\n",
       " ('helpful', 0.5761107206344604),\n",
       " ('efficient', 0.5692339539527893),\n",
       " ('personable', 0.5680350661277771)]"
      ]
     },
     "execution_count": 320,
     "metadata": {},
     "output_type": "execute_result"
    },
    {
     "data": {
      "text/plain": [
       "[('polite', 0.6983291506767273),\n",
       " ('courteous', 0.6801798343658447),\n",
       " ('pleasant', 0.670880913734436),\n",
       " ('helpful', 0.664108395576477),\n",
       " ('efficient', 0.6403647661209106),\n",
       " ('welcoming', 0.6318656802177429),\n",
       " ('sweet', 0.6254236698150635),\n",
       " ('cheerful', 0.6135001182556152),\n",
       " ('accommodating', 0.5995230078697205),\n",
       " ('cordial', 0.594363272190094)]"
      ]
     },
     "execution_count": 320,
     "metadata": {},
     "output_type": "execute_result"
    }
   ],
   "source": [
    "# (2)\n",
    "model.wv.most_similar(positive=['he', 'friendly'], negative=['she'], topn=10)\n",
    "model.wv.most_similar(positive=['she', 'friendly'], negative=['he'], topn=10)"
   ]
  },
  {
   "cell_type": "code",
   "execution_count": 322,
   "metadata": {
    "hidden": true
   },
   "outputs": [
    {
     "data": {
      "text/plain": [
       "[('polite', 0.7063361406326294),\n",
       " ('friendly', 0.6599416136741638),\n",
       " ('cordial', 0.6510959267616272),\n",
       " ('efficient', 0.596300482749939),\n",
       " ('accommodating', 0.5921949744224548),\n",
       " ('helpful', 0.5637730360031128),\n",
       " ('corteous', 0.5395034551620483),\n",
       " ('pleasant', 0.5393297672271729),\n",
       " ('personable', 0.5384308695793152),\n",
       " ('punctual', 0.5360861420631409)]"
      ]
     },
     "execution_count": 322,
     "metadata": {},
     "output_type": "execute_result"
    },
    {
     "data": {
      "text/plain": [
       "[('friendly', 0.7223407030105591),\n",
       " ('polite', 0.6985869407653809),\n",
       " ('efficient', 0.6931324601173401),\n",
       " ('helpful', 0.6785531044006348),\n",
       " ('punctual', 0.6426445841789246),\n",
       " ('prompt', 0.6317688822746277),\n",
       " ('accommodating', 0.6264864802360535),\n",
       " ('attentive', 0.6263617873191833),\n",
       " ('cordial', 0.6258475184440613),\n",
       " ('pleasant', 0.6174027323722839)]"
      ]
     },
     "execution_count": 322,
     "metadata": {},
     "output_type": "execute_result"
    }
   ],
   "source": [
    "# (3)\n",
    "model.wv.most_similar(positive=['he', 'courteous'], negative=['she'], topn=10)\n",
    "model.wv.most_similar(positive=['she', 'courteous'], negative=['he'], topn=10)"
   ]
  },
  {
   "cell_type": "code",
   "execution_count": 323,
   "metadata": {
    "hidden": true,
    "scrolled": false
   },
   "outputs": [
    {
     "data": {
      "text/plain": [
       "[('compassionate', 0.644517183303833),\n",
       " ('considerate', 0.6329843997955322),\n",
       " ('humble', 0.6264907717704773),\n",
       " ('precise', 0.622470498085022),\n",
       " ('conscientious', 0.6113719344139099),\n",
       " ('forthright', 0.5942790508270264),\n",
       " ('perceptive', 0.5912184119224548),\n",
       " ('methodical', 0.5905348658561707),\n",
       " ('intelligent', 0.584755003452301),\n",
       " ('empathetic', 0.5834020972251892)]"
      ]
     },
     "execution_count": 323,
     "metadata": {},
     "output_type": "execute_result"
    },
    {
     "data": {
      "text/plain": [
       "[('insightful', 0.7054070830345154),\n",
       " ('empathetic', 0.7039657831192017),\n",
       " ('compassionate', 0.6779045462608337),\n",
       " ('intuitive', 0.6384857892990112),\n",
       " ('nonjudgmental', 0.6344080567359924),\n",
       " ('conscientious', 0.632402777671814),\n",
       " ('attentive', 0.6247828602790833),\n",
       " ('considerate', 0.6242361664772034),\n",
       " ('thorough', 0.6112649440765381),\n",
       " ('observant', 0.610867440700531)]"
      ]
     },
     "execution_count": 323,
     "metadata": {},
     "output_type": "execute_result"
    }
   ],
   "source": [
    "# (4)\n",
    "model.wv.most_similar(positive=['he', 'thoughtful'], negative=['she'], topn=10)\n",
    "model.wv.most_similar(positive=['she', 'thoughtful'], negative=['he'], topn=10)"
   ]
  },
  {
   "cell_type": "code",
   "execution_count": 321,
   "metadata": {
    "hidden": true
   },
   "outputs": [
    {
     "data": {
      "text/plain": [
       "[('courteous', 0.6953533291816711),\n",
       " ('cordial', 0.6845788359642029),\n",
       " ('friendly', 0.6820337772369385),\n",
       " ('helpful', 0.5947322845458984),\n",
       " ('accommodating', 0.5925295352935791),\n",
       " ('nice', 0.5891480445861816),\n",
       " ('personable', 0.5729230046272278),\n",
       " ('efficient', 0.5690980553627014),\n",
       " ('welcoming', 0.5574564337730408),\n",
       " ('pleasant', 0.5551237463951111)]"
      ]
     },
     "execution_count": 321,
     "metadata": {},
     "output_type": "execute_result"
    },
    {
     "data": {
      "text/plain": [
       "[('friendly', 0.7520256042480469),\n",
       " ('helpful', 0.7163360118865967),\n",
       " ('courteous', 0.7095066905021667),\n",
       " ('efficient', 0.6730093955993652),\n",
       " ('cordial', 0.6663464903831482),\n",
       " ('punctual', 0.651955246925354),\n",
       " ('welcoming', 0.6444542407989502),\n",
       " ('sweet', 0.6435736417770386),\n",
       " ('pleasant', 0.6395499110221863),\n",
       " ('accommodating', 0.6335143446922302)]"
      ]
     },
     "execution_count": 321,
     "metadata": {},
     "output_type": "execute_result"
    }
   ],
   "source": [
    "# (5)\n",
    "model.wv.most_similar(positive=['he', 'polite'], negative=['she'], topn=10)\n",
    "model.wv.most_similar(positive=['she', 'polite'], negative=['he'], topn=10)"
   ]
  },
  {
   "cell_type": "markdown",
   "metadata": {
    "heading_collapsed": true,
    "hidden": true
   },
   "source": [
    "#### attribute words (adj) technical (6-10)"
   ]
  },
  {
   "cell_type": "code",
   "execution_count": 324,
   "metadata": {
    "hidden": true,
    "scrolled": false
   },
   "outputs": [
    {
     "data": {
      "text/plain": [
       "[('humble', 0.570516049861908),\n",
       " ('polite', 0.557039201259613),\n",
       " ('personable', 0.5469394326210022),\n",
       " ('respectful', 0.5403343439102173),\n",
       " ('efficient', 0.539884626865387),\n",
       " ('considerate', 0.5393913984298706),\n",
       " ('knowledgeable', 0.5271739959716797),\n",
       " ('affable', 0.5208578109741211),\n",
       " ('courteous', 0.5169792771339417),\n",
       " ('cordial', 0.5133152604103088)]"
      ]
     },
     "execution_count": 324,
     "metadata": {},
     "output_type": "execute_result"
    },
    {
     "data": {
      "text/plain": [
       "[('efficient', 0.6268216967582703),\n",
       " ('attentive', 0.6003647446632385),\n",
       " ('warm', 0.5986876487731934),\n",
       " ('respectful', 0.5975770354270935),\n",
       " ('personable', 0.5875162482261658),\n",
       " ('knowledgeable', 0.5750784873962402),\n",
       " ('approachable', 0.5695705413818359),\n",
       " ('helpful', 0.5691096186637878),\n",
       " ('compassionate', 0.5613157153129578),\n",
       " ('considerate', 0.557100772857666)]"
      ]
     },
     "execution_count": 324,
     "metadata": {},
     "output_type": "execute_result"
    }
   ],
   "source": [
    "# (6)\n",
    "model.wv.most_similar(positive=['he', 'professional'], negative=['she'], topn=10)\n",
    "model.wv.most_similar(positive=['she', 'professional'], negative=['he'], topn=10)"
   ]
  },
  {
   "cell_type": "code",
   "execution_count": 325,
   "metadata": {
    "hidden": true,
    "scrolled": false
   },
   "outputs": [
    {
     "data": {
      "text/plain": [
       "[('efficacious', 0.5925412178039551),\n",
       " ('conservative', 0.5665525197982788),\n",
       " ('beneficial', 0.5654409527778625),\n",
       " ('prolotherapy', 0.5450719594955444),\n",
       " ('innovative', 0.5323076248168945),\n",
       " ('noninvasive', 0.5256170034408569),\n",
       " ('progressive', 0.5247855186462402),\n",
       " ('agressive', 0.5162532925605774),\n",
       " ('precise', 0.5111181735992432),\n",
       " ('affordable', 0.5066229104995728)]"
      ]
     },
     "execution_count": 325,
     "metadata": {},
     "output_type": "execute_result"
    },
    {
     "data": {
      "text/plain": [
       "[('economical', 0.5453357696533203),\n",
       " ('insightful', 0.5375237464904785),\n",
       " ('practical', 0.5225343704223633),\n",
       " ('proactive', 0.5217616558074951),\n",
       " ('openminded', 0.5201067924499512),\n",
       " ('intuitive', 0.5199506878852844),\n",
       " ('comprehensive', 0.5152804851531982),\n",
       " ('antiag', 0.5131298899650574),\n",
       " ('reliable', 0.5104416012763977),\n",
       " ('assertive', 0.5080427527427673)]"
      ]
     },
     "execution_count": 325,
     "metadata": {},
     "output_type": "execute_result"
    }
   ],
   "source": [
    "# (7)\n",
    "model.wv.most_similar(positive=['he', 'effective'], negative=['she'], topn=10)\n",
    "model.wv.most_similar(positive=['she', 'effective'], negative=['he'], topn=10)"
   ]
  },
  {
   "cell_type": "code",
   "execution_count": 326,
   "metadata": {
    "hidden": true,
    "scrolled": false
   },
   "outputs": [
    {
     "data": {
      "text/plain": [
       "[('skilled', 0.6980673670768738),\n",
       " ('capable', 0.6786777377128601),\n",
       " ('proficient', 0.6432988047599792),\n",
       " ('talented', 0.6312669515609741),\n",
       " ('likeable', 0.6094322800636292),\n",
       " ('experienced', 0.603441059589386),\n",
       " ('humble', 0.6018375158309937),\n",
       " ('skillful', 0.5979371666908264),\n",
       " ('intelligent', 0.5959039330482483),\n",
       " ('knowledgeable', 0.5694893598556519)]"
      ]
     },
     "execution_count": 326,
     "metadata": {},
     "output_type": "execute_result"
    },
    {
     "data": {
      "text/plain": [
       "[('capable', 0.6236226558685303),\n",
       " ('knowledgeable', 0.6198654174804688),\n",
       " ('intelligent', 0.6132165789604187),\n",
       " ('reliable', 0.6031516790390015),\n",
       " ('proficient', 0.5963271260261536),\n",
       " ('experienced', 0.5938717722892761),\n",
       " ('empathetic', 0.5903016924858093),\n",
       " ('conscientious', 0.5896420478820801),\n",
       " ('approachable', 0.5860242247581482),\n",
       " ('compassionate', 0.5844358801841736)]"
      ]
     },
     "execution_count": 326,
     "metadata": {},
     "output_type": "execute_result"
    }
   ],
   "source": [
    "# (8)\n",
    "model.wv.most_similar(positive=['he', 'competent'], negative=['she'], topn=10)\n",
    "model.wv.most_similar(positive=['she', 'competent'], negative=['he'], topn=10)"
   ]
  },
  {
   "cell_type": "code",
   "execution_count": 327,
   "metadata": {
    "hidden": true
   },
   "outputs": [
    {
     "data": {
      "text/plain": [
       "[('skillful', 0.6912488341331482),\n",
       " ('talented', 0.6832833290100098),\n",
       " ('gifted', 0.6398066878318787),\n",
       " ('brilliant', 0.5831794738769531),\n",
       " ('proficient', 0.5742428302764893),\n",
       " ('competent', 0.5738006830215454),\n",
       " ('humble', 0.5737603902816772),\n",
       " ('capable', 0.5659710168838501),\n",
       " ('experienced', 0.5465304255485535),\n",
       " ('masterful', 0.5369408130645752)]"
      ]
     },
     "execution_count": 327,
     "metadata": {},
     "output_type": "execute_result"
    },
    {
     "data": {
      "text/plain": [
       "[('competent', 0.6718350648880005),\n",
       " ('experienced', 0.6145303249359131),\n",
       " ('proficient', 0.6063436269760132),\n",
       " ('skillful', 0.5931771397590637),\n",
       " ('capable', 0.5892971754074097),\n",
       " ('talented', 0.5890049338340759),\n",
       " ('qualified', 0.586457371711731),\n",
       " ('intelligent', 0.5837894678115845),\n",
       " ('gifted', 0.5480527877807617),\n",
       " ('compassionate', 0.544803261756897)]"
      ]
     },
     "execution_count": 327,
     "metadata": {},
     "output_type": "execute_result"
    }
   ],
   "source": [
    "# (9)\n",
    "model.wv.most_similar(positive=['he', 'skilled'], negative=['she'], topn=10)\n",
    "model.wv.most_similar(positive=['she', 'skilled'], negative=['he'], topn=10)"
   ]
  },
  {
   "cell_type": "code",
   "execution_count": 328,
   "metadata": {
    "hidden": true,
    "scrolled": false
   },
   "outputs": [
    {
     "data": {
      "text/plain": [
       "[('personable', 0.6437782645225525),\n",
       " ('intelligent', 0.6355828642845154),\n",
       " ('humble', 0.5993810296058655),\n",
       " ('competent', 0.5951390862464905),\n",
       " ('likeable', 0.5922819375991821),\n",
       " ('approachable', 0.5755761861801147),\n",
       " ('conscientious', 0.572158694267273),\n",
       " ('compassionate', 0.5716752409934998),\n",
       " ('smart', 0.5642468929290771),\n",
       " ('informative', 0.5628517270088196)]"
      ]
     },
     "execution_count": 328,
     "metadata": {},
     "output_type": "execute_result"
    },
    {
     "data": {
      "text/plain": [
       "[('personable', 0.6683598756790161),\n",
       " ('thorough', 0.639936625957489),\n",
       " ('approachable', 0.6396913528442383),\n",
       " ('intelligent', 0.6352032423019409),\n",
       " ('attentive', 0.6290909051895142),\n",
       " ('compassionate', 0.6201356649398804),\n",
       " ('empathetic', 0.6155948638916016),\n",
       " ('thourough', 0.6096585392951965),\n",
       " ('thoughtful', 0.6072746515274048),\n",
       " ('conscientious', 0.6059531569480896)]"
      ]
     },
     "execution_count": 328,
     "metadata": {},
     "output_type": "execute_result"
    }
   ],
   "source": [
    "# (10)\n",
    "model.wv.most_similar(positive=['he', 'knowledgeable'], negative=['she'], topn=10)\n",
    "model.wv.most_similar(positive=['she', 'knowledgeable'], negative=['he'], topn=10)"
   ]
  },
  {
   "cell_type": "markdown",
   "metadata": {
    "hidden": true
   },
   "source": [
    "### Pattern 2: analogy 'his' + (noun) - 'her' = ?  |  converse 'her' + (noun) - 'his' = ?\n",
    "- attribute_words_n_1 = {'smiling','warmth','empathy','manner',__'patience'__}\n",
    "- attribute_words_n_2 = {__'technique'__,'methodology',__'execution'__,'competence','result'}"
   ]
  },
  {
   "cell_type": "markdown",
   "metadata": {
    "heading_collapsed": true,
    "hidden": true
   },
   "source": [
    "#### attribute words (noun) interpersonal (11-15)"
   ]
  },
  {
   "cell_type": "code",
   "execution_count": 329,
   "metadata": {
    "hidden": true,
    "scrolled": false
   },
   "outputs": [
    {
     "data": {
      "text/plain": [
       "[('cheerful', 0.538101077079773),\n",
       " ('smiley', 0.5111837983131409),\n",
       " ('spotless', 0.49080124497413635),\n",
       " ('cheery', 0.48590290546417236),\n",
       " ('immaculate', 0.46739456057548523),\n",
       " ('cordial', 0.46713095903396606),\n",
       " ('welcoming', 0.46486133337020874),\n",
       " ('mehis', 0.45859459042549133),\n",
       " ('groovy', 0.45831525325775146),\n",
       " ('friendlydr', 0.45525670051574707)]"
      ]
     },
     "execution_count": 329,
     "metadata": {},
     "output_type": "execute_result"
    },
    {
     "data": {
      "text/plain": [
       "[('hygienist', 0.48793694376945496),\n",
       " ('lady', 0.4849381446838379),\n",
       " ('girl', 0.4846162796020508),\n",
       " ('smile', 0.47751131653785706),\n",
       " ('greeting', 0.4659428298473358),\n",
       " ('smiley', 0.4599030613899231),\n",
       " ('wolud', 0.45589035749435425),\n",
       " ('ma', 0.4465061128139496),\n",
       " ('np', 0.4403764307498932),\n",
       " ('alexa', 0.43450212478637695)]"
      ]
     },
     "execution_count": 329,
     "metadata": {},
     "output_type": "execute_result"
    }
   ],
   "source": [
    "# (11)\n",
    "model.wv.most_similar(positive=['his', 'smiling'], negative=['her'], topn=10)\n",
    "# converse\n",
    "model.wv.most_similar(positive=['her', 'smiling'], negative=['his'], topn=10)"
   ]
  },
  {
   "cell_type": "code",
   "execution_count": 330,
   "metadata": {
    "hidden": true,
    "scrolled": false
   },
   "outputs": [
    {
     "data": {
      "text/plain": [
       "[('gentleness', 0.6774899363517761),\n",
       " ('sincerity', 0.6729522347450256),\n",
       " ('humility', 0.665016233921051),\n",
       " ('professionalism', 0.6452186107635498),\n",
       " ('kindness', 0.6297380328178406),\n",
       " ('friendliness', 0.6288626194000244),\n",
       " ('perfectionism', 0.6247813701629639),\n",
       " ('thoughtfulness', 0.6242542862892151),\n",
       " ('generosity', 0.6197987794876099),\n",
       " ('politeness', 0.6110007762908936)]"
      ]
     },
     "execution_count": 330,
     "metadata": {},
     "output_type": "execute_result"
    },
    {
     "data": {
      "text/plain": [
       "[('coldness', 0.504183292388916),\n",
       " ('sensitivity', 0.5024848580360413),\n",
       " ('compassion', 0.4906674027442932),\n",
       " ('sincerity', 0.48857590556144714),\n",
       " ('empathy', 0.48008283972740173),\n",
       " ('gentleness', 0.47522401809692383),\n",
       " ('intelligence', 0.47333455085754395),\n",
       " ('personability', 0.4602939188480377),\n",
       " ('she', 0.45958322286605835),\n",
       " ('genuineness', 0.45948153734207153)]"
      ]
     },
     "execution_count": 330,
     "metadata": {},
     "output_type": "execute_result"
    }
   ],
   "source": [
    "# (12)\n",
    "model.wv.most_similar(positive=['his', 'warmth'], negative=['her'], topn=10)\n",
    "model.wv.most_similar(positive=['her', 'warmth'], negative=['his'], topn=10)"
   ]
  },
  {
   "cell_type": "code",
   "execution_count": 331,
   "metadata": {
    "hidden": true,
    "scrolled": false
   },
   "outputs": [
    {
     "data": {
      "text/plain": [
       "[('compassion', 0.6661914587020874),\n",
       " ('humility', 0.6226228475570679),\n",
       " ('integrity', 0.6125585436820984),\n",
       " ('humanity', 0.5870400071144104),\n",
       " ('sincerity', 0.5741028785705566),\n",
       " ('politeness', 0.5623422265052795),\n",
       " ('display', 0.5529748797416687),\n",
       " ('generosity', 0.5511346459388733),\n",
       " ('tact', 0.5500410795211792),\n",
       " ('gentleness', 0.5438867211341858)]"
      ]
     },
     "execution_count": 331,
     "metadata": {},
     "output_type": "execute_result"
    },
    {
     "data": {
      "text/plain": [
       "[('sympathy', 0.6213557720184326),\n",
       " ('compassion', 0.6207326650619507),\n",
       " ('tact', 0.5672049522399902),\n",
       " ('emotion', 0.5317968130111694),\n",
       " ('sensitivity', 0.5317386984825134),\n",
       " ('patience', 0.5086492896080017),\n",
       " ('thereof', 0.48057225346565247),\n",
       " ('she', 0.46320682764053345),\n",
       " ('disdain', 0.461967408657074),\n",
       " ('impatience', 0.45820391178131104)]"
      ]
     },
     "execution_count": 331,
     "metadata": {},
     "output_type": "execute_result"
    }
   ],
   "source": [
    "# (13)\n",
    "model.wv.most_similar(positive=['his', 'empathy'], negative=['her'], topn=10)\n",
    "model.wv.most_similar(positive=['her', 'empathy'], negative=['his'], topn=10)"
   ]
  },
  {
   "cell_type": "code",
   "execution_count": 332,
   "metadata": {
    "hidden": true,
    "scrolled": false
   },
   "outputs": [
    {
     "data": {
      "text/plain": [
       "[('mannerism', 0.6578498482704163),\n",
       " ('mannerfriendly', 0.6566104292869568),\n",
       " ('mannerkind', 0.6321370005607605),\n",
       " ('mannerthat', 0.61961430311203),\n",
       " ('mannereven', 0.6079037189483643),\n",
       " ('mannerreally', 0.6077778339385986),\n",
       " ('manneralthough', 0.6061023473739624),\n",
       " ('mannner', 0.6047405004501343),\n",
       " ('mannermy', 0.6007585525512695),\n",
       " ('mannersmy', 0.5940633416175842)]"
      ]
     },
     "execution_count": 332,
     "metadata": {},
     "output_type": "execute_result"
    },
    {
     "data": {
      "text/plain": [
       "[('mannergood', 0.5459598302841187),\n",
       " ('mannerspent', 0.5416707992553711),\n",
       " ('mannercar', 0.5355691313743591),\n",
       " ('nanner', 0.5312108397483826),\n",
       " ('mannerspend', 0.5300453305244446),\n",
       " ('mannerwas', 0.5298323035240173),\n",
       " ('mannersh', 0.5294790267944336),\n",
       " ('mannerwhat', 0.5286840796470642),\n",
       " ('msnner', 0.5267499089241028),\n",
       " ('mannerif', 0.5226318836212158)]"
      ]
     },
     "execution_count": 332,
     "metadata": {},
     "output_type": "execute_result"
    }
   ],
   "source": [
    "# (14)\n",
    "model.wv.most_similar(positive=['his', 'manner'], negative=['her'], topn=10)\n",
    "model.wv.most_similar(positive=['her', 'manner'], negative=['his'], topn=10)"
   ]
  },
  {
   "cell_type": "code",
   "execution_count": 333,
   "metadata": {
    "hidden": true,
    "scrolled": false
   },
   "outputs": [
    {
     "data": {
      "text/plain": [
       "[('humility', 0.6150791645050049),\n",
       " ('kindness', 0.5952591896057129),\n",
       " ('generosity', 0.590259313583374),\n",
       " ('gentleness', 0.589596152305603),\n",
       " ('compassion', 0.5854233503341675),\n",
       " ('sincerity', 0.5794406533241272),\n",
       " ('humanity', 0.5671722292900085),\n",
       " ('thoughtfulness', 0.5571594834327698),\n",
       " ('professionalism', 0.551396369934082),\n",
       " ('integrity', 0.5442808270454407)]"
      ]
     },
     "execution_count": 333,
     "metadata": {},
     "output_type": "execute_result"
    },
    {
     "data": {
      "text/plain": [
       "[('compassion', 0.5383747220039368),\n",
       " ('empathy', 0.508453369140625),\n",
       " ('patientsshe', 0.5064065456390381),\n",
       " ('sensitivity', 0.47917377948760986),\n",
       " ('sympathy', 0.45107731223106384),\n",
       " ('finesse', 0.44842568039894104),\n",
       " ('patien', 0.44740718603134155),\n",
       " ('patient', 0.4457676410675049),\n",
       " ('she', 0.4427374005317688),\n",
       " ('tact', 0.4299698770046234)]"
      ]
     },
     "execution_count": 333,
     "metadata": {},
     "output_type": "execute_result"
    }
   ],
   "source": [
    "# (15)\n",
    "model.wv.most_similar(positive=['his', 'patience'], negative=['her'], topn=10)\n",
    "model.wv.most_similar(positive=['her', 'patience'], negative=['his'], topn=10)"
   ]
  },
  {
   "cell_type": "markdown",
   "metadata": {
    "heading_collapsed": true,
    "hidden": true
   },
   "source": [
    "#### attribute words (noun) technical (16-20)"
   ]
  },
  {
   "cell_type": "code",
   "execution_count": 334,
   "metadata": {
    "hidden": true,
    "scrolled": false
   },
   "outputs": [
    {
     "data": {
      "text/plain": [
       "[('precision', 0.596350371837616),\n",
       " ('technology', 0.5933947563171387),\n",
       " ('innovative', 0.5781473517417908),\n",
       " ('surgical', 0.5646595358848572),\n",
       " ('artistry', 0.554171085357666),\n",
       " ('execution', 0.5484579205513),\n",
       " ('stateofthe', 0.5413083434104919),\n",
       " ('cuttingedge', 0.5402004718780518),\n",
       " ('methodology', 0.5383870005607605),\n",
       " ('aesthetic', 0.5366421341896057)]"
      ]
     },
     "execution_count": 334,
     "metadata": {},
     "output_type": "execute_result"
    },
    {
     "data": {
      "text/plain": [
       "[('method', 0.5395215749740601),\n",
       " ('product', 0.5057425498962402),\n",
       " ('technology', 0.5006154775619507),\n",
       " ('supplement', 0.4911513924598694),\n",
       " ('antiaging', 0.48409947752952576),\n",
       " ('tool', 0.48200881481170654),\n",
       " ('hrt', 0.48063504695892334),\n",
       " ('nutrient', 0.4795064926147461),\n",
       " ('nutritional', 0.4759272336959839),\n",
       " ('bioidentical', 0.46592050790786743)]"
      ]
     },
     "execution_count": 334,
     "metadata": {},
     "output_type": "execute_result"
    }
   ],
   "source": [
    "# (16)\n",
    "model.wv.most_similar(positive=['his', 'technique'], negative=['her'], topn=10)\n",
    "model.wv.most_similar(positive=['her', 'technique'], negative=['his'], topn=10)"
   ]
  },
  {
   "cell_type": "code",
   "execution_count": 335,
   "metadata": {
    "hidden": true,
    "scrolled": false
   },
   "outputs": [
    {
     "data": {
      "text/plain": [
       "[('scientific', 0.598362147808075),\n",
       " ('execution', 0.5828267931938171),\n",
       " ('innovative', 0.5814200639724731),\n",
       " ('evidencebased', 0.5761497020721436),\n",
       " ('perfectionism', 0.5650762915611267),\n",
       " ('technical', 0.5649383068084717),\n",
       " ('technique', 0.562258243560791),\n",
       " ('mastery', 0.5545235276222229),\n",
       " ('cuttingedge', 0.5538672804832458),\n",
       " ('creative', 0.5520240068435669)]"
      ]
     },
     "execution_count": 335,
     "metadata": {},
     "output_type": "execute_result"
    },
    {
     "data": {
      "text/plain": [
       "[('bio', 0.5253489017486572),\n",
       " ('commonsense', 0.5180771946907043),\n",
       " ('hrt', 0.515362560749054),\n",
       " ('strategy', 0.5109862089157104),\n",
       " ('naturopathic', 0.5105907917022705),\n",
       " ('nutrient', 0.5025222897529602),\n",
       " ('method', 0.49993187189102173),\n",
       " ('medicinal', 0.4990527033805847),\n",
       " ('theory', 0.4951913356781006),\n",
       " ('nutritional', 0.4948401153087616)]"
      ]
     },
     "execution_count": 335,
     "metadata": {},
     "output_type": "execute_result"
    }
   ],
   "source": [
    "# (17)\n",
    "model.wv.most_similar(positive=['his', 'methodology'], negative=['her'], topn=10)\n",
    "model.wv.most_similar(positive=['her', 'methodology'], negative=['his'], topn=10)"
   ]
  },
  {
   "cell_type": "code",
   "execution_count": 336,
   "metadata": {
    "hidden": true,
    "scrolled": false
   },
   "outputs": [
    {
     "data": {
      "text/plain": [
       "[('precision', 0.6262564063072205),\n",
       " ('surgical', 0.5908267498016357),\n",
       " ('perfectionism', 0.5809765458106995),\n",
       " ('artful', 0.5383291840553284),\n",
       " ('artistry', 0.5294864773750305),\n",
       " ('surgerical', 0.5241363048553467),\n",
       " ('performing', 0.5226128697395325),\n",
       " ('masterful', 0.5169772505760193),\n",
       " ('craftsmanship', 0.5073372721672058),\n",
       " ('craftsman', 0.5072494149208069)]"
      ]
     },
     "execution_count": 336,
     "metadata": {},
     "output_type": "execute_result"
    },
    {
     "data": {
      "text/plain": [
       "[('treatmentsurgery', 0.48946690559387207),\n",
       " ('timeline', 0.48132041096687317),\n",
       " ('treatman', 0.47466427087783813),\n",
       " ('actioni', 0.47223854064941406),\n",
       " ('preconception', 0.4674174189567566),\n",
       " ('adeboyejo', 0.46161097288131714),\n",
       " ('implementation', 0.46078506112098694),\n",
       " ('grounding', 0.45687708258628845),\n",
       " ('conception', 0.45634305477142334),\n",
       " ('checkoff', 0.4543534517288208)]"
      ]
     },
     "execution_count": 336,
     "metadata": {},
     "output_type": "execute_result"
    }
   ],
   "source": [
    "# (18)\n",
    "model.wv.most_similar(positive=['his', 'execution'], negative=['her'], topn=10)\n",
    "model.wv.most_similar(positive=['her', 'execution'], negative=['his'], topn=10)"
   ]
  },
  {
   "cell_type": "code",
   "execution_count": 337,
   "metadata": {
    "hidden": true,
    "scrolled": false
   },
   "outputs": [
    {
     "data": {
      "text/plain": [
       "[('perfectionism', 0.689668595790863),\n",
       " ('integrity', 0.6522009372711182),\n",
       " ('proficiency', 0.6430216431617737),\n",
       " ('humility', 0.6423042416572571),\n",
       " ('unquestionable', 0.6386390924453735),\n",
       " ('professionalism', 0.6379348039627075),\n",
       " ('sincerity', 0.6368511915206909),\n",
       " ('competency', 0.6350669264793396),\n",
       " ('commendable', 0.6312151551246643),\n",
       " ('intellect', 0.6278290152549744)]"
      ]
     },
     "execution_count": 337,
     "metadata": {},
     "output_type": "execute_result"
    },
    {
     "data": {
      "text/plain": [
       "[('competency', 0.6551920175552368),\n",
       " ('capability', 0.5680730938911438),\n",
       " ('intelligence', 0.5631552338600159),\n",
       " ('unwavering', 0.5498874187469482),\n",
       " ('aptitude', 0.5461034178733826),\n",
       " ('qualification', 0.5214747190475464),\n",
       " ('warmth', 0.5200161933898926),\n",
       " ('acuman', 0.5159662961959839),\n",
       " ('judgment', 0.5119194388389587),\n",
       " ('intellect', 0.5075143575668335)]"
      ]
     },
     "execution_count": 337,
     "metadata": {},
     "output_type": "execute_result"
    }
   ],
   "source": [
    "# (19)\n",
    "model.wv.most_similar(positive=['his', 'competence'], negative=['her'], topn=10)\n",
    "model.wv.most_similar(positive=['her', 'competence'], negative=['his'], topn=10)"
   ]
  },
  {
   "cell_type": "code",
   "execution_count": 338,
   "metadata": {
    "hidden": true,
    "scrolled": false
   },
   "outputs": [
    {
     "data": {
      "text/plain": [
       "[('outcome', 0.578392505645752),\n",
       " ('simulation', 0.5075244903564453),\n",
       " ('resultshis', 0.4985257089138031),\n",
       " ('precision', 0.4697610139846802),\n",
       " ('execution', 0.46634620428085327),\n",
       " ('sevinor', 0.4556583762168884),\n",
       " ('surgical', 0.41367825865745544),\n",
       " ('eisbach', 0.4049486219882965),\n",
       " ('resultsfrom', 0.4044643044471741),\n",
       " ('aftercare', 0.39804190397262573)]"
      ]
     },
     "execution_count": 338,
     "metadata": {},
     "output_type": "execute_result"
    },
    {
     "data": {
      "text/plain": [
       "[('papsmear', 0.4748949110507965),\n",
       " ('mammogram', 0.4732517600059509),\n",
       " ('resultsafter', 0.45518192648887634),\n",
       " ('pap', 0.45111632347106934),\n",
       " ('ultrasonic', 0.4494585692882538),\n",
       " ('gynecologist', 0.4443858861923218),\n",
       " ('sonogram', 0.4304776191711426),\n",
       " ('gynocologist', 0.4301804006099701),\n",
       " ('she', 0.42046189308166504),\n",
       " ('labcorp', 0.41114500164985657)]"
      ]
     },
     "execution_count": 338,
     "metadata": {},
     "output_type": "execute_result"
    }
   ],
   "source": [
    "# (20)\n",
    "model.wv.most_similar(positive=['his', 'result'], negative=['her'], topn=10)\n",
    "model.wv.most_similar(positive=['her', 'result'], negative=['his'], topn=10)"
   ]
  },
  {
   "cell_type": "markdown",
   "metadata": {},
   "source": [
    "## Method 2: vector similarities calculated by model\n",
    "- __Compute cosine similarity between two words__\n",
    "- E.g. similarity('woman', 'man')=0.585, similarity('woman', 'woman')=1\n",
    "- E.g. similarity('she','professional') - similarity('he','professional') < 0  \n",
    "==>  male physicians are more likely to be associated with 'professional' in patients' comments."
   ]
  },
  {
   "cell_type": "markdown",
   "metadata": {},
   "source": [
    "### Calcluate set_diff for each attribute word set\n",
    "- If __set_diff(set) < 0__\n",
    "==> this set of words are more likely to be associated with __female physicians__ in patients' comments.\n"
   ]
  },
  {
   "cell_type": "code",
   "execution_count": 17,
   "metadata": {
    "collapsed": true
   },
   "outputs": [],
   "source": [
    "# calculate the difference of mean similarity between each attribute word and two gender word sets\n",
    "def set_diff(att_set):\n",
    "    set_diff=[]\n",
    "    for att_word in att_set:\n",
    "        similarity_to_man_set = [model.wv.similarity(att_word, gender_word) for gender_word in man_set]\n",
    "        similarity_to_woman_set = [model.wv.similarity(att_word, gender_word) for gender_word in woman_set]\n",
    "        avg_sml_man = np.mean(similarity_to_man_set)  # mean similarity between one word and gender set\n",
    "        avg_sml_woman = np.mean(similarity_to_woman_set)\n",
    "\n",
    "        word_diff = avg_sml_man - avg_sml_woman\n",
    "        set_diff.append(word_diff)\n",
    "    return set_diff"
   ]
  },
  {
   "cell_type": "code",
   "execution_count": 18,
   "metadata": {
    "scrolled": true
   },
   "outputs": [
    {
     "name": "stdout",
     "output_type": "stream",
     "text": [
      "0.0038619021278460965 0.032239971865480076\n"
     ]
    },
    {
     "data": {
      "text/plain": [
       "[-0.0711082213800811,\n",
       " 0.07043214527122314,\n",
       " 0.024743018098339405,\n",
       " 0.09308269720223544,\n",
       " 0.032063571352673015]"
      ]
     },
     "execution_count": 18,
     "metadata": {},
     "output_type": "execute_result"
    },
    {
     "data": {
      "text/plain": [
       "[0.08528353645234951,\n",
       " 0.06925593402858699,\n",
       " 0.07401946560683216,\n",
       " -0.018143258594640648,\n",
       " -0.008346695276604449]"
      ]
     },
     "execution_count": 18,
     "metadata": {},
     "output_type": "execute_result"
    }
   ],
   "source": [
    "# the difference of similarities between att_set and two gender sets\n",
    "diff_1=set_diff(att_1)\n",
    "diff_2=set_diff(att_2)\n",
    "\n",
    "print(np.mean(diff_1), np.mean(diff_2))\n",
    "diff_1[:5]\n",
    "diff_2[:5]"
   ]
  },
  {
   "cell_type": "markdown",
   "metadata": {
    "heading_collapsed": true
   },
   "source": [
    "### (1) One-sample T-test for each attribute word set\n",
    "- Null hypothesis: mean = 0\n",
    "- Alternative hypothesis: mean < 0 or mean > 0"
   ]
  },
  {
   "cell_type": "code",
   "execution_count": 287,
   "metadata": {
    "hidden": true
   },
   "outputs": [
    {
     "data": {
      "text/plain": [
       "Ttest_1sampResult(statistic=0.8484450529385318, pvalue=0.3988545625704858)"
      ]
     },
     "execution_count": 287,
     "metadata": {},
     "output_type": "execute_result"
    }
   ],
   "source": [
    "true_mu = 0\n",
    "onesample_results = scipy.stats.ttest_1samp(diff_1, true_mu)\n",
    "onesample_results"
   ]
  },
  {
   "cell_type": "code",
   "execution_count": 288,
   "metadata": {
    "hidden": true
   },
   "outputs": [
    {
     "data": {
      "text/plain": [
       "Ttest_1sampResult(statistic=5.196832089632375, pvalue=1.9114296946649937e-06)"
      ]
     },
     "execution_count": 288,
     "metadata": {},
     "output_type": "execute_result"
    }
   ],
   "source": [
    "true_mu = 0\n",
    "onesample_results = scipy.stats.ttest_1samp(diff_2, true_mu)\n",
    "onesample_results"
   ]
  },
  {
   "cell_type": "markdown",
   "metadata": {},
   "source": [
    "### (2) Two-sample T-test for attribute word sets\n",
    "- mean_1 (interpersonal) and mean_2 (technical) might be naturally positive (more frequently associated with male physicians)\n",
    "- Null hypothesis: mean_1 = mean_2\n",
    "- Alternative hypothesis: mean_1 < mean_2 or  mean_1 > mean_2"
   ]
  },
  {
   "cell_type": "code",
   "execution_count": 289,
   "metadata": {
    "scrolled": true
   },
   "outputs": [
    {
     "data": {
      "text/plain": [
       "Ttest_indResult(statistic=-3.2848436687609817, pvalue=0.001277532226016919)"
      ]
     },
     "execution_count": 289,
     "metadata": {},
     "output_type": "execute_result"
    }
   ],
   "source": [
    "twosample_results = scipy.stats.ttest_ind(diff_1, diff_2)\n",
    "twosample_results"
   ]
  },
  {
   "cell_type": "markdown",
   "metadata": {},
   "source": [
    "- Here p-value < 0.05, so we have highly significant evidence against H0, which means technical words rather than interpersonal words are more likely to be associated with male physicians."
   ]
  },
  {
   "cell_type": "markdown",
   "metadata": {},
   "source": [
    "## Method 0: Word frequency in Male/Female reviews"
   ]
  },
  {
   "cell_type": "code",
   "execution_count": 299,
   "metadata": {},
   "outputs": [
    {
     "name": "stdout",
     "output_type": "stream",
     "text": [
      "(422865, 10)\n",
      "(1130498, 10)\n"
     ]
    },
    {
     "data": {
      "text/html": [
       "<div>\n",
       "<style>\n",
       "    .dataframe thead tr:only-child th {\n",
       "        text-align: right;\n",
       "    }\n",
       "\n",
       "    .dataframe thead th {\n",
       "        text-align: left;\n",
       "    }\n",
       "\n",
       "    .dataframe tbody tr th {\n",
       "        vertical-align: top;\n",
       "    }\n",
       "</style>\n",
       "<table border=\"1\" class=\"dataframe\">\n",
       "  <thead>\n",
       "    <tr style=\"text-align: right;\">\n",
       "      <th></th>\n",
       "      <th>review_id</th>\n",
       "      <th>href</th>\n",
       "      <th>comments</th>\n",
       "      <th>name</th>\n",
       "      <th>name_gender</th>\n",
       "      <th>content_he</th>\n",
       "      <th>content_she</th>\n",
       "      <th>sp_positions</th>\n",
       "      <th>classify</th>\n",
       "      <th>gender_conflict</th>\n",
       "    </tr>\n",
       "  </thead>\n",
       "  <tbody>\n",
       "    <tr>\n",
       "      <th>0</th>\n",
       "      <td>23507540</td>\n",
       "      <td>/dentists/Dr_Aarika_Anderson_Elter</td>\n",
       "      <td>Great results  Dr. Anderson explained in detai...</td>\n",
       "      <td>aarika</td>\n",
       "      <td>F</td>\n",
       "      <td>0</td>\n",
       "      <td>0</td>\n",
       "      <td>0</td>\n",
       "      <td>F</td>\n",
       "      <td>0</td>\n",
       "    </tr>\n",
       "    <tr>\n",
       "      <th>79</th>\n",
       "      <td>23651485</td>\n",
       "      <td>/dentists/Dr_Abbey_Onan</td>\n",
       "      <td>Dr Onan is an excellent dentist in the Facult...</td>\n",
       "      <td>abbey</td>\n",
       "      <td>F</td>\n",
       "      <td>0</td>\n",
       "      <td>1</td>\n",
       "      <td>0</td>\n",
       "      <td>F</td>\n",
       "      <td>0</td>\n",
       "    </tr>\n",
       "    <tr>\n",
       "      <th>114</th>\n",
       "      <td>24141330</td>\n",
       "      <td>/dentists/Dr_Abbey_Lamanna</td>\n",
       "      <td>Crooked... I had a scheduling conflict for my ...</td>\n",
       "      <td>abbey</td>\n",
       "      <td>F</td>\n",
       "      <td>0</td>\n",
       "      <td>1</td>\n",
       "      <td>0</td>\n",
       "      <td>F</td>\n",
       "      <td>0</td>\n",
       "    </tr>\n",
       "    <tr>\n",
       "      <th>115</th>\n",
       "      <td>23789205</td>\n",
       "      <td>/dentists/Dr_Abbey_Lamanna</td>\n",
       "      <td>Beware I had a scheduling conflict for my clea...</td>\n",
       "      <td>abbey</td>\n",
       "      <td>F</td>\n",
       "      <td>0</td>\n",
       "      <td>1</td>\n",
       "      <td>0</td>\n",
       "      <td>F</td>\n",
       "      <td>0</td>\n",
       "    </tr>\n",
       "    <tr>\n",
       "      <th>152</th>\n",
       "      <td>29363831</td>\n",
       "      <td>/dentists/Dr_Abigail_Tubio</td>\n",
       "      <td>They are awesome. I must say for years I let m...</td>\n",
       "      <td>abigail</td>\n",
       "      <td>F</td>\n",
       "      <td>0</td>\n",
       "      <td>1</td>\n",
       "      <td>0</td>\n",
       "      <td>F</td>\n",
       "      <td>0</td>\n",
       "    </tr>\n",
       "  </tbody>\n",
       "</table>\n",
       "</div>"
      ],
      "text/plain": [
       "     review_id                                href  \\\n",
       "0     23507540  /dentists/Dr_Aarika_Anderson_Elter   \n",
       "79    23651485             /dentists/Dr_Abbey_Onan   \n",
       "114   24141330          /dentists/Dr_Abbey_Lamanna   \n",
       "115   23789205          /dentists/Dr_Abbey_Lamanna   \n",
       "152   29363831          /dentists/Dr_Abigail_Tubio   \n",
       "\n",
       "                                              comments     name name_gender  \\\n",
       "0    Great results  Dr. Anderson explained in detai...   aarika           F   \n",
       "79    Dr Onan is an excellent dentist in the Facult...    abbey           F   \n",
       "114  Crooked... I had a scheduling conflict for my ...    abbey           F   \n",
       "115  Beware I had a scheduling conflict for my clea...    abbey           F   \n",
       "152  They are awesome. I must say for years I let m...  abigail           F   \n",
       "\n",
       "     content_he  content_she  sp_positions classify  gender_conflict  \n",
       "0             0            0             0        F                0  \n",
       "79            0            1             0        F                0  \n",
       "114           0            1             0        F                0  \n",
       "115           0            1             0        F                0  \n",
       "152           0            1             0        F                0  "
      ]
     },
     "execution_count": 299,
     "metadata": {},
     "output_type": "execute_result"
    }
   ],
   "source": [
    "# select comments that is clearly for Male or Female doctors\n",
    "female_review=clr_review[(clr_review.classify=='F')]\n",
    "male_review=clr_review[(clr_review.classify=='M')]\n",
    "\n",
    "print(female_review.shape)\n",
    "print(male_review.shape)\n",
    "female_review.head()"
   ]
  },
  {
   "cell_type": "markdown",
   "metadata": {
    "heading_collapsed": true
   },
   "source": [
    "### Pre-process male/female datasets"
   ]
  },
  {
   "cell_type": "code",
   "execution_count": 300,
   "metadata": {
    "collapsed": true,
    "hidden": true
   },
   "outputs": [],
   "source": [
    "# save these datasets as CSV files (20 seconds)\n",
    "female_review.to_csv(\"./data/female_review_df.csv\", index=False)\n",
    "male_review.to_csv(\"./data/male_review_df.csv\", index=False)"
   ]
  },
  {
   "cell_type": "code",
   "execution_count": 301,
   "metadata": {
    "hidden": true,
    "scrolled": true
   },
   "outputs": [
    {
     "data": {
      "application/vnd.jupyter.widget-view+json": {
       "model_id": "55c7567c598f4cfdbec25eac854032ac"
      }
     },
     "metadata": {},
     "output_type": "display_data"
    },
    {
     "name": "stdout",
     "output_type": "stream",
     "text": [
      "\n"
     ]
    },
    {
     "data": {
      "application/vnd.jupyter.widget-view+json": {
       "model_id": "fe7f434c14fc430582353eda7c03ebf3"
      }
     },
     "metadata": {},
     "output_type": "display_data"
    },
    {
     "name": "stdout",
     "output_type": "stream",
     "text": [
      "\n",
      "422865 1130498\n"
     ]
    }
   ],
   "source": [
    "# lemmatize and fitler documents; deal with punctuation(30mins + 40mins)\n",
    "female_s=female_review['comments'].fillna('').astype(str).tolist()\n",
    "male_s=male_review['comments'].fillna('').astype(str).tolist()\n",
    "\n",
    "f_terms_list=[]\n",
    "m_terms_list=[]\n",
    "\n",
    "words_to_keep = set(['he','his','him','she','her','I','my','me','mine'])\n",
    "def lemma(x):\n",
    "    if x.text in words_to_keep: \n",
    "        return x.text\n",
    "    elif x.text not in words_to_keep:\n",
    "        return x.lemma_\n",
    "\n",
    "for doc in tqdm_notebook(female_s):\n",
    "    doc_cleared = textacy.preprocess_text(doc, lowercase=False, no_punct=True)\n",
    "    doc_new = nlp(doc_cleared)\n",
    "    tokens=[lemma(x) for x in doc_new]  #to keep pronouns\n",
    "    f_terms_list.append(tokens)\n",
    "    \n",
    "for doc in tqdm_notebook(male_s):\n",
    "    doc_cleared = textacy.preprocess_text(doc, lowercase=False, no_punct=True)\n",
    "    doc_new = nlp(doc_cleared)\n",
    "    tokens=[lemma(x) for x in doc_new]  #to keep pronouns\n",
    "    m_terms_list.append(tokens)\n",
    "\n",
    "print(len(f_terms_list), len(m_terms_list))"
   ]
  },
  {
   "cell_type": "code",
   "execution_count": 305,
   "metadata": {
    "hidden": true
   },
   "outputs": [
    {
     "data": {
      "application/vnd.jupyter.widget-view+json": {
       "model_id": "77038e60b8ff4c518340f9e542567f88"
      }
     },
     "metadata": {},
     "output_type": "display_data"
    },
    {
     "name": "stdout",
     "output_type": "stream",
     "text": [
      "\n"
     ]
    },
    {
     "data": {
      "application/vnd.jupyter.widget-view+json": {
       "model_id": "923a9087953e4dd3ad05b8d937b8ea6f"
      }
     },
     "metadata": {},
     "output_type": "display_data"
    },
    {
     "name": "stdout",
     "output_type": "stream",
     "text": [
      "\n"
     ]
    }
   ],
   "source": [
    "# spellcheck the documents and correct spellings (35 seconds)\n",
    "for line in tqdm_notebook(f_terms_list):\n",
    "    for i,word in enumerate(line):\n",
    "        if word in words_to_filter:\n",
    "            line[i]=words_to_filter[word]\n",
    "\n",
    "for line in tqdm_notebook(m_terms_list):\n",
    "    for i,word in enumerate(line):\n",
    "        if word in words_to_filter:\n",
    "            line[i]=words_to_filter[word]"
   ]
  },
  {
   "cell_type": "code",
   "execution_count": 306,
   "metadata": {
    "collapsed": true,
    "hidden": true
   },
   "outputs": [],
   "source": [
    "InteractiveShell.ast_node_interactivity = \"none\"  # speed this process"
   ]
  },
  {
   "cell_type": "code",
   "execution_count": 307,
   "metadata": {
    "hidden": true,
    "scrolled": false
   },
   "outputs": [
    {
     "data": {
      "application/vnd.jupyter.widget-view+json": {
       "model_id": "1bb62c505aa24976a91a46585e56a0e9"
      }
     },
     "metadata": {},
     "output_type": "display_data"
    },
    {
     "name": "stdout",
     "output_type": "stream",
     "text": [
      "\n"
     ]
    }
   ],
   "source": [
    "# save the corpus as a txt file (40 seconds)\n",
    "with open(\"./data/female_terms_list.txt\",\"w\") as thefile:\n",
    "    for item in tqdm_notebook(f_terms_list):\n",
    "      thefile.write(\"%s\\n\" % item)"
   ]
  },
  {
   "cell_type": "code",
   "execution_count": 308,
   "metadata": {
    "hidden": true
   },
   "outputs": [
    {
     "data": {
      "application/vnd.jupyter.widget-view+json": {
       "model_id": "3f96271867c746a1b036ccaaa39a107f"
      }
     },
     "metadata": {},
     "output_type": "display_data"
    },
    {
     "name": "stdout",
     "output_type": "stream",
     "text": [
      "\n"
     ]
    }
   ],
   "source": [
    "# save the corpus as a txt file (40 seconds)\n",
    "with open(\"./data/male_terms_list.txt\",\"w\") as thefile:\n",
    "    for item in tqdm_notebook(m_terms_list):\n",
    "      thefile.write(\"%s\\n\" % item)"
   ]
  },
  {
   "cell_type": "code",
   "execution_count": 309,
   "metadata": {
    "collapsed": true,
    "hidden": true
   },
   "outputs": [],
   "source": [
    "InteractiveShell.ast_node_interactivity = \"all\" # resume the output option"
   ]
  },
  {
   "cell_type": "markdown",
   "metadata": {
    "heading_collapsed": true
   },
   "source": [
    "### Build models and count word frequency"
   ]
  },
  {
   "cell_type": "code",
   "execution_count": 315,
   "metadata": {
    "collapsed": true,
    "hidden": true
   },
   "outputs": [],
   "source": [
    "# train word2vec on each corpus (20 mins)\n",
    "f_model = gensim.models.Word2Vec(sentences=f_terms_list, size=100, window=7, min_count=5, workers=4)\n",
    "m_model = gensim.models.Word2Vec(sentences=m_terms_list, size=100, window=7, min_count=5, workers=4)\n",
    "\n",
    "# to save a trained model\n",
    "f_model.save(\"./data/model_f_clr_comments\")\n",
    "m_model.save(\"./data/model_m_clr_comments\")"
   ]
  },
  {
   "cell_type": "code",
   "execution_count": 4,
   "metadata": {
    "collapsed": true,
    "hidden": true
   },
   "outputs": [],
   "source": [
    "# load the trained model\n",
    "f_model = gensim.models.Word2Vec.load(\"./data/model_f_clr_comments\")\n",
    "m_model = gensim.models.Word2Vec.load(\"./data/model_m_clr_comments\")"
   ]
  },
  {
   "cell_type": "code",
   "execution_count": 120,
   "metadata": {
    "collapsed": true,
    "hidden": true
   },
   "outputs": [],
   "source": [
    "# only keep words existing in both female model and male model\n",
    "def set_filter_2(att_set):\n",
    "    new_set=[]\n",
    "    del_word=[]\n",
    "    for word in att_set:\n",
    "        try:\n",
    "            if f_model[word].all() and m_model[word].all():\n",
    "                new_set.append(word)\n",
    "        except KeyError:\n",
    "            del_word.append(word)\n",
    "    print(del_word)\n",
    "    return new_set"
   ]
  },
  {
   "cell_type": "code",
   "execution_count": 108,
   "metadata": {
    "collapsed": true,
    "hidden": true
   },
   "outputs": [],
   "source": [
    "# count how many times the word presents in each model\n",
    "def word_counter_f(word):\n",
    "    vocab_obj_f = f_model.wv.vocab[str(word)]\n",
    "    word_freq_f = vocab_obj_f.count\n",
    "    return word_freq_f\n",
    "\n",
    "def word_counter_m(word):\n",
    "    vocab_obj_m = m_model.wv.vocab[str(word)]\n",
    "    word_freq_m = vocab_obj_m.count\n",
    "    return word_freq_m"
   ]
  },
  {
   "cell_type": "code",
   "execution_count": 130,
   "metadata": {
    "hidden": true
   },
   "outputs": [
    {
     "name": "stdout",
     "output_type": "stream",
     "text": [
      "['interplay', 'mutuality']\n",
      "['hearty']\n"
     ]
    },
    {
     "data": {
      "text/html": [
       "<div>\n",
       "<style>\n",
       "    .dataframe thead tr:only-child th {\n",
       "        text-align: right;\n",
       "    }\n",
       "\n",
       "    .dataframe thead th {\n",
       "        text-align: left;\n",
       "    }\n",
       "\n",
       "    .dataframe tbody tr th {\n",
       "        vertical-align: top;\n",
       "    }\n",
       "</style>\n",
       "<table border=\"1\" class=\"dataframe\">\n",
       "  <thead>\n",
       "    <tr style=\"text-align: right;\">\n",
       "      <th></th>\n",
       "      <th>interpersonal</th>\n",
       "      <th>count_f</th>\n",
       "      <th>percent_f</th>\n",
       "      <th>count_m</th>\n",
       "      <th>percent_m</th>\n",
       "    </tr>\n",
       "  </thead>\n",
       "  <tbody>\n",
       "    <tr>\n",
       "      <th>75</th>\n",
       "      <td>gracious</td>\n",
       "      <td>234</td>\n",
       "      <td>0.0006</td>\n",
       "      <td>632</td>\n",
       "      <td>0.0006</td>\n",
       "    </tr>\n",
       "    <tr>\n",
       "      <th>76</th>\n",
       "      <td>thoughtful</td>\n",
       "      <td>2557</td>\n",
       "      <td>0.0060</td>\n",
       "      <td>5913</td>\n",
       "      <td>0.0052</td>\n",
       "    </tr>\n",
       "    <tr>\n",
       "      <th>77</th>\n",
       "      <td>listening</td>\n",
       "      <td>47204</td>\n",
       "      <td>0.1116</td>\n",
       "      <td>101235</td>\n",
       "      <td>0.0895</td>\n",
       "    </tr>\n",
       "    <tr>\n",
       "      <th>78</th>\n",
       "      <td>considerate</td>\n",
       "      <td>1830</td>\n",
       "      <td>0.0043</td>\n",
       "      <td>5446</td>\n",
       "      <td>0.0048</td>\n",
       "    </tr>\n",
       "    <tr>\n",
       "      <th>79</th>\n",
       "      <td>conscientious</td>\n",
       "      <td>635</td>\n",
       "      <td>0.0015</td>\n",
       "      <td>1540</td>\n",
       "      <td>0.0014</td>\n",
       "    </tr>\n",
       "  </tbody>\n",
       "</table>\n",
       "</div>"
      ],
      "text/plain": [
       "    interpersonal  count_f  percent_f  count_m  percent_m\n",
       "75       gracious      234     0.0006      632     0.0006\n",
       "76     thoughtful     2557     0.0060     5913     0.0052\n",
       "77      listening    47204     0.1116   101235     0.0895\n",
       "78    considerate     1830     0.0043     5446     0.0048\n",
       "79  conscientious      635     0.0015     1540     0.0014"
      ]
     },
     "execution_count": 130,
     "metadata": {},
     "output_type": "execute_result"
    }
   ],
   "source": [
    "# for interpersonal attribute words\n",
    "tmp1=set_filter_2(Vocabulary['interaction'])\n",
    "tmp2=set_filter_2(Vocabulary['interpersonal'].dropna())\n",
    "tmp={'interpersonal': tmp1 + tmp2 }\n",
    "freq_att_1=pd.DataFrame(tmp, columns=['interpersonal','count_f','percent_f','count_m','percent_m'])\n",
    "\n",
    "freq_att_1['count_f']=freq_att_1['interpersonal'].map(word_counter_f)\n",
    "freq_att_1['count_m']=freq_att_1['interpersonal'].map(word_counter_m)\n",
    "freq_att_1['percent_f']=round(freq_att_1['count_f']/422865,4) #female_review.shape[0],4)\n",
    "freq_att_1['percent_m']=round(freq_att_1['count_m']/1130498,4) #m_len,4)\n",
    "\n",
    "freq_att_1 .tail()"
   ]
  },
  {
   "cell_type": "code",
   "execution_count": 129,
   "metadata": {
    "hidden": true,
    "scrolled": false
   },
   "outputs": [
    {
     "name": "stdout",
     "output_type": "stream",
     "text": [
      "[]\n",
      "[]\n"
     ]
    },
    {
     "data": {
      "text/html": [
       "<div>\n",
       "<style>\n",
       "    .dataframe thead tr:only-child th {\n",
       "        text-align: right;\n",
       "    }\n",
       "\n",
       "    .dataframe thead th {\n",
       "        text-align: left;\n",
       "    }\n",
       "\n",
       "    .dataframe tbody tr th {\n",
       "        vertical-align: top;\n",
       "    }\n",
       "</style>\n",
       "<table border=\"1\" class=\"dataframe\">\n",
       "  <thead>\n",
       "    <tr style=\"text-align: right;\">\n",
       "      <th></th>\n",
       "      <th>technical</th>\n",
       "      <th>count_f</th>\n",
       "      <th>percent_f</th>\n",
       "      <th>count_m</th>\n",
       "      <th>percent_m</th>\n",
       "    </tr>\n",
       "  </thead>\n",
       "  <tbody>\n",
       "    <tr>\n",
       "      <th>68</th>\n",
       "      <td>observant</td>\n",
       "      <td>125</td>\n",
       "      <td>0.0003</td>\n",
       "      <td>250</td>\n",
       "      <td>0.0002</td>\n",
       "    </tr>\n",
       "    <tr>\n",
       "      <th>69</th>\n",
       "      <td>perceptive</td>\n",
       "      <td>205</td>\n",
       "      <td>0.0005</td>\n",
       "      <td>330</td>\n",
       "      <td>0.0003</td>\n",
       "    </tr>\n",
       "    <tr>\n",
       "      <th>70</th>\n",
       "      <td>effective</td>\n",
       "      <td>1438</td>\n",
       "      <td>0.0034</td>\n",
       "      <td>3642</td>\n",
       "      <td>0.0032</td>\n",
       "    </tr>\n",
       "    <tr>\n",
       "      <th>71</th>\n",
       "      <td>innovative</td>\n",
       "      <td>100</td>\n",
       "      <td>0.0002</td>\n",
       "      <td>502</td>\n",
       "      <td>0.0004</td>\n",
       "    </tr>\n",
       "    <tr>\n",
       "      <th>72</th>\n",
       "      <td>conservative</td>\n",
       "      <td>705</td>\n",
       "      <td>0.0017</td>\n",
       "      <td>3333</td>\n",
       "      <td>0.0029</td>\n",
       "    </tr>\n",
       "  </tbody>\n",
       "</table>\n",
       "</div>"
      ],
      "text/plain": [
       "       technical  count_f  percent_f  count_m  percent_m\n",
       "68     observant      125     0.0003      250     0.0002\n",
       "69    perceptive      205     0.0005      330     0.0003\n",
       "70     effective     1438     0.0034     3642     0.0032\n",
       "71    innovative      100     0.0002      502     0.0004\n",
       "72  conservative      705     0.0017     3333     0.0029"
      ]
     },
     "execution_count": 129,
     "metadata": {},
     "output_type": "execute_result"
    }
   ],
   "source": [
    "# for technical attribute words\n",
    "tmp1=set_filter_2(Vocabulary['technique'].dropna())\n",
    "tmp2=set_filter_2(Vocabulary['technical'].dropna())\n",
    "tmp={'technical': tmp1 + tmp2 }\n",
    "freq_att_2=pd.DataFrame(tmp, columns=['technical','count_f','percent_f','count_m','percent_m'])\n",
    "\n",
    "freq_att_2['count_f']=freq_att_2['technical'].map(word_counter_f)\n",
    "freq_att_2['count_m']=freq_att_2['technical'].map(word_counter_m)\n",
    "freq_att_2['percent_f']=round(freq_att_2['count_f']/422865,4) #female_review.shape[0],4)\n",
    "freq_att_2['percent_m']=round(freq_att_2['count_m']/1130498,4) #m_len,4)\n",
    "freq_att_2.tail()"
   ]
  },
  {
   "cell_type": "markdown",
   "metadata": {
    "collapsed": true
   },
   "source": [
    "### Wilcoxon Signed-Rank Test on word frequencies in male/female model\n",
    "- For attribute words, we want to know whether their frequencies in female and male models are from populations having the same distribution\n",
    "- H0: difference between the pairs follows a symmetric distribution around zero\n",
    "- H1: difference between the pairs does not follow a symmetric distribution around zero."
   ]
  },
  {
   "cell_type": "code",
   "execution_count": 134,
   "metadata": {
    "scrolled": true
   },
   "outputs": [
    {
     "data": {
      "text/html": [
       "<div>\n",
       "<style>\n",
       "    .dataframe thead tr:only-child th {\n",
       "        text-align: right;\n",
       "    }\n",
       "\n",
       "    .dataframe thead th {\n",
       "        text-align: left;\n",
       "    }\n",
       "\n",
       "    .dataframe tbody tr th {\n",
       "        vertical-align: top;\n",
       "    }\n",
       "</style>\n",
       "<table border=\"1\" class=\"dataframe\">\n",
       "  <thead>\n",
       "    <tr style=\"text-align: right;\">\n",
       "      <th></th>\n",
       "      <th>interpersonal</th>\n",
       "      <th>count_f</th>\n",
       "      <th>percent_f</th>\n",
       "      <th>count_m</th>\n",
       "      <th>percent_m</th>\n",
       "    </tr>\n",
       "  </thead>\n",
       "  <tbody>\n",
       "    <tr>\n",
       "      <th>75</th>\n",
       "      <td>gracious</td>\n",
       "      <td>234</td>\n",
       "      <td>0.0006</td>\n",
       "      <td>632</td>\n",
       "      <td>0.0006</td>\n",
       "    </tr>\n",
       "    <tr>\n",
       "      <th>76</th>\n",
       "      <td>thoughtful</td>\n",
       "      <td>2557</td>\n",
       "      <td>0.0060</td>\n",
       "      <td>5913</td>\n",
       "      <td>0.0052</td>\n",
       "    </tr>\n",
       "    <tr>\n",
       "      <th>77</th>\n",
       "      <td>listening</td>\n",
       "      <td>47204</td>\n",
       "      <td>0.1116</td>\n",
       "      <td>101235</td>\n",
       "      <td>0.0895</td>\n",
       "    </tr>\n",
       "    <tr>\n",
       "      <th>78</th>\n",
       "      <td>considerate</td>\n",
       "      <td>1830</td>\n",
       "      <td>0.0043</td>\n",
       "      <td>5446</td>\n",
       "      <td>0.0048</td>\n",
       "    </tr>\n",
       "    <tr>\n",
       "      <th>79</th>\n",
       "      <td>conscientious</td>\n",
       "      <td>635</td>\n",
       "      <td>0.0015</td>\n",
       "      <td>1540</td>\n",
       "      <td>0.0014</td>\n",
       "    </tr>\n",
       "  </tbody>\n",
       "</table>\n",
       "</div>"
      ],
      "text/plain": [
       "    interpersonal  count_f  percent_f  count_m  percent_m\n",
       "75       gracious      234     0.0006      632     0.0006\n",
       "76     thoughtful     2557     0.0060     5913     0.0052\n",
       "77      listening    47204     0.1116   101235     0.0895\n",
       "78    considerate     1830     0.0043     5446     0.0048\n",
       "79  conscientious      635     0.0015     1540     0.0014"
      ]
     },
     "execution_count": 134,
     "metadata": {},
     "output_type": "execute_result"
    }
   ],
   "source": [
    "freq_att_1.tail()"
   ]
  },
  {
   "cell_type": "code",
   "execution_count": 137,
   "metadata": {},
   "outputs": [
    {
     "data": {
      "text/plain": [
       "WilcoxonResult(statistic=903.0, pvalue=0.0005837025471812024)"
      ]
     },
     "execution_count": 137,
     "metadata": {},
     "output_type": "execute_result"
    },
    {
     "name": "stdout",
     "output_type": "stream",
     "text": [
      "mean_freq_female: 0.011743749999999999 . mean_freq_male: 0.010929999999999994\n"
     ]
    }
   ],
   "source": [
    "# for interpersonal attribute words\n",
    "wilcoxon_result_1=scipy.stats.wilcoxon(freq_att_1.percent_f, freq_att_1.percent_m, \n",
    "                                       zero_method='pratt', correction=False)\n",
    "wilcoxon_result_1\n",
    "\n",
    "print('mean_freq_female:', np.mean(freq_att_1.percent_f), '. mean_freq_male:', np.mean(freq_att_1.percent_m))"
   ]
  },
  {
   "cell_type": "markdown",
   "metadata": {},
   "source": [
    "- Since p-value < 0.05, so we have highly significant evidence against H0, which means interpersonal words are more frequently used to assess female physicians than male ones."
   ]
  },
  {
   "cell_type": "code",
   "execution_count": 138,
   "metadata": {},
   "outputs": [
    {
     "data": {
      "text/plain": [
       "WilcoxonResult(statistic=800.0, pvalue=0.002473639383286504)"
      ]
     },
     "execution_count": 138,
     "metadata": {},
     "output_type": "execute_result"
    },
    {
     "name": "stdout",
     "output_type": "stream",
     "text": [
      "mean_freq_female: 0.009252054794520546 . mean_freq_male: 0.009797260273972597\n"
     ]
    }
   ],
   "source": [
    "# for technical attribute words\n",
    "wilcoxon_result_2=scipy.stats.wilcoxon(freq_att_2.percent_f, freq_att_2.percent_m, \n",
    "                                       zero_method='pratt', correction=False)\n",
    "wilcoxon_result_2\n",
    "\n",
    "print('mean_freq_female:', np.mean(freq_att_2.percent_f), '. mean_freq_male:', np.mean(freq_att_2.percent_m))"
   ]
  },
  {
   "cell_type": "markdown",
   "metadata": {},
   "source": [
    "- Since p-value < 0.05, so we have highly significant evidence against H0, which means technical words are more frequently used to assess male physicians than female ones."
   ]
  },
  {
   "cell_type": "code",
   "execution_count": null,
   "metadata": {
    "collapsed": true
   },
   "outputs": [],
   "source": []
  }
 ],
 "metadata": {
  "kernelspec": {
   "display_name": "Python 3",
   "language": "python",
   "name": "python3"
  },
  "language_info": {
   "codemirror_mode": {
    "name": "ipython",
    "version": 3
   },
   "file_extension": ".py",
   "mimetype": "text/x-python",
   "name": "python",
   "nbconvert_exporter": "python",
   "pygments_lexer": "ipython3",
   "version": "3.6.1"
  }
 },
 "nbformat": 4,
 "nbformat_minor": 2
}
