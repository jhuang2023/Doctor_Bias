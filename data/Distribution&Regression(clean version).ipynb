{
 "cells": [
  {
   "cell_type": "code",
   "execution_count": 1,
   "metadata": {
    "collapsed": true
   },
   "outputs": [],
   "source": [
    "import pandas as pd"
   ]
  },
  {
   "cell_type": "code",
   "execution_count": 2,
   "metadata": {
    "collapsed": true
   },
   "outputs": [],
   "source": [
    "import numpy as np"
   ]
  },
  {
   "cell_type": "code",
   "execution_count": 3,
   "metadata": {
    "collapsed": true
   },
   "outputs": [],
   "source": [
    "import matplotlib.pyplot as plt"
   ]
  },
  {
   "cell_type": "code",
   "execution_count": 4,
   "metadata": {
    "collapsed": true
   },
   "outputs": [],
   "source": [
    "performance = pd.read_csv('Measure_Performance_Rate_20180226.csv')"
   ]
  },
  {
   "cell_type": "code",
   "execution_count": 5,
   "metadata": {
    "collapsed": false
   },
   "outputs": [
    {
     "data": {
      "text/html": [
       "<div>\n",
       "<table border=\"1\" class=\"dataframe\">\n",
       "  <thead>\n",
       "    <tr style=\"text-align: right;\">\n",
       "      <th></th>\n",
       "      <th>NPI</th>\n",
       "      <th>Gender</th>\n",
       "      <th>std</th>\n",
       "      <th>median</th>\n",
       "      <th>mean</th>\n",
       "      <th>href</th>\n",
       "    </tr>\n",
       "  </thead>\n",
       "  <tbody>\n",
       "    <tr>\n",
       "      <th>0</th>\n",
       "      <td>1205831344</td>\n",
       "      <td>M</td>\n",
       "      <td>40.000000</td>\n",
       "      <td>100.0</td>\n",
       "      <td>80.000000</td>\n",
       "      <td>/doctors/Dr_Gary_Rylander</td>\n",
       "    </tr>\n",
       "    <tr>\n",
       "      <th>1</th>\n",
       "      <td>1366412033</td>\n",
       "      <td>F</td>\n",
       "      <td>2.357023</td>\n",
       "      <td>100.0</td>\n",
       "      <td>98.333333</td>\n",
       "      <td>/doctors/Dr_Rebecca_L_Smith</td>\n",
       "    </tr>\n",
       "    <tr>\n",
       "      <th>2</th>\n",
       "      <td>1689629172</td>\n",
       "      <td>F</td>\n",
       "      <td>0.000000</td>\n",
       "      <td>100.0</td>\n",
       "      <td>100.000000</td>\n",
       "      <td>/doctors/Dr_Lynne_Kaplinsky</td>\n",
       "    </tr>\n",
       "    <tr>\n",
       "      <th>3</th>\n",
       "      <td>1356374177</td>\n",
       "      <td>F</td>\n",
       "      <td>0.000000</td>\n",
       "      <td>100.0</td>\n",
       "      <td>100.000000</td>\n",
       "      <td>/doctors/Dr_Margaret_Bertrand</td>\n",
       "    </tr>\n",
       "    <tr>\n",
       "      <th>4</th>\n",
       "      <td>1770507352</td>\n",
       "      <td>F</td>\n",
       "      <td>0.000000</td>\n",
       "      <td>81.0</td>\n",
       "      <td>81.000000</td>\n",
       "      <td>/doctors/Dr_Lynne_Mcelhinney</td>\n",
       "    </tr>\n",
       "  </tbody>\n",
       "</table>\n",
       "</div>"
      ],
      "text/plain": [
       "          NPI Gender        std  median        mean  \\\n",
       "0  1205831344      M  40.000000   100.0   80.000000   \n",
       "1  1366412033      F   2.357023   100.0   98.333333   \n",
       "2  1689629172      F   0.000000   100.0  100.000000   \n",
       "3  1356374177      F   0.000000   100.0  100.000000   \n",
       "4  1770507352      F   0.000000    81.0   81.000000   \n",
       "\n",
       "                            href  \n",
       "0      /doctors/Dr_Gary_Rylander  \n",
       "1    /doctors/Dr_Rebecca_L_Smith  \n",
       "2    /doctors/Dr_Lynne_Kaplinsky  \n",
       "3  /doctors/Dr_Margaret_Bertrand  \n",
       "4   /doctors/Dr_Lynne_Mcelhinney  "
      ]
     },
     "execution_count": 5,
     "metadata": {},
     "output_type": "execute_result"
    }
   ],
   "source": [
    "performance.head()"
   ]
  },
  {
   "cell_type": "code",
   "execution_count": 6,
   "metadata": {
    "collapsed": false
   },
   "outputs": [
    {
     "data": {
      "text/plain": [
       "66367"
      ]
     },
     "execution_count": 6,
     "metadata": {},
     "output_type": "execute_result"
    }
   ],
   "source": [
    "len(performance)"
   ]
  },
  {
   "cell_type": "markdown",
   "metadata": {},
   "source": [
    "### Distribution"
   ]
  },
  {
   "cell_type": "code",
   "execution_count": 7,
   "metadata": {
    "collapsed": true
   },
   "outputs": [],
   "source": [
    "f_table = performance[performance.Gender == 'F']"
   ]
  },
  {
   "cell_type": "code",
   "execution_count": 8,
   "metadata": {
    "collapsed": true
   },
   "outputs": [],
   "source": [
    "m_table = performance[performance.Gender == 'M']"
   ]
  },
  {
   "cell_type": "markdown",
   "metadata": {},
   "source": [
    "- Mean"
   ]
  },
  {
   "cell_type": "code",
   "execution_count": 9,
   "metadata": {
    "collapsed": false
   },
   "outputs": [],
   "source": [
    "mean_f = f_table.loc[:,'mean']"
   ]
  },
  {
   "cell_type": "code",
   "execution_count": 10,
   "metadata": {
    "collapsed": true
   },
   "outputs": [],
   "source": [
    "mean_m = m_table.loc[:,'mean']"
   ]
  },
  {
   "cell_type": "code",
   "execution_count": 125,
   "metadata": {
    "collapsed": false
   },
   "outputs": [
    {
     "data": {
      "text/html": [
       "<div>\n",
       "<table border=\"1\" class=\"dataframe\">\n",
       "  <thead>\n",
       "    <tr style=\"text-align: right;\">\n",
       "      <th></th>\n",
       "      <th>mean</th>\n",
       "    </tr>\n",
       "  </thead>\n",
       "  <tbody>\n",
       "    <tr>\n",
       "      <th>count</th>\n",
       "      <td>14555.000000</td>\n",
       "    </tr>\n",
       "    <tr>\n",
       "      <th>mean</th>\n",
       "      <td>83.651225</td>\n",
       "    </tr>\n",
       "    <tr>\n",
       "      <th>std</th>\n",
       "      <td>21.501529</td>\n",
       "    </tr>\n",
       "    <tr>\n",
       "      <th>min</th>\n",
       "      <td>0.000000</td>\n",
       "    </tr>\n",
       "    <tr>\n",
       "      <th>25%</th>\n",
       "      <td>70.400000</td>\n",
       "    </tr>\n",
       "    <tr>\n",
       "      <th>50%</th>\n",
       "      <td>95.222222</td>\n",
       "    </tr>\n",
       "    <tr>\n",
       "      <th>75%</th>\n",
       "      <td>100.000000</td>\n",
       "    </tr>\n",
       "    <tr>\n",
       "      <th>max</th>\n",
       "      <td>100.000000</td>\n",
       "    </tr>\n",
       "  </tbody>\n",
       "</table>\n",
       "</div>"
      ],
      "text/plain": [
       "               mean\n",
       "count  14555.000000\n",
       "mean      83.651225\n",
       "std       21.501529\n",
       "min        0.000000\n",
       "25%       70.400000\n",
       "50%       95.222222\n",
       "75%      100.000000\n",
       "max      100.000000"
      ]
     },
     "execution_count": 125,
     "metadata": {},
     "output_type": "execute_result"
    }
   ],
   "source": [
    "mean_f.describe().to_frame()"
   ]
  },
  {
   "cell_type": "code",
   "execution_count": 136,
   "metadata": {
    "collapsed": false
   },
   "outputs": [
    {
     "data": {
      "text/html": [
       "<div>\n",
       "<table border=\"1\" class=\"dataframe\">\n",
       "  <thead>\n",
       "    <tr style=\"text-align: right;\">\n",
       "      <th></th>\n",
       "      <th>mean</th>\n",
       "    </tr>\n",
       "  </thead>\n",
       "  <tbody>\n",
       "    <tr>\n",
       "      <th>count</th>\n",
       "      <td>51812.000000</td>\n",
       "    </tr>\n",
       "    <tr>\n",
       "      <th>mean</th>\n",
       "      <td>84.035278</td>\n",
       "    </tr>\n",
       "    <tr>\n",
       "      <th>std</th>\n",
       "      <td>21.208899</td>\n",
       "    </tr>\n",
       "    <tr>\n",
       "      <th>min</th>\n",
       "      <td>0.000000</td>\n",
       "    </tr>\n",
       "    <tr>\n",
       "      <th>25%</th>\n",
       "      <td>72.500000</td>\n",
       "    </tr>\n",
       "    <tr>\n",
       "      <th>50%</th>\n",
       "      <td>95.000000</td>\n",
       "    </tr>\n",
       "    <tr>\n",
       "      <th>75%</th>\n",
       "      <td>100.000000</td>\n",
       "    </tr>\n",
       "    <tr>\n",
       "      <th>max</th>\n",
       "      <td>100.000000</td>\n",
       "    </tr>\n",
       "  </tbody>\n",
       "</table>\n",
       "</div>"
      ],
      "text/plain": [
       "               mean\n",
       "count  51812.000000\n",
       "mean      84.035278\n",
       "std       21.208899\n",
       "min        0.000000\n",
       "25%       72.500000\n",
       "50%       95.000000\n",
       "75%      100.000000\n",
       "max      100.000000"
      ]
     },
     "execution_count": 136,
     "metadata": {},
     "output_type": "execute_result"
    }
   ],
   "source": [
    "mean_m.describe().to_frame()"
   ]
  },
  {
   "cell_type": "code",
   "execution_count": 13,
   "metadata": {
    "collapsed": true
   },
   "outputs": [],
   "source": [
    "import scipy.stats as stats"
   ]
  },
  {
   "cell_type": "code",
   "execution_count": 14,
   "metadata": {
    "collapsed": true
   },
   "outputs": [],
   "source": [
    "import seaborn as sns\n",
    "sns.set(color_codes=True)"
   ]
  },
  {
   "cell_type": "code",
   "execution_count": 15,
   "metadata": {
    "collapsed": false
   },
   "outputs": [
    {
     "data": {
      "image/png": "[encoded data removed]",
      "text/plain": [
       "<matplotlib.figure.Figure at 0x1d461c87b70>"
      ]
     },
     "metadata": {},
     "output_type": "display_data"
    }
   ],
   "source": [
    "sns.kdeplot(mean_m, shade=True, label = 'Male', color=\"b\")\n",
    "sns.kdeplot(mean_f, shade=True, label = 'Female',color=\"r\")\n",
    "plt.xlabel('Mean Value')\n",
    "plt.ylabel('Density')\n",
    "plt.title('Distribution of Mean')\n",
    "plt.legend()\n",
    "plt.show()"
   ]
  },
  {
   "cell_type": "markdown",
   "metadata": {},
   "source": [
    "- median"
   ]
  },
  {
   "cell_type": "code",
   "execution_count": 16,
   "metadata": {
    "collapsed": true
   },
   "outputs": [],
   "source": [
    "median_f = f_table.loc[:,'median']"
   ]
  },
  {
   "cell_type": "code",
   "execution_count": 127,
   "metadata": {
    "collapsed": false
   },
   "outputs": [
    {
     "data": {
      "text/html": [
       "<div>\n",
       "<table border=\"1\" class=\"dataframe\">\n",
       "  <thead>\n",
       "    <tr style=\"text-align: right;\">\n",
       "      <th></th>\n",
       "      <th>median</th>\n",
       "    </tr>\n",
       "  </thead>\n",
       "  <tbody>\n",
       "    <tr>\n",
       "      <th>count</th>\n",
       "      <td>14555.000000</td>\n",
       "    </tr>\n",
       "    <tr>\n",
       "      <th>mean</th>\n",
       "      <td>84.839288</td>\n",
       "    </tr>\n",
       "    <tr>\n",
       "      <th>std</th>\n",
       "      <td>22.724691</td>\n",
       "    </tr>\n",
       "    <tr>\n",
       "      <th>min</th>\n",
       "      <td>0.000000</td>\n",
       "    </tr>\n",
       "    <tr>\n",
       "      <th>25%</th>\n",
       "      <td>76.000000</td>\n",
       "    </tr>\n",
       "    <tr>\n",
       "      <th>50%</th>\n",
       "      <td>98.000000</td>\n",
       "    </tr>\n",
       "    <tr>\n",
       "      <th>75%</th>\n",
       "      <td>100.000000</td>\n",
       "    </tr>\n",
       "    <tr>\n",
       "      <th>max</th>\n",
       "      <td>100.000000</td>\n",
       "    </tr>\n",
       "  </tbody>\n",
       "</table>\n",
       "</div>"
      ],
      "text/plain": [
       "             median\n",
       "count  14555.000000\n",
       "mean      84.839288\n",
       "std       22.724691\n",
       "min        0.000000\n",
       "25%       76.000000\n",
       "50%       98.000000\n",
       "75%      100.000000\n",
       "max      100.000000"
      ]
     },
     "execution_count": 127,
     "metadata": {},
     "output_type": "execute_result"
    }
   ],
   "source": [
    "median_f.describe().to_frame()"
   ]
  },
  {
   "cell_type": "code",
   "execution_count": 18,
   "metadata": {
    "collapsed": true
   },
   "outputs": [],
   "source": [
    "median_m = m_table.loc[:,'median']"
   ]
  },
  {
   "cell_type": "code",
   "execution_count": 128,
   "metadata": {
    "collapsed": false
   },
   "outputs": [
    {
     "data": {
      "text/html": [
       "<div>\n",
       "<table border=\"1\" class=\"dataframe\">\n",
       "  <thead>\n",
       "    <tr style=\"text-align: right;\">\n",
       "      <th></th>\n",
       "      <th>median</th>\n",
       "    </tr>\n",
       "  </thead>\n",
       "  <tbody>\n",
       "    <tr>\n",
       "      <th>count</th>\n",
       "      <td>51812.000000</td>\n",
       "    </tr>\n",
       "    <tr>\n",
       "      <th>mean</th>\n",
       "      <td>85.252374</td>\n",
       "    </tr>\n",
       "    <tr>\n",
       "      <th>std</th>\n",
       "      <td>22.485232</td>\n",
       "    </tr>\n",
       "    <tr>\n",
       "      <th>min</th>\n",
       "      <td>0.000000</td>\n",
       "    </tr>\n",
       "    <tr>\n",
       "      <th>25%</th>\n",
       "      <td>78.000000</td>\n",
       "    </tr>\n",
       "    <tr>\n",
       "      <th>50%</th>\n",
       "      <td>97.500000</td>\n",
       "    </tr>\n",
       "    <tr>\n",
       "      <th>75%</th>\n",
       "      <td>100.000000</td>\n",
       "    </tr>\n",
       "    <tr>\n",
       "      <th>max</th>\n",
       "      <td>100.000000</td>\n",
       "    </tr>\n",
       "  </tbody>\n",
       "</table>\n",
       "</div>"
      ],
      "text/plain": [
       "             median\n",
       "count  51812.000000\n",
       "mean      85.252374\n",
       "std       22.485232\n",
       "min        0.000000\n",
       "25%       78.000000\n",
       "50%       97.500000\n",
       "75%      100.000000\n",
       "max      100.000000"
      ]
     },
     "execution_count": 128,
     "metadata": {},
     "output_type": "execute_result"
    }
   ],
   "source": [
    "median_m.describe().to_frame()"
   ]
  },
  {
   "cell_type": "code",
   "execution_count": 20,
   "metadata": {
    "collapsed": false
   },
   "outputs": [
    {
     "data": {
      "image/png": "[encoded data removed]",
      "text/plain": [
       "<matplotlib.figure.Figure at 0x1d46323f828>"
      ]
     },
     "metadata": {},
     "output_type": "display_data"
    }
   ],
   "source": [
    "sns.kdeplot(median_m, shade=True, label = 'Male', color=\"b\")\n",
    "sns.kdeplot(median_f, shade=True, label = 'Female',color=\"r\")\n",
    "plt.xlabel('Median Value')\n",
    "plt.ylabel('Density')\n",
    "plt.title('Distribution of Median')\n",
    "plt.legend()\n",
    "plt.show()"
   ]
  },
  {
   "cell_type": "markdown",
   "metadata": {},
   "source": [
    "- STD"
   ]
  },
  {
   "cell_type": "code",
   "execution_count": 21,
   "metadata": {
    "collapsed": true
   },
   "outputs": [],
   "source": [
    "std_m = m_table.loc[:,'std']"
   ]
  },
  {
   "cell_type": "code",
   "execution_count": 129,
   "metadata": {
    "collapsed": false
   },
   "outputs": [
    {
     "data": {
      "text/html": [
       "<div>\n",
       "<table border=\"1\" class=\"dataframe\">\n",
       "  <thead>\n",
       "    <tr style=\"text-align: right;\">\n",
       "      <th></th>\n",
       "      <th>std</th>\n",
       "    </tr>\n",
       "  </thead>\n",
       "  <tbody>\n",
       "    <tr>\n",
       "      <th>count</th>\n",
       "      <td>51812.000000</td>\n",
       "    </tr>\n",
       "    <tr>\n",
       "      <th>mean</th>\n",
       "      <td>8.644098</td>\n",
       "    </tr>\n",
       "    <tr>\n",
       "      <th>std</th>\n",
       "      <td>13.139521</td>\n",
       "    </tr>\n",
       "    <tr>\n",
       "      <th>min</th>\n",
       "      <td>0.000000</td>\n",
       "    </tr>\n",
       "    <tr>\n",
       "      <th>25%</th>\n",
       "      <td>0.000000</td>\n",
       "    </tr>\n",
       "    <tr>\n",
       "      <th>50%</th>\n",
       "      <td>0.000000</td>\n",
       "    </tr>\n",
       "    <tr>\n",
       "      <th>75%</th>\n",
       "      <td>15.084945</td>\n",
       "    </tr>\n",
       "    <tr>\n",
       "      <th>max</th>\n",
       "      <td>50.000000</td>\n",
       "    </tr>\n",
       "  </tbody>\n",
       "</table>\n",
       "</div>"
      ],
      "text/plain": [
       "                std\n",
       "count  51812.000000\n",
       "mean       8.644098\n",
       "std       13.139521\n",
       "min        0.000000\n",
       "25%        0.000000\n",
       "50%        0.000000\n",
       "75%       15.084945\n",
       "max       50.000000"
      ]
     },
     "execution_count": 129,
     "metadata": {},
     "output_type": "execute_result"
    }
   ],
   "source": [
    "std_m.describe().to_frame()"
   ]
  },
  {
   "cell_type": "code",
   "execution_count": 23,
   "metadata": {
    "collapsed": true
   },
   "outputs": [],
   "source": [
    "std_f = f_table.loc[:,'std']"
   ]
  },
  {
   "cell_type": "code",
   "execution_count": 130,
   "metadata": {
    "collapsed": false
   },
   "outputs": [
    {
     "data": {
      "text/html": [
       "<div>\n",
       "<table border=\"1\" class=\"dataframe\">\n",
       "  <thead>\n",
       "    <tr style=\"text-align: right;\">\n",
       "      <th></th>\n",
       "      <th>std</th>\n",
       "    </tr>\n",
       "  </thead>\n",
       "  <tbody>\n",
       "    <tr>\n",
       "      <th>count</th>\n",
       "      <td>14555.000000</td>\n",
       "    </tr>\n",
       "    <tr>\n",
       "      <th>mean</th>\n",
       "      <td>9.026259</td>\n",
       "    </tr>\n",
       "    <tr>\n",
       "      <th>std</th>\n",
       "      <td>13.392988</td>\n",
       "    </tr>\n",
       "    <tr>\n",
       "      <th>min</th>\n",
       "      <td>0.000000</td>\n",
       "    </tr>\n",
       "    <tr>\n",
       "      <th>25%</th>\n",
       "      <td>0.000000</td>\n",
       "    </tr>\n",
       "    <tr>\n",
       "      <th>50%</th>\n",
       "      <td>0.000000</td>\n",
       "    </tr>\n",
       "    <tr>\n",
       "      <th>75%</th>\n",
       "      <td>17.665069</td>\n",
       "    </tr>\n",
       "    <tr>\n",
       "      <th>max</th>\n",
       "      <td>50.000000</td>\n",
       "    </tr>\n",
       "  </tbody>\n",
       "</table>\n",
       "</div>"
      ],
      "text/plain": [
       "                std\n",
       "count  14555.000000\n",
       "mean       9.026259\n",
       "std       13.392988\n",
       "min        0.000000\n",
       "25%        0.000000\n",
       "50%        0.000000\n",
       "75%       17.665069\n",
       "max       50.000000"
      ]
     },
     "execution_count": 130,
     "metadata": {},
     "output_type": "execute_result"
    }
   ],
   "source": [
    "std_f.describe().to_frame()"
   ]
  },
  {
   "cell_type": "code",
   "execution_count": 25,
   "metadata": {
    "collapsed": false
   },
   "outputs": [
    {
     "data": {
      "image/png": "[encoded data removed]",
      "text/plain": [
       "<matplotlib.figure.Figure at 0x1d46339bcf8>"
      ]
     },
     "metadata": {},
     "output_type": "display_data"
    }
   ],
   "source": [
    "sns.kdeplot(std_m, shade=True, label = 'Male', color=\"b\")\n",
    "sns.kdeplot(std_f, shade=True, label = 'Female',color=\"r\")\n",
    "plt.xlabel('STD')\n",
    "plt.ylabel('Density')\n",
    "plt.title('Distribution of STD')\n",
    "plt.legend()\n",
    "plt.show()"
   ]
  },
  {
   "cell_type": "markdown",
   "metadata": {},
   "source": [
    "- Overall rating"
   ]
  },
  {
   "cell_type": "code",
   "execution_count": 26,
   "metadata": {
    "collapsed": false,
    "scrolled": true
   },
   "outputs": [
    {
     "name": "stderr",
     "output_type": "stream",
     "text": [
      "C:\\Users\\amyhu\\Anaconda3\\lib\\site-packages\\IPython\\core\\interactiveshell.py:2717: DtypeWarning: Columns (15,25,26,27,28,29,30,31,32,33,34,36,40) have mixed types. Specify dtype option on import or set low_memory=False.\n",
      "  interactivity=interactivity, compiler=compiler, result=result)\n"
     ]
    }
   ],
   "source": [
    "nation_table = pd.read_csv('Physician_Compare_National_Downloadable_File.csv')"
   ]
  },
  {
   "cell_type": "code",
   "execution_count": 27,
   "metadata": {
    "collapsed": false
   },
   "outputs": [
    {
     "data": {
      "text/html": [
       "<div>\n",
       "<table border=\"1\" class=\"dataframe\">\n",
       "  <thead>\n",
       "    <tr style=\"text-align: right;\">\n",
       "      <th></th>\n",
       "      <th>NPI</th>\n",
       "      <th>PAC ID</th>\n",
       "      <th>Professional Enrollment ID</th>\n",
       "      <th>Last Name</th>\n",
       "      <th>First Name</th>\n",
       "      <th>Middle Name</th>\n",
       "      <th>Suffix</th>\n",
       "      <th>Gender</th>\n",
       "      <th>Credential</th>\n",
       "      <th>Medical school name</th>\n",
       "      <th>...</th>\n",
       "      <th>Hospital affiliation CCN 3</th>\n",
       "      <th>Hospital affiliation LBN 3</th>\n",
       "      <th>Hospital affiliation CCN 4</th>\n",
       "      <th>Hospital affiliation LBN 4</th>\n",
       "      <th>Hospital affiliation CCN 5</th>\n",
       "      <th>Hospital affiliation LBN 5</th>\n",
       "      <th>Professional accepts Medicare Assignment</th>\n",
       "      <th>Reported Quality Measures</th>\n",
       "      <th>Used electronic health records</th>\n",
       "      <th>Committed to heart health through the Million Hearts® initiative.</th>\n",
       "    </tr>\n",
       "  </thead>\n",
       "  <tbody>\n",
       "    <tr>\n",
       "      <th>0</th>\n",
       "      <td>1487927612</td>\n",
       "      <td>4880850486</td>\n",
       "      <td>I20120726000331</td>\n",
       "      <td>HALL</td>\n",
       "      <td>ESTHER</td>\n",
       "      <td>S</td>\n",
       "      <td>NaN</td>\n",
       "      <td>F</td>\n",
       "      <td>NaN</td>\n",
       "      <td>LIFE CHIROPRACTIC COLLEGE - WEST</td>\n",
       "      <td>...</td>\n",
       "      <td>NaN</td>\n",
       "      <td>NaN</td>\n",
       "      <td>NaN</td>\n",
       "      <td>NaN</td>\n",
       "      <td>NaN</td>\n",
       "      <td>NaN</td>\n",
       "      <td>Y</td>\n",
       "      <td>NaN</td>\n",
       "      <td>NaN</td>\n",
       "      <td>NaN</td>\n",
       "    </tr>\n",
       "    <tr>\n",
       "      <th>1</th>\n",
       "      <td>1235146762</td>\n",
       "      <td>2365435336</td>\n",
       "      <td>I20040406000367</td>\n",
       "      <td>WHITE</td>\n",
       "      <td>BARBARA</td>\n",
       "      <td>L</td>\n",
       "      <td>NaN</td>\n",
       "      <td>F</td>\n",
       "      <td>CSW</td>\n",
       "      <td>OTHER</td>\n",
       "      <td>...</td>\n",
       "      <td>NaN</td>\n",
       "      <td>NaN</td>\n",
       "      <td>NaN</td>\n",
       "      <td>NaN</td>\n",
       "      <td>NaN</td>\n",
       "      <td>NaN</td>\n",
       "      <td>Y</td>\n",
       "      <td>NaN</td>\n",
       "      <td>NaN</td>\n",
       "      <td>NaN</td>\n",
       "    </tr>\n",
       "    <tr>\n",
       "      <th>2</th>\n",
       "      <td>1346282258</td>\n",
       "      <td>5395768527</td>\n",
       "      <td>I20060113000139</td>\n",
       "      <td>DAVIDSON</td>\n",
       "      <td>JOHN</td>\n",
       "      <td>A</td>\n",
       "      <td>NaN</td>\n",
       "      <td>M</td>\n",
       "      <td>CSW</td>\n",
       "      <td>OTHER</td>\n",
       "      <td>...</td>\n",
       "      <td>NaN</td>\n",
       "      <td>NaN</td>\n",
       "      <td>NaN</td>\n",
       "      <td>NaN</td>\n",
       "      <td>NaN</td>\n",
       "      <td>NaN</td>\n",
       "      <td>Y</td>\n",
       "      <td>NaN</td>\n",
       "      <td>NaN</td>\n",
       "      <td>NaN</td>\n",
       "    </tr>\n",
       "    <tr>\n",
       "      <th>3</th>\n",
       "      <td>1932283124</td>\n",
       "      <td>5193762862</td>\n",
       "      <td>I20050415000143</td>\n",
       "      <td>CAGEN</td>\n",
       "      <td>STEVEN</td>\n",
       "      <td>F</td>\n",
       "      <td>NaN</td>\n",
       "      <td>M</td>\n",
       "      <td>DC</td>\n",
       "      <td>SHERMAN COLLEGE OF STRAIGHT CHIROPRACTIC</td>\n",
       "      <td>...</td>\n",
       "      <td>NaN</td>\n",
       "      <td>NaN</td>\n",
       "      <td>NaN</td>\n",
       "      <td>NaN</td>\n",
       "      <td>NaN</td>\n",
       "      <td>NaN</td>\n",
       "      <td>Y</td>\n",
       "      <td>NaN</td>\n",
       "      <td>NaN</td>\n",
       "      <td>NaN</td>\n",
       "    </tr>\n",
       "    <tr>\n",
       "      <th>4</th>\n",
       "      <td>1902950462</td>\n",
       "      <td>7416123666</td>\n",
       "      <td>I20120110000522</td>\n",
       "      <td>ESPY</td>\n",
       "      <td>LEISHA</td>\n",
       "      <td>H</td>\n",
       "      <td>NaN</td>\n",
       "      <td>F</td>\n",
       "      <td>NaN</td>\n",
       "      <td>LIFE CHIROPRACTIC COLLEGE</td>\n",
       "      <td>...</td>\n",
       "      <td>NaN</td>\n",
       "      <td>NaN</td>\n",
       "      <td>NaN</td>\n",
       "      <td>NaN</td>\n",
       "      <td>NaN</td>\n",
       "      <td>NaN</td>\n",
       "      <td>M</td>\n",
       "      <td>NaN</td>\n",
       "      <td>NaN</td>\n",
       "      <td>NaN</td>\n",
       "    </tr>\n",
       "  </tbody>\n",
       "</table>\n",
       "<p>5 rows × 41 columns</p>\n",
       "</div>"
      ],
      "text/plain": [
       "          NPI      PAC ID Professional Enrollment ID Last Name First Name  \\\n",
       "0  1487927612  4880850486            I20120726000331      HALL     ESTHER   \n",
       "1  1235146762  2365435336            I20040406000367     WHITE    BARBARA   \n",
       "2  1346282258  5395768527            I20060113000139  DAVIDSON       JOHN   \n",
       "3  1932283124  5193762862            I20050415000143     CAGEN     STEVEN   \n",
       "4  1902950462  7416123666            I20120110000522      ESPY     LEISHA   \n",
       "\n",
       "  Middle Name Suffix Gender Credential  \\\n",
       "0           S    NaN      F        NaN   \n",
       "1           L    NaN      F        CSW   \n",
       "2           A    NaN      M        CSW   \n",
       "3           F    NaN      M         DC   \n",
       "4           H    NaN      F        NaN   \n",
       "\n",
       "                        Medical school name  \\\n",
       "0          LIFE CHIROPRACTIC COLLEGE - WEST   \n",
       "1                                     OTHER   \n",
       "2                                     OTHER   \n",
       "3  SHERMAN COLLEGE OF STRAIGHT CHIROPRACTIC   \n",
       "4                 LIFE CHIROPRACTIC COLLEGE   \n",
       "\n",
       "                                 ...                                  \\\n",
       "0                                ...                                   \n",
       "1                                ...                                   \n",
       "2                                ...                                   \n",
       "3                                ...                                   \n",
       "4                                ...                                   \n",
       "\n",
       "   Hospital affiliation CCN 3 Hospital affiliation LBN 3  \\\n",
       "0                         NaN                        NaN   \n",
       "1                         NaN                        NaN   \n",
       "2                         NaN                        NaN   \n",
       "3                         NaN                        NaN   \n",
       "4                         NaN                        NaN   \n",
       "\n",
       "  Hospital affiliation CCN 4 Hospital affiliation LBN 4  \\\n",
       "0                        NaN                        NaN   \n",
       "1                        NaN                        NaN   \n",
       "2                        NaN                        NaN   \n",
       "3                        NaN                        NaN   \n",
       "4                        NaN                        NaN   \n",
       "\n",
       "  Hospital affiliation CCN 5 Hospital affiliation LBN 5  \\\n",
       "0                        NaN                        NaN   \n",
       "1                        NaN                        NaN   \n",
       "2                        NaN                        NaN   \n",
       "3                        NaN                        NaN   \n",
       "4                        NaN                        NaN   \n",
       "\n",
       "  Professional accepts Medicare Assignment Reported Quality Measures  \\\n",
       "0                                        Y                       NaN   \n",
       "1                                        Y                       NaN   \n",
       "2                                        Y                       NaN   \n",
       "3                                        Y                       NaN   \n",
       "4                                        M                       NaN   \n",
       "\n",
       "   Used electronic health records  \\\n",
       "0                             NaN   \n",
       "1                             NaN   \n",
       "2                             NaN   \n",
       "3                             NaN   \n",
       "4                             NaN   \n",
       "\n",
       "   Committed to heart health through the Million Hearts® initiative.  \n",
       "0                                                NaN                  \n",
       "1                                                NaN                  \n",
       "2                                                NaN                  \n",
       "3                                                NaN                  \n",
       "4                                                NaN                  \n",
       "\n",
       "[5 rows x 41 columns]"
      ]
     },
     "execution_count": 27,
     "metadata": {},
     "output_type": "execute_result"
    }
   ],
   "source": [
    "nation_table.head()"
   ]
  },
  {
   "cell_type": "code",
   "execution_count": 28,
   "metadata": {
    "collapsed": true
   },
   "outputs": [],
   "source": [
    "df = nation_table.loc[:,['NPI','Graduation year','Primary specialty']]"
   ]
  },
  {
   "cell_type": "code",
   "execution_count": 29,
   "metadata": {
    "collapsed": false
   },
   "outputs": [
    {
     "data": {
      "text/html": [
       "<div>\n",
       "<table border=\"1\" class=\"dataframe\">\n",
       "  <thead>\n",
       "    <tr style=\"text-align: right;\">\n",
       "      <th></th>\n",
       "      <th>NPI</th>\n",
       "      <th>Graduation year</th>\n",
       "      <th>Primary specialty</th>\n",
       "    </tr>\n",
       "  </thead>\n",
       "  <tbody>\n",
       "    <tr>\n",
       "      <th>0</th>\n",
       "      <td>1487927612</td>\n",
       "      <td>2010.0</td>\n",
       "      <td>CHIROPRACTIC</td>\n",
       "    </tr>\n",
       "    <tr>\n",
       "      <th>1</th>\n",
       "      <td>1235146762</td>\n",
       "      <td>1992.0</td>\n",
       "      <td>CLINICAL SOCIAL WORKER</td>\n",
       "    </tr>\n",
       "    <tr>\n",
       "      <th>2</th>\n",
       "      <td>1346282258</td>\n",
       "      <td>1999.0</td>\n",
       "      <td>CLINICAL SOCIAL WORKER</td>\n",
       "    </tr>\n",
       "    <tr>\n",
       "      <th>3</th>\n",
       "      <td>1932283124</td>\n",
       "      <td>1997.0</td>\n",
       "      <td>CHIROPRACTIC</td>\n",
       "    </tr>\n",
       "    <tr>\n",
       "      <th>4</th>\n",
       "      <td>1902950462</td>\n",
       "      <td>1985.0</td>\n",
       "      <td>CHIROPRACTIC</td>\n",
       "    </tr>\n",
       "  </tbody>\n",
       "</table>\n",
       "</div>"
      ],
      "text/plain": [
       "          NPI  Graduation year       Primary specialty\n",
       "0  1487927612           2010.0            CHIROPRACTIC\n",
       "1  1235146762           1992.0  CLINICAL SOCIAL WORKER\n",
       "2  1346282258           1999.0  CLINICAL SOCIAL WORKER\n",
       "3  1932283124           1997.0            CHIROPRACTIC\n",
       "4  1902950462           1985.0            CHIROPRACTIC"
      ]
     },
     "execution_count": 29,
     "metadata": {},
     "output_type": "execute_result"
    }
   ],
   "source": [
    "df.head()"
   ]
  },
  {
   "cell_type": "code",
   "execution_count": 30,
   "metadata": {
    "collapsed": false
   },
   "outputs": [],
   "source": [
    "df.loc[:,'Graduation year']  = 2018 - df.loc[:,'Graduation year'] "
   ]
  },
  {
   "cell_type": "code",
   "execution_count": 31,
   "metadata": {
    "collapsed": false
   },
   "outputs": [],
   "source": [
    "df_1 = performance.merge(df, how = 'inner', on = 'NPI')"
   ]
  },
  {
   "cell_type": "code",
   "execution_count": 32,
   "metadata": {
    "collapsed": false
   },
   "outputs": [
    {
     "data": {
      "text/plain": [
       "(223963, 8)"
      ]
     },
     "execution_count": 32,
     "metadata": {},
     "output_type": "execute_result"
    }
   ],
   "source": [
    "np.shape(df_1)"
   ]
  },
  {
   "cell_type": "code",
   "execution_count": 33,
   "metadata": {
    "collapsed": true
   },
   "outputs": [],
   "source": [
    "df_2 = df_1.drop_duplicates(subset='NPI', keep='last')"
   ]
  },
  {
   "cell_type": "code",
   "execution_count": 34,
   "metadata": {
    "collapsed": false
   },
   "outputs": [],
   "source": [
    "df_2 = df_2.reset_index()"
   ]
  },
  {
   "cell_type": "code",
   "execution_count": 35,
   "metadata": {
    "collapsed": false
   },
   "outputs": [
    {
     "data": {
      "text/plain": [
       "(66367, 9)"
      ]
     },
     "execution_count": 35,
     "metadata": {},
     "output_type": "execute_result"
    }
   ],
   "source": [
    "np.shape(df_2)"
   ]
  },
  {
   "cell_type": "code",
   "execution_count": 36,
   "metadata": {
    "collapsed": false
   },
   "outputs": [
    {
     "data": {
      "text/plain": [
       "index                  0\n",
       "NPI                    0\n",
       "Gender                 0\n",
       "std                    0\n",
       "median                 0\n",
       "mean                   0\n",
       "href                   0\n",
       "Graduation year      343\n",
       "Primary specialty      0\n",
       "dtype: int64"
      ]
     },
     "execution_count": 36,
     "metadata": {},
     "output_type": "execute_result"
    }
   ],
   "source": [
    "df_2.isnull().sum()"
   ]
  },
  {
   "cell_type": "code",
   "execution_count": 37,
   "metadata": {
    "collapsed": true
   },
   "outputs": [],
   "source": [
    "df_3 = df_2.dropna()"
   ]
  },
  {
   "cell_type": "code",
   "execution_count": 38,
   "metadata": {
    "collapsed": false
   },
   "outputs": [
    {
     "data": {
      "text/plain": [
       "index                0\n",
       "NPI                  0\n",
       "Gender               0\n",
       "std                  0\n",
       "median               0\n",
       "mean                 0\n",
       "href                 0\n",
       "Graduation year      0\n",
       "Primary specialty    0\n",
       "dtype: int64"
      ]
     },
     "execution_count": 38,
     "metadata": {},
     "output_type": "execute_result"
    }
   ],
   "source": [
    "df_3.isnull().sum()"
   ]
  },
  {
   "cell_type": "code",
   "execution_count": 39,
   "metadata": {
    "collapsed": false
   },
   "outputs": [],
   "source": [
    "df_3 = df_3.rename(columns={\"Graduation year\":\"experienceyear\",\"Primary specialty\":\"specialty\"})"
   ]
  },
  {
   "cell_type": "code",
   "execution_count": 40,
   "metadata": {
    "collapsed": false
   },
   "outputs": [],
   "source": [
    "df_3['specialty'] = df_3['specialty'].astype('category')"
   ]
  },
  {
   "cell_type": "code",
   "execution_count": 41,
   "metadata": {
    "collapsed": true
   },
   "outputs": [],
   "source": [
    "df_3['Gender'] = df_3['Gender'].astype('category')"
   ]
  },
  {
   "cell_type": "code",
   "execution_count": 42,
   "metadata": {
    "collapsed": true
   },
   "outputs": [],
   "source": [
    "#df_3['YearMissing'] = df_3['YearMissing'].astype('category')"
   ]
  },
  {
   "cell_type": "code",
   "execution_count": 43,
   "metadata": {
    "collapsed": true
   },
   "outputs": [],
   "source": [
    "cat_columns = df_3.select_dtypes(['category']).columns"
   ]
  },
  {
   "cell_type": "code",
   "execution_count": 44,
   "metadata": {
    "collapsed": false
   },
   "outputs": [
    {
     "data": {
      "text/plain": [
       "Index(['Gender', 'specialty'], dtype='object')"
      ]
     },
     "execution_count": 44,
     "metadata": {},
     "output_type": "execute_result"
    }
   ],
   "source": [
    "cat_columns"
   ]
  },
  {
   "cell_type": "code",
   "execution_count": 45,
   "metadata": {
    "collapsed": true
   },
   "outputs": [],
   "source": [
    "df_3[cat_columns] = df_3[cat_columns].apply(lambda x: x.cat.codes)"
   ]
  },
  {
   "cell_type": "code",
   "execution_count": 46,
   "metadata": {
    "collapsed": false
   },
   "outputs": [
    {
     "data": {
      "text/html": [
       "<div>\n",
       "<table border=\"1\" class=\"dataframe\">\n",
       "  <thead>\n",
       "    <tr style=\"text-align: right;\">\n",
       "      <th></th>\n",
       "      <th>index</th>\n",
       "      <th>NPI</th>\n",
       "      <th>Gender</th>\n",
       "      <th>std</th>\n",
       "      <th>median</th>\n",
       "      <th>mean</th>\n",
       "      <th>href</th>\n",
       "      <th>experienceyear</th>\n",
       "      <th>specialty</th>\n",
       "    </tr>\n",
       "  </thead>\n",
       "  <tbody>\n",
       "    <tr>\n",
       "      <th>0</th>\n",
       "      <td>1</td>\n",
       "      <td>1205831344</td>\n",
       "      <td>1</td>\n",
       "      <td>40.000000</td>\n",
       "      <td>100.0</td>\n",
       "      <td>80.000000</td>\n",
       "      <td>/doctors/Dr_Gary_Rylander</td>\n",
       "      <td>41.0</td>\n",
       "      <td>45</td>\n",
       "    </tr>\n",
       "    <tr>\n",
       "      <th>1</th>\n",
       "      <td>3</td>\n",
       "      <td>1366412033</td>\n",
       "      <td>0</td>\n",
       "      <td>2.357023</td>\n",
       "      <td>100.0</td>\n",
       "      <td>98.333333</td>\n",
       "      <td>/doctors/Dr_Rebecca_L_Smith</td>\n",
       "      <td>28.0</td>\n",
       "      <td>15</td>\n",
       "    </tr>\n",
       "    <tr>\n",
       "      <th>2</th>\n",
       "      <td>4</td>\n",
       "      <td>1689629172</td>\n",
       "      <td>0</td>\n",
       "      <td>0.000000</td>\n",
       "      <td>100.0</td>\n",
       "      <td>100.000000</td>\n",
       "      <td>/doctors/Dr_Lynne_Kaplinsky</td>\n",
       "      <td>26.0</td>\n",
       "      <td>45</td>\n",
       "    </tr>\n",
       "    <tr>\n",
       "      <th>3</th>\n",
       "      <td>6</td>\n",
       "      <td>1356374177</td>\n",
       "      <td>0</td>\n",
       "      <td>0.000000</td>\n",
       "      <td>100.0</td>\n",
       "      <td>100.000000</td>\n",
       "      <td>/doctors/Dr_Margaret_Bertrand</td>\n",
       "      <td>44.0</td>\n",
       "      <td>16</td>\n",
       "    </tr>\n",
       "    <tr>\n",
       "      <th>4</th>\n",
       "      <td>8</td>\n",
       "      <td>1770507352</td>\n",
       "      <td>0</td>\n",
       "      <td>0.000000</td>\n",
       "      <td>81.0</td>\n",
       "      <td>81.000000</td>\n",
       "      <td>/doctors/Dr_Lynne_Mcelhinney</td>\n",
       "      <td>23.0</td>\n",
       "      <td>45</td>\n",
       "    </tr>\n",
       "  </tbody>\n",
       "</table>\n",
       "</div>"
      ],
      "text/plain": [
       "   index         NPI  Gender        std  median        mean  \\\n",
       "0      1  1205831344       1  40.000000   100.0   80.000000   \n",
       "1      3  1366412033       0   2.357023   100.0   98.333333   \n",
       "2      4  1689629172       0   0.000000   100.0  100.000000   \n",
       "3      6  1356374177       0   0.000000   100.0  100.000000   \n",
       "4      8  1770507352       0   0.000000    81.0   81.000000   \n",
       "\n",
       "                            href  experienceyear  specialty  \n",
       "0      /doctors/Dr_Gary_Rylander            41.0         45  \n",
       "1    /doctors/Dr_Rebecca_L_Smith            28.0         15  \n",
       "2    /doctors/Dr_Lynne_Kaplinsky            26.0         45  \n",
       "3  /doctors/Dr_Margaret_Bertrand            44.0         16  \n",
       "4   /doctors/Dr_Lynne_Mcelhinney            23.0         45  "
      ]
     },
     "execution_count": 46,
     "metadata": {},
     "output_type": "execute_result"
    }
   ],
   "source": [
    "df_3.head()"
   ]
  },
  {
   "cell_type": "code",
   "execution_count": 47,
   "metadata": {
    "collapsed": false
   },
   "outputs": [
    {
     "data": {
      "text/plain": [
       "(66024, 9)"
      ]
     },
     "execution_count": 47,
     "metadata": {},
     "output_type": "execute_result"
    }
   ],
   "source": [
    "np.shape(df_3)"
   ]
  },
  {
   "cell_type": "code",
   "execution_count": 48,
   "metadata": {
    "collapsed": true
   },
   "outputs": [],
   "source": [
    "panel = pd.read_csv('doctors_panel_t8.csv')"
   ]
  },
  {
   "cell_type": "code",
   "execution_count": 49,
   "metadata": {
    "collapsed": false
   },
   "outputs": [
    {
     "data": {
      "text/plain": [
       "Id                              0\n",
       "href                            0\n",
       "years_of_exp               432050\n",
       "overall_rating                  0\n",
       "n_ratings                       0\n",
       "n_reviews                       0\n",
       "avg_wating                1000733\n",
       "Ease_of_Appointment        859795\n",
       "Promptness                 895034\n",
       "Courteous_Staff            893877\n",
       "Accurate_Diagnosis         891816\n",
       "Bedside_Manner             891785\n",
       "Spends_Time_with_Me        891773\n",
       "Follows_Up_After_Visit     897890\n",
       "Comfortable_Office        1259010\n",
       "Cleanliness               1259017\n",
       "Advanced_Technology       1259167\n",
       "Caring_Manner             1258985\n",
       "Pain_Minimized            1259259\n",
       "Satisfaction              1259697\n",
       "n_5                        844215\n",
       "n_4                        844215\n",
       "n_3                        844215\n",
       "n_2                        844215\n",
       "n_1                        844216\n",
       "address                         0\n",
       "crawl_date                      0\n",
       "dtype: int64"
      ]
     },
     "execution_count": 49,
     "metadata": {},
     "output_type": "execute_result"
    }
   ],
   "source": [
    "panel.isnull().sum()"
   ]
  },
  {
   "cell_type": "code",
   "execution_count": 50,
   "metadata": {
    "collapsed": true
   },
   "outputs": [],
   "source": [
    "panel_1 = panel.loc[:,['href','overall_rating']]"
   ]
  },
  {
   "cell_type": "code",
   "execution_count": 51,
   "metadata": {
    "collapsed": false
   },
   "outputs": [],
   "source": [
    "#panel_1 [panel_1['overall_rating']<=2]"
   ]
  },
  {
   "cell_type": "code",
   "execution_count": 52,
   "metadata": {
    "collapsed": true
   },
   "outputs": [],
   "source": [
    "dfc = pd.merge(df_3, panel_1, how = 'inner', on = 'href')"
   ]
  },
  {
   "cell_type": "code",
   "execution_count": 53,
   "metadata": {
    "collapsed": false
   },
   "outputs": [
    {
     "data": {
      "text/plain": [
       "index             0\n",
       "NPI               0\n",
       "Gender            0\n",
       "std               0\n",
       "median            0\n",
       "mean              0\n",
       "href              0\n",
       "experienceyear    0\n",
       "specialty         0\n",
       "overall_rating    0\n",
       "dtype: int64"
      ]
     },
     "execution_count": 53,
     "metadata": {},
     "output_type": "execute_result"
    }
   ],
   "source": [
    "dfc.isnull().sum()"
   ]
  },
  {
   "cell_type": "code",
   "execution_count": 54,
   "metadata": {
    "collapsed": true
   },
   "outputs": [],
   "source": [
    "dfc = dfc.drop_duplicates(subset='NPI', keep='last')"
   ]
  },
  {
   "cell_type": "code",
   "execution_count": 55,
   "metadata": {
    "collapsed": false
   },
   "outputs": [],
   "source": [
    "or_ftable = dfc[dfc.Gender == 0] # 0 is F"
   ]
  },
  {
   "cell_type": "code",
   "execution_count": 56,
   "metadata": {
    "collapsed": true
   },
   "outputs": [],
   "source": [
    "or_mtable = dfc[dfc.Gender == 1]"
   ]
  },
  {
   "cell_type": "code",
   "execution_count": 57,
   "metadata": {
    "collapsed": true
   },
   "outputs": [],
   "source": [
    "or_f = or_ftable.loc[:,'overall_rating'] "
   ]
  },
  {
   "cell_type": "code",
   "execution_count": 58,
   "metadata": {
    "collapsed": false
   },
   "outputs": [],
   "source": [
    "or_m = or_mtable.loc[:,'overall_rating']"
   ]
  },
  {
   "cell_type": "code",
   "execution_count": 131,
   "metadata": {
    "collapsed": false
   },
   "outputs": [
    {
     "data": {
      "text/html": [
       "<div>\n",
       "<table border=\"1\" class=\"dataframe\">\n",
       "  <thead>\n",
       "    <tr style=\"text-align: right;\">\n",
       "      <th></th>\n",
       "      <th>overall_rating</th>\n",
       "    </tr>\n",
       "  </thead>\n",
       "  <tbody>\n",
       "    <tr>\n",
       "      <th>count</th>\n",
       "      <td>14498.000000</td>\n",
       "    </tr>\n",
       "    <tr>\n",
       "      <th>mean</th>\n",
       "      <td>2.994896</td>\n",
       "    </tr>\n",
       "    <tr>\n",
       "      <th>std</th>\n",
       "      <td>1.930621</td>\n",
       "    </tr>\n",
       "    <tr>\n",
       "      <th>min</th>\n",
       "      <td>0.000000</td>\n",
       "    </tr>\n",
       "    <tr>\n",
       "      <th>25%</th>\n",
       "      <td>0.000000</td>\n",
       "    </tr>\n",
       "    <tr>\n",
       "      <th>50%</th>\n",
       "      <td>4.000000</td>\n",
       "    </tr>\n",
       "    <tr>\n",
       "      <th>75%</th>\n",
       "      <td>4.500000</td>\n",
       "    </tr>\n",
       "    <tr>\n",
       "      <th>max</th>\n",
       "      <td>5.000000</td>\n",
       "    </tr>\n",
       "  </tbody>\n",
       "</table>\n",
       "</div>"
      ],
      "text/plain": [
       "       overall_rating\n",
       "count    14498.000000\n",
       "mean         2.994896\n",
       "std          1.930621\n",
       "min          0.000000\n",
       "25%          0.000000\n",
       "50%          4.000000\n",
       "75%          4.500000\n",
       "max          5.000000"
      ]
     },
     "execution_count": 131,
     "metadata": {},
     "output_type": "execute_result"
    }
   ],
   "source": [
    "or_f.describe().to_frame()"
   ]
  },
  {
   "cell_type": "code",
   "execution_count": 133,
   "metadata": {
    "collapsed": false,
    "scrolled": true
   },
   "outputs": [
    {
     "data": {
      "text/html": [
       "<div>\n",
       "<table border=\"1\" class=\"dataframe\">\n",
       "  <thead>\n",
       "    <tr style=\"text-align: right;\">\n",
       "      <th></th>\n",
       "      <th>overall_rating</th>\n",
       "    </tr>\n",
       "  </thead>\n",
       "  <tbody>\n",
       "    <tr>\n",
       "      <th>count</th>\n",
       "      <td>51489.000000</td>\n",
       "    </tr>\n",
       "    <tr>\n",
       "      <th>mean</th>\n",
       "      <td>3.111169</td>\n",
       "    </tr>\n",
       "    <tr>\n",
       "      <th>std</th>\n",
       "      <td>1.896032</td>\n",
       "    </tr>\n",
       "    <tr>\n",
       "      <th>min</th>\n",
       "      <td>0.000000</td>\n",
       "    </tr>\n",
       "    <tr>\n",
       "      <th>25%</th>\n",
       "      <td>1.000000</td>\n",
       "    </tr>\n",
       "    <tr>\n",
       "      <th>50%</th>\n",
       "      <td>4.000000</td>\n",
       "    </tr>\n",
       "    <tr>\n",
       "      <th>75%</th>\n",
       "      <td>4.500000</td>\n",
       "    </tr>\n",
       "    <tr>\n",
       "      <th>max</th>\n",
       "      <td>5.000000</td>\n",
       "    </tr>\n",
       "  </tbody>\n",
       "</table>\n",
       "</div>"
      ],
      "text/plain": [
       "       overall_rating\n",
       "count    51489.000000\n",
       "mean         3.111169\n",
       "std          1.896032\n",
       "min          0.000000\n",
       "25%          1.000000\n",
       "50%          4.000000\n",
       "75%          4.500000\n",
       "max          5.000000"
      ]
     },
     "execution_count": 133,
     "metadata": {},
     "output_type": "execute_result"
    }
   ],
   "source": [
    "or_m.describe().to_frame()"
   ]
  },
  {
   "cell_type": "code",
   "execution_count": 61,
   "metadata": {
    "collapsed": true
   },
   "outputs": [],
   "source": [
    "import seaborn as sns\n",
    "sns.set(color_codes=True)"
   ]
  },
  {
   "cell_type": "code",
   "execution_count": 62,
   "metadata": {
    "collapsed": false
   },
   "outputs": [
    {
     "data": {
      "image/png": "[encoded data removed]",
      "text/plain": [
       "<matplotlib.figure.Figure at 0x1d48ad1c6a0>"
      ]
     },
     "metadata": {},
     "output_type": "display_data"
    }
   ],
   "source": [
    "sns.kdeplot(or_m, shade=True, label = 'Male', color=\"b\")\n",
    "sns.kdeplot(or_f, shade=True, label = 'Female',color=\"r\")\n",
    "plt.xlabel('Overall Rating')\n",
    "plt.ylabel('Density')\n",
    "plt.title('Distribution of Overall-Rating')\n",
    "plt.legend()\n",
    "plt.show()"
   ]
  },
  {
   "cell_type": "markdown",
   "metadata": {},
   "source": [
    "- Overall Rating (<0)"
   ]
  },
  {
   "cell_type": "code",
   "execution_count": 63,
   "metadata": {
    "collapsed": true
   },
   "outputs": [],
   "source": [
    "dfc_0 = dfc[dfc['overall_rating'] >0]"
   ]
  },
  {
   "cell_type": "code",
   "execution_count": 64,
   "metadata": {
    "collapsed": false
   },
   "outputs": [
    {
     "data": {
      "text/plain": [
       "0.2397290375376968"
      ]
     },
     "execution_count": 64,
     "metadata": {},
     "output_type": "execute_result"
    }
   ],
   "source": [
    "(len(dfc['NPI']) - len(dfc_0['NPI']))/len(dfc['NPI'])"
   ]
  },
  {
   "cell_type": "code",
   "execution_count": 65,
   "metadata": {
    "collapsed": false
   },
   "outputs": [],
   "source": [
    "dfc_0_f = dfc_0[dfc_0['Gender']==0]"
   ]
  },
  {
   "cell_type": "code",
   "execution_count": 66,
   "metadata": {
    "collapsed": true
   },
   "outputs": [],
   "source": [
    "dfc_0_m = dfc_0[dfc_0['Gender']==1]"
   ]
  },
  {
   "cell_type": "code",
   "execution_count": 67,
   "metadata": {
    "collapsed": true
   },
   "outputs": [],
   "source": [
    "dfc_0_or_f = dfc_0_f['overall_rating']"
   ]
  },
  {
   "cell_type": "code",
   "execution_count": 123,
   "metadata": {
    "collapsed": false
   },
   "outputs": [
    {
     "data": {
      "text/html": [
       "<div>\n",
       "<table border=\"1\" class=\"dataframe\">\n",
       "  <thead>\n",
       "    <tr style=\"text-align: right;\">\n",
       "      <th></th>\n",
       "      <th>overall_rating</th>\n",
       "    </tr>\n",
       "  </thead>\n",
       "  <tbody>\n",
       "    <tr>\n",
       "      <th>count</th>\n",
       "      <td>10766.000000</td>\n",
       "    </tr>\n",
       "    <tr>\n",
       "      <th>mean</th>\n",
       "      <td>4.033067</td>\n",
       "    </tr>\n",
       "    <tr>\n",
       "      <th>std</th>\n",
       "      <td>0.912178</td>\n",
       "    </tr>\n",
       "    <tr>\n",
       "      <th>min</th>\n",
       "      <td>1.000000</td>\n",
       "    </tr>\n",
       "    <tr>\n",
       "      <th>25%</th>\n",
       "      <td>3.500000</td>\n",
       "    </tr>\n",
       "    <tr>\n",
       "      <th>50%</th>\n",
       "      <td>4.000000</td>\n",
       "    </tr>\n",
       "    <tr>\n",
       "      <th>75%</th>\n",
       "      <td>5.000000</td>\n",
       "    </tr>\n",
       "    <tr>\n",
       "      <th>max</th>\n",
       "      <td>5.000000</td>\n",
       "    </tr>\n",
       "  </tbody>\n",
       "</table>\n",
       "</div>"
      ],
      "text/plain": [
       "       overall_rating\n",
       "count    10766.000000\n",
       "mean         4.033067\n",
       "std          0.912178\n",
       "min          1.000000\n",
       "25%          3.500000\n",
       "50%          4.000000\n",
       "75%          5.000000\n",
       "max          5.000000"
      ]
     },
     "execution_count": 123,
     "metadata": {},
     "output_type": "execute_result"
    }
   ],
   "source": [
    "dfc_0_or_f.describe().to_frame()"
   ]
  },
  {
   "cell_type": "code",
   "execution_count": 69,
   "metadata": {
    "collapsed": true
   },
   "outputs": [],
   "source": [
    "dfc_0_or_m = dfc_0_m['overall_rating']"
   ]
  },
  {
   "cell_type": "code",
   "execution_count": 124,
   "metadata": {
    "collapsed": false
   },
   "outputs": [
    {
     "data": {
      "text/html": [
       "<div>\n",
       "<table border=\"1\" class=\"dataframe\">\n",
       "  <thead>\n",
       "    <tr style=\"text-align: right;\">\n",
       "      <th></th>\n",
       "      <th>overall_rating</th>\n",
       "    </tr>\n",
       "  </thead>\n",
       "  <tbody>\n",
       "    <tr>\n",
       "      <th>count</th>\n",
       "      <td>39402.000000</td>\n",
       "    </tr>\n",
       "    <tr>\n",
       "      <th>mean</th>\n",
       "      <td>4.065555</td>\n",
       "    </tr>\n",
       "    <tr>\n",
       "      <th>std</th>\n",
       "      <td>0.904183</td>\n",
       "    </tr>\n",
       "    <tr>\n",
       "      <th>min</th>\n",
       "      <td>1.000000</td>\n",
       "    </tr>\n",
       "    <tr>\n",
       "      <th>25%</th>\n",
       "      <td>3.500000</td>\n",
       "    </tr>\n",
       "    <tr>\n",
       "      <th>50%</th>\n",
       "      <td>4.000000</td>\n",
       "    </tr>\n",
       "    <tr>\n",
       "      <th>75%</th>\n",
       "      <td>5.000000</td>\n",
       "    </tr>\n",
       "    <tr>\n",
       "      <th>max</th>\n",
       "      <td>5.000000</td>\n",
       "    </tr>\n",
       "  </tbody>\n",
       "</table>\n",
       "</div>"
      ],
      "text/plain": [
       "       overall_rating\n",
       "count    39402.000000\n",
       "mean         4.065555\n",
       "std          0.904183\n",
       "min          1.000000\n",
       "25%          3.500000\n",
       "50%          4.000000\n",
       "75%          5.000000\n",
       "max          5.000000"
      ]
     },
     "execution_count": 124,
     "metadata": {},
     "output_type": "execute_result"
    }
   ],
   "source": [
    "dfc_0_or_m.describe().to_frame()"
   ]
  },
  {
   "cell_type": "code",
   "execution_count": 71,
   "metadata": {
    "collapsed": false
   },
   "outputs": [
    {
     "data": {
      "image/png": "[encoded data removed]",
      "text/plain": [
       "<matplotlib.figure.Figure at 0x1d453f31828>"
      ]
     },
     "metadata": {},
     "output_type": "display_data"
    }
   ],
   "source": [
    "sns.kdeplot(dfc_0_or_m, shade=True, label = 'Male', color=\"b\")\n",
    "sns.kdeplot(dfc_0_or_f, shade=True, label = 'Female',color=\"r\")\n",
    "plt.xlabel('Overall Rating ')\n",
    "plt.ylabel('Density')\n",
    "plt.title('Distribution of Overall-Rating (No 0)')\n",
    "plt.legend()\n",
    "plt.show()"
   ]
  },
  {
   "cell_type": "code",
   "execution_count": 72,
   "metadata": {
    "collapsed": false
   },
   "outputs": [],
   "source": [
    "dfc_split = dfc\n",
    "dfc_split['tier'] = 'a'"
   ]
  },
  {
   "cell_type": "code",
   "execution_count": 73,
   "metadata": {
    "collapsed": false
   },
   "outputs": [],
   "source": [
    "temp = []\n",
    "for i in np.arange(len(dfc_split.NPI)):\n",
    "    if dfc_split.iloc[i,-2] >= 4:\n",
    "        temp += [1]\n",
    "    else: temp += [0]"
   ]
  },
  {
   "cell_type": "code",
   "execution_count": 74,
   "metadata": {
    "collapsed": false
   },
   "outputs": [],
   "source": [
    "dfc_split['tier'] = temp"
   ]
  },
  {
   "cell_type": "code",
   "execution_count": 75,
   "metadata": {
    "collapsed": false,
    "scrolled": true
   },
   "outputs": [
    {
     "data": {
      "image/png": "[encoded data removed]",
      "text/plain": [
       "<matplotlib.figure.Figure at 0x1d453fbfa90>"
      ]
     },
     "metadata": {},
     "output_type": "display_data"
    }
   ],
   "source": [
    "plt.hist(dfc_split.overall_rating)\n",
    "plt.title(\"Overall Rating\")\n",
    "plt.xlabel('Score')\n",
    "plt.ylabel('Frequency')\n",
    "plt.show()"
   ]
  },
  {
   "cell_type": "code",
   "execution_count": 76,
   "metadata": {
    "collapsed": false
   },
   "outputs": [
    {
     "data": {
      "image/png": "[encoded data removed]",
      "text/plain": [
       "<matplotlib.figure.Figure at 0x1d453f00080>"
      ]
     },
     "metadata": {},
     "output_type": "display_data"
    }
   ],
   "source": [
    "plt.hist(dfc_split['mean'])\n",
    "plt.title(\"Mean of True Quality\")\n",
    "plt.xlabel('Score')\n",
    "plt.ylabel('Frequency')\n",
    "plt.show()"
   ]
  },
  {
   "cell_type": "code",
   "execution_count": 77,
   "metadata": {
    "collapsed": false
   },
   "outputs": [
    {
     "data": {
      "text/plain": [
       "Index(['index', 'NPI', 'Gender', 'std', 'median', 'mean', 'href',\n",
       "       'experienceyear', 'specialty', 'overall_rating', 'tier'],\n",
       "      dtype='object')"
      ]
     },
     "execution_count": 77,
     "metadata": {},
     "output_type": "execute_result"
    }
   ],
   "source": [
    "dfc_split.columns"
   ]
  },
  {
   "cell_type": "code",
   "execution_count": 78,
   "metadata": {
    "collapsed": false
   },
   "outputs": [
    {
     "data": {
      "image/png": "[encoded data removed]",
      "text/plain": [
       "<matplotlib.figure.Figure at 0x1d463436588>"
      ]
     },
     "metadata": {},
     "output_type": "display_data"
    }
   ],
   "source": [
    "plt.scatter(dfc_0['mean'],dfc_0['overall_rating'])\n",
    "plt.title('Scatter Plot of Overall Rating (>0) and Mean of Ture Quality')\n",
    "plt.ylabel(\"Overall Rating (>0)\")\n",
    "plt.xlabel('Mean of Ture Quality')\n",
    "plt.show()\n"
   ]
  },
  {
   "cell_type": "code",
   "execution_count": 79,
   "metadata": {
    "collapsed": false
   },
   "outputs": [
    {
     "data": {
      "image/png": "[encoded data removed]",
      "text/plain": [
       "<matplotlib.figure.Figure at 0x1d46341ef60>"
      ]
     },
     "metadata": {},
     "output_type": "display_data"
    }
   ],
   "source": [
    "plt.scatter(dfc['mean'],dfc['overall_rating'])\n",
    "plt.title('Scatter Plot of Overall Rating and Mean of Ture Quality')\n",
    "plt.ylabel(\"Overall Rating\")\n",
    "plt.xlabel('Mean of Ture Quality')\n",
    "plt.show()\n"
   ]
  },
  {
   "cell_type": "markdown",
   "metadata": {},
   "source": [
    "### T test"
   ]
  },
  {
   "cell_type": "code",
   "execution_count": 80,
   "metadata": {
    "collapsed": true
   },
   "outputs": [],
   "source": [
    "import scipy.stats as stats"
   ]
  },
  {
   "cell_type": "code",
   "execution_count": 81,
   "metadata": {
    "collapsed": false
   },
   "outputs": [],
   "source": [
    "import plotly.plotly as py\n",
    "from plotly.tools import FigureFactory as FF"
   ]
  },
  {
   "cell_type": "code",
   "execution_count": 82,
   "metadata": {
    "collapsed": false
   },
   "outputs": [],
   "source": [
    "import plotly\n",
    "plotly.tools.set_credentials_file(username='pepepramy', api_key='e0vYltrAyskFrLmKRkQV')"
   ]
  },
  {
   "cell_type": "markdown",
   "metadata": {},
   "source": [
    "- mean"
   ]
  },
  {
   "cell_type": "code",
   "execution_count": 83,
   "metadata": {
    "collapsed": true
   },
   "outputs": [],
   "source": [
    "t_stat_mean, p_val_mean = stats.ttest_ind(mean_f, mean_m, equal_var=False)"
   ]
  },
  {
   "cell_type": "code",
   "execution_count": 84,
   "metadata": {
    "collapsed": false
   },
   "outputs": [
    {
     "data": {
      "text/plain": [
       "(-1.9096716322306428, 0.056187872511213321)"
      ]
     },
     "execution_count": 84,
     "metadata": {},
     "output_type": "execute_result"
    }
   ],
   "source": [
    "t_stat_mean, p_val_mean"
   ]
  },
  {
   "cell_type": "code",
   "execution_count": 85,
   "metadata": {
    "collapsed": false
   },
   "outputs": [
    {
     "name": "stderr",
     "output_type": "stream",
     "text": [
      "C:\\Users\\amyhu\\Anaconda3\\lib\\site-packages\\plotly\\tools.py:1491: UserWarning:\n",
      "\n",
      "plotly.tools.FigureFactory.create_table is deprecated. Use plotly.figure_factory.create_table\n",
      "\n"
     ]
    },
    {
     "name": "stdout",
     "output_type": "stream",
     "text": [
      "High five! You successfully sent some data to your account on plotly. View your plot in your browser at https://plot.ly/~pepepramy/0 or inside your plot.ly account where it is named 'onesample-table'\n"
     ]
    },
    {
     "data": {
      "text/html": [
       "<iframe id=\"igraph\" scrolling=\"no\" style=\"border:none;\" seamless=\"seamless\" src=\"https://plot.ly/~pepepramy/0.embed\" height=\"110px\" width=\"100%\"></iframe>"
      ],
      "text/plain": [
       "<plotly.tools.PlotlyDisplay object>"
      ]
     },
     "execution_count": 85,
     "metadata": {},
     "output_type": "execute_result"
    }
   ],
   "source": [
    "matrix_onesample = [\n",
    "    ['', 'Test Statistic', 'p-value'],\n",
    "    ['Mean of True Quality', t_stat_mean, p_val_mean]\n",
    "]\n",
    "\n",
    "onesample_table = FF.create_table(matrix_onesample, index=True)\n",
    "py.iplot(onesample_table, filename='onesample-table')"
   ]
  },
  {
   "cell_type": "markdown",
   "metadata": {},
   "source": [
    "- median"
   ]
  },
  {
   "cell_type": "code",
   "execution_count": 86,
   "metadata": {
    "collapsed": false
   },
   "outputs": [],
   "source": [
    "t_stat_median, p_val_median = stats.ttest_ind(median_f, median_m, equal_var=False)"
   ]
  },
  {
   "cell_type": "code",
   "execution_count": 87,
   "metadata": {
    "collapsed": false
   },
   "outputs": [
    {
     "data": {
      "text/plain": [
       "(-1.9421758445126833, 0.052127919426327995)"
      ]
     },
     "execution_count": 87,
     "metadata": {},
     "output_type": "execute_result"
    }
   ],
   "source": [
    "t_stat_median, p_val_median "
   ]
  },
  {
   "cell_type": "code",
   "execution_count": 88,
   "metadata": {
    "collapsed": false
   },
   "outputs": [
    {
     "name": "stderr",
     "output_type": "stream",
     "text": [
      "C:\\Users\\amyhu\\Anaconda3\\lib\\site-packages\\plotly\\tools.py:1491: UserWarning:\n",
      "\n",
      "plotly.tools.FigureFactory.create_table is deprecated. Use plotly.figure_factory.create_table\n",
      "\n"
     ]
    },
    {
     "name": "stdout",
     "output_type": "stream",
     "text": [
      "High five! You successfully sent some data to your account on plotly. View your plot in your browser at https://plot.ly/~pepepramy/0 or inside your plot.ly account where it is named 'onesample-table'\n"
     ]
    },
    {
     "data": {
      "text/html": [
       "<iframe id=\"igraph\" scrolling=\"no\" style=\"border:none;\" seamless=\"seamless\" src=\"https://plot.ly/~pepepramy/0.embed\" height=\"110px\" width=\"100%\"></iframe>"
      ],
      "text/plain": [
       "<plotly.tools.PlotlyDisplay object>"
      ]
     },
     "execution_count": 88,
     "metadata": {},
     "output_type": "execute_result"
    }
   ],
   "source": [
    "matrix_onesample_1 = [\n",
    "    ['', 'Test Statistic', 'p-value'],\n",
    "    ['Median of True Quality', t_stat_median, p_val_median]\n",
    "]\n",
    "\n",
    "onesample_table_1 = FF.create_table(matrix_onesample_1, index=True)\n",
    "py.iplot(onesample_table_1, filename='onesample-table')"
   ]
  },
  {
   "cell_type": "markdown",
   "metadata": {},
   "source": [
    "- std"
   ]
  },
  {
   "cell_type": "code",
   "execution_count": 89,
   "metadata": {
    "collapsed": true
   },
   "outputs": [],
   "source": [
    "t_stat_std, p_val_std = stats.ttest_ind(std_f, std_m, equal_var=False)"
   ]
  },
  {
   "cell_type": "code",
   "execution_count": 90,
   "metadata": {
    "collapsed": false
   },
   "outputs": [
    {
     "data": {
      "text/plain": [
       "(3.054266962447008, 0.0022586900904902566)"
      ]
     },
     "execution_count": 90,
     "metadata": {},
     "output_type": "execute_result"
    }
   ],
   "source": [
    "t_stat_std, p_val_std"
   ]
  },
  {
   "cell_type": "code",
   "execution_count": 91,
   "metadata": {
    "collapsed": false
   },
   "outputs": [
    {
     "name": "stderr",
     "output_type": "stream",
     "text": [
      "C:\\Users\\amyhu\\Anaconda3\\lib\\site-packages\\plotly\\tools.py:1491: UserWarning:\n",
      "\n",
      "plotly.tools.FigureFactory.create_table is deprecated. Use plotly.figure_factory.create_table\n",
      "\n"
     ]
    },
    {
     "name": "stdout",
     "output_type": "stream",
     "text": [
      "High five! You successfully sent some data to your account on plotly. View your plot in your browser at https://plot.ly/~pepepramy/0 or inside your plot.ly account where it is named 'onesample-table'\n"
     ]
    },
    {
     "data": {
      "text/html": [
       "<iframe id=\"igraph\" scrolling=\"no\" style=\"border:none;\" seamless=\"seamless\" src=\"https://plot.ly/~pepepramy/0.embed\" height=\"110px\" width=\"100%\"></iframe>"
      ],
      "text/plain": [
       "<plotly.tools.PlotlyDisplay object>"
      ]
     },
     "execution_count": 91,
     "metadata": {},
     "output_type": "execute_result"
    }
   ],
   "source": [
    "matrix_onesample_2 = [\n",
    "    ['', 'Test Statistic', 'p-value'],\n",
    "    ['Std of True Quality', t_stat_std, p_val_std]\n",
    "]\n",
    "\n",
    "onesample_table_2 = FF.create_table(matrix_onesample_2, index=True)\n",
    "py.iplot(onesample_table_2, filename='onesample-table')"
   ]
  },
  {
   "cell_type": "markdown",
   "metadata": {},
   "source": [
    "- Overall Rating"
   ]
  },
  {
   "cell_type": "code",
   "execution_count": 92,
   "metadata": {
    "collapsed": true
   },
   "outputs": [],
   "source": [
    "t_stat_or, p_val_or = stats.ttest_ind(or_f, or_m, equal_var=False)"
   ]
  },
  {
   "cell_type": "code",
   "execution_count": 93,
   "metadata": {
    "collapsed": false
   },
   "outputs": [
    {
     "data": {
      "text/plain": [
       "(-6.4308263444636484, 1.2940958559698634e-10)"
      ]
     },
     "execution_count": 93,
     "metadata": {},
     "output_type": "execute_result"
    }
   ],
   "source": [
    "t_stat_or, p_val_or"
   ]
  },
  {
   "cell_type": "code",
   "execution_count": 94,
   "metadata": {
    "collapsed": false
   },
   "outputs": [
    {
     "name": "stderr",
     "output_type": "stream",
     "text": [
      "C:\\Users\\amyhu\\Anaconda3\\lib\\site-packages\\plotly\\tools.py:1491: UserWarning:\n",
      "\n",
      "plotly.tools.FigureFactory.create_table is deprecated. Use plotly.figure_factory.create_table\n",
      "\n"
     ]
    },
    {
     "name": "stdout",
     "output_type": "stream",
     "text": [
      "High five! You successfully sent some data to your account on plotly. View your plot in your browser at https://plot.ly/~pepepramy/0 or inside your plot.ly account where it is named 'onesample-table'\n"
     ]
    },
    {
     "data": {
      "text/html": [
       "<iframe id=\"igraph\" scrolling=\"no\" style=\"border:none;\" seamless=\"seamless\" src=\"https://plot.ly/~pepepramy/0.embed\" height=\"110px\" width=\"100%\"></iframe>"
      ],
      "text/plain": [
       "<plotly.tools.PlotlyDisplay object>"
      ]
     },
     "execution_count": 94,
     "metadata": {},
     "output_type": "execute_result"
    }
   ],
   "source": [
    "matrix_onesample_3 = [\n",
    "    ['', 'Test Statistic', 'p-value'],\n",
    "    ['Overall Rating', t_stat_or, p_val_or]\n",
    "]\n",
    "\n",
    "onesample_table_3 = FF.create_table(matrix_onesample_3, index=True)\n",
    "py.iplot(onesample_table_3, filename='onesample-table')"
   ]
  },
  {
   "cell_type": "markdown",
   "metadata": {},
   "source": [
    "- Overall Rating (>0)"
   ]
  },
  {
   "cell_type": "code",
   "execution_count": 95,
   "metadata": {
    "collapsed": true
   },
   "outputs": [],
   "source": [
    "t_stat_or_0, p_val_or_0 = stats.ttest_ind(dfc_0_or_f, dfc_0_or_m, equal_var=False)"
   ]
  },
  {
   "cell_type": "code",
   "execution_count": 96,
   "metadata": {
    "collapsed": false,
    "scrolled": true
   },
   "outputs": [
    {
     "data": {
      "text/plain": [
       "(-3.2811852508002226, 0.001035802069912142)"
      ]
     },
     "execution_count": 96,
     "metadata": {},
     "output_type": "execute_result"
    }
   ],
   "source": [
    "t_stat_or_0, p_val_or_0"
   ]
  },
  {
   "cell_type": "code",
   "execution_count": 97,
   "metadata": {
    "collapsed": false
   },
   "outputs": [
    {
     "name": "stderr",
     "output_type": "stream",
     "text": [
      "C:\\Users\\amyhu\\Anaconda3\\lib\\site-packages\\plotly\\tools.py:1491: UserWarning:\n",
      "\n",
      "plotly.tools.FigureFactory.create_table is deprecated. Use plotly.figure_factory.create_table\n",
      "\n"
     ]
    },
    {
     "name": "stdout",
     "output_type": "stream",
     "text": [
      "High five! You successfully sent some data to your account on plotly. View your plot in your browser at https://plot.ly/~pepepramy/0 or inside your plot.ly account where it is named 'onesample-table'\n"
     ]
    },
    {
     "data": {
      "text/html": [
       "<iframe id=\"igraph\" scrolling=\"no\" style=\"border:none;\" seamless=\"seamless\" src=\"https://plot.ly/~pepepramy/0.embed\" height=\"110px\" width=\"100%\"></iframe>"
      ],
      "text/plain": [
       "<plotly.tools.PlotlyDisplay object>"
      ]
     },
     "execution_count": 97,
     "metadata": {},
     "output_type": "execute_result"
    }
   ],
   "source": [
    "matrix_onesample_4 = [\n",
    "    ['', 'Test Statistic', 'p-value'],\n",
    "    ['Overall Rating', t_stat_or_0, p_val_or_0]\n",
    "]\n",
    "\n",
    "onesample_table_4 = FF.create_table(matrix_onesample_4, index=True)\n",
    "py.iplot(onesample_table_4, filename='onesample-table')"
   ]
  },
  {
   "cell_type": "markdown",
   "metadata": {},
   "source": [
    "### Coefficient Table"
   ]
  },
  {
   "cell_type": "code",
   "execution_count": 98,
   "metadata": {
    "collapsed": true
   },
   "outputs": [],
   "source": [
    "df_3_co = df_3.drop(['index','NPI','href'],axis = 1)"
   ]
  },
  {
   "cell_type": "code",
   "execution_count": 99,
   "metadata": {
    "collapsed": false
   },
   "outputs": [
    {
     "data": {
      "text/html": [
       "<div>\n",
       "<table border=\"1\" class=\"dataframe\">\n",
       "  <thead>\n",
       "    <tr style=\"text-align: right;\">\n",
       "      <th></th>\n",
       "      <th>Gender</th>\n",
       "      <th>std</th>\n",
       "      <th>median</th>\n",
       "      <th>mean</th>\n",
       "      <th>experienceyear</th>\n",
       "      <th>specialty</th>\n",
       "    </tr>\n",
       "  </thead>\n",
       "  <tbody>\n",
       "    <tr>\n",
       "      <th>Gender</th>\n",
       "      <td>1.000000</td>\n",
       "      <td>-0.012178</td>\n",
       "      <td>0.007346</td>\n",
       "      <td>0.007381</td>\n",
       "      <td>0.185661</td>\n",
       "      <td>0.028877</td>\n",
       "    </tr>\n",
       "    <tr>\n",
       "      <th>std</th>\n",
       "      <td>-0.012178</td>\n",
       "      <td>1.000000</td>\n",
       "      <td>-0.478596</td>\n",
       "      <td>-0.588235</td>\n",
       "      <td>0.017248</td>\n",
       "      <td>0.141298</td>\n",
       "    </tr>\n",
       "    <tr>\n",
       "      <th>median</th>\n",
       "      <td>0.007346</td>\n",
       "      <td>-0.478596</td>\n",
       "      <td>1.000000</td>\n",
       "      <td>0.961309</td>\n",
       "      <td>0.036794</td>\n",
       "      <td>-0.073234</td>\n",
       "    </tr>\n",
       "    <tr>\n",
       "      <th>mean</th>\n",
       "      <td>0.007381</td>\n",
       "      <td>-0.588235</td>\n",
       "      <td>0.961309</td>\n",
       "      <td>1.000000</td>\n",
       "      <td>0.031044</td>\n",
       "      <td>-0.088664</td>\n",
       "    </tr>\n",
       "    <tr>\n",
       "      <th>experienceyear</th>\n",
       "      <td>0.185661</td>\n",
       "      <td>0.017248</td>\n",
       "      <td>0.036794</td>\n",
       "      <td>0.031044</td>\n",
       "      <td>1.000000</td>\n",
       "      <td>0.080773</td>\n",
       "    </tr>\n",
       "    <tr>\n",
       "      <th>specialty</th>\n",
       "      <td>0.028877</td>\n",
       "      <td>0.141298</td>\n",
       "      <td>-0.073234</td>\n",
       "      <td>-0.088664</td>\n",
       "      <td>0.080773</td>\n",
       "      <td>1.000000</td>\n",
       "    </tr>\n",
       "  </tbody>\n",
       "</table>\n",
       "</div>"
      ],
      "text/plain": [
       "                  Gender       std    median      mean  experienceyear  \\\n",
       "Gender          1.000000 -0.012178  0.007346  0.007381        0.185661   \n",
       "std            -0.012178  1.000000 -0.478596 -0.588235        0.017248   \n",
       "median          0.007346 -0.478596  1.000000  0.961309        0.036794   \n",
       "mean            0.007381 -0.588235  0.961309  1.000000        0.031044   \n",
       "experienceyear  0.185661  0.017248  0.036794  0.031044        1.000000   \n",
       "specialty       0.028877  0.141298 -0.073234 -0.088664        0.080773   \n",
       "\n",
       "                specialty  \n",
       "Gender           0.028877  \n",
       "std              0.141298  \n",
       "median          -0.073234  \n",
       "mean            -0.088664  \n",
       "experienceyear   0.080773  \n",
       "specialty        1.000000  "
      ]
     },
     "execution_count": 99,
     "metadata": {},
     "output_type": "execute_result"
    }
   ],
   "source": [
    "df_3_co.corr(method='pearson', min_periods=1)"
   ]
  },
  {
   "cell_type": "code",
   "execution_count": 100,
   "metadata": {
    "collapsed": true
   },
   "outputs": [],
   "source": [
    "dfc_split_coe = dfc_split.drop(['index','NPI','href'],axis = 1)"
   ]
  },
  {
   "cell_type": "code",
   "execution_count": 101,
   "metadata": {
    "collapsed": false
   },
   "outputs": [
    {
     "data": {
      "text/html": [
       "<div>\n",
       "<table border=\"1\" class=\"dataframe\">\n",
       "  <thead>\n",
       "    <tr style=\"text-align: right;\">\n",
       "      <th></th>\n",
       "      <th>Gender</th>\n",
       "      <th>std</th>\n",
       "      <th>median</th>\n",
       "      <th>mean</th>\n",
       "      <th>experienceyear</th>\n",
       "      <th>specialty</th>\n",
       "      <th>overall_rating</th>\n",
       "      <th>tier</th>\n",
       "    </tr>\n",
       "  </thead>\n",
       "  <tbody>\n",
       "    <tr>\n",
       "      <th>0</th>\n",
       "      <td>1</td>\n",
       "      <td>40.000000</td>\n",
       "      <td>100.0</td>\n",
       "      <td>80.000000</td>\n",
       "      <td>41.0</td>\n",
       "      <td>45</td>\n",
       "      <td>5.0</td>\n",
       "      <td>1</td>\n",
       "    </tr>\n",
       "    <tr>\n",
       "      <th>1</th>\n",
       "      <td>0</td>\n",
       "      <td>2.357023</td>\n",
       "      <td>100.0</td>\n",
       "      <td>98.333333</td>\n",
       "      <td>28.0</td>\n",
       "      <td>15</td>\n",
       "      <td>4.5</td>\n",
       "      <td>1</td>\n",
       "    </tr>\n",
       "    <tr>\n",
       "      <th>2</th>\n",
       "      <td>0</td>\n",
       "      <td>0.000000</td>\n",
       "      <td>100.0</td>\n",
       "      <td>100.000000</td>\n",
       "      <td>26.0</td>\n",
       "      <td>45</td>\n",
       "      <td>2.5</td>\n",
       "      <td>0</td>\n",
       "    </tr>\n",
       "    <tr>\n",
       "      <th>3</th>\n",
       "      <td>0</td>\n",
       "      <td>0.000000</td>\n",
       "      <td>100.0</td>\n",
       "      <td>100.000000</td>\n",
       "      <td>44.0</td>\n",
       "      <td>16</td>\n",
       "      <td>4.0</td>\n",
       "      <td>1</td>\n",
       "    </tr>\n",
       "    <tr>\n",
       "      <th>4</th>\n",
       "      <td>0</td>\n",
       "      <td>0.000000</td>\n",
       "      <td>81.0</td>\n",
       "      <td>81.000000</td>\n",
       "      <td>23.0</td>\n",
       "      <td>45</td>\n",
       "      <td>5.0</td>\n",
       "      <td>1</td>\n",
       "    </tr>\n",
       "  </tbody>\n",
       "</table>\n",
       "</div>"
      ],
      "text/plain": [
       "   Gender        std  median        mean  experienceyear  specialty  \\\n",
       "0       1  40.000000   100.0   80.000000            41.0         45   \n",
       "1       0   2.357023   100.0   98.333333            28.0         15   \n",
       "2       0   0.000000   100.0  100.000000            26.0         45   \n",
       "3       0   0.000000   100.0  100.000000            44.0         16   \n",
       "4       0   0.000000    81.0   81.000000            23.0         45   \n",
       "\n",
       "   overall_rating  tier  \n",
       "0             5.0     1  \n",
       "1             4.5     1  \n",
       "2             2.5     0  \n",
       "3             4.0     1  \n",
       "4             5.0     1  "
      ]
     },
     "execution_count": 101,
     "metadata": {},
     "output_type": "execute_result"
    }
   ],
   "source": [
    "dfc_split_coe.head()"
   ]
  },
  {
   "cell_type": "code",
   "execution_count": 102,
   "metadata": {
    "collapsed": false
   },
   "outputs": [
    {
     "data": {
      "text/html": [
       "<div>\n",
       "<table border=\"1\" class=\"dataframe\">\n",
       "  <thead>\n",
       "    <tr style=\"text-align: right;\">\n",
       "      <th></th>\n",
       "      <th>Gender</th>\n",
       "      <th>std</th>\n",
       "      <th>median</th>\n",
       "      <th>mean</th>\n",
       "      <th>experienceyear</th>\n",
       "      <th>specialty</th>\n",
       "      <th>overall_rating</th>\n",
       "      <th>tier</th>\n",
       "    </tr>\n",
       "  </thead>\n",
       "  <tbody>\n",
       "    <tr>\n",
       "      <th>Gender</th>\n",
       "      <td>1.000000</td>\n",
       "      <td>-0.012127</td>\n",
       "      <td>0.007445</td>\n",
       "      <td>0.007435</td>\n",
       "      <td>0.185659</td>\n",
       "      <td>0.028947</td>\n",
       "      <td>0.025282</td>\n",
       "      <td>0.027984</td>\n",
       "    </tr>\n",
       "    <tr>\n",
       "      <th>std</th>\n",
       "      <td>-0.012127</td>\n",
       "      <td>1.000000</td>\n",
       "      <td>-0.478410</td>\n",
       "      <td>-0.588145</td>\n",
       "      <td>0.017154</td>\n",
       "      <td>0.141334</td>\n",
       "      <td>0.133364</td>\n",
       "      <td>0.102267</td>\n",
       "    </tr>\n",
       "    <tr>\n",
       "      <th>median</th>\n",
       "      <td>0.007445</td>\n",
       "      <td>-0.478410</td>\n",
       "      <td>1.000000</td>\n",
       "      <td>0.961307</td>\n",
       "      <td>0.036854</td>\n",
       "      <td>-0.073309</td>\n",
       "      <td>-0.073173</td>\n",
       "      <td>-0.049865</td>\n",
       "    </tr>\n",
       "    <tr>\n",
       "      <th>mean</th>\n",
       "      <td>0.007435</td>\n",
       "      <td>-0.588145</td>\n",
       "      <td>0.961307</td>\n",
       "      <td>1.000000</td>\n",
       "      <td>0.031056</td>\n",
       "      <td>-0.088718</td>\n",
       "      <td>-0.084875</td>\n",
       "      <td>-0.059051</td>\n",
       "    </tr>\n",
       "    <tr>\n",
       "      <th>experienceyear</th>\n",
       "      <td>0.185659</td>\n",
       "      <td>0.017154</td>\n",
       "      <td>0.036854</td>\n",
       "      <td>0.031056</td>\n",
       "      <td>1.000000</td>\n",
       "      <td>0.080816</td>\n",
       "      <td>0.100492</td>\n",
       "      <td>0.038941</td>\n",
       "    </tr>\n",
       "    <tr>\n",
       "      <th>specialty</th>\n",
       "      <td>0.028947</td>\n",
       "      <td>0.141334</td>\n",
       "      <td>-0.073309</td>\n",
       "      <td>-0.088718</td>\n",
       "      <td>0.080816</td>\n",
       "      <td>1.000000</td>\n",
       "      <td>0.265299</td>\n",
       "      <td>0.172173</td>\n",
       "    </tr>\n",
       "    <tr>\n",
       "      <th>overall_rating</th>\n",
       "      <td>0.025282</td>\n",
       "      <td>0.133364</td>\n",
       "      <td>-0.073173</td>\n",
       "      <td>-0.084875</td>\n",
       "      <td>0.100492</td>\n",
       "      <td>0.265299</td>\n",
       "      <td>1.000000</td>\n",
       "      <td>0.814836</td>\n",
       "    </tr>\n",
       "    <tr>\n",
       "      <th>tier</th>\n",
       "      <td>0.027984</td>\n",
       "      <td>0.102267</td>\n",
       "      <td>-0.049865</td>\n",
       "      <td>-0.059051</td>\n",
       "      <td>0.038941</td>\n",
       "      <td>0.172173</td>\n",
       "      <td>0.814836</td>\n",
       "      <td>1.000000</td>\n",
       "    </tr>\n",
       "  </tbody>\n",
       "</table>\n",
       "</div>"
      ],
      "text/plain": [
       "                  Gender       std    median      mean  experienceyear  \\\n",
       "Gender          1.000000 -0.012127  0.007445  0.007435        0.185659   \n",
       "std            -0.012127  1.000000 -0.478410 -0.588145        0.017154   \n",
       "median          0.007445 -0.478410  1.000000  0.961307        0.036854   \n",
       "mean            0.007435 -0.588145  0.961307  1.000000        0.031056   \n",
       "experienceyear  0.185659  0.017154  0.036854  0.031056        1.000000   \n",
       "specialty       0.028947  0.141334 -0.073309 -0.088718        0.080816   \n",
       "overall_rating  0.025282  0.133364 -0.073173 -0.084875        0.100492   \n",
       "tier            0.027984  0.102267 -0.049865 -0.059051        0.038941   \n",
       "\n",
       "                specialty  overall_rating      tier  \n",
       "Gender           0.028947        0.025282  0.027984  \n",
       "std              0.141334        0.133364  0.102267  \n",
       "median          -0.073309       -0.073173 -0.049865  \n",
       "mean            -0.088718       -0.084875 -0.059051  \n",
       "experienceyear   0.080816        0.100492  0.038941  \n",
       "specialty        1.000000        0.265299  0.172173  \n",
       "overall_rating   0.265299        1.000000  0.814836  \n",
       "tier             0.172173        0.814836  1.000000  "
      ]
     },
     "execution_count": 102,
     "metadata": {},
     "output_type": "execute_result"
    }
   ],
   "source": [
    "dfc_split_coe.corr(method='pearson', min_periods=1)"
   ]
  },
  {
   "cell_type": "code",
   "execution_count": 103,
   "metadata": {
    "collapsed": true
   },
   "outputs": [],
   "source": [
    "dfc_co = dfc.drop(['index','NPI','href'],axis = 1)"
   ]
  },
  {
   "cell_type": "code",
   "execution_count": 104,
   "metadata": {
    "collapsed": false
   },
   "outputs": [
    {
     "data": {
      "text/html": [
       "<div>\n",
       "<table border=\"1\" class=\"dataframe\">\n",
       "  <thead>\n",
       "    <tr style=\"text-align: right;\">\n",
       "      <th></th>\n",
       "      <th>Gender</th>\n",
       "      <th>std</th>\n",
       "      <th>median</th>\n",
       "      <th>mean</th>\n",
       "      <th>experienceyear</th>\n",
       "      <th>specialty</th>\n",
       "      <th>overall_rating</th>\n",
       "      <th>tier</th>\n",
       "    </tr>\n",
       "  </thead>\n",
       "  <tbody>\n",
       "    <tr>\n",
       "      <th>Gender</th>\n",
       "      <td>1.000000</td>\n",
       "      <td>-0.012127</td>\n",
       "      <td>0.007445</td>\n",
       "      <td>0.007435</td>\n",
       "      <td>0.185659</td>\n",
       "      <td>0.028947</td>\n",
       "      <td>0.025282</td>\n",
       "      <td>0.027984</td>\n",
       "    </tr>\n",
       "    <tr>\n",
       "      <th>std</th>\n",
       "      <td>-0.012127</td>\n",
       "      <td>1.000000</td>\n",
       "      <td>-0.478410</td>\n",
       "      <td>-0.588145</td>\n",
       "      <td>0.017154</td>\n",
       "      <td>0.141334</td>\n",
       "      <td>0.133364</td>\n",
       "      <td>0.102267</td>\n",
       "    </tr>\n",
       "    <tr>\n",
       "      <th>median</th>\n",
       "      <td>0.007445</td>\n",
       "      <td>-0.478410</td>\n",
       "      <td>1.000000</td>\n",
       "      <td>0.961307</td>\n",
       "      <td>0.036854</td>\n",
       "      <td>-0.073309</td>\n",
       "      <td>-0.073173</td>\n",
       "      <td>-0.049865</td>\n",
       "    </tr>\n",
       "    <tr>\n",
       "      <th>mean</th>\n",
       "      <td>0.007435</td>\n",
       "      <td>-0.588145</td>\n",
       "      <td>0.961307</td>\n",
       "      <td>1.000000</td>\n",
       "      <td>0.031056</td>\n",
       "      <td>-0.088718</td>\n",
       "      <td>-0.084875</td>\n",
       "      <td>-0.059051</td>\n",
       "    </tr>\n",
       "    <tr>\n",
       "      <th>experienceyear</th>\n",
       "      <td>0.185659</td>\n",
       "      <td>0.017154</td>\n",
       "      <td>0.036854</td>\n",
       "      <td>0.031056</td>\n",
       "      <td>1.000000</td>\n",
       "      <td>0.080816</td>\n",
       "      <td>0.100492</td>\n",
       "      <td>0.038941</td>\n",
       "    </tr>\n",
       "    <tr>\n",
       "      <th>specialty</th>\n",
       "      <td>0.028947</td>\n",
       "      <td>0.141334</td>\n",
       "      <td>-0.073309</td>\n",
       "      <td>-0.088718</td>\n",
       "      <td>0.080816</td>\n",
       "      <td>1.000000</td>\n",
       "      <td>0.265299</td>\n",
       "      <td>0.172173</td>\n",
       "    </tr>\n",
       "    <tr>\n",
       "      <th>overall_rating</th>\n",
       "      <td>0.025282</td>\n",
       "      <td>0.133364</td>\n",
       "      <td>-0.073173</td>\n",
       "      <td>-0.084875</td>\n",
       "      <td>0.100492</td>\n",
       "      <td>0.265299</td>\n",
       "      <td>1.000000</td>\n",
       "      <td>0.814836</td>\n",
       "    </tr>\n",
       "    <tr>\n",
       "      <th>tier</th>\n",
       "      <td>0.027984</td>\n",
       "      <td>0.102267</td>\n",
       "      <td>-0.049865</td>\n",
       "      <td>-0.059051</td>\n",
       "      <td>0.038941</td>\n",
       "      <td>0.172173</td>\n",
       "      <td>0.814836</td>\n",
       "      <td>1.000000</td>\n",
       "    </tr>\n",
       "  </tbody>\n",
       "</table>\n",
       "</div>"
      ],
      "text/plain": [
       "                  Gender       std    median      mean  experienceyear  \\\n",
       "Gender          1.000000 -0.012127  0.007445  0.007435        0.185659   \n",
       "std            -0.012127  1.000000 -0.478410 -0.588145        0.017154   \n",
       "median          0.007445 -0.478410  1.000000  0.961307        0.036854   \n",
       "mean            0.007435 -0.588145  0.961307  1.000000        0.031056   \n",
       "experienceyear  0.185659  0.017154  0.036854  0.031056        1.000000   \n",
       "specialty       0.028947  0.141334 -0.073309 -0.088718        0.080816   \n",
       "overall_rating  0.025282  0.133364 -0.073173 -0.084875        0.100492   \n",
       "tier            0.027984  0.102267 -0.049865 -0.059051        0.038941   \n",
       "\n",
       "                specialty  overall_rating      tier  \n",
       "Gender           0.028947        0.025282  0.027984  \n",
       "std              0.141334        0.133364  0.102267  \n",
       "median          -0.073309       -0.073173 -0.049865  \n",
       "mean            -0.088718       -0.084875 -0.059051  \n",
       "experienceyear   0.080816        0.100492  0.038941  \n",
       "specialty        1.000000        0.265299  0.172173  \n",
       "overall_rating   0.265299        1.000000  0.814836  \n",
       "tier             0.172173        0.814836  1.000000  "
      ]
     },
     "execution_count": 104,
     "metadata": {},
     "output_type": "execute_result"
    }
   ],
   "source": [
    "dfc_co.corr(method='pearson', min_periods=1)"
   ]
  },
  {
   "cell_type": "code",
   "execution_count": 105,
   "metadata": {
    "collapsed": true
   },
   "outputs": [],
   "source": [
    "dfc_0_co = dfc_0.drop(['index','NPI','href', 'specialty'],axis = 1)"
   ]
  },
  {
   "cell_type": "code",
   "execution_count": 106,
   "metadata": {
    "collapsed": false
   },
   "outputs": [
    {
     "data": {
      "text/html": [
       "<div>\n",
       "<table border=\"1\" class=\"dataframe\">\n",
       "  <thead>\n",
       "    <tr style=\"text-align: right;\">\n",
       "      <th></th>\n",
       "      <th>Gender</th>\n",
       "      <th>std</th>\n",
       "      <th>median</th>\n",
       "      <th>mean</th>\n",
       "      <th>experienceyear</th>\n",
       "      <th>overall_rating</th>\n",
       "    </tr>\n",
       "  </thead>\n",
       "  <tbody>\n",
       "    <tr>\n",
       "      <th>Gender</th>\n",
       "      <td>1.000000</td>\n",
       "      <td>-0.028461</td>\n",
       "      <td>0.010447</td>\n",
       "      <td>0.013579</td>\n",
       "      <td>0.193895</td>\n",
       "      <td>0.014722</td>\n",
       "    </tr>\n",
       "    <tr>\n",
       "      <th>std</th>\n",
       "      <td>-0.028461</td>\n",
       "      <td>1.000000</td>\n",
       "      <td>-0.485284</td>\n",
       "      <td>-0.597519</td>\n",
       "      <td>-0.011904</td>\n",
       "      <td>0.018355</td>\n",
       "    </tr>\n",
       "    <tr>\n",
       "      <th>median</th>\n",
       "      <td>0.010447</td>\n",
       "      <td>-0.485284</td>\n",
       "      <td>1.000000</td>\n",
       "      <td>0.959275</td>\n",
       "      <td>0.052005</td>\n",
       "      <td>0.001102</td>\n",
       "    </tr>\n",
       "    <tr>\n",
       "      <th>mean</th>\n",
       "      <td>0.013579</td>\n",
       "      <td>-0.597519</td>\n",
       "      <td>0.959275</td>\n",
       "      <td>1.000000</td>\n",
       "      <td>0.049569</td>\n",
       "      <td>0.001465</td>\n",
       "    </tr>\n",
       "    <tr>\n",
       "      <th>experienceyear</th>\n",
       "      <td>0.193895</td>\n",
       "      <td>-0.011904</td>\n",
       "      <td>0.052005</td>\n",
       "      <td>0.049569</td>\n",
       "      <td>1.000000</td>\n",
       "      <td>-0.068014</td>\n",
       "    </tr>\n",
       "    <tr>\n",
       "      <th>overall_rating</th>\n",
       "      <td>0.014722</td>\n",
       "      <td>0.018355</td>\n",
       "      <td>0.001102</td>\n",
       "      <td>0.001465</td>\n",
       "      <td>-0.068014</td>\n",
       "      <td>1.000000</td>\n",
       "    </tr>\n",
       "  </tbody>\n",
       "</table>\n",
       "</div>"
      ],
      "text/plain": [
       "                  Gender       std    median      mean  experienceyear  \\\n",
       "Gender          1.000000 -0.028461  0.010447  0.013579        0.193895   \n",
       "std            -0.028461  1.000000 -0.485284 -0.597519       -0.011904   \n",
       "median          0.010447 -0.485284  1.000000  0.959275        0.052005   \n",
       "mean            0.013579 -0.597519  0.959275  1.000000        0.049569   \n",
       "experienceyear  0.193895 -0.011904  0.052005  0.049569        1.000000   \n",
       "overall_rating  0.014722  0.018355  0.001102  0.001465       -0.068014   \n",
       "\n",
       "                overall_rating  \n",
       "Gender                0.014722  \n",
       "std                   0.018355  \n",
       "median                0.001102  \n",
       "mean                  0.001465  \n",
       "experienceyear       -0.068014  \n",
       "overall_rating        1.000000  "
      ]
     },
     "execution_count": 106,
     "metadata": {},
     "output_type": "execute_result"
    }
   ],
   "source": [
    "dfc_0_co.corr(method='pearson', min_periods=1)"
   ]
  },
  {
   "cell_type": "markdown",
   "metadata": {},
   "source": [
    "### Regression Model"
   ]
  },
  {
   "cell_type": "markdown",
   "metadata": {},
   "source": [
    "-\tModel1 : OLS Regression Model for True Quality： “Mean (of true quality)” ~ “Experience Year”+ “Gender”+“Specialty” "
   ]
  },
  {
   "cell_type": "code",
   "execution_count": 107,
   "metadata": {
    "collapsed": true
   },
   "outputs": [],
   "source": [
    "import statsmodels.api as sm"
   ]
  },
  {
   "cell_type": "code",
   "execution_count": 108,
   "metadata": {
    "collapsed": true
   },
   "outputs": [],
   "source": [
    "model = sm.OLS.from_formula(formula = 'mean ~ Gender + experienceyear + C(specialty)',data = df_3).fit()"
   ]
  },
  {
   "cell_type": "code",
   "execution_count": 109,
   "metadata": {
    "collapsed": false
   },
   "outputs": [
    {
     "data": {
      "text/html": [
       "<table class=\"simpletable\">\n",
       "<caption>OLS Regression Results</caption>\n",
       "<tr>\n",
       "  <th>Dep. Variable:</th>          <td>mean</td>       <th>  R-squared:         </th>  <td>   0.108</td>  \n",
       "</tr>\n",
       "<tr>\n",
       "  <th>Model:</th>                   <td>OLS</td>       <th>  Adj. R-squared:    </th>  <td>   0.107</td>  \n",
       "</tr>\n",
       "<tr>\n",
       "  <th>Method:</th>             <td>Least Squares</td>  <th>  F-statistic:       </th>  <td>   109.8</td>  \n",
       "</tr>\n",
       "<tr>\n",
       "  <th>Date:</th>             <td>Fri, 16 Mar 2018</td> <th>  Prob (F-statistic):</th>   <td>  0.00</td>   \n",
       "</tr>\n",
       "<tr>\n",
       "  <th>Time:</th>                 <td>12:26:09</td>     <th>  Log-Likelihood:    </th> <td>-2.9178e+05</td>\n",
       "</tr>\n",
       "<tr>\n",
       "  <th>No. Observations:</th>      <td> 66024</td>      <th>  AIC:               </th>  <td>5.837e+05</td> \n",
       "</tr>\n",
       "<tr>\n",
       "  <th>Df Residuals:</th>          <td> 65950</td>      <th>  BIC:               </th>  <td>5.844e+05</td> \n",
       "</tr>\n",
       "<tr>\n",
       "  <th>Df Model:</th>              <td>    73</td>      <th>                     </th>      <td> </td>     \n",
       "</tr>\n",
       "<tr>\n",
       "  <th>Covariance Type:</th>      <td>nonrobust</td>    <th>                     </th>      <td> </td>     \n",
       "</tr>\n",
       "</table>\n",
       "<table class=\"simpletable\">\n",
       "<tr>\n",
       "           <td></td>             <th>coef</th>     <th>std err</th>      <th>t</th>      <th>P>|t|</th>  <th>[0.025</th>    <th>0.975]</th>  \n",
       "</tr>\n",
       "<tr>\n",
       "  <th>Intercept</th>          <td>   85.7665</td> <td>    7.605</td> <td>   11.277</td> <td> 0.000</td> <td>   70.860</td> <td>  100.673</td>\n",
       "</tr>\n",
       "<tr>\n",
       "  <th>C(specialty)[T.1]</th>  <td>  -22.2478</td> <td>    9.426</td> <td>   -2.360</td> <td> 0.018</td> <td>  -40.723</td> <td>   -3.773</td>\n",
       "</tr>\n",
       "<tr>\n",
       "  <th>C(specialty)[T.2]</th>  <td>   -2.2924</td> <td>    7.674</td> <td>   -0.299</td> <td> 0.765</td> <td>  -17.334</td> <td>   12.750</td>\n",
       "</tr>\n",
       "<tr>\n",
       "  <th>C(specialty)[T.3]</th>  <td>    7.6592</td> <td>    7.602</td> <td>    1.007</td> <td> 0.314</td> <td>   -7.242</td> <td>   22.560</td>\n",
       "</tr>\n",
       "<tr>\n",
       "  <th>C(specialty)[T.4]</th>  <td>   -2.5142</td> <td>   21.494</td> <td>   -0.117</td> <td> 0.907</td> <td>  -44.643</td> <td>   39.615</td>\n",
       "</tr>\n",
       "<tr>\n",
       "  <th>C(specialty)[T.5]</th>  <td>  -78.0516</td> <td>   21.495</td> <td>   -3.631</td> <td> 0.000</td> <td> -120.182</td> <td>  -35.921</td>\n",
       "</tr>\n",
       "<tr>\n",
       "  <th>C(specialty)[T.6]</th>  <td>  -12.8119</td> <td>    7.720</td> <td>   -1.660</td> <td> 0.097</td> <td>  -27.943</td> <td>    2.319</td>\n",
       "</tr>\n",
       "<tr>\n",
       "  <th>C(specialty)[T.7]</th>  <td>    4.6855</td> <td>    7.689</td> <td>    0.609</td> <td> 0.542</td> <td>  -10.385</td> <td>   19.756</td>\n",
       "</tr>\n",
       "<tr>\n",
       "  <th>C(specialty)[T.8]</th>  <td>   -8.7398</td> <td>    7.611</td> <td>   -1.148</td> <td> 0.251</td> <td>  -23.658</td> <td>    6.178</td>\n",
       "</tr>\n",
       "<tr>\n",
       "  <th>C(specialty)[T.9]</th>  <td>   12.8077</td> <td>   21.494</td> <td>    0.596</td> <td> 0.551</td> <td>  -29.321</td> <td>   54.936</td>\n",
       "</tr>\n",
       "<tr>\n",
       "  <th>C(specialty)[T.10]</th> <td>    5.3025</td> <td>    9.563</td> <td>    0.554</td> <td> 0.579</td> <td>  -13.441</td> <td>   24.046</td>\n",
       "</tr>\n",
       "<tr>\n",
       "  <th>C(specialty)[T.11]</th> <td>   12.4784</td> <td>   10.133</td> <td>    1.232</td> <td> 0.218</td> <td>   -7.381</td> <td>   32.338</td>\n",
       "</tr>\n",
       "<tr>\n",
       "  <th>C(specialty)[T.12]</th> <td>    3.4477</td> <td>    7.627</td> <td>    0.452</td> <td> 0.651</td> <td>  -11.502</td> <td>   18.397</td>\n",
       "</tr>\n",
       "<tr>\n",
       "  <th>C(specialty)[T.13]</th> <td>   -9.4299</td> <td>    7.771</td> <td>   -1.213</td> <td> 0.225</td> <td>  -24.662</td> <td>    5.802</td>\n",
       "</tr>\n",
       "<tr>\n",
       "  <th>C(specialty)[T.14]</th> <td>   -5.8361</td> <td>    7.728</td> <td>   -0.755</td> <td> 0.450</td> <td>  -20.983</td> <td>    9.310</td>\n",
       "</tr>\n",
       "<tr>\n",
       "  <th>C(specialty)[T.15]</th> <td>   -5.5534</td> <td>    7.611</td> <td>   -0.730</td> <td> 0.466</td> <td>  -20.471</td> <td>    9.364</td>\n",
       "</tr>\n",
       "<tr>\n",
       "  <th>C(specialty)[T.16]</th> <td>    0.5574</td> <td>    7.603</td> <td>    0.073</td> <td> 0.942</td> <td>  -14.344</td> <td>   15.459</td>\n",
       "</tr>\n",
       "<tr>\n",
       "  <th>C(specialty)[T.17]</th> <td>  -18.1578</td> <td>    7.611</td> <td>   -2.386</td> <td> 0.017</td> <td>  -33.076</td> <td>   -3.240</td>\n",
       "</tr>\n",
       "<tr>\n",
       "  <th>C(specialty)[T.18]</th> <td>  -11.1744</td> <td>    7.659</td> <td>   -1.459</td> <td> 0.145</td> <td>  -26.186</td> <td>    3.837</td>\n",
       "</tr>\n",
       "<tr>\n",
       "  <th>C(specialty)[T.19]</th> <td>   -8.8172</td> <td>    7.604</td> <td>   -1.160</td> <td> 0.246</td> <td>  -23.721</td> <td>    6.087</td>\n",
       "</tr>\n",
       "<tr>\n",
       "  <th>C(specialty)[T.20]</th> <td>    1.4930</td> <td>    7.611</td> <td>    0.196</td> <td> 0.844</td> <td>  -13.425</td> <td>   16.410</td>\n",
       "</tr>\n",
       "<tr>\n",
       "  <th>C(specialty)[T.21]</th> <td>   -2.7764</td> <td>    7.724</td> <td>   -0.359</td> <td> 0.719</td> <td>  -17.916</td> <td>   12.363</td>\n",
       "</tr>\n",
       "<tr>\n",
       "  <th>C(specialty)[T.22]</th> <td>   -8.7273</td> <td>    7.616</td> <td>   -1.146</td> <td> 0.252</td> <td>  -23.655</td> <td>    6.200</td>\n",
       "</tr>\n",
       "<tr>\n",
       "  <th>C(specialty)[T.23]</th> <td>  -11.8740</td> <td>    7.929</td> <td>   -1.497</td> <td> 0.134</td> <td>  -27.415</td> <td>    3.667</td>\n",
       "</tr>\n",
       "<tr>\n",
       "  <th>C(specialty)[T.24]</th> <td>   -5.0296</td> <td>   11.186</td> <td>   -0.450</td> <td> 0.653</td> <td>  -26.954</td> <td>   16.895</td>\n",
       "</tr>\n",
       "<tr>\n",
       "  <th>C(specialty)[T.25]</th> <td>  -15.7118</td> <td>    7.942</td> <td>   -1.978</td> <td> 0.048</td> <td>  -31.278</td> <td>   -0.146</td>\n",
       "</tr>\n",
       "<tr>\n",
       "  <th>C(specialty)[T.26]</th> <td>  -12.4415</td> <td>    7.755</td> <td>   -1.604</td> <td> 0.109</td> <td>  -27.641</td> <td>    2.758</td>\n",
       "</tr>\n",
       "<tr>\n",
       "  <th>C(specialty)[T.27]</th> <td>   -4.9757</td> <td>    8.208</td> <td>   -0.606</td> <td> 0.544</td> <td>  -21.064</td> <td>   11.113</td>\n",
       "</tr>\n",
       "<tr>\n",
       "  <th>C(specialty)[T.28]</th> <td>   -6.4203</td> <td>    7.646</td> <td>   -0.840</td> <td> 0.401</td> <td>  -21.406</td> <td>    8.565</td>\n",
       "</tr>\n",
       "<tr>\n",
       "  <th>C(specialty)[T.29]</th> <td>   -2.3806</td> <td>    8.390</td> <td>   -0.284</td> <td> 0.777</td> <td>  -18.825</td> <td>   14.064</td>\n",
       "</tr>\n",
       "<tr>\n",
       "  <th>C(specialty)[T.30]</th> <td>    3.0008</td> <td>    7.654</td> <td>    0.392</td> <td> 0.695</td> <td>  -12.001</td> <td>   18.003</td>\n",
       "</tr>\n",
       "<tr>\n",
       "  <th>C(specialty)[T.31]</th> <td>  -12.0392</td> <td>    7.692</td> <td>   -1.565</td> <td> 0.118</td> <td>  -27.116</td> <td>    3.037</td>\n",
       "</tr>\n",
       "<tr>\n",
       "  <th>C(specialty)[T.32]</th> <td>   -4.4060</td> <td>    7.603</td> <td>   -0.579</td> <td> 0.562</td> <td>  -19.308</td> <td>   10.496</td>\n",
       "</tr>\n",
       "<tr>\n",
       "  <th>C(specialty)[T.33]</th> <td>  -10.7537</td> <td>    7.658</td> <td>   -1.404</td> <td> 0.160</td> <td>  -25.764</td> <td>    4.256</td>\n",
       "</tr>\n",
       "<tr>\n",
       "  <th>C(specialty)[T.34]</th> <td>    0.1276</td> <td>    7.698</td> <td>    0.017</td> <td> 0.987</td> <td>  -14.960</td> <td>   15.215</td>\n",
       "</tr>\n",
       "<tr>\n",
       "  <th>C(specialty)[T.35]</th> <td>   -0.0008</td> <td>    7.681</td> <td>   -0.000</td> <td> 1.000</td> <td>  -15.056</td> <td>   15.054</td>\n",
       "</tr>\n",
       "<tr>\n",
       "  <th>C(specialty)[T.36]</th> <td>    0.9931</td> <td>   13.876</td> <td>    0.072</td> <td> 0.943</td> <td>  -26.203</td> <td>   28.189</td>\n",
       "</tr>\n",
       "<tr>\n",
       "  <th>C(specialty)[T.37]</th> <td>  -11.0278</td> <td>    7.760</td> <td>   -1.421</td> <td> 0.155</td> <td>  -26.237</td> <td>    4.181</td>\n",
       "</tr>\n",
       "<tr>\n",
       "  <th>C(specialty)[T.38]</th> <td>   -8.8185</td> <td>    7.633</td> <td>   -1.155</td> <td> 0.248</td> <td>  -23.780</td> <td>    6.142</td>\n",
       "</tr>\n",
       "<tr>\n",
       "  <th>C(specialty)[T.39]</th> <td>   -8.4633</td> <td>    7.627</td> <td>   -1.110</td> <td> 0.267</td> <td>  -23.412</td> <td>    6.485</td>\n",
       "</tr>\n",
       "<tr>\n",
       "  <th>C(specialty)[T.40]</th> <td>  -11.6913</td> <td>   10.747</td> <td>   -1.088</td> <td> 0.277</td> <td>  -32.755</td> <td>    9.373</td>\n",
       "</tr>\n",
       "<tr>\n",
       "  <th>C(specialty)[T.41]</th> <td>   -9.8774</td> <td>    7.651</td> <td>   -1.291</td> <td> 0.197</td> <td>  -24.873</td> <td>    5.118</td>\n",
       "</tr>\n",
       "<tr>\n",
       "  <th>C(specialty)[T.42]</th> <td>   -2.6126</td> <td>    7.981</td> <td>   -0.327</td> <td> 0.743</td> <td>  -18.255</td> <td>   13.030</td>\n",
       "</tr>\n",
       "<tr>\n",
       "  <th>C(specialty)[T.43]</th> <td>   -5.9756</td> <td>    9.564</td> <td>   -0.625</td> <td> 0.532</td> <td>  -24.722</td> <td>   12.770</td>\n",
       "</tr>\n",
       "<tr>\n",
       "  <th>C(specialty)[T.44]</th> <td>   -9.4358</td> <td>    7.618</td> <td>   -1.239</td> <td> 0.215</td> <td>  -24.367</td> <td>    5.496</td>\n",
       "</tr>\n",
       "<tr>\n",
       "  <th>C(specialty)[T.45]</th> <td>    6.4096</td> <td>    7.605</td> <td>    0.843</td> <td> 0.399</td> <td>   -8.497</td> <td>   21.316</td>\n",
       "</tr>\n",
       "<tr>\n",
       "  <th>C(specialty)[T.46]</th> <td>   -5.1299</td> <td>    8.956</td> <td>   -0.573</td> <td> 0.567</td> <td>  -22.683</td> <td>   12.423</td>\n",
       "</tr>\n",
       "<tr>\n",
       "  <th>C(specialty)[T.47]</th> <td>  -37.0245</td> <td>   21.493</td> <td>   -1.723</td> <td> 0.085</td> <td>  -79.151</td> <td>    5.103</td>\n",
       "</tr>\n",
       "<tr>\n",
       "  <th>C(specialty)[T.48]</th> <td>   -7.3918</td> <td>    7.611</td> <td>   -0.971</td> <td> 0.331</td> <td>  -22.310</td> <td>    7.526</td>\n",
       "</tr>\n",
       "<tr>\n",
       "  <th>C(specialty)[T.49]</th> <td>   -4.6027</td> <td>    8.105</td> <td>   -0.568</td> <td> 0.570</td> <td>  -20.489</td> <td>   11.283</td>\n",
       "</tr>\n",
       "<tr>\n",
       "  <th>C(specialty)[T.50]</th> <td>   -4.3339</td> <td>    7.631</td> <td>   -0.568</td> <td> 0.570</td> <td>  -19.290</td> <td>   10.622</td>\n",
       "</tr>\n",
       "<tr>\n",
       "  <th>C(specialty)[T.51]</th> <td>   -0.5347</td> <td>    7.709</td> <td>   -0.069</td> <td> 0.945</td> <td>  -15.644</td> <td>   14.574</td>\n",
       "</tr>\n",
       "<tr>\n",
       "  <th>C(specialty)[T.52]</th> <td>   11.3417</td> <td>    7.661</td> <td>    1.480</td> <td> 0.139</td> <td>   -3.674</td> <td>   26.357</td>\n",
       "</tr>\n",
       "<tr>\n",
       "  <th>C(specialty)[T.53]</th> <td>  -11.0809</td> <td>    7.946</td> <td>   -1.394</td> <td> 0.163</td> <td>  -26.656</td> <td>    4.494</td>\n",
       "</tr>\n",
       "<tr>\n",
       "  <th>C(specialty)[T.54]</th> <td>   -8.8014</td> <td>   10.747</td> <td>   -0.819</td> <td> 0.413</td> <td>  -29.865</td> <td>   12.263</td>\n",
       "</tr>\n",
       "<tr>\n",
       "  <th>C(specialty)[T.55]</th> <td>   -4.4608</td> <td>    7.641</td> <td>   -0.584</td> <td> 0.559</td> <td>  -19.438</td> <td>   10.516</td>\n",
       "</tr>\n",
       "<tr>\n",
       "  <th>C(specialty)[T.56]</th> <td>    6.8888</td> <td>    8.254</td> <td>    0.835</td> <td> 0.404</td> <td>   -9.288</td> <td>   23.066</td>\n",
       "</tr>\n",
       "<tr>\n",
       "  <th>C(specialty)[T.57]</th> <td>  -16.3635</td> <td>    9.722</td> <td>   -1.683</td> <td> 0.092</td> <td>  -35.418</td> <td>    2.691</td>\n",
       "</tr>\n",
       "<tr>\n",
       "  <th>C(specialty)[T.58]</th> <td>   -8.0048</td> <td>    7.705</td> <td>   -1.039</td> <td> 0.299</td> <td>  -23.107</td> <td>    7.097</td>\n",
       "</tr>\n",
       "<tr>\n",
       "  <th>C(specialty)[T.59]</th> <td>  -24.0212</td> <td>    9.203</td> <td>   -2.610</td> <td> 0.009</td> <td>  -42.059</td> <td>   -5.983</td>\n",
       "</tr>\n",
       "<tr>\n",
       "  <th>C(specialty)[T.60]</th> <td>   -1.1527</td> <td>    9.908</td> <td>   -0.116</td> <td> 0.907</td> <td>  -20.572</td> <td>   18.267</td>\n",
       "</tr>\n",
       "<tr>\n",
       "  <th>C(specialty)[T.61]</th> <td>   -9.6179</td> <td>    7.641</td> <td>   -1.259</td> <td> 0.208</td> <td>  -24.594</td> <td>    5.358</td>\n",
       "</tr>\n",
       "<tr>\n",
       "  <th>C(specialty)[T.62]</th> <td>   -5.2524</td> <td>    7.627</td> <td>   -0.689</td> <td> 0.491</td> <td>  -20.202</td> <td>    9.697</td>\n",
       "</tr>\n",
       "<tr>\n",
       "  <th>C(specialty)[T.63]</th> <td>   -4.6378</td> <td>    7.712</td> <td>   -0.601</td> <td> 0.548</td> <td>  -19.753</td> <td>   10.478</td>\n",
       "</tr>\n",
       "<tr>\n",
       "  <th>C(specialty)[T.64]</th> <td>  -12.5808</td> <td>    7.668</td> <td>   -1.641</td> <td> 0.101</td> <td>  -27.610</td> <td>    2.448</td>\n",
       "</tr>\n",
       "<tr>\n",
       "  <th>C(specialty)[T.65]</th> <td>  -15.2621</td> <td>    8.561</td> <td>   -1.783</td> <td> 0.075</td> <td>  -32.042</td> <td>    1.518</td>\n",
       "</tr>\n",
       "<tr>\n",
       "  <th>C(specialty)[T.66]</th> <td>   -7.3897</td> <td>    7.881</td> <td>   -0.938</td> <td> 0.348</td> <td>  -22.837</td> <td>    8.057</td>\n",
       "</tr>\n",
       "<tr>\n",
       "  <th>C(specialty)[T.67]</th> <td>   -7.7275</td> <td>    8.069</td> <td>   -0.958</td> <td> 0.338</td> <td>  -23.542</td> <td>    8.087</td>\n",
       "</tr>\n",
       "<tr>\n",
       "  <th>C(specialty)[T.68]</th> <td>   -1.7457</td> <td>    7.695</td> <td>   -0.227</td> <td> 0.821</td> <td>  -16.827</td> <td>   13.336</td>\n",
       "</tr>\n",
       "<tr>\n",
       "  <th>C(specialty)[T.69]</th> <td>   -8.5720</td> <td>    9.721</td> <td>   -0.882</td> <td> 0.378</td> <td>  -27.626</td> <td>   10.482</td>\n",
       "</tr>\n",
       "<tr>\n",
       "  <th>C(specialty)[T.70]</th> <td>   -6.2178</td> <td>    7.619</td> <td>   -0.816</td> <td> 0.414</td> <td>  -21.151</td> <td>    8.715</td>\n",
       "</tr>\n",
       "<tr>\n",
       "  <th>C(specialty)[T.71]</th> <td>   -4.9106</td> <td>    7.662</td> <td>   -0.641</td> <td> 0.522</td> <td>  -19.929</td> <td>   10.107</td>\n",
       "</tr>\n",
       "<tr>\n",
       "  <th>Gender</th>             <td>   -0.8226</td> <td>    0.201</td> <td>   -4.098</td> <td> 0.000</td> <td>   -1.216</td> <td>   -0.429</td>\n",
       "</tr>\n",
       "<tr>\n",
       "  <th>experienceyear</th>     <td>    0.0570</td> <td>    0.008</td> <td>    7.520</td> <td> 0.000</td> <td>    0.042</td> <td>    0.072</td>\n",
       "</tr>\n",
       "</table>\n",
       "<table class=\"simpletable\">\n",
       "<tr>\n",
       "  <th>Omnibus:</th>       <td>14945.723</td> <th>  Durbin-Watson:     </th> <td>   1.972</td> \n",
       "</tr>\n",
       "<tr>\n",
       "  <th>Prob(Omnibus):</th>  <td> 0.000</td>   <th>  Jarque-Bera (JB):  </th> <td>30758.335</td>\n",
       "</tr>\n",
       "<tr>\n",
       "  <th>Skew:</th>           <td>-1.346</td>   <th>  Prob(JB):          </th> <td>    0.00</td> \n",
       "</tr>\n",
       "<tr>\n",
       "  <th>Kurtosis:</th>       <td> 4.982</td>   <th>  Cond. No.          </th> <td>2.37e+04</td> \n",
       "</tr>\n",
       "</table>"
      ],
      "text/plain": [
       "<class 'statsmodels.iolib.summary.Summary'>\n",
       "\"\"\"\n",
       "                            OLS Regression Results                            \n",
       "==============================================================================\n",
       "Dep. Variable:                   mean   R-squared:                       0.108\n",
       "Model:                            OLS   Adj. R-squared:                  0.107\n",
       "Method:                 Least Squares   F-statistic:                     109.8\n",
       "Date:                Fri, 16 Mar 2018   Prob (F-statistic):               0.00\n",
       "Time:                        12:26:09   Log-Likelihood:            -2.9178e+05\n",
       "No. Observations:               66024   AIC:                         5.837e+05\n",
       "Df Residuals:                   65950   BIC:                         5.844e+05\n",
       "Df Model:                          73                                         \n",
       "Covariance Type:            nonrobust                                         \n",
       "======================================================================================\n",
       "                         coef    std err          t      P>|t|      [0.025      0.975]\n",
       "--------------------------------------------------------------------------------------\n",
       "Intercept             85.7665      7.605     11.277      0.000      70.860     100.673\n",
       "C(specialty)[T.1]    -22.2478      9.426     -2.360      0.018     -40.723      -3.773\n",
       "C(specialty)[T.2]     -2.2924      7.674     -0.299      0.765     -17.334      12.750\n",
       "C(specialty)[T.3]      7.6592      7.602      1.007      0.314      -7.242      22.560\n",
       "C(specialty)[T.4]     -2.5142     21.494     -0.117      0.907     -44.643      39.615\n",
       "C(specialty)[T.5]    -78.0516     21.495     -3.631      0.000    -120.182     -35.921\n",
       "C(specialty)[T.6]    -12.8119      7.720     -1.660      0.097     -27.943       2.319\n",
       "C(specialty)[T.7]      4.6855      7.689      0.609      0.542     -10.385      19.756\n",
       "C(specialty)[T.8]     -8.7398      7.611     -1.148      0.251     -23.658       6.178\n",
       "C(specialty)[T.9]     12.8077     21.494      0.596      0.551     -29.321      54.936\n",
       "C(specialty)[T.10]     5.3025      9.563      0.554      0.579     -13.441      24.046\n",
       "C(specialty)[T.11]    12.4784     10.133      1.232      0.218      -7.381      32.338\n",
       "C(specialty)[T.12]     3.4477      7.627      0.452      0.651     -11.502      18.397\n",
       "C(specialty)[T.13]    -9.4299      7.771     -1.213      0.225     -24.662       5.802\n",
       "C(specialty)[T.14]    -5.8361      7.728     -0.755      0.450     -20.983       9.310\n",
       "C(specialty)[T.15]    -5.5534      7.611     -0.730      0.466     -20.471       9.364\n",
       "C(specialty)[T.16]     0.5574      7.603      0.073      0.942     -14.344      15.459\n",
       "C(specialty)[T.17]   -18.1578      7.611     -2.386      0.017     -33.076      -3.240\n",
       "C(specialty)[T.18]   -11.1744      7.659     -1.459      0.145     -26.186       3.837\n",
       "C(specialty)[T.19]    -8.8172      7.604     -1.160      0.246     -23.721       6.087\n",
       "C(specialty)[T.20]     1.4930      7.611      0.196      0.844     -13.425      16.410\n",
       "C(specialty)[T.21]    -2.7764      7.724     -0.359      0.719     -17.916      12.363\n",
       "C(specialty)[T.22]    -8.7273      7.616     -1.146      0.252     -23.655       6.200\n",
       "C(specialty)[T.23]   -11.8740      7.929     -1.497      0.134     -27.415       3.667\n",
       "C(specialty)[T.24]    -5.0296     11.186     -0.450      0.653     -26.954      16.895\n",
       "C(specialty)[T.25]   -15.7118      7.942     -1.978      0.048     -31.278      -0.146\n",
       "C(specialty)[T.26]   -12.4415      7.755     -1.604      0.109     -27.641       2.758\n",
       "C(specialty)[T.27]    -4.9757      8.208     -0.606      0.544     -21.064      11.113\n",
       "C(specialty)[T.28]    -6.4203      7.646     -0.840      0.401     -21.406       8.565\n",
       "C(specialty)[T.29]    -2.3806      8.390     -0.284      0.777     -18.825      14.064\n",
       "C(specialty)[T.30]     3.0008      7.654      0.392      0.695     -12.001      18.003\n",
       "C(specialty)[T.31]   -12.0392      7.692     -1.565      0.118     -27.116       3.037\n",
       "C(specialty)[T.32]    -4.4060      7.603     -0.579      0.562     -19.308      10.496\n",
       "C(specialty)[T.33]   -10.7537      7.658     -1.404      0.160     -25.764       4.256\n",
       "C(specialty)[T.34]     0.1276      7.698      0.017      0.987     -14.960      15.215\n",
       "C(specialty)[T.35]    -0.0008      7.681     -0.000      1.000     -15.056      15.054\n",
       "C(specialty)[T.36]     0.9931     13.876      0.072      0.943     -26.203      28.189\n",
       "C(specialty)[T.37]   -11.0278      7.760     -1.421      0.155     -26.237       4.181\n",
       "C(specialty)[T.38]    -8.8185      7.633     -1.155      0.248     -23.780       6.142\n",
       "C(specialty)[T.39]    -8.4633      7.627     -1.110      0.267     -23.412       6.485\n",
       "C(specialty)[T.40]   -11.6913     10.747     -1.088      0.277     -32.755       9.373\n",
       "C(specialty)[T.41]    -9.8774      7.651     -1.291      0.197     -24.873       5.118\n",
       "C(specialty)[T.42]    -2.6126      7.981     -0.327      0.743     -18.255      13.030\n",
       "C(specialty)[T.43]    -5.9756      9.564     -0.625      0.532     -24.722      12.770\n",
       "C(specialty)[T.44]    -9.4358      7.618     -1.239      0.215     -24.367       5.496\n",
       "C(specialty)[T.45]     6.4096      7.605      0.843      0.399      -8.497      21.316\n",
       "C(specialty)[T.46]    -5.1299      8.956     -0.573      0.567     -22.683      12.423\n",
       "C(specialty)[T.47]   -37.0245     21.493     -1.723      0.085     -79.151       5.103\n",
       "C(specialty)[T.48]    -7.3918      7.611     -0.971      0.331     -22.310       7.526\n",
       "C(specialty)[T.49]    -4.6027      8.105     -0.568      0.570     -20.489      11.283\n",
       "C(specialty)[T.50]    -4.3339      7.631     -0.568      0.570     -19.290      10.622\n",
       "C(specialty)[T.51]    -0.5347      7.709     -0.069      0.945     -15.644      14.574\n",
       "C(specialty)[T.52]    11.3417      7.661      1.480      0.139      -3.674      26.357\n",
       "C(specialty)[T.53]   -11.0809      7.946     -1.394      0.163     -26.656       4.494\n",
       "C(specialty)[T.54]    -8.8014     10.747     -0.819      0.413     -29.865      12.263\n",
       "C(specialty)[T.55]    -4.4608      7.641     -0.584      0.559     -19.438      10.516\n",
       "C(specialty)[T.56]     6.8888      8.254      0.835      0.404      -9.288      23.066\n",
       "C(specialty)[T.57]   -16.3635      9.722     -1.683      0.092     -35.418       2.691\n",
       "C(specialty)[T.58]    -8.0048      7.705     -1.039      0.299     -23.107       7.097\n",
       "C(specialty)[T.59]   -24.0212      9.203     -2.610      0.009     -42.059      -5.983\n",
       "C(specialty)[T.60]    -1.1527      9.908     -0.116      0.907     -20.572      18.267\n",
       "C(specialty)[T.61]    -9.6179      7.641     -1.259      0.208     -24.594       5.358\n",
       "C(specialty)[T.62]    -5.2524      7.627     -0.689      0.491     -20.202       9.697\n",
       "C(specialty)[T.63]    -4.6378      7.712     -0.601      0.548     -19.753      10.478\n",
       "C(specialty)[T.64]   -12.5808      7.668     -1.641      0.101     -27.610       2.448\n",
       "C(specialty)[T.65]   -15.2621      8.561     -1.783      0.075     -32.042       1.518\n",
       "C(specialty)[T.66]    -7.3897      7.881     -0.938      0.348     -22.837       8.057\n",
       "C(specialty)[T.67]    -7.7275      8.069     -0.958      0.338     -23.542       8.087\n",
       "C(specialty)[T.68]    -1.7457      7.695     -0.227      0.821     -16.827      13.336\n",
       "C(specialty)[T.69]    -8.5720      9.721     -0.882      0.378     -27.626      10.482\n",
       "C(specialty)[T.70]    -6.2178      7.619     -0.816      0.414     -21.151       8.715\n",
       "C(specialty)[T.71]    -4.9106      7.662     -0.641      0.522     -19.929      10.107\n",
       "Gender                -0.8226      0.201     -4.098      0.000      -1.216      -0.429\n",
       "experienceyear         0.0570      0.008      7.520      0.000       0.042       0.072\n",
       "==============================================================================\n",
       "Omnibus:                    14945.723   Durbin-Watson:                   1.972\n",
       "Prob(Omnibus):                  0.000   Jarque-Bera (JB):            30758.335\n",
       "Skew:                          -1.346   Prob(JB):                         0.00\n",
       "Kurtosis:                       4.982   Cond. No.                     2.37e+04\n",
       "==============================================================================\n",
       "\n",
       "Warnings:\n",
       "[1] Standard Errors assume that the covariance matrix of the errors is correctly specified.\n",
       "[2] The condition number is large, 2.37e+04. This might indicate that there are\n",
       "strong multicollinearity or other numerical problems.\n",
       "\"\"\""
      ]
     },
     "execution_count": 109,
     "metadata": {},
     "output_type": "execute_result"
    }
   ],
   "source": [
    "model.summary()"
   ]
  },
  {
   "cell_type": "markdown",
   "metadata": {
    "collapsed": false
   },
   "source": [
    "- Model 2： OLS Regression Model for Overall Rating ：\"Overall Rating\" ~ “Experience Year”+ “Gender”+“Specialty” + “Mean (of true quality)”"
   ]
  },
  {
   "cell_type": "code",
   "execution_count": 110,
   "metadata": {
    "collapsed": true
   },
   "outputs": [],
   "source": [
    "model_or = sm.OLS.from_formula(formula = 'overall_rating ~ Gender + mean + experienceyear + C(specialty)',data = dfc).fit()"
   ]
  },
  {
   "cell_type": "code",
   "execution_count": 111,
   "metadata": {
    "collapsed": false
   },
   "outputs": [
    {
     "data": {
      "text/html": [
       "<table class=\"simpletable\">\n",
       "<caption>OLS Regression Results</caption>\n",
       "<tr>\n",
       "  <th>Dep. Variable:</th>     <td>overall_rating</td>  <th>  R-squared:         </th>  <td>   0.246</td>  \n",
       "</tr>\n",
       "<tr>\n",
       "  <th>Model:</th>                   <td>OLS</td>       <th>  Adj. R-squared:    </th>  <td>   0.245</td>  \n",
       "</tr>\n",
       "<tr>\n",
       "  <th>Method:</th>             <td>Least Squares</td>  <th>  F-statistic:       </th>  <td>   290.2</td>  \n",
       "</tr>\n",
       "<tr>\n",
       "  <th>Date:</th>             <td>Fri, 16 Mar 2018</td> <th>  Prob (F-statistic):</th>   <td>  0.00</td>   \n",
       "</tr>\n",
       "<tr>\n",
       "  <th>Time:</th>                 <td>12:26:11</td>     <th>  Log-Likelihood:    </th> <td>-1.2683e+05</td>\n",
       "</tr>\n",
       "<tr>\n",
       "  <th>No. Observations:</th>      <td> 65987</td>      <th>  AIC:               </th>  <td>2.538e+05</td> \n",
       "</tr>\n",
       "<tr>\n",
       "  <th>Df Residuals:</th>          <td> 65912</td>      <th>  BIC:               </th>  <td>2.545e+05</td> \n",
       "</tr>\n",
       "<tr>\n",
       "  <th>Df Model:</th>              <td>    74</td>      <th>                     </th>      <td> </td>     \n",
       "</tr>\n",
       "<tr>\n",
       "  <th>Covariance Type:</th>      <td>nonrobust</td>    <th>                     </th>      <td> </td>     \n",
       "</tr>\n",
       "</table>\n",
       "<table class=\"simpletable\">\n",
       "<tr>\n",
       "           <td></td>             <th>coef</th>     <th>std err</th>      <th>t</th>      <th>P>|t|</th>  <th>[0.025</th>    <th>0.975]</th>  \n",
       "</tr>\n",
       "<tr>\n",
       "  <th>Intercept</th>          <td>    2.0509</td> <td>    0.627</td> <td>    3.273</td> <td> 0.001</td> <td>    0.823</td> <td>    3.279</td>\n",
       "</tr>\n",
       "<tr>\n",
       "  <th>C(specialty)[T.1]</th>  <td>    1.4428</td> <td>    0.776</td> <td>    1.860</td> <td> 0.063</td> <td>   -0.078</td> <td>    2.963</td>\n",
       "</tr>\n",
       "<tr>\n",
       "  <th>C(specialty)[T.2]</th>  <td>    1.5301</td> <td>    0.632</td> <td>    2.422</td> <td> 0.015</td> <td>    0.292</td> <td>    2.768</td>\n",
       "</tr>\n",
       "<tr>\n",
       "  <th>C(specialty)[T.3]</th>  <td>   -0.5231</td> <td>    0.626</td> <td>   -0.836</td> <td> 0.403</td> <td>   -1.750</td> <td>    0.703</td>\n",
       "</tr>\n",
       "<tr>\n",
       "  <th>C(specialty)[T.4]</th>  <td>   -2.2493</td> <td>    1.769</td> <td>   -1.271</td> <td> 0.204</td> <td>   -5.717</td> <td>    1.218</td>\n",
       "</tr>\n",
       "<tr>\n",
       "  <th>C(specialty)[T.5]</th>  <td>    1.4039</td> <td>    1.769</td> <td>    0.793</td> <td> 0.428</td> <td>   -2.064</td> <td>    4.872</td>\n",
       "</tr>\n",
       "<tr>\n",
       "  <th>C(specialty)[T.6]</th>  <td>    1.3785</td> <td>    0.635</td> <td>    2.170</td> <td> 0.030</td> <td>    0.133</td> <td>    2.624</td>\n",
       "</tr>\n",
       "<tr>\n",
       "  <th>C(specialty)[T.7]</th>  <td>    1.6384</td> <td>    0.633</td> <td>    2.589</td> <td> 0.010</td> <td>    0.398</td> <td>    2.879</td>\n",
       "</tr>\n",
       "<tr>\n",
       "  <th>C(specialty)[T.8]</th>  <td>    1.4278</td> <td>    0.626</td> <td>    2.279</td> <td> 0.023</td> <td>    0.200</td> <td>    2.656</td>\n",
       "</tr>\n",
       "<tr>\n",
       "  <th>C(specialty)[T.9]</th>  <td>    0.7324</td> <td>    1.769</td> <td>    0.414</td> <td> 0.679</td> <td>   -2.735</td> <td>    4.200</td>\n",
       "</tr>\n",
       "<tr>\n",
       "  <th>C(specialty)[T.10]</th> <td>   -1.7518</td> <td>    0.787</td> <td>   -2.226</td> <td> 0.026</td> <td>   -3.294</td> <td>   -0.209</td>\n",
       "</tr>\n",
       "<tr>\n",
       "  <th>C(specialty)[T.11]</th> <td>   -0.8540</td> <td>    0.834</td> <td>   -1.024</td> <td> 0.306</td> <td>   -2.489</td> <td>    0.781</td>\n",
       "</tr>\n",
       "<tr>\n",
       "  <th>C(specialty)[T.12]</th> <td>   -0.8491</td> <td>    0.628</td> <td>   -1.353</td> <td> 0.176</td> <td>   -2.080</td> <td>    0.381</td>\n",
       "</tr>\n",
       "<tr>\n",
       "  <th>C(specialty)[T.13]</th> <td>    1.6972</td> <td>    0.640</td> <td>    2.653</td> <td> 0.008</td> <td>    0.444</td> <td>    2.951</td>\n",
       "</tr>\n",
       "<tr>\n",
       "  <th>C(specialty)[T.14]</th> <td>    0.5772</td> <td>    0.636</td> <td>    0.907</td> <td> 0.364</td> <td>   -0.669</td> <td>    1.824</td>\n",
       "</tr>\n",
       "<tr>\n",
       "  <th>C(specialty)[T.15]</th> <td>    1.5801</td> <td>    0.626</td> <td>    2.522</td> <td> 0.012</td> <td>    0.352</td> <td>    2.808</td>\n",
       "</tr>\n",
       "<tr>\n",
       "  <th>C(specialty)[T.16]</th> <td>   -0.7147</td> <td>    0.626</td> <td>   -1.142</td> <td> 0.253</td> <td>   -1.941</td> <td>    0.512</td>\n",
       "</tr>\n",
       "<tr>\n",
       "  <th>C(specialty)[T.17]</th> <td>    0.1171</td> <td>    0.626</td> <td>    0.187</td> <td> 0.852</td> <td>   -1.111</td> <td>    1.345</td>\n",
       "</tr>\n",
       "<tr>\n",
       "  <th>C(specialty)[T.18]</th> <td>    1.3530</td> <td>    0.630</td> <td>    2.146</td> <td> 0.032</td> <td>    0.117</td> <td>    2.588</td>\n",
       "</tr>\n",
       "<tr>\n",
       "  <th>C(specialty)[T.19]</th> <td>    1.4253</td> <td>    0.626</td> <td>    2.277</td> <td> 0.023</td> <td>    0.199</td> <td>    2.652</td>\n",
       "</tr>\n",
       "<tr>\n",
       "  <th>C(specialty)[T.20]</th> <td>    1.4512</td> <td>    0.626</td> <td>    2.317</td> <td> 0.021</td> <td>    0.223</td> <td>    2.679</td>\n",
       "</tr>\n",
       "<tr>\n",
       "  <th>C(specialty)[T.21]</th> <td>    1.2662</td> <td>    0.636</td> <td>    1.992</td> <td> 0.046</td> <td>    0.020</td> <td>    2.512</td>\n",
       "</tr>\n",
       "<tr>\n",
       "  <th>C(specialty)[T.22]</th> <td>    1.5337</td> <td>    0.627</td> <td>    2.447</td> <td> 0.014</td> <td>    0.305</td> <td>    2.762</td>\n",
       "</tr>\n",
       "<tr>\n",
       "  <th>C(specialty)[T.23]</th> <td>    1.0407</td> <td>    0.653</td> <td>    1.595</td> <td> 0.111</td> <td>   -0.238</td> <td>    2.320</td>\n",
       "</tr>\n",
       "<tr>\n",
       "  <th>C(specialty)[T.24]</th> <td>    1.9001</td> <td>    0.921</td> <td>    2.064</td> <td> 0.039</td> <td>    0.096</td> <td>    3.705</td>\n",
       "</tr>\n",
       "<tr>\n",
       "  <th>C(specialty)[T.25]</th> <td>    1.5956</td> <td>    0.654</td> <td>    2.441</td> <td> 0.015</td> <td>    0.314</td> <td>    2.877</td>\n",
       "</tr>\n",
       "<tr>\n",
       "  <th>C(specialty)[T.26]</th> <td>    1.5958</td> <td>    0.638</td> <td>    2.500</td> <td> 0.012</td> <td>    0.345</td> <td>    2.847</td>\n",
       "</tr>\n",
       "<tr>\n",
       "  <th>C(specialty)[T.27]</th> <td>    1.1724</td> <td>    0.676</td> <td>    1.735</td> <td> 0.083</td> <td>   -0.152</td> <td>    2.497</td>\n",
       "</tr>\n",
       "<tr>\n",
       "  <th>C(specialty)[T.28]</th> <td>    1.3944</td> <td>    0.629</td> <td>    2.216</td> <td> 0.027</td> <td>    0.161</td> <td>    2.628</td>\n",
       "</tr>\n",
       "<tr>\n",
       "  <th>C(specialty)[T.29]</th> <td>    0.4577</td> <td>    0.691</td> <td>    0.663</td> <td> 0.507</td> <td>   -0.896</td> <td>    1.811</td>\n",
       "</tr>\n",
       "<tr>\n",
       "  <th>C(specialty)[T.30]</th> <td>   -0.1579</td> <td>    0.630</td> <td>   -0.251</td> <td> 0.802</td> <td>   -1.393</td> <td>    1.077</td>\n",
       "</tr>\n",
       "<tr>\n",
       "  <th>C(specialty)[T.31]</th> <td>    0.9760</td> <td>    0.633</td> <td>    1.542</td> <td> 0.123</td> <td>   -0.265</td> <td>    2.217</td>\n",
       "</tr>\n",
       "<tr>\n",
       "  <th>C(specialty)[T.32]</th> <td>    1.0174</td> <td>    0.626</td> <td>    1.626</td> <td> 0.104</td> <td>   -0.209</td> <td>    2.244</td>\n",
       "</tr>\n",
       "<tr>\n",
       "  <th>C(specialty)[T.33]</th> <td>    1.6349</td> <td>    0.630</td> <td>    2.594</td> <td> 0.009</td> <td>    0.399</td> <td>    2.870</td>\n",
       "</tr>\n",
       "<tr>\n",
       "  <th>C(specialty)[T.34]</th> <td>    1.2466</td> <td>    0.634</td> <td>    1.968</td> <td> 0.049</td> <td>    0.005</td> <td>    2.488</td>\n",
       "</tr>\n",
       "<tr>\n",
       "  <th>C(specialty)[T.35]</th> <td>    0.2039</td> <td>    0.632</td> <td>    0.323</td> <td> 0.747</td> <td>   -1.035</td> <td>    1.443</td>\n",
       "</tr>\n",
       "<tr>\n",
       "  <th>C(specialty)[T.36]</th> <td>    1.9055</td> <td>    1.142</td> <td>    1.669</td> <td> 0.095</td> <td>   -0.333</td> <td>    4.144</td>\n",
       "</tr>\n",
       "<tr>\n",
       "  <th>C(specialty)[T.37]</th> <td>    1.6190</td> <td>    0.639</td> <td>    2.535</td> <td> 0.011</td> <td>    0.367</td> <td>    2.871</td>\n",
       "</tr>\n",
       "<tr>\n",
       "  <th>C(specialty)[T.38]</th> <td>    1.0808</td> <td>    0.628</td> <td>    1.720</td> <td> 0.085</td> <td>   -0.151</td> <td>    2.312</td>\n",
       "</tr>\n",
       "<tr>\n",
       "  <th>C(specialty)[T.39]</th> <td>    1.2984</td> <td>    0.628</td> <td>    2.068</td> <td> 0.039</td> <td>    0.068</td> <td>    2.529</td>\n",
       "</tr>\n",
       "<tr>\n",
       "  <th>C(specialty)[T.40]</th> <td>    1.3844</td> <td>    0.885</td> <td>    1.565</td> <td> 0.118</td> <td>   -0.349</td> <td>    3.118</td>\n",
       "</tr>\n",
       "<tr>\n",
       "  <th>C(specialty)[T.41]</th> <td>    1.6429</td> <td>    0.630</td> <td>    2.609</td> <td> 0.009</td> <td>    0.409</td> <td>    2.877</td>\n",
       "</tr>\n",
       "<tr>\n",
       "  <th>C(specialty)[T.42]</th> <td>   -0.7836</td> <td>    0.657</td> <td>   -1.193</td> <td> 0.233</td> <td>   -2.071</td> <td>    0.504</td>\n",
       "</tr>\n",
       "<tr>\n",
       "  <th>C(specialty)[T.43]</th> <td>    0.2237</td> <td>    0.787</td> <td>    0.284</td> <td> 0.776</td> <td>   -1.319</td> <td>    1.767</td>\n",
       "</tr>\n",
       "<tr>\n",
       "  <th>C(specialty)[T.44]</th> <td>    1.6250</td> <td>    0.627</td> <td>    2.592</td> <td> 0.010</td> <td>    0.396</td> <td>    2.854</td>\n",
       "</tr>\n",
       "<tr>\n",
       "  <th>C(specialty)[T.45]</th> <td>    1.4614</td> <td>    0.626</td> <td>    2.335</td> <td> 0.020</td> <td>    0.235</td> <td>    2.688</td>\n",
       "</tr>\n",
       "<tr>\n",
       "  <th>C(specialty)[T.46]</th> <td>    0.2771</td> <td>    0.737</td> <td>    0.376</td> <td> 0.707</td> <td>   -1.168</td> <td>    1.722</td>\n",
       "</tr>\n",
       "<tr>\n",
       "  <th>C(specialty)[T.47]</th> <td>    1.9016</td> <td>    1.769</td> <td>    1.075</td> <td> 0.282</td> <td>   -1.566</td> <td>    5.369</td>\n",
       "</tr>\n",
       "<tr>\n",
       "  <th>C(specialty)[T.48]</th> <td>    1.4952</td> <td>    0.626</td> <td>    2.387</td> <td> 0.017</td> <td>    0.267</td> <td>    2.723</td>\n",
       "</tr>\n",
       "<tr>\n",
       "  <th>C(specialty)[T.49]</th> <td>    1.2712</td> <td>    0.667</td> <td>    1.906</td> <td> 0.057</td> <td>   -0.036</td> <td>    2.579</td>\n",
       "</tr>\n",
       "<tr>\n",
       "  <th>C(specialty)[T.50]</th> <td>    1.4494</td> <td>    0.628</td> <td>    2.308</td> <td> 0.021</td> <td>    0.218</td> <td>    2.680</td>\n",
       "</tr>\n",
       "<tr>\n",
       "  <th>C(specialty)[T.51]</th> <td>    1.1976</td> <td>    0.634</td> <td>    1.888</td> <td> 0.059</td> <td>   -0.046</td> <td>    2.441</td>\n",
       "</tr>\n",
       "<tr>\n",
       "  <th>C(specialty)[T.52]</th> <td>   -1.1371</td> <td>    0.631</td> <td>   -1.803</td> <td> 0.071</td> <td>   -2.373</td> <td>    0.099</td>\n",
       "</tr>\n",
       "<tr>\n",
       "  <th>C(specialty)[T.53]</th> <td>    1.2689</td> <td>    0.654</td> <td>    1.940</td> <td> 0.052</td> <td>   -0.013</td> <td>    2.551</td>\n",
       "</tr>\n",
       "<tr>\n",
       "  <th>C(specialty)[T.54]</th> <td>    1.0981</td> <td>    0.885</td> <td>    1.241</td> <td> 0.214</td> <td>   -0.636</td> <td>    2.832</td>\n",
       "</tr>\n",
       "<tr>\n",
       "  <th>C(specialty)[T.55]</th> <td>    1.1311</td> <td>    0.629</td> <td>    1.799</td> <td> 0.072</td> <td>   -0.102</td> <td>    2.364</td>\n",
       "</tr>\n",
       "<tr>\n",
       "  <th>C(specialty)[T.56]</th> <td>   -1.4252</td> <td>    0.679</td> <td>   -2.098</td> <td> 0.036</td> <td>   -2.757</td> <td>   -0.094</td>\n",
       "</tr>\n",
       "<tr>\n",
       "  <th>C(specialty)[T.57]</th> <td>   -0.0304</td> <td>    0.800</td> <td>   -0.038</td> <td> 0.970</td> <td>   -1.599</td> <td>    1.538</td>\n",
       "</tr>\n",
       "<tr>\n",
       "  <th>C(specialty)[T.58]</th> <td>    1.6609</td> <td>    0.634</td> <td>    2.619</td> <td> 0.009</td> <td>    0.418</td> <td>    2.904</td>\n",
       "</tr>\n",
       "<tr>\n",
       "  <th>C(specialty)[T.59]</th> <td>    0.5020</td> <td>    0.758</td> <td>    0.663</td> <td> 0.508</td> <td>   -0.983</td> <td>    1.987</td>\n",
       "</tr>\n",
       "<tr>\n",
       "  <th>C(specialty)[T.60]</th> <td>    1.7101</td> <td>    0.815</td> <td>    2.097</td> <td> 0.036</td> <td>    0.112</td> <td>    3.308</td>\n",
       "</tr>\n",
       "<tr>\n",
       "  <th>C(specialty)[T.61]</th> <td>    0.7982</td> <td>    0.629</td> <td>    1.269</td> <td> 0.204</td> <td>   -0.434</td> <td>    2.031</td>\n",
       "</tr>\n",
       "<tr>\n",
       "  <th>C(specialty)[T.62]</th> <td>    1.3186</td> <td>    0.628</td> <td>    2.101</td> <td> 0.036</td> <td>    0.088</td> <td>    2.549</td>\n",
       "</tr>\n",
       "<tr>\n",
       "  <th>C(specialty)[T.63]</th> <td>    1.1694</td> <td>    0.635</td> <td>    1.842</td> <td> 0.065</td> <td>   -0.075</td> <td>    2.413</td>\n",
       "</tr>\n",
       "<tr>\n",
       "  <th>C(specialty)[T.64]</th> <td>    1.3820</td> <td>    0.631</td> <td>    2.190</td> <td> 0.029</td> <td>    0.145</td> <td>    2.619</td>\n",
       "</tr>\n",
       "<tr>\n",
       "  <th>C(specialty)[T.65]</th> <td>    1.1451</td> <td>    0.705</td> <td>    1.625</td> <td> 0.104</td> <td>   -0.236</td> <td>    2.526</td>\n",
       "</tr>\n",
       "<tr>\n",
       "  <th>C(specialty)[T.66]</th> <td>    1.6124</td> <td>    0.649</td> <td>    2.486</td> <td> 0.013</td> <td>    0.341</td> <td>    2.884</td>\n",
       "</tr>\n",
       "<tr>\n",
       "  <th>C(specialty)[T.67]</th> <td>    1.7858</td> <td>    0.664</td> <td>    2.689</td> <td> 0.007</td> <td>    0.484</td> <td>    3.087</td>\n",
       "</tr>\n",
       "<tr>\n",
       "  <th>C(specialty)[T.68]</th> <td>    1.6076</td> <td>    0.633</td> <td>    2.538</td> <td> 0.011</td> <td>    0.366</td> <td>    2.849</td>\n",
       "</tr>\n",
       "<tr>\n",
       "  <th>C(specialty)[T.69]</th> <td>    1.3296</td> <td>    0.800</td> <td>    1.662</td> <td> 0.097</td> <td>   -0.239</td> <td>    2.898</td>\n",
       "</tr>\n",
       "<tr>\n",
       "  <th>C(specialty)[T.70]</th> <td>    1.4031</td> <td>    0.627</td> <td>    2.238</td> <td> 0.025</td> <td>    0.174</td> <td>    2.632</td>\n",
       "</tr>\n",
       "<tr>\n",
       "  <th>C(specialty)[T.71]</th> <td>    1.3272</td> <td>    0.631</td> <td>    2.104</td> <td> 0.035</td> <td>    0.091</td> <td>    2.563</td>\n",
       "</tr>\n",
       "<tr>\n",
       "  <th>Gender</th>             <td>    0.1185</td> <td>    0.017</td> <td>    7.167</td> <td> 0.000</td> <td>    0.086</td> <td>    0.151</td>\n",
       "</tr>\n",
       "<tr>\n",
       "  <th>mean</th>               <td>   -0.0002</td> <td>    0.000</td> <td>   -0.490</td> <td> 0.624</td> <td>   -0.001</td> <td>    0.000</td>\n",
       "</tr>\n",
       "<tr>\n",
       "  <th>experienceyear</th>     <td>    0.0093</td> <td>    0.001</td> <td>   14.880</td> <td> 0.000</td> <td>    0.008</td> <td>    0.011</td>\n",
       "</tr>\n",
       "</table>\n",
       "<table class=\"simpletable\">\n",
       "<tr>\n",
       "  <th>Omnibus:</th>       <td>234.143</td> <th>  Durbin-Watson:     </th> <td>   1.985</td>\n",
       "</tr>\n",
       "<tr>\n",
       "  <th>Prob(Omnibus):</th> <td> 0.000</td>  <th>  Jarque-Bera (JB):  </th> <td> 212.288</td>\n",
       "</tr>\n",
       "<tr>\n",
       "  <th>Skew:</th>          <td>-0.101</td>  <th>  Prob(JB):          </th> <td>7.98e-47</td>\n",
       "</tr>\n",
       "<tr>\n",
       "  <th>Kurtosis:</th>      <td> 2.809</td>  <th>  Cond. No.          </th> <td>7.48e+04</td>\n",
       "</tr>\n",
       "</table>"
      ],
      "text/plain": [
       "<class 'statsmodels.iolib.summary.Summary'>\n",
       "\"\"\"\n",
       "                            OLS Regression Results                            \n",
       "==============================================================================\n",
       "Dep. Variable:         overall_rating   R-squared:                       0.246\n",
       "Model:                            OLS   Adj. R-squared:                  0.245\n",
       "Method:                 Least Squares   F-statistic:                     290.2\n",
       "Date:                Fri, 16 Mar 2018   Prob (F-statistic):               0.00\n",
       "Time:                        12:26:11   Log-Likelihood:            -1.2683e+05\n",
       "No. Observations:               65987   AIC:                         2.538e+05\n",
       "Df Residuals:                   65912   BIC:                         2.545e+05\n",
       "Df Model:                          74                                         \n",
       "Covariance Type:            nonrobust                                         \n",
       "======================================================================================\n",
       "                         coef    std err          t      P>|t|      [0.025      0.975]\n",
       "--------------------------------------------------------------------------------------\n",
       "Intercept              2.0509      0.627      3.273      0.001       0.823       3.279\n",
       "C(specialty)[T.1]      1.4428      0.776      1.860      0.063      -0.078       2.963\n",
       "C(specialty)[T.2]      1.5301      0.632      2.422      0.015       0.292       2.768\n",
       "C(specialty)[T.3]     -0.5231      0.626     -0.836      0.403      -1.750       0.703\n",
       "C(specialty)[T.4]     -2.2493      1.769     -1.271      0.204      -5.717       1.218\n",
       "C(specialty)[T.5]      1.4039      1.769      0.793      0.428      -2.064       4.872\n",
       "C(specialty)[T.6]      1.3785      0.635      2.170      0.030       0.133       2.624\n",
       "C(specialty)[T.7]      1.6384      0.633      2.589      0.010       0.398       2.879\n",
       "C(specialty)[T.8]      1.4278      0.626      2.279      0.023       0.200       2.656\n",
       "C(specialty)[T.9]      0.7324      1.769      0.414      0.679      -2.735       4.200\n",
       "C(specialty)[T.10]    -1.7518      0.787     -2.226      0.026      -3.294      -0.209\n",
       "C(specialty)[T.11]    -0.8540      0.834     -1.024      0.306      -2.489       0.781\n",
       "C(specialty)[T.12]    -0.8491      0.628     -1.353      0.176      -2.080       0.381\n",
       "C(specialty)[T.13]     1.6972      0.640      2.653      0.008       0.444       2.951\n",
       "C(specialty)[T.14]     0.5772      0.636      0.907      0.364      -0.669       1.824\n",
       "C(specialty)[T.15]     1.5801      0.626      2.522      0.012       0.352       2.808\n",
       "C(specialty)[T.16]    -0.7147      0.626     -1.142      0.253      -1.941       0.512\n",
       "C(specialty)[T.17]     0.1171      0.626      0.187      0.852      -1.111       1.345\n",
       "C(specialty)[T.18]     1.3530      0.630      2.146      0.032       0.117       2.588\n",
       "C(specialty)[T.19]     1.4253      0.626      2.277      0.023       0.199       2.652\n",
       "C(specialty)[T.20]     1.4512      0.626      2.317      0.021       0.223       2.679\n",
       "C(specialty)[T.21]     1.2662      0.636      1.992      0.046       0.020       2.512\n",
       "C(specialty)[T.22]     1.5337      0.627      2.447      0.014       0.305       2.762\n",
       "C(specialty)[T.23]     1.0407      0.653      1.595      0.111      -0.238       2.320\n",
       "C(specialty)[T.24]     1.9001      0.921      2.064      0.039       0.096       3.705\n",
       "C(specialty)[T.25]     1.5956      0.654      2.441      0.015       0.314       2.877\n",
       "C(specialty)[T.26]     1.5958      0.638      2.500      0.012       0.345       2.847\n",
       "C(specialty)[T.27]     1.1724      0.676      1.735      0.083      -0.152       2.497\n",
       "C(specialty)[T.28]     1.3944      0.629      2.216      0.027       0.161       2.628\n",
       "C(specialty)[T.29]     0.4577      0.691      0.663      0.507      -0.896       1.811\n",
       "C(specialty)[T.30]    -0.1579      0.630     -0.251      0.802      -1.393       1.077\n",
       "C(specialty)[T.31]     0.9760      0.633      1.542      0.123      -0.265       2.217\n",
       "C(specialty)[T.32]     1.0174      0.626      1.626      0.104      -0.209       2.244\n",
       "C(specialty)[T.33]     1.6349      0.630      2.594      0.009       0.399       2.870\n",
       "C(specialty)[T.34]     1.2466      0.634      1.968      0.049       0.005       2.488\n",
       "C(specialty)[T.35]     0.2039      0.632      0.323      0.747      -1.035       1.443\n",
       "C(specialty)[T.36]     1.9055      1.142      1.669      0.095      -0.333       4.144\n",
       "C(specialty)[T.37]     1.6190      0.639      2.535      0.011       0.367       2.871\n",
       "C(specialty)[T.38]     1.0808      0.628      1.720      0.085      -0.151       2.312\n",
       "C(specialty)[T.39]     1.2984      0.628      2.068      0.039       0.068       2.529\n",
       "C(specialty)[T.40]     1.3844      0.885      1.565      0.118      -0.349       3.118\n",
       "C(specialty)[T.41]     1.6429      0.630      2.609      0.009       0.409       2.877\n",
       "C(specialty)[T.42]    -0.7836      0.657     -1.193      0.233      -2.071       0.504\n",
       "C(specialty)[T.43]     0.2237      0.787      0.284      0.776      -1.319       1.767\n",
       "C(specialty)[T.44]     1.6250      0.627      2.592      0.010       0.396       2.854\n",
       "C(specialty)[T.45]     1.4614      0.626      2.335      0.020       0.235       2.688\n",
       "C(specialty)[T.46]     0.2771      0.737      0.376      0.707      -1.168       1.722\n",
       "C(specialty)[T.47]     1.9016      1.769      1.075      0.282      -1.566       5.369\n",
       "C(specialty)[T.48]     1.4952      0.626      2.387      0.017       0.267       2.723\n",
       "C(specialty)[T.49]     1.2712      0.667      1.906      0.057      -0.036       2.579\n",
       "C(specialty)[T.50]     1.4494      0.628      2.308      0.021       0.218       2.680\n",
       "C(specialty)[T.51]     1.1976      0.634      1.888      0.059      -0.046       2.441\n",
       "C(specialty)[T.52]    -1.1371      0.631     -1.803      0.071      -2.373       0.099\n",
       "C(specialty)[T.53]     1.2689      0.654      1.940      0.052      -0.013       2.551\n",
       "C(specialty)[T.54]     1.0981      0.885      1.241      0.214      -0.636       2.832\n",
       "C(specialty)[T.55]     1.1311      0.629      1.799      0.072      -0.102       2.364\n",
       "C(specialty)[T.56]    -1.4252      0.679     -2.098      0.036      -2.757      -0.094\n",
       "C(specialty)[T.57]    -0.0304      0.800     -0.038      0.970      -1.599       1.538\n",
       "C(specialty)[T.58]     1.6609      0.634      2.619      0.009       0.418       2.904\n",
       "C(specialty)[T.59]     0.5020      0.758      0.663      0.508      -0.983       1.987\n",
       "C(specialty)[T.60]     1.7101      0.815      2.097      0.036       0.112       3.308\n",
       "C(specialty)[T.61]     0.7982      0.629      1.269      0.204      -0.434       2.031\n",
       "C(specialty)[T.62]     1.3186      0.628      2.101      0.036       0.088       2.549\n",
       "C(specialty)[T.63]     1.1694      0.635      1.842      0.065      -0.075       2.413\n",
       "C(specialty)[T.64]     1.3820      0.631      2.190      0.029       0.145       2.619\n",
       "C(specialty)[T.65]     1.1451      0.705      1.625      0.104      -0.236       2.526\n",
       "C(specialty)[T.66]     1.6124      0.649      2.486      0.013       0.341       2.884\n",
       "C(specialty)[T.67]     1.7858      0.664      2.689      0.007       0.484       3.087\n",
       "C(specialty)[T.68]     1.6076      0.633      2.538      0.011       0.366       2.849\n",
       "C(specialty)[T.69]     1.3296      0.800      1.662      0.097      -0.239       2.898\n",
       "C(specialty)[T.70]     1.4031      0.627      2.238      0.025       0.174       2.632\n",
       "C(specialty)[T.71]     1.3272      0.631      2.104      0.035       0.091       2.563\n",
       "Gender                 0.1185      0.017      7.167      0.000       0.086       0.151\n",
       "mean                  -0.0002      0.000     -0.490      0.624      -0.001       0.000\n",
       "experienceyear         0.0093      0.001     14.880      0.000       0.008       0.011\n",
       "==============================================================================\n",
       "Omnibus:                      234.143   Durbin-Watson:                   1.985\n",
       "Prob(Omnibus):                  0.000   Jarque-Bera (JB):              212.288\n",
       "Skew:                          -0.101   Prob(JB):                     7.98e-47\n",
       "Kurtosis:                       2.809   Cond. No.                     7.48e+04\n",
       "==============================================================================\n",
       "\n",
       "Warnings:\n",
       "[1] Standard Errors assume that the covariance matrix of the errors is correctly specified.\n",
       "[2] The condition number is large, 7.48e+04. This might indicate that there are\n",
       "strong multicollinearity or other numerical problems.\n",
       "\"\"\""
      ]
     },
     "execution_count": 111,
     "metadata": {},
     "output_type": "execute_result"
    }
   ],
   "source": [
    "model_or.summary()"
   ]
  },
  {
   "cell_type": "markdown",
   "metadata": {},
   "source": [
    "- Model3: Logistic Regression for Overall Rating \"Tier\" ~ “Experience Year”+ “Gender”+“Specialty” + “Mean (of true quality)”"
   ]
  },
  {
   "cell_type": "code",
   "execution_count": 112,
   "metadata": {
    "collapsed": false
   },
   "outputs": [
    {
     "name": "stdout",
     "output_type": "stream",
     "text": [
      "Warning: Maximum number of iterations has been exceeded.\n",
      "         Current function value: 0.626805\n",
      "         Iterations: 35\n"
     ]
    },
    {
     "name": "stderr",
     "output_type": "stream",
     "text": [
      "C:\\Users\\amyhu\\Anaconda3\\lib\\site-packages\\statsmodels\\base\\model.py:496: ConvergenceWarning:\n",
      "\n",
      "Maximum Likelihood optimization failed to converge. Check mle_retvals\n",
      "\n"
     ]
    }
   ],
   "source": [
    "model_sl = sm.Logit.from_formula(formula = 'tier ~ Gender + mean + experienceyear + C(specialty)',data = dfc_split).fit()"
   ]
  },
  {
   "cell_type": "code",
   "execution_count": 113,
   "metadata": {
    "collapsed": false,
    "scrolled": false
   },
   "outputs": [
    {
     "data": {
      "text/html": [
       "<table class=\"simpletable\">\n",
       "<caption>Logit Regression Results</caption>\n",
       "<tr>\n",
       "  <th>Dep. Variable:</th>       <td>tier</td>       <th>  No. Observations:  </th>  <td> 65987</td> \n",
       "</tr>\n",
       "<tr>\n",
       "  <th>Model:</th>               <td>Logit</td>      <th>  Df Residuals:      </th>  <td> 65912</td> \n",
       "</tr>\n",
       "<tr>\n",
       "  <th>Method:</th>               <td>MLE</td>       <th>  Df Model:          </th>  <td>    74</td> \n",
       "</tr>\n",
       "<tr>\n",
       "  <th>Date:</th>          <td>Fri, 16 Mar 2018</td> <th>  Pseudo R-squ.:     </th>  <td>0.09257</td>\n",
       "</tr>\n",
       "<tr>\n",
       "  <th>Time:</th>              <td>12:26:15</td>     <th>  Log-Likelihood:    </th> <td> -41361.</td>\n",
       "</tr>\n",
       "<tr>\n",
       "  <th>converged:</th>           <td>False</td>      <th>  LL-Null:           </th> <td> -45580.</td>\n",
       "</tr>\n",
       "<tr>\n",
       "  <th> </th>                      <td> </td>        <th>  LLR p-value:       </th>  <td> 0.000</td> \n",
       "</tr>\n",
       "</table>\n",
       "<table class=\"simpletable\">\n",
       "<tr>\n",
       "           <td></td>             <th>coef</th>     <th>std err</th>      <th>z</th>      <th>P>|z|</th>  <th>[0.025</th>    <th>0.975]</th>  \n",
       "</tr>\n",
       "<tr>\n",
       "  <th>Intercept</th>          <td>   -1.8984</td> <td>    1.081</td> <td>   -1.755</td> <td> 0.079</td> <td>   -4.018</td> <td>    0.221</td>\n",
       "</tr>\n",
       "<tr>\n",
       "  <th>C(specialty)[T.1]</th>  <td>    2.9851</td> <td>    1.265</td> <td>    2.359</td> <td> 0.018</td> <td>    0.505</td> <td>    5.465</td>\n",
       "</tr>\n",
       "<tr>\n",
       "  <th>C(specialty)[T.2]</th>  <td>    2.6194</td> <td>    1.087</td> <td>    2.411</td> <td> 0.016</td> <td>    0.490</td> <td>    4.749</td>\n",
       "</tr>\n",
       "<tr>\n",
       "  <th>C(specialty)[T.3]</th>  <td>    1.0059</td> <td>    1.081</td> <td>    0.931</td> <td> 0.352</td> <td>   -1.112</td> <td>    3.124</td>\n",
       "</tr>\n",
       "<tr>\n",
       "  <th>C(specialty)[T.4]</th>  <td>  -15.7190</td> <td> 6238.363</td> <td>   -0.003</td> <td> 0.998</td> <td>-1.22e+04</td> <td> 1.22e+04</td>\n",
       "</tr>\n",
       "<tr>\n",
       "  <th>C(specialty)[T.5]</th>  <td>  -14.6275</td> <td> 3887.331</td> <td>   -0.004</td> <td> 0.997</td> <td>-7633.656</td> <td> 7604.402</td>\n",
       "</tr>\n",
       "<tr>\n",
       "  <th>C(specialty)[T.6]</th>  <td>    2.6844</td> <td>    1.091</td> <td>    2.461</td> <td> 0.014</td> <td>    0.547</td> <td>    4.822</td>\n",
       "</tr>\n",
       "<tr>\n",
       "  <th>C(specialty)[T.7]</th>  <td>    3.0273</td> <td>    1.089</td> <td>    2.779</td> <td> 0.005</td> <td>    0.892</td> <td>    5.163</td>\n",
       "</tr>\n",
       "<tr>\n",
       "  <th>C(specialty)[T.8]</th>  <td>    2.6524</td> <td>    1.081</td> <td>    2.453</td> <td> 0.014</td> <td>    0.533</td> <td>    4.772</td>\n",
       "</tr>\n",
       "<tr>\n",
       "  <th>C(specialty)[T.9]</th>  <td>  -14.3100</td> <td> 3401.334</td> <td>   -0.004</td> <td> 0.997</td> <td>-6680.803</td> <td> 6652.183</td>\n",
       "</tr>\n",
       "<tr>\n",
       "  <th>C(specialty)[T.10]</th> <td>  -10.4530</td> <td>  136.732</td> <td>   -0.076</td> <td> 0.939</td> <td> -278.444</td> <td>  257.538</td>\n",
       "</tr>\n",
       "<tr>\n",
       "  <th>C(specialty)[T.11]</th> <td>    0.5760</td> <td>    1.346</td> <td>    0.428</td> <td> 0.669</td> <td>   -2.062</td> <td>    3.213</td>\n",
       "</tr>\n",
       "<tr>\n",
       "  <th>C(specialty)[T.12]</th> <td>    0.7871</td> <td>    1.083</td> <td>    0.727</td> <td> 0.467</td> <td>   -1.335</td> <td>    2.910</td>\n",
       "</tr>\n",
       "<tr>\n",
       "  <th>C(specialty)[T.13]</th> <td>    3.4273</td> <td>    1.102</td> <td>    3.109</td> <td> 0.002</td> <td>    1.267</td> <td>    5.588</td>\n",
       "</tr>\n",
       "<tr>\n",
       "  <th>C(specialty)[T.14]</th> <td>    1.7744</td> <td>    1.089</td> <td>    1.629</td> <td> 0.103</td> <td>   -0.361</td> <td>    3.909</td>\n",
       "</tr>\n",
       "<tr>\n",
       "  <th>C(specialty)[T.15]</th> <td>    2.6354</td> <td>    1.081</td> <td>    2.437</td> <td> 0.015</td> <td>    0.516</td> <td>    4.755</td>\n",
       "</tr>\n",
       "<tr>\n",
       "  <th>C(specialty)[T.16]</th> <td>    0.8661</td> <td>    1.081</td> <td>    0.802</td> <td> 0.423</td> <td>   -1.252</td> <td>    2.984</td>\n",
       "</tr>\n",
       "<tr>\n",
       "  <th>C(specialty)[T.17]</th> <td>    1.2794</td> <td>    1.081</td> <td>    1.183</td> <td> 0.237</td> <td>   -0.840</td> <td>    3.399</td>\n",
       "</tr>\n",
       "<tr>\n",
       "  <th>C(specialty)[T.18]</th> <td>    2.0455</td> <td>    1.085</td> <td>    1.886</td> <td> 0.059</td> <td>   -0.080</td> <td>    4.171</td>\n",
       "</tr>\n",
       "<tr>\n",
       "  <th>C(specialty)[T.19]</th> <td>    2.5212</td> <td>    1.081</td> <td>    2.333</td> <td> 0.020</td> <td>    0.403</td> <td>    4.639</td>\n",
       "</tr>\n",
       "<tr>\n",
       "  <th>C(specialty)[T.20]</th> <td>    2.4548</td> <td>    1.081</td> <td>    2.270</td> <td> 0.023</td> <td>    0.336</td> <td>    4.574</td>\n",
       "</tr>\n",
       "<tr>\n",
       "  <th>C(specialty)[T.21]</th> <td>    2.3198</td> <td>    1.090</td> <td>    2.129</td> <td> 0.033</td> <td>    0.184</td> <td>    4.456</td>\n",
       "</tr>\n",
       "<tr>\n",
       "  <th>C(specialty)[T.22]</th> <td>    2.8330</td> <td>    1.082</td> <td>    2.619</td> <td> 0.009</td> <td>    0.713</td> <td>    4.953</td>\n",
       "</tr>\n",
       "<tr>\n",
       "  <th>C(specialty)[T.23]</th> <td>    1.8255</td> <td>    1.104</td> <td>    1.654</td> <td> 0.098</td> <td>   -0.338</td> <td>    3.989</td>\n",
       "</tr>\n",
       "<tr>\n",
       "  <th>C(specialty)[T.24]</th> <td>    3.4662</td> <td>    1.539</td> <td>    2.252</td> <td> 0.024</td> <td>    0.450</td> <td>    6.483</td>\n",
       "</tr>\n",
       "<tr>\n",
       "  <th>C(specialty)[T.25]</th> <td>    2.8504</td> <td>    1.111</td> <td>    2.565</td> <td> 0.010</td> <td>    0.672</td> <td>    5.029</td>\n",
       "</tr>\n",
       "<tr>\n",
       "  <th>C(specialty)[T.26]</th> <td>    2.6743</td> <td>    1.094</td> <td>    2.445</td> <td> 0.014</td> <td>    0.531</td> <td>    4.818</td>\n",
       "</tr>\n",
       "<tr>\n",
       "  <th>C(specialty)[T.27]</th> <td>    2.3937</td> <td>    1.127</td> <td>    2.123</td> <td> 0.034</td> <td>    0.184</td> <td>    4.603</td>\n",
       "</tr>\n",
       "<tr>\n",
       "  <th>C(specialty)[T.28]</th> <td>    2.5065</td> <td>    1.084</td> <td>    2.312</td> <td> 0.021</td> <td>    0.382</td> <td>    4.631</td>\n",
       "</tr>\n",
       "<tr>\n",
       "  <th>C(specialty)[T.29]</th> <td>    1.7050</td> <td>    1.137</td> <td>    1.499</td> <td> 0.134</td> <td>   -0.524</td> <td>    3.934</td>\n",
       "</tr>\n",
       "<tr>\n",
       "  <th>C(specialty)[T.30]</th> <td>    1.1403</td> <td>    1.085</td> <td>    1.051</td> <td> 0.293</td> <td>   -0.986</td> <td>    3.266</td>\n",
       "</tr>\n",
       "<tr>\n",
       "  <th>C(specialty)[T.31]</th> <td>    1.9981</td> <td>    1.087</td> <td>    1.838</td> <td> 0.066</td> <td>   -0.132</td> <td>    4.128</td>\n",
       "</tr>\n",
       "<tr>\n",
       "  <th>C(specialty)[T.32]</th> <td>    2.1541</td> <td>    1.081</td> <td>    1.993</td> <td> 0.046</td> <td>    0.036</td> <td>    4.272</td>\n",
       "</tr>\n",
       "<tr>\n",
       "  <th>C(specialty)[T.33]</th> <td>    2.9802</td> <td>    1.086</td> <td>    2.744</td> <td> 0.006</td> <td>    0.851</td> <td>    5.109</td>\n",
       "</tr>\n",
       "<tr>\n",
       "  <th>C(specialty)[T.34]</th> <td>    2.0474</td> <td>    1.087</td> <td>    1.883</td> <td> 0.060</td> <td>   -0.084</td> <td>    4.178</td>\n",
       "</tr>\n",
       "<tr>\n",
       "  <th>C(specialty)[T.35]</th> <td>    1.5850</td> <td>    1.086</td> <td>    1.459</td> <td> 0.144</td> <td>   -0.544</td> <td>    3.714</td>\n",
       "</tr>\n",
       "<tr>\n",
       "  <th>C(specialty)[T.36]</th> <td>    2.4532</td> <td>    1.633</td> <td>    1.502</td> <td> 0.133</td> <td>   -0.748</td> <td>    5.654</td>\n",
       "</tr>\n",
       "<tr>\n",
       "  <th>C(specialty)[T.37]</th> <td>    2.7538</td> <td>    1.094</td> <td>    2.517</td> <td> 0.012</td> <td>    0.609</td> <td>    4.899</td>\n",
       "</tr>\n",
       "<tr>\n",
       "  <th>C(specialty)[T.38]</th> <td>    2.3136</td> <td>    1.083</td> <td>    2.137</td> <td> 0.033</td> <td>    0.191</td> <td>    4.436</td>\n",
       "</tr>\n",
       "<tr>\n",
       "  <th>C(specialty)[T.39]</th> <td>    1.9347</td> <td>    1.082</td> <td>    1.788</td> <td> 0.074</td> <td>   -0.187</td> <td>    4.056</td>\n",
       "</tr>\n",
       "<tr>\n",
       "  <th>C(specialty)[T.40]</th> <td>    1.5229</td> <td>    1.323</td> <td>    1.151</td> <td> 0.250</td> <td>   -1.071</td> <td>    4.117</td>\n",
       "</tr>\n",
       "<tr>\n",
       "  <th>C(specialty)[T.41]</th> <td>    2.8954</td> <td>    1.085</td> <td>    2.668</td> <td> 0.008</td> <td>    0.769</td> <td>    5.022</td>\n",
       "</tr>\n",
       "<tr>\n",
       "  <th>C(specialty)[T.42]</th> <td>    0.9134</td> <td>    1.113</td> <td>    0.821</td> <td> 0.412</td> <td>   -1.267</td> <td>    3.094</td>\n",
       "</tr>\n",
       "<tr>\n",
       "  <th>C(specialty)[T.43]</th> <td>    1.9268</td> <td>    1.225</td> <td>    1.573</td> <td> 0.116</td> <td>   -0.475</td> <td>    4.328</td>\n",
       "</tr>\n",
       "<tr>\n",
       "  <th>C(specialty)[T.44]</th> <td>    2.8332</td> <td>    1.082</td> <td>    2.619</td> <td> 0.009</td> <td>    0.713</td> <td>    4.954</td>\n",
       "</tr>\n",
       "<tr>\n",
       "  <th>C(specialty)[T.45]</th> <td>    2.6384</td> <td>    1.081</td> <td>    2.441</td> <td> 0.015</td> <td>    0.520</td> <td>    4.757</td>\n",
       "</tr>\n",
       "<tr>\n",
       "  <th>C(specialty)[T.46]</th> <td>    1.8028</td> <td>    1.179</td> <td>    1.529</td> <td> 0.126</td> <td>   -0.508</td> <td>    4.113</td>\n",
       "</tr>\n",
       "<tr>\n",
       "  <th>C(specialty)[T.47]</th> <td>    9.9899</td> <td>   61.581</td> <td>    0.162</td> <td> 0.871</td> <td> -110.707</td> <td>  130.686</td>\n",
       "</tr>\n",
       "<tr>\n",
       "  <th>C(specialty)[T.48]</th> <td>    2.5496</td> <td>    1.081</td> <td>    2.358</td> <td> 0.018</td> <td>    0.430</td> <td>    4.669</td>\n",
       "</tr>\n",
       "<tr>\n",
       "  <th>C(specialty)[T.49]</th> <td>    2.6158</td> <td>    1.122</td> <td>    2.332</td> <td> 0.020</td> <td>    0.417</td> <td>    4.815</td>\n",
       "</tr>\n",
       "<tr>\n",
       "  <th>C(specialty)[T.50]</th> <td>    2.3764</td> <td>    1.083</td> <td>    2.195</td> <td> 0.028</td> <td>    0.254</td> <td>    4.499</td>\n",
       "</tr>\n",
       "<tr>\n",
       "  <th>C(specialty)[T.51]</th> <td>    1.9585</td> <td>    1.088</td> <td>    1.800</td> <td> 0.072</td> <td>   -0.174</td> <td>    4.091</td>\n",
       "</tr>\n",
       "<tr>\n",
       "  <th>C(specialty)[T.52]</th> <td>    0.5107</td> <td>    1.087</td> <td>    0.470</td> <td> 0.638</td> <td>   -1.619</td> <td>    2.641</td>\n",
       "</tr>\n",
       "<tr>\n",
       "  <th>C(specialty)[T.53]</th> <td>    2.6385</td> <td>    1.109</td> <td>    2.379</td> <td> 0.017</td> <td>    0.465</td> <td>    4.812</td>\n",
       "</tr>\n",
       "<tr>\n",
       "  <th>C(specialty)[T.54]</th> <td>    2.0736</td> <td>    1.323</td> <td>    1.567</td> <td> 0.117</td> <td>   -0.520</td> <td>    4.667</td>\n",
       "</tr>\n",
       "<tr>\n",
       "  <th>C(specialty)[T.55]</th> <td>    1.8973</td> <td>    1.083</td> <td>    1.751</td> <td> 0.080</td> <td>   -0.226</td> <td>    4.021</td>\n",
       "</tr>\n",
       "<tr>\n",
       "  <th>C(specialty)[T.56]</th> <td>    0.3196</td> <td>    1.158</td> <td>    0.276</td> <td> 0.783</td> <td>   -1.951</td> <td>    2.590</td>\n",
       "</tr>\n",
       "<tr>\n",
       "  <th>C(specialty)[T.57]</th> <td>    1.2768</td> <td>    1.249</td> <td>    1.022</td> <td> 0.307</td> <td>   -1.172</td> <td>    3.726</td>\n",
       "</tr>\n",
       "<tr>\n",
       "  <th>C(specialty)[T.58]</th> <td>    2.9746</td> <td>    1.091</td> <td>    2.727</td> <td> 0.006</td> <td>    0.837</td> <td>    5.112</td>\n",
       "</tr>\n",
       "<tr>\n",
       "  <th>C(specialty)[T.59]</th> <td>    1.3826</td> <td>    1.202</td> <td>    1.150</td> <td> 0.250</td> <td>   -0.974</td> <td>    3.739</td>\n",
       "</tr>\n",
       "<tr>\n",
       "  <th>C(specialty)[T.60]</th> <td>    2.6496</td> <td>    1.282</td> <td>    2.067</td> <td> 0.039</td> <td>    0.137</td> <td>    5.162</td>\n",
       "</tr>\n",
       "<tr>\n",
       "  <th>C(specialty)[T.61]</th> <td>    1.5781</td> <td>    1.083</td> <td>    1.457</td> <td> 0.145</td> <td>   -0.545</td> <td>    3.701</td>\n",
       "</tr>\n",
       "<tr>\n",
       "  <th>C(specialty)[T.62]</th> <td>    2.3046</td> <td>    1.082</td> <td>    2.129</td> <td> 0.033</td> <td>    0.183</td> <td>    4.426</td>\n",
       "</tr>\n",
       "<tr>\n",
       "  <th>C(specialty)[T.63]</th> <td>    2.4936</td> <td>    1.089</td> <td>    2.289</td> <td> 0.022</td> <td>    0.359</td> <td>    4.628</td>\n",
       "</tr>\n",
       "<tr>\n",
       "  <th>C(specialty)[T.64]</th> <td>    2.1844</td> <td>    1.085</td> <td>    2.013</td> <td> 0.044</td> <td>    0.057</td> <td>    4.312</td>\n",
       "</tr>\n",
       "<tr>\n",
       "  <th>C(specialty)[T.65]</th> <td>    1.9541</td> <td>    1.150</td> <td>    1.699</td> <td> 0.089</td> <td>   -0.300</td> <td>    4.208</td>\n",
       "</tr>\n",
       "<tr>\n",
       "  <th>C(specialty)[T.66]</th> <td>    2.8267</td> <td>    1.106</td> <td>    2.556</td> <td> 0.011</td> <td>    0.659</td> <td>    4.995</td>\n",
       "</tr>\n",
       "<tr>\n",
       "  <th>C(specialty)[T.67]</th> <td>    3.5826</td> <td>    1.146</td> <td>    3.126</td> <td> 0.002</td> <td>    1.336</td> <td>    5.829</td>\n",
       "</tr>\n",
       "<tr>\n",
       "  <th>C(specialty)[T.68]</th> <td>    3.0508</td> <td>    1.090</td> <td>    2.799</td> <td> 0.005</td> <td>    0.914</td> <td>    5.187</td>\n",
       "</tr>\n",
       "<tr>\n",
       "  <th>C(specialty)[T.69]</th> <td>    3.3155</td> <td>    1.334</td> <td>    2.486</td> <td> 0.013</td> <td>    0.701</td> <td>    5.930</td>\n",
       "</tr>\n",
       "<tr>\n",
       "  <th>C(specialty)[T.70]</th> <td>    2.3450</td> <td>    1.082</td> <td>    2.168</td> <td> 0.030</td> <td>    0.225</td> <td>    4.465</td>\n",
       "</tr>\n",
       "<tr>\n",
       "  <th>C(specialty)[T.71]</th> <td>    2.4225</td> <td>    1.085</td> <td>    2.232</td> <td> 0.026</td> <td>    0.296</td> <td>    4.549</td>\n",
       "</tr>\n",
       "<tr>\n",
       "  <th>Gender</th>             <td>    0.1841</td> <td>    0.021</td> <td>    8.640</td> <td> 0.000</td> <td>    0.142</td> <td>    0.226</td>\n",
       "</tr>\n",
       "<tr>\n",
       "  <th>mean</th>               <td>   -0.0005</td> <td>    0.000</td> <td>   -1.208</td> <td> 0.227</td> <td>   -0.001</td> <td>    0.000</td>\n",
       "</tr>\n",
       "<tr>\n",
       "  <th>experienceyear</th>     <td>   -0.0002</td> <td>    0.001</td> <td>   -0.277</td> <td> 0.782</td> <td>   -0.002</td> <td>    0.001</td>\n",
       "</tr>\n",
       "</table>"
      ],
      "text/plain": [
       "<class 'statsmodels.iolib.summary.Summary'>\n",
       "\"\"\"\n",
       "                           Logit Regression Results                           \n",
       "==============================================================================\n",
       "Dep. Variable:                   tier   No. Observations:                65987\n",
       "Model:                          Logit   Df Residuals:                    65912\n",
       "Method:                           MLE   Df Model:                           74\n",
       "Date:                Fri, 16 Mar 2018   Pseudo R-squ.:                 0.09257\n",
       "Time:                        12:26:15   Log-Likelihood:                -41361.\n",
       "converged:                      False   LL-Null:                       -45580.\n",
       "                                        LLR p-value:                     0.000\n",
       "======================================================================================\n",
       "                         coef    std err          z      P>|z|      [0.025      0.975]\n",
       "--------------------------------------------------------------------------------------\n",
       "Intercept             -1.8984      1.081     -1.755      0.079      -4.018       0.221\n",
       "C(specialty)[T.1]      2.9851      1.265      2.359      0.018       0.505       5.465\n",
       "C(specialty)[T.2]      2.6194      1.087      2.411      0.016       0.490       4.749\n",
       "C(specialty)[T.3]      1.0059      1.081      0.931      0.352      -1.112       3.124\n",
       "C(specialty)[T.4]    -15.7190   6238.363     -0.003      0.998   -1.22e+04    1.22e+04\n",
       "C(specialty)[T.5]    -14.6275   3887.331     -0.004      0.997   -7633.656    7604.402\n",
       "C(specialty)[T.6]      2.6844      1.091      2.461      0.014       0.547       4.822\n",
       "C(specialty)[T.7]      3.0273      1.089      2.779      0.005       0.892       5.163\n",
       "C(specialty)[T.8]      2.6524      1.081      2.453      0.014       0.533       4.772\n",
       "C(specialty)[T.9]    -14.3100   3401.334     -0.004      0.997   -6680.803    6652.183\n",
       "C(specialty)[T.10]   -10.4530    136.732     -0.076      0.939    -278.444     257.538\n",
       "C(specialty)[T.11]     0.5760      1.346      0.428      0.669      -2.062       3.213\n",
       "C(specialty)[T.12]     0.7871      1.083      0.727      0.467      -1.335       2.910\n",
       "C(specialty)[T.13]     3.4273      1.102      3.109      0.002       1.267       5.588\n",
       "C(specialty)[T.14]     1.7744      1.089      1.629      0.103      -0.361       3.909\n",
       "C(specialty)[T.15]     2.6354      1.081      2.437      0.015       0.516       4.755\n",
       "C(specialty)[T.16]     0.8661      1.081      0.802      0.423      -1.252       2.984\n",
       "C(specialty)[T.17]     1.2794      1.081      1.183      0.237      -0.840       3.399\n",
       "C(specialty)[T.18]     2.0455      1.085      1.886      0.059      -0.080       4.171\n",
       "C(specialty)[T.19]     2.5212      1.081      2.333      0.020       0.403       4.639\n",
       "C(specialty)[T.20]     2.4548      1.081      2.270      0.023       0.336       4.574\n",
       "C(specialty)[T.21]     2.3198      1.090      2.129      0.033       0.184       4.456\n",
       "C(specialty)[T.22]     2.8330      1.082      2.619      0.009       0.713       4.953\n",
       "C(specialty)[T.23]     1.8255      1.104      1.654      0.098      -0.338       3.989\n",
       "C(specialty)[T.24]     3.4662      1.539      2.252      0.024       0.450       6.483\n",
       "C(specialty)[T.25]     2.8504      1.111      2.565      0.010       0.672       5.029\n",
       "C(specialty)[T.26]     2.6743      1.094      2.445      0.014       0.531       4.818\n",
       "C(specialty)[T.27]     2.3937      1.127      2.123      0.034       0.184       4.603\n",
       "C(specialty)[T.28]     2.5065      1.084      2.312      0.021       0.382       4.631\n",
       "C(specialty)[T.29]     1.7050      1.137      1.499      0.134      -0.524       3.934\n",
       "C(specialty)[T.30]     1.1403      1.085      1.051      0.293      -0.986       3.266\n",
       "C(specialty)[T.31]     1.9981      1.087      1.838      0.066      -0.132       4.128\n",
       "C(specialty)[T.32]     2.1541      1.081      1.993      0.046       0.036       4.272\n",
       "C(specialty)[T.33]     2.9802      1.086      2.744      0.006       0.851       5.109\n",
       "C(specialty)[T.34]     2.0474      1.087      1.883      0.060      -0.084       4.178\n",
       "C(specialty)[T.35]     1.5850      1.086      1.459      0.144      -0.544       3.714\n",
       "C(specialty)[T.36]     2.4532      1.633      1.502      0.133      -0.748       5.654\n",
       "C(specialty)[T.37]     2.7538      1.094      2.517      0.012       0.609       4.899\n",
       "C(specialty)[T.38]     2.3136      1.083      2.137      0.033       0.191       4.436\n",
       "C(specialty)[T.39]     1.9347      1.082      1.788      0.074      -0.187       4.056\n",
       "C(specialty)[T.40]     1.5229      1.323      1.151      0.250      -1.071       4.117\n",
       "C(specialty)[T.41]     2.8954      1.085      2.668      0.008       0.769       5.022\n",
       "C(specialty)[T.42]     0.9134      1.113      0.821      0.412      -1.267       3.094\n",
       "C(specialty)[T.43]     1.9268      1.225      1.573      0.116      -0.475       4.328\n",
       "C(specialty)[T.44]     2.8332      1.082      2.619      0.009       0.713       4.954\n",
       "C(specialty)[T.45]     2.6384      1.081      2.441      0.015       0.520       4.757\n",
       "C(specialty)[T.46]     1.8028      1.179      1.529      0.126      -0.508       4.113\n",
       "C(specialty)[T.47]     9.9899     61.581      0.162      0.871    -110.707     130.686\n",
       "C(specialty)[T.48]     2.5496      1.081      2.358      0.018       0.430       4.669\n",
       "C(specialty)[T.49]     2.6158      1.122      2.332      0.020       0.417       4.815\n",
       "C(specialty)[T.50]     2.3764      1.083      2.195      0.028       0.254       4.499\n",
       "C(specialty)[T.51]     1.9585      1.088      1.800      0.072      -0.174       4.091\n",
       "C(specialty)[T.52]     0.5107      1.087      0.470      0.638      -1.619       2.641\n",
       "C(specialty)[T.53]     2.6385      1.109      2.379      0.017       0.465       4.812\n",
       "C(specialty)[T.54]     2.0736      1.323      1.567      0.117      -0.520       4.667\n",
       "C(specialty)[T.55]     1.8973      1.083      1.751      0.080      -0.226       4.021\n",
       "C(specialty)[T.56]     0.3196      1.158      0.276      0.783      -1.951       2.590\n",
       "C(specialty)[T.57]     1.2768      1.249      1.022      0.307      -1.172       3.726\n",
       "C(specialty)[T.58]     2.9746      1.091      2.727      0.006       0.837       5.112\n",
       "C(specialty)[T.59]     1.3826      1.202      1.150      0.250      -0.974       3.739\n",
       "C(specialty)[T.60]     2.6496      1.282      2.067      0.039       0.137       5.162\n",
       "C(specialty)[T.61]     1.5781      1.083      1.457      0.145      -0.545       3.701\n",
       "C(specialty)[T.62]     2.3046      1.082      2.129      0.033       0.183       4.426\n",
       "C(specialty)[T.63]     2.4936      1.089      2.289      0.022       0.359       4.628\n",
       "C(specialty)[T.64]     2.1844      1.085      2.013      0.044       0.057       4.312\n",
       "C(specialty)[T.65]     1.9541      1.150      1.699      0.089      -0.300       4.208\n",
       "C(specialty)[T.66]     2.8267      1.106      2.556      0.011       0.659       4.995\n",
       "C(specialty)[T.67]     3.5826      1.146      3.126      0.002       1.336       5.829\n",
       "C(specialty)[T.68]     3.0508      1.090      2.799      0.005       0.914       5.187\n",
       "C(specialty)[T.69]     3.3155      1.334      2.486      0.013       0.701       5.930\n",
       "C(specialty)[T.70]     2.3450      1.082      2.168      0.030       0.225       4.465\n",
       "C(specialty)[T.71]     2.4225      1.085      2.232      0.026       0.296       4.549\n",
       "Gender                 0.1841      0.021      8.640      0.000       0.142       0.226\n",
       "mean                  -0.0005      0.000     -1.208      0.227      -0.001       0.000\n",
       "experienceyear        -0.0002      0.001     -0.277      0.782      -0.002       0.001\n",
       "======================================================================================\n",
       "\"\"\""
      ]
     },
     "execution_count": 113,
     "metadata": {},
     "output_type": "execute_result"
    }
   ],
   "source": [
    "model_sl.summary()"
   ]
  },
  {
   "cell_type": "markdown",
   "metadata": {},
   "source": [
    "- Model4: OLS Regression Model for Overall Rating (>0) \"Overall Rating\" ~ “Experience Year”+ “Gender”+“Specialty” + “Mean (of true quality)”\n"
   ]
  },
  {
   "cell_type": "code",
   "execution_count": 114,
   "metadata": {
    "collapsed": true
   },
   "outputs": [],
   "source": [
    "model_or_0 = sm.OLS.from_formula(formula = 'overall_rating ~ Gender + mean + experienceyear + C(specialty)',data = dfc_0).fit()"
   ]
  },
  {
   "cell_type": "code",
   "execution_count": 115,
   "metadata": {
    "collapsed": false
   },
   "outputs": [
    {
     "data": {
      "text/html": [
       "<table class=\"simpletable\">\n",
       "<caption>OLS Regression Results</caption>\n",
       "<tr>\n",
       "  <th>Dep. Variable:</th>     <td>overall_rating</td>  <th>  R-squared:         </th> <td>   0.022</td> \n",
       "</tr>\n",
       "<tr>\n",
       "  <th>Model:</th>                   <td>OLS</td>       <th>  Adj. R-squared:    </th> <td>   0.021</td> \n",
       "</tr>\n",
       "<tr>\n",
       "  <th>Method:</th>             <td>Least Squares</td>  <th>  F-statistic:       </th> <td>   15.56</td> \n",
       "</tr>\n",
       "<tr>\n",
       "  <th>Date:</th>             <td>Fri, 16 Mar 2018</td> <th>  Prob (F-statistic):</th> <td>5.16e-188</td>\n",
       "</tr>\n",
       "<tr>\n",
       "  <th>Time:</th>                 <td>12:26:16</td>     <th>  Log-Likelihood:    </th> <td> -65669.</td> \n",
       "</tr>\n",
       "<tr>\n",
       "  <th>No. Observations:</th>      <td> 50168</td>      <th>  AIC:               </th> <td>1.315e+05</td>\n",
       "</tr>\n",
       "<tr>\n",
       "  <th>Df Residuals:</th>          <td> 50094</td>      <th>  BIC:               </th> <td>1.321e+05</td>\n",
       "</tr>\n",
       "<tr>\n",
       "  <th>Df Model:</th>              <td>    73</td>      <th>                     </th>     <td> </td>    \n",
       "</tr>\n",
       "<tr>\n",
       "  <th>Covariance Type:</th>      <td>nonrobust</td>    <th>                     </th>     <td> </td>    \n",
       "</tr>\n",
       "</table>\n",
       "<table class=\"simpletable\">\n",
       "<tr>\n",
       "           <td></td>             <th>coef</th>     <th>std err</th>      <th>t</th>      <th>P>|t|</th>  <th>[0.025</th>    <th>0.975]</th>  \n",
       "</tr>\n",
       "<tr>\n",
       "  <th>Intercept</th>          <td>    3.7360</td> <td>    0.402</td> <td>    9.301</td> <td> 0.000</td> <td>    2.949</td> <td>    4.523</td>\n",
       "</tr>\n",
       "<tr>\n",
       "  <th>C(specialty)[T.1]</th>  <td>    0.9176</td> <td>    0.484</td> <td>    1.897</td> <td> 0.058</td> <td>   -0.030</td> <td>    1.865</td>\n",
       "</tr>\n",
       "<tr>\n",
       "  <th>C(specialty)[T.2]</th>  <td>    0.6013</td> <td>    0.404</td> <td>    1.488</td> <td> 0.137</td> <td>   -0.191</td> <td>    1.393</td>\n",
       "</tr>\n",
       "<tr>\n",
       "  <th>C(specialty)[T.3]</th>  <td>    0.5352</td> <td>    0.401</td> <td>    1.334</td> <td> 0.182</td> <td>   -0.251</td> <td>    1.322</td>\n",
       "</tr>\n",
       "<tr>\n",
       "  <th>C(specialty)[T.5]</th>  <td>   -0.1983</td> <td>    0.982</td> <td>   -0.202</td> <td> 0.840</td> <td>   -2.124</td> <td>    1.727</td>\n",
       "</tr>\n",
       "<tr>\n",
       "  <th>C(specialty)[T.6]</th>  <td>    0.6706</td> <td>    0.406</td> <td>    1.651</td> <td> 0.099</td> <td>   -0.125</td> <td>    1.467</td>\n",
       "</tr>\n",
       "<tr>\n",
       "  <th>C(specialty)[T.7]</th>  <td>    0.7301</td> <td>    0.405</td> <td>    1.805</td> <td> 0.071</td> <td>   -0.063</td> <td>    1.523</td>\n",
       "</tr>\n",
       "<tr>\n",
       "  <th>C(specialty)[T.8]</th>  <td>    0.6808</td> <td>    0.401</td> <td>    1.696</td> <td> 0.090</td> <td>   -0.106</td> <td>    1.468</td>\n",
       "</tr>\n",
       "<tr>\n",
       "  <th>C(specialty)[T.9]</th>  <td>   -0.5314</td> <td>    0.982</td> <td>   -0.541</td> <td> 0.588</td> <td>   -2.456</td> <td>    1.394</td>\n",
       "</tr>\n",
       "<tr>\n",
       "  <th>C(specialty)[T.10]</th> <td>   -0.4476</td> <td>    0.750</td> <td>   -0.597</td> <td> 0.551</td> <td>   -1.918</td> <td>    1.023</td>\n",
       "</tr>\n",
       "<tr>\n",
       "  <th>C(specialty)[T.11]</th> <td>   -0.1522</td> <td>    0.601</td> <td>   -0.253</td> <td> 0.800</td> <td>   -1.331</td> <td>    1.027</td>\n",
       "</tr>\n",
       "<tr>\n",
       "  <th>C(specialty)[T.12]</th> <td>    0.4903</td> <td>    0.404</td> <td>    1.214</td> <td> 0.225</td> <td>   -0.301</td> <td>    1.282</td>\n",
       "</tr>\n",
       "<tr>\n",
       "  <th>C(specialty)[T.13]</th> <td>    0.6147</td> <td>    0.408</td> <td>    1.508</td> <td> 0.132</td> <td>   -0.184</td> <td>    1.414</td>\n",
       "</tr>\n",
       "<tr>\n",
       "  <th>C(specialty)[T.14]</th> <td>    0.4265</td> <td>    0.408</td> <td>    1.046</td> <td> 0.295</td> <td>   -0.372</td> <td>    1.225</td>\n",
       "</tr>\n",
       "<tr>\n",
       "  <th>C(specialty)[T.15]</th> <td>    0.5059</td> <td>    0.401</td> <td>    1.260</td> <td> 0.208</td> <td>   -0.281</td> <td>    1.293</td>\n",
       "</tr>\n",
       "<tr>\n",
       "  <th>C(specialty)[T.16]</th> <td>    0.5192</td> <td>    0.401</td> <td>    1.294</td> <td> 0.196</td> <td>   -0.267</td> <td>    1.306</td>\n",
       "</tr>\n",
       "<tr>\n",
       "  <th>C(specialty)[T.17]</th> <td>    0.2003</td> <td>    0.402</td> <td>    0.499</td> <td> 0.618</td> <td>   -0.587</td> <td>    0.988</td>\n",
       "</tr>\n",
       "<tr>\n",
       "  <th>C(specialty)[T.18]</th> <td>    0.2526</td> <td>    0.403</td> <td>    0.626</td> <td> 0.531</td> <td>   -0.538</td> <td>    1.043</td>\n",
       "</tr>\n",
       "<tr>\n",
       "  <th>C(specialty)[T.19]</th> <td>    0.5010</td> <td>    0.401</td> <td>    1.249</td> <td> 0.212</td> <td>   -0.285</td> <td>    1.287</td>\n",
       "</tr>\n",
       "<tr>\n",
       "  <th>C(specialty)[T.20]</th> <td>    0.4428</td> <td>    0.401</td> <td>    1.103</td> <td> 0.270</td> <td>   -0.344</td> <td>    1.230</td>\n",
       "</tr>\n",
       "<tr>\n",
       "  <th>C(specialty)[T.21]</th> <td>    0.4955</td> <td>    0.406</td> <td>    1.220</td> <td> 0.222</td> <td>   -0.300</td> <td>    1.291</td>\n",
       "</tr>\n",
       "<tr>\n",
       "  <th>C(specialty)[T.22]</th> <td>    0.6025</td> <td>    0.402</td> <td>    1.500</td> <td> 0.134</td> <td>   -0.185</td> <td>    1.390</td>\n",
       "</tr>\n",
       "<tr>\n",
       "  <th>C(specialty)[T.23]</th> <td>    0.3851</td> <td>    0.415</td> <td>    0.927</td> <td> 0.354</td> <td>   -0.429</td> <td>    1.199</td>\n",
       "</tr>\n",
       "<tr>\n",
       "  <th>C(specialty)[T.24]</th> <td>    0.6996</td> <td>    0.543</td> <td>    1.289</td> <td> 0.198</td> <td>   -0.365</td> <td>    1.764</td>\n",
       "</tr>\n",
       "<tr>\n",
       "  <th>C(specialty)[T.25]</th> <td>    0.5273</td> <td>    0.414</td> <td>    1.273</td> <td> 0.203</td> <td>   -0.285</td> <td>    1.339</td>\n",
       "</tr>\n",
       "<tr>\n",
       "  <th>C(specialty)[T.26]</th> <td>    0.4839</td> <td>    0.407</td> <td>    1.189</td> <td> 0.234</td> <td>   -0.314</td> <td>    1.282</td>\n",
       "</tr>\n",
       "<tr>\n",
       "  <th>C(specialty)[T.27]</th> <td>    0.5998</td> <td>    0.428</td> <td>    1.402</td> <td> 0.161</td> <td>   -0.239</td> <td>    1.439</td>\n",
       "</tr>\n",
       "<tr>\n",
       "  <th>C(specialty)[T.28]</th> <td>    0.5409</td> <td>    0.403</td> <td>    1.343</td> <td> 0.179</td> <td>   -0.249</td> <td>    1.330</td>\n",
       "</tr>\n",
       "<tr>\n",
       "  <th>C(specialty)[T.29]</th> <td>    0.6563</td> <td>    0.446</td> <td>    1.471</td> <td> 0.141</td> <td>   -0.218</td> <td>    1.531</td>\n",
       "</tr>\n",
       "<tr>\n",
       "  <th>C(specialty)[T.30]</th> <td>    0.3324</td> <td>    0.405</td> <td>    0.821</td> <td> 0.411</td> <td>   -0.461</td> <td>    1.126</td>\n",
       "</tr>\n",
       "<tr>\n",
       "  <th>C(specialty)[T.31]</th> <td>    0.5084</td> <td>    0.405</td> <td>    1.255</td> <td> 0.210</td> <td>   -0.286</td> <td>    1.303</td>\n",
       "</tr>\n",
       "<tr>\n",
       "  <th>C(specialty)[T.32]</th> <td>    0.4737</td> <td>    0.401</td> <td>    1.181</td> <td> 0.238</td> <td>   -0.313</td> <td>    1.260</td>\n",
       "</tr>\n",
       "<tr>\n",
       "  <th>C(specialty)[T.33]</th> <td>    0.7409</td> <td>    0.403</td> <td>    1.837</td> <td> 0.066</td> <td>   -0.050</td> <td>    1.531</td>\n",
       "</tr>\n",
       "<tr>\n",
       "  <th>C(specialty)[T.34]</th> <td>    0.1944</td> <td>    0.405</td> <td>    0.480</td> <td> 0.631</td> <td>   -0.599</td> <td>    0.988</td>\n",
       "</tr>\n",
       "<tr>\n",
       "  <th>C(specialty)[T.35]</th> <td>    0.5851</td> <td>    0.406</td> <td>    1.441</td> <td> 0.149</td> <td>   -0.211</td> <td>    1.381</td>\n",
       "</tr>\n",
       "<tr>\n",
       "  <th>C(specialty)[T.36]</th> <td>    0.4757</td> <td>    0.655</td> <td>    0.726</td> <td> 0.468</td> <td>   -0.808</td> <td>    1.759</td>\n",
       "</tr>\n",
       "<tr>\n",
       "  <th>C(specialty)[T.37]</th> <td>    0.6725</td> <td>    0.407</td> <td>    1.651</td> <td> 0.099</td> <td>   -0.126</td> <td>    1.471</td>\n",
       "</tr>\n",
       "<tr>\n",
       "  <th>C(specialty)[T.38]</th> <td>    0.6452</td> <td>    0.403</td> <td>    1.603</td> <td> 0.109</td> <td>   -0.144</td> <td>    1.434</td>\n",
       "</tr>\n",
       "<tr>\n",
       "  <th>C(specialty)[T.39]</th> <td>    0.2502</td> <td>    0.402</td> <td>    0.622</td> <td> 0.534</td> <td>   -0.538</td> <td>    1.038</td>\n",
       "</tr>\n",
       "<tr>\n",
       "  <th>C(specialty)[T.40]</th> <td>    0.2399</td> <td>    0.525</td> <td>    0.457</td> <td> 0.648</td> <td>   -0.789</td> <td>    1.269</td>\n",
       "</tr>\n",
       "<tr>\n",
       "  <th>C(specialty)[T.41]</th> <td>    0.5057</td> <td>    0.403</td> <td>    1.255</td> <td> 0.209</td> <td>   -0.284</td> <td>    1.295</td>\n",
       "</tr>\n",
       "<tr>\n",
       "  <th>C(specialty)[T.42]</th> <td>    0.3669</td> <td>    0.435</td> <td>    0.843</td> <td> 0.399</td> <td>   -0.486</td> <td>    1.220</td>\n",
       "</tr>\n",
       "<tr>\n",
       "  <th>C(specialty)[T.43]</th> <td>    0.0240</td> <td>    0.511</td> <td>    0.047</td> <td> 0.963</td> <td>   -0.978</td> <td>    1.026</td>\n",
       "</tr>\n",
       "<tr>\n",
       "  <th>C(specialty)[T.44]</th> <td>    0.5441</td> <td>    0.402</td> <td>    1.354</td> <td> 0.176</td> <td>   -0.243</td> <td>    1.331</td>\n",
       "</tr>\n",
       "<tr>\n",
       "  <th>C(specialty)[T.45]</th> <td>    0.5815</td> <td>    0.401</td> <td>    1.449</td> <td> 0.147</td> <td>   -0.205</td> <td>    1.368</td>\n",
       "</tr>\n",
       "<tr>\n",
       "  <th>C(specialty)[T.46]</th> <td>    0.8551</td> <td>    0.484</td> <td>    1.768</td> <td> 0.077</td> <td>   -0.093</td> <td>    1.803</td>\n",
       "</tr>\n",
       "<tr>\n",
       "  <th>C(specialty)[T.47]</th> <td>    1.0523</td> <td>    0.982</td> <td>    1.071</td> <td> 0.284</td> <td>   -0.873</td> <td>    2.977</td>\n",
       "</tr>\n",
       "<tr>\n",
       "  <th>C(specialty)[T.48]</th> <td>    0.4280</td> <td>    0.401</td> <td>    1.066</td> <td> 0.286</td> <td>   -0.359</td> <td>    1.215</td>\n",
       "</tr>\n",
       "<tr>\n",
       "  <th>C(specialty)[T.49]</th> <td>    0.7161</td> <td>    0.424</td> <td>    1.688</td> <td> 0.091</td> <td>   -0.115</td> <td>    1.548</td>\n",
       "</tr>\n",
       "<tr>\n",
       "  <th>C(specialty)[T.50]</th> <td>    0.4226</td> <td>    0.402</td> <td>    1.051</td> <td> 0.293</td> <td>   -0.366</td> <td>    1.211</td>\n",
       "</tr>\n",
       "<tr>\n",
       "  <th>C(specialty)[T.51]</th> <td>    0.1974</td> <td>    0.405</td> <td>    0.487</td> <td> 0.626</td> <td>   -0.597</td> <td>    0.992</td>\n",
       "</tr>\n",
       "<tr>\n",
       "  <th>C(specialty)[T.52]</th> <td>    0.5794</td> <td>    0.409</td> <td>    1.418</td> <td> 0.156</td> <td>   -0.221</td> <td>    1.380</td>\n",
       "</tr>\n",
       "<tr>\n",
       "  <th>C(specialty)[T.53]</th> <td>    0.6573</td> <td>    0.416</td> <td>    1.579</td> <td> 0.114</td> <td>   -0.159</td> <td>    1.473</td>\n",
       "</tr>\n",
       "<tr>\n",
       "  <th>C(specialty)[T.54]</th> <td>    0.5245</td> <td>    0.543</td> <td>    0.966</td> <td> 0.334</td> <td>   -0.540</td> <td>    1.589</td>\n",
       "</tr>\n",
       "<tr>\n",
       "  <th>C(specialty)[T.55]</th> <td>    0.2876</td> <td>    0.403</td> <td>    0.714</td> <td> 0.475</td> <td>   -0.502</td> <td>    1.077</td>\n",
       "</tr>\n",
       "<tr>\n",
       "  <th>C(specialty)[T.56]</th> <td>    0.8201</td> <td>    0.511</td> <td>    1.604</td> <td> 0.109</td> <td>   -0.182</td> <td>    1.822</td>\n",
       "</tr>\n",
       "<tr>\n",
       "  <th>C(specialty)[T.57]</th> <td>    0.5724</td> <td>    0.543</td> <td>    1.054</td> <td> 0.292</td> <td>   -0.492</td> <td>    1.637</td>\n",
       "</tr>\n",
       "<tr>\n",
       "  <th>C(specialty)[T.58]</th> <td>    0.5652</td> <td>    0.405</td> <td>    1.395</td> <td> 0.163</td> <td>   -0.229</td> <td>    1.359</td>\n",
       "</tr>\n",
       "<tr>\n",
       "  <th>C(specialty)[T.59]</th> <td>    0.3843</td> <td>    0.484</td> <td>    0.795</td> <td> 0.427</td> <td>   -0.564</td> <td>    1.332</td>\n",
       "</tr>\n",
       "<tr>\n",
       "  <th>C(specialty)[T.60]</th> <td>    0.6251</td> <td>    0.491</td> <td>    1.273</td> <td> 0.203</td> <td>   -0.337</td> <td>    1.588</td>\n",
       "</tr>\n",
       "<tr>\n",
       "  <th>C(specialty)[T.61]</th> <td>    0.1518</td> <td>    0.403</td> <td>    0.377</td> <td> 0.706</td> <td>   -0.638</td> <td>    0.941</td>\n",
       "</tr>\n",
       "<tr>\n",
       "  <th>C(specialty)[T.62]</th> <td>    0.5238</td> <td>    0.402</td> <td>    1.303</td> <td> 0.193</td> <td>   -0.264</td> <td>    1.312</td>\n",
       "</tr>\n",
       "<tr>\n",
       "  <th>C(specialty)[T.63]</th> <td>    0.8296</td> <td>    0.406</td> <td>    2.042</td> <td> 0.041</td> <td>    0.033</td> <td>    1.626</td>\n",
       "</tr>\n",
       "<tr>\n",
       "  <th>C(specialty)[T.64]</th> <td>    0.3128</td> <td>    0.404</td> <td>    0.775</td> <td> 0.438</td> <td>   -0.478</td> <td>    1.104</td>\n",
       "</tr>\n",
       "<tr>\n",
       "  <th>C(specialty)[T.65]</th> <td>    0.1922</td> <td>    0.439</td> <td>    0.438</td> <td> 0.662</td> <td>   -0.669</td> <td>    1.053</td>\n",
       "</tr>\n",
       "<tr>\n",
       "  <th>C(specialty)[T.66]</th> <td>    0.6148</td> <td>    0.412</td> <td>    1.491</td> <td> 0.136</td> <td>   -0.193</td> <td>    1.423</td>\n",
       "</tr>\n",
       "<tr>\n",
       "  <th>C(specialty)[T.67]</th> <td>    0.8104</td> <td>    0.420</td> <td>    1.930</td> <td> 0.054</td> <td>   -0.012</td> <td>    1.633</td>\n",
       "</tr>\n",
       "<tr>\n",
       "  <th>C(specialty)[T.68]</th> <td>    0.7129</td> <td>    0.405</td> <td>    1.761</td> <td> 0.078</td> <td>   -0.080</td> <td>    1.506</td>\n",
       "</tr>\n",
       "<tr>\n",
       "  <th>C(specialty)[T.69]</th> <td>    0.9013</td> <td>    0.500</td> <td>    1.802</td> <td> 0.072</td> <td>   -0.079</td> <td>    1.881</td>\n",
       "</tr>\n",
       "<tr>\n",
       "  <th>C(specialty)[T.70]</th> <td>    0.3489</td> <td>    0.402</td> <td>    0.869</td> <td> 0.385</td> <td>   -0.438</td> <td>    1.136</td>\n",
       "</tr>\n",
       "<tr>\n",
       "  <th>C(specialty)[T.71]</th> <td>    0.5082</td> <td>    0.404</td> <td>    1.259</td> <td> 0.208</td> <td>   -0.283</td> <td>    1.299</td>\n",
       "</tr>\n",
       "<tr>\n",
       "  <th>Gender</th>             <td>    0.0589</td> <td>    0.010</td> <td>    5.660</td> <td> 0.000</td> <td>    0.039</td> <td>    0.079</td>\n",
       "</tr>\n",
       "<tr>\n",
       "  <th>mean</th>               <td>   -0.0003</td> <td>    0.000</td> <td>   -1.410</td> <td> 0.158</td> <td>   -0.001</td> <td>    0.000</td>\n",
       "</tr>\n",
       "<tr>\n",
       "  <th>experienceyear</th>     <td>   -0.0071</td> <td>    0.000</td> <td>  -17.760</td> <td> 0.000</td> <td>   -0.008</td> <td>   -0.006</td>\n",
       "</tr>\n",
       "</table>\n",
       "<table class=\"simpletable\">\n",
       "<tr>\n",
       "  <th>Omnibus:</th>       <td>10875.597</td> <th>  Durbin-Watson:     </th> <td>   1.975</td> \n",
       "</tr>\n",
       "<tr>\n",
       "  <th>Prob(Omnibus):</th>  <td> 0.000</td>   <th>  Jarque-Bera (JB):  </th> <td>22183.990</td>\n",
       "</tr>\n",
       "<tr>\n",
       "  <th>Skew:</th>           <td>-1.293</td>   <th>  Prob(JB):          </th> <td>    0.00</td> \n",
       "</tr>\n",
       "<tr>\n",
       "  <th>Kurtosis:</th>       <td> 4.981</td>   <th>  Cond. No.          </th> <td>7.60e+04</td> \n",
       "</tr>\n",
       "</table>"
      ],
      "text/plain": [
       "<class 'statsmodels.iolib.summary.Summary'>\n",
       "\"\"\"\n",
       "                            OLS Regression Results                            \n",
       "==============================================================================\n",
       "Dep. Variable:         overall_rating   R-squared:                       0.022\n",
       "Model:                            OLS   Adj. R-squared:                  0.021\n",
       "Method:                 Least Squares   F-statistic:                     15.56\n",
       "Date:                Fri, 16 Mar 2018   Prob (F-statistic):          5.16e-188\n",
       "Time:                        12:26:16   Log-Likelihood:                -65669.\n",
       "No. Observations:               50168   AIC:                         1.315e+05\n",
       "Df Residuals:                   50094   BIC:                         1.321e+05\n",
       "Df Model:                          73                                         \n",
       "Covariance Type:            nonrobust                                         \n",
       "======================================================================================\n",
       "                         coef    std err          t      P>|t|      [0.025      0.975]\n",
       "--------------------------------------------------------------------------------------\n",
       "Intercept              3.7360      0.402      9.301      0.000       2.949       4.523\n",
       "C(specialty)[T.1]      0.9176      0.484      1.897      0.058      -0.030       1.865\n",
       "C(specialty)[T.2]      0.6013      0.404      1.488      0.137      -0.191       1.393\n",
       "C(specialty)[T.3]      0.5352      0.401      1.334      0.182      -0.251       1.322\n",
       "C(specialty)[T.5]     -0.1983      0.982     -0.202      0.840      -2.124       1.727\n",
       "C(specialty)[T.6]      0.6706      0.406      1.651      0.099      -0.125       1.467\n",
       "C(specialty)[T.7]      0.7301      0.405      1.805      0.071      -0.063       1.523\n",
       "C(specialty)[T.8]      0.6808      0.401      1.696      0.090      -0.106       1.468\n",
       "C(specialty)[T.9]     -0.5314      0.982     -0.541      0.588      -2.456       1.394\n",
       "C(specialty)[T.10]    -0.4476      0.750     -0.597      0.551      -1.918       1.023\n",
       "C(specialty)[T.11]    -0.1522      0.601     -0.253      0.800      -1.331       1.027\n",
       "C(specialty)[T.12]     0.4903      0.404      1.214      0.225      -0.301       1.282\n",
       "C(specialty)[T.13]     0.6147      0.408      1.508      0.132      -0.184       1.414\n",
       "C(specialty)[T.14]     0.4265      0.408      1.046      0.295      -0.372       1.225\n",
       "C(specialty)[T.15]     0.5059      0.401      1.260      0.208      -0.281       1.293\n",
       "C(specialty)[T.16]     0.5192      0.401      1.294      0.196      -0.267       1.306\n",
       "C(specialty)[T.17]     0.2003      0.402      0.499      0.618      -0.587       0.988\n",
       "C(specialty)[T.18]     0.2526      0.403      0.626      0.531      -0.538       1.043\n",
       "C(specialty)[T.19]     0.5010      0.401      1.249      0.212      -0.285       1.287\n",
       "C(specialty)[T.20]     0.4428      0.401      1.103      0.270      -0.344       1.230\n",
       "C(specialty)[T.21]     0.4955      0.406      1.220      0.222      -0.300       1.291\n",
       "C(specialty)[T.22]     0.6025      0.402      1.500      0.134      -0.185       1.390\n",
       "C(specialty)[T.23]     0.3851      0.415      0.927      0.354      -0.429       1.199\n",
       "C(specialty)[T.24]     0.6996      0.543      1.289      0.198      -0.365       1.764\n",
       "C(specialty)[T.25]     0.5273      0.414      1.273      0.203      -0.285       1.339\n",
       "C(specialty)[T.26]     0.4839      0.407      1.189      0.234      -0.314       1.282\n",
       "C(specialty)[T.27]     0.5998      0.428      1.402      0.161      -0.239       1.439\n",
       "C(specialty)[T.28]     0.5409      0.403      1.343      0.179      -0.249       1.330\n",
       "C(specialty)[T.29]     0.6563      0.446      1.471      0.141      -0.218       1.531\n",
       "C(specialty)[T.30]     0.3324      0.405      0.821      0.411      -0.461       1.126\n",
       "C(specialty)[T.31]     0.5084      0.405      1.255      0.210      -0.286       1.303\n",
       "C(specialty)[T.32]     0.4737      0.401      1.181      0.238      -0.313       1.260\n",
       "C(specialty)[T.33]     0.7409      0.403      1.837      0.066      -0.050       1.531\n",
       "C(specialty)[T.34]     0.1944      0.405      0.480      0.631      -0.599       0.988\n",
       "C(specialty)[T.35]     0.5851      0.406      1.441      0.149      -0.211       1.381\n",
       "C(specialty)[T.36]     0.4757      0.655      0.726      0.468      -0.808       1.759\n",
       "C(specialty)[T.37]     0.6725      0.407      1.651      0.099      -0.126       1.471\n",
       "C(specialty)[T.38]     0.6452      0.403      1.603      0.109      -0.144       1.434\n",
       "C(specialty)[T.39]     0.2502      0.402      0.622      0.534      -0.538       1.038\n",
       "C(specialty)[T.40]     0.2399      0.525      0.457      0.648      -0.789       1.269\n",
       "C(specialty)[T.41]     0.5057      0.403      1.255      0.209      -0.284       1.295\n",
       "C(specialty)[T.42]     0.3669      0.435      0.843      0.399      -0.486       1.220\n",
       "C(specialty)[T.43]     0.0240      0.511      0.047      0.963      -0.978       1.026\n",
       "C(specialty)[T.44]     0.5441      0.402      1.354      0.176      -0.243       1.331\n",
       "C(specialty)[T.45]     0.5815      0.401      1.449      0.147      -0.205       1.368\n",
       "C(specialty)[T.46]     0.8551      0.484      1.768      0.077      -0.093       1.803\n",
       "C(specialty)[T.47]     1.0523      0.982      1.071      0.284      -0.873       2.977\n",
       "C(specialty)[T.48]     0.4280      0.401      1.066      0.286      -0.359       1.215\n",
       "C(specialty)[T.49]     0.7161      0.424      1.688      0.091      -0.115       1.548\n",
       "C(specialty)[T.50]     0.4226      0.402      1.051      0.293      -0.366       1.211\n",
       "C(specialty)[T.51]     0.1974      0.405      0.487      0.626      -0.597       0.992\n",
       "C(specialty)[T.52]     0.5794      0.409      1.418      0.156      -0.221       1.380\n",
       "C(specialty)[T.53]     0.6573      0.416      1.579      0.114      -0.159       1.473\n",
       "C(specialty)[T.54]     0.5245      0.543      0.966      0.334      -0.540       1.589\n",
       "C(specialty)[T.55]     0.2876      0.403      0.714      0.475      -0.502       1.077\n",
       "C(specialty)[T.56]     0.8201      0.511      1.604      0.109      -0.182       1.822\n",
       "C(specialty)[T.57]     0.5724      0.543      1.054      0.292      -0.492       1.637\n",
       "C(specialty)[T.58]     0.5652      0.405      1.395      0.163      -0.229       1.359\n",
       "C(specialty)[T.59]     0.3843      0.484      0.795      0.427      -0.564       1.332\n",
       "C(specialty)[T.60]     0.6251      0.491      1.273      0.203      -0.337       1.588\n",
       "C(specialty)[T.61]     0.1518      0.403      0.377      0.706      -0.638       0.941\n",
       "C(specialty)[T.62]     0.5238      0.402      1.303      0.193      -0.264       1.312\n",
       "C(specialty)[T.63]     0.8296      0.406      2.042      0.041       0.033       1.626\n",
       "C(specialty)[T.64]     0.3128      0.404      0.775      0.438      -0.478       1.104\n",
       "C(specialty)[T.65]     0.1922      0.439      0.438      0.662      -0.669       1.053\n",
       "C(specialty)[T.66]     0.6148      0.412      1.491      0.136      -0.193       1.423\n",
       "C(specialty)[T.67]     0.8104      0.420      1.930      0.054      -0.012       1.633\n",
       "C(specialty)[T.68]     0.7129      0.405      1.761      0.078      -0.080       1.506\n",
       "C(specialty)[T.69]     0.9013      0.500      1.802      0.072      -0.079       1.881\n",
       "C(specialty)[T.70]     0.3489      0.402      0.869      0.385      -0.438       1.136\n",
       "C(specialty)[T.71]     0.5082      0.404      1.259      0.208      -0.283       1.299\n",
       "Gender                 0.0589      0.010      5.660      0.000       0.039       0.079\n",
       "mean                  -0.0003      0.000     -1.410      0.158      -0.001       0.000\n",
       "experienceyear        -0.0071      0.000    -17.760      0.000      -0.008      -0.006\n",
       "==============================================================================\n",
       "Omnibus:                    10875.597   Durbin-Watson:                   1.975\n",
       "Prob(Omnibus):                  0.000   Jarque-Bera (JB):            22183.990\n",
       "Skew:                          -1.293   Prob(JB):                         0.00\n",
       "Kurtosis:                       4.981   Cond. No.                     7.60e+04\n",
       "==============================================================================\n",
       "\n",
       "Warnings:\n",
       "[1] Standard Errors assume that the covariance matrix of the errors is correctly specified.\n",
       "[2] The condition number is large, 7.6e+04. This might indicate that there are\n",
       "strong multicollinearity or other numerical problems.\n",
       "\"\"\""
      ]
     },
     "execution_count": 115,
     "metadata": {},
     "output_type": "execute_result"
    }
   ],
   "source": [
    "model_or_0.summary()"
   ]
  },
  {
   "cell_type": "markdown",
   "metadata": {
    "collapsed": true
   },
   "source": [
    "- Model5: Logistic Regression for Overall Rating (>0) \"Tier\" ~ “Experience Year”+ “Gender”+“Specialty” "
   ]
  },
  {
   "cell_type": "code",
   "execution_count": 116,
   "metadata": {
    "collapsed": true
   },
   "outputs": [],
   "source": [
    "dfc_0_spl = dfc_split[dfc_split['overall_rating'] >0]"
   ]
  },
  {
   "cell_type": "code",
   "execution_count": 117,
   "metadata": {
    "collapsed": false
   },
   "outputs": [
    {
     "name": "stdout",
     "output_type": "stream",
     "text": [
      "Warning: Maximum number of iterations has been exceeded.\n",
      "         Current function value: 0.596625\n",
      "         Iterations: 35\n"
     ]
    },
    {
     "name": "stderr",
     "output_type": "stream",
     "text": [
      "C:\\Users\\amyhu\\Anaconda3\\lib\\site-packages\\statsmodels\\base\\model.py:496: ConvergenceWarning:\n",
      "\n",
      "Maximum Likelihood optimization failed to converge. Check mle_retvals\n",
      "\n"
     ]
    }
   ],
   "source": [
    "model_or_0_logit = sm.Logit.from_formula(formula = 'tier ~ Gender + experienceyear + C(specialty)',data = dfc_0_spl).fit()"
   ]
  },
  {
   "cell_type": "code",
   "execution_count": 118,
   "metadata": {
    "collapsed": false,
    "scrolled": false
   },
   "outputs": [
    {
     "data": {
      "text/html": [
       "<table class=\"simpletable\">\n",
       "<caption>Logit Regression Results</caption>\n",
       "<tr>\n",
       "  <th>Dep. Variable:</th>       <td>tier</td>       <th>  No. Observations:  </th>   <td> 50168</td>  \n",
       "</tr>\n",
       "<tr>\n",
       "  <th>Model:</th>               <td>Logit</td>      <th>  Df Residuals:      </th>   <td> 50095</td>  \n",
       "</tr>\n",
       "<tr>\n",
       "  <th>Method:</th>               <td>MLE</td>       <th>  Df Model:          </th>   <td>    72</td>  \n",
       "</tr>\n",
       "<tr>\n",
       "  <th>Date:</th>          <td>Fri, 16 Mar 2018</td> <th>  Pseudo R-squ.:     </th>   <td>0.01887</td> \n",
       "</tr>\n",
       "<tr>\n",
       "  <th>Time:</th>              <td>12:26:20</td>     <th>  Log-Likelihood:    </th>  <td> -29931.</td> \n",
       "</tr>\n",
       "<tr>\n",
       "  <th>converged:</th>           <td>False</td>      <th>  LL-Null:           </th>  <td> -30507.</td> \n",
       "</tr>\n",
       "<tr>\n",
       "  <th> </th>                      <td> </td>        <th>  LLR p-value:       </th> <td>4.668e-194</td>\n",
       "</tr>\n",
       "</table>\n",
       "<table class=\"simpletable\">\n",
       "<tr>\n",
       "           <td></td>             <th>coef</th>     <th>std err</th>      <th>z</th>      <th>P>|z|</th>  <th>[0.025</th>    <th>0.975]</th>  \n",
       "</tr>\n",
       "<tr>\n",
       "  <th>Intercept</th>          <td>   -0.9237</td> <td>    1.119</td> <td>   -0.826</td> <td> 0.409</td> <td>   -3.117</td> <td>    1.269</td>\n",
       "</tr>\n",
       "<tr>\n",
       "  <th>C(specialty)[T.1]</th>  <td>    3.5286</td> <td>    1.534</td> <td>    2.300</td> <td> 0.021</td> <td>    0.522</td> <td>    6.535</td>\n",
       "</tr>\n",
       "<tr>\n",
       "  <th>C(specialty)[T.2]</th>  <td>    2.2961</td> <td>    1.125</td> <td>    2.041</td> <td> 0.041</td> <td>    0.091</td> <td>    4.501</td>\n",
       "</tr>\n",
       "<tr>\n",
       "  <th>C(specialty)[T.3]</th>  <td>    2.0384</td> <td>    1.119</td> <td>    1.822</td> <td> 0.068</td> <td>   -0.154</td> <td>    4.231</td>\n",
       "</tr>\n",
       "<tr>\n",
       "  <th>C(specialty)[T.5]</th>  <td>  -14.8027</td> <td> 2713.791</td> <td>   -0.005</td> <td> 0.996</td> <td>-5333.736</td> <td> 5304.131</td>\n",
       "</tr>\n",
       "<tr>\n",
       "  <th>C(specialty)[T.6]</th>  <td>    2.6365</td> <td>    1.133</td> <td>    2.327</td> <td> 0.020</td> <td>    0.416</td> <td>    4.857</td>\n",
       "</tr>\n",
       "<tr>\n",
       "  <th>C(specialty)[T.7]</th>  <td>    2.7693</td> <td>    1.129</td> <td>    2.454</td> <td> 0.014</td> <td>    0.557</td> <td>    4.981</td>\n",
       "</tr>\n",
       "<tr>\n",
       "  <th>C(specialty)[T.8]</th>  <td>    2.5192</td> <td>    1.119</td> <td>    2.250</td> <td> 0.024</td> <td>    0.325</td> <td>    4.713</td>\n",
       "</tr>\n",
       "<tr>\n",
       "  <th>C(specialty)[T.9]</th>  <td>  -14.4565</td> <td> 2709.519</td> <td>   -0.005</td> <td> 0.996</td> <td>-5325.017</td> <td> 5296.104</td>\n",
       "</tr>\n",
       "<tr>\n",
       "  <th>C(specialty)[T.10]</th> <td>  -13.6699</td> <td> 1038.763</td> <td>   -0.013</td> <td> 0.990</td> <td>-2049.608</td> <td> 2022.268</td>\n",
       "</tr>\n",
       "<tr>\n",
       "  <th>C(specialty)[T.11]</th> <td>    1.3398</td> <td>    1.503</td> <td>    0.891</td> <td> 0.373</td> <td>   -1.606</td> <td>    4.286</td>\n",
       "</tr>\n",
       "<tr>\n",
       "  <th>C(specialty)[T.12]</th> <td>    2.0973</td> <td>    1.124</td> <td>    1.866</td> <td> 0.062</td> <td>   -0.106</td> <td>    4.301</td>\n",
       "</tr>\n",
       "<tr>\n",
       "  <th>C(specialty)[T.13]</th> <td>    3.0463</td> <td>    1.143</td> <td>    2.666</td> <td> 0.008</td> <td>    0.807</td> <td>    5.286</td>\n",
       "</tr>\n",
       "<tr>\n",
       "  <th>C(specialty)[T.14]</th> <td>    1.9466</td> <td>    1.132</td> <td>    1.720</td> <td> 0.085</td> <td>   -0.271</td> <td>    4.165</td>\n",
       "</tr>\n",
       "<tr>\n",
       "  <th>C(specialty)[T.15]</th> <td>    2.1839</td> <td>    1.119</td> <td>    1.951</td> <td> 0.051</td> <td>   -0.010</td> <td>    4.377</td>\n",
       "</tr>\n",
       "<tr>\n",
       "  <th>C(specialty)[T.16]</th> <td>    2.0567</td> <td>    1.119</td> <td>    1.838</td> <td> 0.066</td> <td>   -0.136</td> <td>    4.250</td>\n",
       "</tr>\n",
       "<tr>\n",
       "  <th>C(specialty)[T.17]</th> <td>    1.4923</td> <td>    1.119</td> <td>    1.333</td> <td> 0.182</td> <td>   -0.702</td> <td>    3.686</td>\n",
       "</tr>\n",
       "<tr>\n",
       "  <th>C(specialty)[T.18]</th> <td>    1.5501</td> <td>    1.122</td> <td>    1.381</td> <td> 0.167</td> <td>   -0.650</td> <td>    3.750</td>\n",
       "</tr>\n",
       "<tr>\n",
       "  <th>C(specialty)[T.19]</th> <td>    2.1911</td> <td>    1.119</td> <td>    1.959</td> <td> 0.050</td> <td>   -0.001</td> <td>    4.384</td>\n",
       "</tr>\n",
       "<tr>\n",
       "  <th>C(specialty)[T.20]</th> <td>    2.0375</td> <td>    1.119</td> <td>    1.821</td> <td> 0.069</td> <td>   -0.156</td> <td>    4.231</td>\n",
       "</tr>\n",
       "<tr>\n",
       "  <th>C(specialty)[T.21]</th> <td>    2.1071</td> <td>    1.129</td> <td>    1.867</td> <td> 0.062</td> <td>   -0.105</td> <td>    4.319</td>\n",
       "</tr>\n",
       "<tr>\n",
       "  <th>C(specialty)[T.22]</th> <td>    2.5455</td> <td>    1.120</td> <td>    2.273</td> <td> 0.023</td> <td>    0.351</td> <td>    4.740</td>\n",
       "</tr>\n",
       "<tr>\n",
       "  <th>C(specialty)[T.23]</th> <td>    1.6041</td> <td>    1.145</td> <td>    1.401</td> <td> 0.161</td> <td>   -0.640</td> <td>    3.848</td>\n",
       "</tr>\n",
       "<tr>\n",
       "  <th>C(specialty)[T.24]</th> <td>    2.9217</td> <td>    1.568</td> <td>    1.863</td> <td> 0.062</td> <td>   -0.151</td> <td>    5.995</td>\n",
       "</tr>\n",
       "<tr>\n",
       "  <th>C(specialty)[T.25]</th> <td>    2.4290</td> <td>    1.151</td> <td>    2.111</td> <td> 0.035</td> <td>    0.174</td> <td>    4.684</td>\n",
       "</tr>\n",
       "<tr>\n",
       "  <th>C(specialty)[T.26]</th> <td>    2.1764</td> <td>    1.132</td> <td>    1.923</td> <td> 0.054</td> <td>   -0.042</td> <td>    4.395</td>\n",
       "</tr>\n",
       "<tr>\n",
       "  <th>C(specialty)[T.27]</th> <td>    2.3800</td> <td>    1.183</td> <td>    2.012</td> <td> 0.044</td> <td>    0.062</td> <td>    4.698</td>\n",
       "</tr>\n",
       "<tr>\n",
       "  <th>C(specialty)[T.28]</th> <td>    2.2424</td> <td>    1.122</td> <td>    1.998</td> <td> 0.046</td> <td>    0.043</td> <td>    4.442</td>\n",
       "</tr>\n",
       "<tr>\n",
       "  <th>C(specialty)[T.29]</th> <td>    2.1307</td> <td>    1.219</td> <td>    1.748</td> <td> 0.080</td> <td>   -0.258</td> <td>    4.519</td>\n",
       "</tr>\n",
       "<tr>\n",
       "  <th>C(specialty)[T.30]</th> <td>    1.6369</td> <td>    1.125</td> <td>    1.455</td> <td> 0.146</td> <td>   -0.569</td> <td>    3.843</td>\n",
       "</tr>\n",
       "<tr>\n",
       "  <th>C(specialty)[T.31]</th> <td>    1.9480</td> <td>    1.127</td> <td>    1.729</td> <td> 0.084</td> <td>   -0.260</td> <td>    4.156</td>\n",
       "</tr>\n",
       "<tr>\n",
       "  <th>C(specialty)[T.32]</th> <td>    2.0968</td> <td>    1.119</td> <td>    1.875</td> <td> 0.061</td> <td>   -0.095</td> <td>    4.289</td>\n",
       "</tr>\n",
       "<tr>\n",
       "  <th>C(specialty)[T.33]</th> <td>    2.7575</td> <td>    1.125</td> <td>    2.450</td> <td> 0.014</td> <td>    0.552</td> <td>    4.963</td>\n",
       "</tr>\n",
       "<tr>\n",
       "  <th>C(specialty)[T.34]</th> <td>    1.5641</td> <td>    1.125</td> <td>    1.390</td> <td> 0.165</td> <td>   -0.641</td> <td>    3.770</td>\n",
       "</tr>\n",
       "<tr>\n",
       "  <th>C(specialty)[T.35]</th> <td>    2.1932</td> <td>    1.129</td> <td>    1.942</td> <td> 0.052</td> <td>   -0.021</td> <td>    4.407</td>\n",
       "</tr>\n",
       "<tr>\n",
       "  <th>C(specialty)[T.36]</th> <td>    1.6225</td> <td>    1.659</td> <td>    0.978</td> <td> 0.328</td> <td>   -1.628</td> <td>    4.873</td>\n",
       "</tr>\n",
       "<tr>\n",
       "  <th>C(specialty)[T.37]</th> <td>    2.4348</td> <td>    1.134</td> <td>    2.148</td> <td> 0.032</td> <td>    0.213</td> <td>    4.657</td>\n",
       "</tr>\n",
       "<tr>\n",
       "  <th>C(specialty)[T.38]</th> <td>    2.4115</td> <td>    1.122</td> <td>    2.149</td> <td> 0.032</td> <td>    0.212</td> <td>    4.611</td>\n",
       "</tr>\n",
       "<tr>\n",
       "  <th>C(specialty)[T.39]</th> <td>    1.4653</td> <td>    1.120</td> <td>    1.308</td> <td> 0.191</td> <td>   -0.730</td> <td>    3.661</td>\n",
       "</tr>\n",
       "<tr>\n",
       "  <th>C(specialty)[T.40]</th> <td>    1.0123</td> <td>    1.355</td> <td>    0.747</td> <td> 0.455</td> <td>   -1.643</td> <td>    3.668</td>\n",
       "</tr>\n",
       "<tr>\n",
       "  <th>C(specialty)[T.41]</th> <td>    2.3838</td> <td>    1.123</td> <td>    2.123</td> <td> 0.034</td> <td>    0.183</td> <td>    4.585</td>\n",
       "</tr>\n",
       "<tr>\n",
       "  <th>C(specialty)[T.42]</th> <td>    2.1240</td> <td>    1.194</td> <td>    1.778</td> <td> 0.075</td> <td>   -0.217</td> <td>    4.465</td>\n",
       "</tr>\n",
       "<tr>\n",
       "  <th>C(specialty)[T.43]</th> <td>    2.2953</td> <td>    1.385</td> <td>    1.657</td> <td> 0.097</td> <td>   -0.419</td> <td>    5.010</td>\n",
       "</tr>\n",
       "<tr>\n",
       "  <th>C(specialty)[T.44]</th> <td>    2.3992</td> <td>    1.120</td> <td>    2.142</td> <td> 0.032</td> <td>    0.204</td> <td>    4.594</td>\n",
       "</tr>\n",
       "<tr>\n",
       "  <th>C(specialty)[T.45]</th> <td>    2.3579</td> <td>    1.119</td> <td>    2.108</td> <td> 0.035</td> <td>    0.165</td> <td>    4.551</td>\n",
       "</tr>\n",
       "<tr>\n",
       "  <th>C(specialty)[T.46]</th> <td>    2.7883</td> <td>    1.365</td> <td>    2.043</td> <td> 0.041</td> <td>    0.113</td> <td>    5.464</td>\n",
       "</tr>\n",
       "<tr>\n",
       "  <th>C(specialty)[T.47]</th> <td>   17.3702</td> <td> 2737.071</td> <td>    0.006</td> <td> 0.995</td> <td>-5347.190</td> <td> 5381.931</td>\n",
       "</tr>\n",
       "<tr>\n",
       "  <th>C(specialty)[T.48]</th> <td>    2.0874</td> <td>    1.119</td> <td>    1.865</td> <td> 0.062</td> <td>   -0.106</td> <td>    4.281</td>\n",
       "</tr>\n",
       "<tr>\n",
       "  <th>C(specialty)[T.49]</th> <td>    2.7772</td> <td>    1.193</td> <td>    2.328</td> <td> 0.020</td> <td>    0.439</td> <td>    5.115</td>\n",
       "</tr>\n",
       "<tr>\n",
       "  <th>C(specialty)[T.50]</th> <td>    1.9406</td> <td>    1.121</td> <td>    1.732</td> <td> 0.083</td> <td>   -0.256</td> <td>    4.137</td>\n",
       "</tr>\n",
       "<tr>\n",
       "  <th>C(specialty)[T.51]</th> <td>    1.4893</td> <td>    1.126</td> <td>    1.322</td> <td> 0.186</td> <td>   -0.718</td> <td>    3.697</td>\n",
       "</tr>\n",
       "<tr>\n",
       "  <th>C(specialty)[T.52]</th> <td>    2.1463</td> <td>    1.135</td> <td>    1.892</td> <td> 0.059</td> <td>   -0.077</td> <td>    4.370</td>\n",
       "</tr>\n",
       "<tr>\n",
       "  <th>C(specialty)[T.53]</th> <td>    2.6994</td> <td>    1.163</td> <td>    2.320</td> <td> 0.020</td> <td>    0.419</td> <td>    4.979</td>\n",
       "</tr>\n",
       "<tr>\n",
       "  <th>C(specialty)[T.54]</th> <td>    1.9589</td> <td>    1.416</td> <td>    1.384</td> <td> 0.166</td> <td>   -0.816</td> <td>    4.734</td>\n",
       "</tr>\n",
       "<tr>\n",
       "  <th>C(specialty)[T.55]</th> <td>    1.5253</td> <td>    1.121</td> <td>    1.360</td> <td> 0.174</td> <td>   -0.673</td> <td>    3.723</td>\n",
       "</tr>\n",
       "<tr>\n",
       "  <th>C(specialty)[T.56]</th> <td>    3.0680</td> <td>    1.547</td> <td>    1.983</td> <td> 0.047</td> <td>    0.035</td> <td>    6.101</td>\n",
       "</tr>\n",
       "<tr>\n",
       "  <th>C(specialty)[T.57]</th> <td>    1.9040</td> <td>    1.415</td> <td>    1.346</td> <td> 0.178</td> <td>   -0.869</td> <td>    4.677</td>\n",
       "</tr>\n",
       "<tr>\n",
       "  <th>C(specialty)[T.58]</th> <td>    2.5110</td> <td>    1.129</td> <td>    2.225</td> <td> 0.026</td> <td>    0.299</td> <td>    4.723</td>\n",
       "</tr>\n",
       "<tr>\n",
       "  <th>C(specialty)[T.59]</th> <td>    1.4275</td> <td>    1.273</td> <td>    1.121</td> <td> 0.262</td> <td>   -1.068</td> <td>    3.923</td>\n",
       "</tr>\n",
       "<tr>\n",
       "  <th>C(specialty)[T.60]</th> <td>    2.1902</td> <td>    1.314</td> <td>    1.666</td> <td> 0.096</td> <td>   -0.386</td> <td>    4.766</td>\n",
       "</tr>\n",
       "<tr>\n",
       "  <th>C(specialty)[T.61]</th> <td>    1.3509</td> <td>    1.121</td> <td>    1.205</td> <td> 0.228</td> <td>   -0.847</td> <td>    3.549</td>\n",
       "</tr>\n",
       "<tr>\n",
       "  <th>C(specialty)[T.62]</th> <td>    2.0498</td> <td>    1.121</td> <td>    1.829</td> <td> 0.067</td> <td>   -0.146</td> <td>    4.246</td>\n",
       "</tr>\n",
       "<tr>\n",
       "  <th>C(specialty)[T.63]</th> <td>    2.8163</td> <td>    1.135</td> <td>    2.482</td> <td> 0.013</td> <td>    0.593</td> <td>    5.040</td>\n",
       "</tr>\n",
       "<tr>\n",
       "  <th>C(specialty)[T.64]</th> <td>    1.7251</td> <td>    1.123</td> <td>    1.536</td> <td> 0.125</td> <td>   -0.476</td> <td>    3.926</td>\n",
       "</tr>\n",
       "<tr>\n",
       "  <th>C(specialty)[T.65]</th> <td>    1.5848</td> <td>    1.189</td> <td>    1.333</td> <td> 0.182</td> <td>   -0.745</td> <td>    3.915</td>\n",
       "</tr>\n",
       "<tr>\n",
       "  <th>C(specialty)[T.66]</th> <td>    2.4699</td> <td>    1.149</td> <td>    2.149</td> <td> 0.032</td> <td>    0.217</td> <td>    4.722</td>\n",
       "</tr>\n",
       "<tr>\n",
       "  <th>C(specialty)[T.67]</th> <td>    3.4834</td> <td>    1.213</td> <td>    2.871</td> <td> 0.004</td> <td>    1.105</td> <td>    5.862</td>\n",
       "</tr>\n",
       "<tr>\n",
       "  <th>C(specialty)[T.68]</th> <td>    2.8215</td> <td>    1.130</td> <td>    2.498</td> <td> 0.013</td> <td>    0.607</td> <td>    5.036</td>\n",
       "</tr>\n",
       "<tr>\n",
       "  <th>C(specialty)[T.69]</th> <td>   24.5835</td> <td> 4.02e+04</td> <td>    0.001</td> <td> 1.000</td> <td>-7.87e+04</td> <td> 7.87e+04</td>\n",
       "</tr>\n",
       "<tr>\n",
       "  <th>C(specialty)[T.70]</th> <td>    1.8888</td> <td>    1.120</td> <td>    1.687</td> <td> 0.092</td> <td>   -0.306</td> <td>    4.083</td>\n",
       "</tr>\n",
       "<tr>\n",
       "  <th>C(specialty)[T.71]</th> <td>    2.1650</td> <td>    1.124</td> <td>    1.926</td> <td> 0.054</td> <td>   -0.038</td> <td>    4.368</td>\n",
       "</tr>\n",
       "<tr>\n",
       "  <th>Gender</th>             <td>    0.1889</td> <td>    0.025</td> <td>    7.432</td> <td> 0.000</td> <td>    0.139</td> <td>    0.239</td>\n",
       "</tr>\n",
       "<tr>\n",
       "  <th>experienceyear</th>     <td>   -0.0172</td> <td>    0.001</td> <td>  -17.391</td> <td> 0.000</td> <td>   -0.019</td> <td>   -0.015</td>\n",
       "</tr>\n",
       "</table>"
      ],
      "text/plain": [
       "<class 'statsmodels.iolib.summary.Summary'>\n",
       "\"\"\"\n",
       "                           Logit Regression Results                           \n",
       "==============================================================================\n",
       "Dep. Variable:                   tier   No. Observations:                50168\n",
       "Model:                          Logit   Df Residuals:                    50095\n",
       "Method:                           MLE   Df Model:                           72\n",
       "Date:                Fri, 16 Mar 2018   Pseudo R-squ.:                 0.01887\n",
       "Time:                        12:26:20   Log-Likelihood:                -29931.\n",
       "converged:                      False   LL-Null:                       -30507.\n",
       "                                        LLR p-value:                4.668e-194\n",
       "======================================================================================\n",
       "                         coef    std err          z      P>|z|      [0.025      0.975]\n",
       "--------------------------------------------------------------------------------------\n",
       "Intercept             -0.9237      1.119     -0.826      0.409      -3.117       1.269\n",
       "C(specialty)[T.1]      3.5286      1.534      2.300      0.021       0.522       6.535\n",
       "C(specialty)[T.2]      2.2961      1.125      2.041      0.041       0.091       4.501\n",
       "C(specialty)[T.3]      2.0384      1.119      1.822      0.068      -0.154       4.231\n",
       "C(specialty)[T.5]    -14.8027   2713.791     -0.005      0.996   -5333.736    5304.131\n",
       "C(specialty)[T.6]      2.6365      1.133      2.327      0.020       0.416       4.857\n",
       "C(specialty)[T.7]      2.7693      1.129      2.454      0.014       0.557       4.981\n",
       "C(specialty)[T.8]      2.5192      1.119      2.250      0.024       0.325       4.713\n",
       "C(specialty)[T.9]    -14.4565   2709.519     -0.005      0.996   -5325.017    5296.104\n",
       "C(specialty)[T.10]   -13.6699   1038.763     -0.013      0.990   -2049.608    2022.268\n",
       "C(specialty)[T.11]     1.3398      1.503      0.891      0.373      -1.606       4.286\n",
       "C(specialty)[T.12]     2.0973      1.124      1.866      0.062      -0.106       4.301\n",
       "C(specialty)[T.13]     3.0463      1.143      2.666      0.008       0.807       5.286\n",
       "C(specialty)[T.14]     1.9466      1.132      1.720      0.085      -0.271       4.165\n",
       "C(specialty)[T.15]     2.1839      1.119      1.951      0.051      -0.010       4.377\n",
       "C(specialty)[T.16]     2.0567      1.119      1.838      0.066      -0.136       4.250\n",
       "C(specialty)[T.17]     1.4923      1.119      1.333      0.182      -0.702       3.686\n",
       "C(specialty)[T.18]     1.5501      1.122      1.381      0.167      -0.650       3.750\n",
       "C(specialty)[T.19]     2.1911      1.119      1.959      0.050      -0.001       4.384\n",
       "C(specialty)[T.20]     2.0375      1.119      1.821      0.069      -0.156       4.231\n",
       "C(specialty)[T.21]     2.1071      1.129      1.867      0.062      -0.105       4.319\n",
       "C(specialty)[T.22]     2.5455      1.120      2.273      0.023       0.351       4.740\n",
       "C(specialty)[T.23]     1.6041      1.145      1.401      0.161      -0.640       3.848\n",
       "C(specialty)[T.24]     2.9217      1.568      1.863      0.062      -0.151       5.995\n",
       "C(specialty)[T.25]     2.4290      1.151      2.111      0.035       0.174       4.684\n",
       "C(specialty)[T.26]     2.1764      1.132      1.923      0.054      -0.042       4.395\n",
       "C(specialty)[T.27]     2.3800      1.183      2.012      0.044       0.062       4.698\n",
       "C(specialty)[T.28]     2.2424      1.122      1.998      0.046       0.043       4.442\n",
       "C(specialty)[T.29]     2.1307      1.219      1.748      0.080      -0.258       4.519\n",
       "C(specialty)[T.30]     1.6369      1.125      1.455      0.146      -0.569       3.843\n",
       "C(specialty)[T.31]     1.9480      1.127      1.729      0.084      -0.260       4.156\n",
       "C(specialty)[T.32]     2.0968      1.119      1.875      0.061      -0.095       4.289\n",
       "C(specialty)[T.33]     2.7575      1.125      2.450      0.014       0.552       4.963\n",
       "C(specialty)[T.34]     1.5641      1.125      1.390      0.165      -0.641       3.770\n",
       "C(specialty)[T.35]     2.1932      1.129      1.942      0.052      -0.021       4.407\n",
       "C(specialty)[T.36]     1.6225      1.659      0.978      0.328      -1.628       4.873\n",
       "C(specialty)[T.37]     2.4348      1.134      2.148      0.032       0.213       4.657\n",
       "C(specialty)[T.38]     2.4115      1.122      2.149      0.032       0.212       4.611\n",
       "C(specialty)[T.39]     1.4653      1.120      1.308      0.191      -0.730       3.661\n",
       "C(specialty)[T.40]     1.0123      1.355      0.747      0.455      -1.643       3.668\n",
       "C(specialty)[T.41]     2.3838      1.123      2.123      0.034       0.183       4.585\n",
       "C(specialty)[T.42]     2.1240      1.194      1.778      0.075      -0.217       4.465\n",
       "C(specialty)[T.43]     2.2953      1.385      1.657      0.097      -0.419       5.010\n",
       "C(specialty)[T.44]     2.3992      1.120      2.142      0.032       0.204       4.594\n",
       "C(specialty)[T.45]     2.3579      1.119      2.108      0.035       0.165       4.551\n",
       "C(specialty)[T.46]     2.7883      1.365      2.043      0.041       0.113       5.464\n",
       "C(specialty)[T.47]    17.3702   2737.071      0.006      0.995   -5347.190    5381.931\n",
       "C(specialty)[T.48]     2.0874      1.119      1.865      0.062      -0.106       4.281\n",
       "C(specialty)[T.49]     2.7772      1.193      2.328      0.020       0.439       5.115\n",
       "C(specialty)[T.50]     1.9406      1.121      1.732      0.083      -0.256       4.137\n",
       "C(specialty)[T.51]     1.4893      1.126      1.322      0.186      -0.718       3.697\n",
       "C(specialty)[T.52]     2.1463      1.135      1.892      0.059      -0.077       4.370\n",
       "C(specialty)[T.53]     2.6994      1.163      2.320      0.020       0.419       4.979\n",
       "C(specialty)[T.54]     1.9589      1.416      1.384      0.166      -0.816       4.734\n",
       "C(specialty)[T.55]     1.5253      1.121      1.360      0.174      -0.673       3.723\n",
       "C(specialty)[T.56]     3.0680      1.547      1.983      0.047       0.035       6.101\n",
       "C(specialty)[T.57]     1.9040      1.415      1.346      0.178      -0.869       4.677\n",
       "C(specialty)[T.58]     2.5110      1.129      2.225      0.026       0.299       4.723\n",
       "C(specialty)[T.59]     1.4275      1.273      1.121      0.262      -1.068       3.923\n",
       "C(specialty)[T.60]     2.1902      1.314      1.666      0.096      -0.386       4.766\n",
       "C(specialty)[T.61]     1.3509      1.121      1.205      0.228      -0.847       3.549\n",
       "C(specialty)[T.62]     2.0498      1.121      1.829      0.067      -0.146       4.246\n",
       "C(specialty)[T.63]     2.8163      1.135      2.482      0.013       0.593       5.040\n",
       "C(specialty)[T.64]     1.7251      1.123      1.536      0.125      -0.476       3.926\n",
       "C(specialty)[T.65]     1.5848      1.189      1.333      0.182      -0.745       3.915\n",
       "C(specialty)[T.66]     2.4699      1.149      2.149      0.032       0.217       4.722\n",
       "C(specialty)[T.67]     3.4834      1.213      2.871      0.004       1.105       5.862\n",
       "C(specialty)[T.68]     2.8215      1.130      2.498      0.013       0.607       5.036\n",
       "C(specialty)[T.69]    24.5835   4.02e+04      0.001      1.000   -7.87e+04    7.87e+04\n",
       "C(specialty)[T.70]     1.8888      1.120      1.687      0.092      -0.306       4.083\n",
       "C(specialty)[T.71]     2.1650      1.124      1.926      0.054      -0.038       4.368\n",
       "Gender                 0.1889      0.025      7.432      0.000       0.139       0.239\n",
       "experienceyear        -0.0172      0.001    -17.391      0.000      -0.019      -0.015\n",
       "======================================================================================\n",
       "\"\"\""
      ]
     },
     "execution_count": 118,
     "metadata": {},
     "output_type": "execute_result"
    }
   ],
   "source": [
    "model_or_0_logit.summary()"
   ]
  },
  {
   "cell_type": "code",
   "execution_count": 119,
   "metadata": {
    "collapsed": true
   },
   "outputs": [],
   "source": [
    "from statsmodels.iolib.summary2 import summary_col"
   ]
  },
  {
   "cell_type": "code",
   "execution_count": 120,
   "metadata": {
    "collapsed": true
   },
   "outputs": [],
   "source": [
    "info_dict = {'R2': lambda x: '{:.3f}'.format(int(x.rsquared)),\n",
    "             'N': lambda x: '{0:d}'.format(int(x.nobs))}"
   ]
  },
  {
   "cell_type": "code",
   "execution_count": 121,
   "metadata": {
    "collapsed": false
   },
   "outputs": [
    {
     "data": {
      "text/html": [
       "<table class=\"simpletable\">\n",
       "<tr>\n",
       "           <td></td>             <th>M1</th>       <th>M2</th>       <th>M3</th>        <th>M4</th>        <th>M5</th>    \n",
       "</tr>\n",
       "<tr>\n",
       "  <th>C(specialty)[T.10]</th>   <td>5.30</td>    <td>-1.75**</td>  <td>-10.45</td>     <td>-0.45</td>    <td>-13.67</td>  \n",
       "</tr>\n",
       "<tr>\n",
       "  <th></th>                    <td>(9.56)</td>   <td>(0.79)</td>  <td>(136.73)</td>   <td>(0.75)</td>   <td>(1038.76)</td>\n",
       "</tr>\n",
       "<tr>\n",
       "  <th>C(specialty)[T.11]</th>   <td>12.48</td>    <td>-0.85</td>    <td>0.58</td>      <td>-0.15</td>     <td>1.34</td>   \n",
       "</tr>\n",
       "<tr>\n",
       "  <th></th>                    <td>(10.13)</td>  <td>(0.83)</td>   <td>(1.35)</td>    <td>(0.60)</td>    <td>(1.50)</td>  \n",
       "</tr>\n",
       "<tr>\n",
       "  <th>C(specialty)[T.12]</th>   <td>3.45</td>     <td>-0.85</td>    <td>0.79</td>      <td>0.49</td>      <td>2.10*</td>  \n",
       "</tr>\n",
       "<tr>\n",
       "  <th></th>                    <td>(7.63)</td>   <td>(0.63)</td>   <td>(1.08)</td>    <td>(0.40)</td>    <td>(1.12)</td>  \n",
       "</tr>\n",
       "<tr>\n",
       "  <th>C(specialty)[T.13]</th>   <td>-9.43</td>   <td>1.70***</td>  <td>3.43***</td>    <td>0.61</td>     <td>3.05***</td> \n",
       "</tr>\n",
       "<tr>\n",
       "  <th></th>                    <td>(7.77)</td>   <td>(0.64)</td>   <td>(1.10)</td>    <td>(0.41)</td>    <td>(1.14)</td>  \n",
       "</tr>\n",
       "<tr>\n",
       "  <th>C(specialty)[T.14]</th>   <td>-5.84</td>    <td>0.58</td>     <td>1.77</td>      <td>0.43</td>      <td>1.95*</td>  \n",
       "</tr>\n",
       "<tr>\n",
       "  <th></th>                    <td>(7.73)</td>   <td>(0.64)</td>   <td>(1.09)</td>    <td>(0.41)</td>    <td>(1.13)</td>  \n",
       "</tr>\n",
       "<tr>\n",
       "  <th>C(specialty)[T.15]</th>   <td>-5.55</td>   <td>1.58**</td>   <td>2.64**</td>     <td>0.51</td>      <td>2.18*</td>  \n",
       "</tr>\n",
       "<tr>\n",
       "  <th></th>                    <td>(7.61)</td>   <td>(0.63)</td>   <td>(1.08)</td>    <td>(0.40)</td>    <td>(1.12)</td>  \n",
       "</tr>\n",
       "<tr>\n",
       "  <th>C(specialty)[T.16]</th>   <td>0.56</td>     <td>-0.71</td>    <td>0.87</td>      <td>0.52</td>      <td>2.06*</td>  \n",
       "</tr>\n",
       "<tr>\n",
       "  <th></th>                    <td>(7.60)</td>   <td>(0.63)</td>   <td>(1.08)</td>    <td>(0.40)</td>    <td>(1.12)</td>  \n",
       "</tr>\n",
       "<tr>\n",
       "  <th>C(specialty)[T.17]</th> <td>-18.16**</td>   <td>0.12</td>     <td>1.28</td>      <td>0.20</td>      <td>1.49</td>   \n",
       "</tr>\n",
       "<tr>\n",
       "  <th></th>                    <td>(7.61)</td>   <td>(0.63)</td>   <td>(1.08)</td>    <td>(0.40)</td>    <td>(1.12)</td>  \n",
       "</tr>\n",
       "<tr>\n",
       "  <th>C(specialty)[T.18]</th>  <td>-11.17</td>   <td>1.35**</td>    <td>2.05*</td>     <td>0.25</td>      <td>1.55</td>   \n",
       "</tr>\n",
       "<tr>\n",
       "  <th></th>                    <td>(7.66)</td>   <td>(0.63)</td>   <td>(1.08)</td>    <td>(0.40)</td>    <td>(1.12)</td>  \n",
       "</tr>\n",
       "<tr>\n",
       "  <th>C(specialty)[T.19]</th>   <td>-8.82</td>   <td>1.43**</td>   <td>2.52**</td>     <td>0.50</td>      <td>2.19*</td>  \n",
       "</tr>\n",
       "<tr>\n",
       "  <th></th>                    <td>(7.60)</td>   <td>(0.63)</td>   <td>(1.08)</td>    <td>(0.40)</td>    <td>(1.12)</td>  \n",
       "</tr>\n",
       "<tr>\n",
       "  <th>C(specialty)[T.1]</th>  <td>-22.25**</td>   <td>1.44*</td>   <td>2.99**</td>     <td>0.92*</td>    <td>3.53**</td>  \n",
       "</tr>\n",
       "<tr>\n",
       "  <th></th>                    <td>(9.43)</td>   <td>(0.78)</td>   <td>(1.27)</td>    <td>(0.48)</td>    <td>(1.53)</td>  \n",
       "</tr>\n",
       "<tr>\n",
       "  <th>C(specialty)[T.20]</th>   <td>1.49</td>    <td>1.45**</td>   <td>2.45**</td>     <td>0.44</td>      <td>2.04*</td>  \n",
       "</tr>\n",
       "<tr>\n",
       "  <th></th>                    <td>(7.61)</td>   <td>(0.63)</td>   <td>(1.08)</td>    <td>(0.40)</td>    <td>(1.12)</td>  \n",
       "</tr>\n",
       "<tr>\n",
       "  <th>C(specialty)[T.21]</th>   <td>-2.78</td>   <td>1.27**</td>   <td>2.32**</td>     <td>0.50</td>      <td>2.11*</td>  \n",
       "</tr>\n",
       "<tr>\n",
       "  <th></th>                    <td>(7.72)</td>   <td>(0.64)</td>   <td>(1.09)</td>    <td>(0.41)</td>    <td>(1.13)</td>  \n",
       "</tr>\n",
       "<tr>\n",
       "  <th>C(specialty)[T.22]</th>   <td>-8.73</td>   <td>1.53**</td>   <td>2.83***</td>    <td>0.60</td>     <td>2.55**</td>  \n",
       "</tr>\n",
       "<tr>\n",
       "  <th></th>                    <td>(7.62)</td>   <td>(0.63)</td>   <td>(1.08)</td>    <td>(0.40)</td>    <td>(1.12)</td>  \n",
       "</tr>\n",
       "<tr>\n",
       "  <th>C(specialty)[T.23]</th>  <td>-11.87</td>    <td>1.04</td>     <td>1.83*</td>     <td>0.39</td>      <td>1.60</td>   \n",
       "</tr>\n",
       "<tr>\n",
       "  <th></th>                    <td>(7.93)</td>   <td>(0.65)</td>   <td>(1.10)</td>    <td>(0.42)</td>    <td>(1.14)</td>  \n",
       "</tr>\n",
       "<tr>\n",
       "  <th>C(specialty)[T.24]</th>   <td>-5.03</td>   <td>1.90**</td>   <td>3.47**</td>     <td>0.70</td>      <td>2.92*</td>  \n",
       "</tr>\n",
       "<tr>\n",
       "  <th></th>                    <td>(11.19)</td>  <td>(0.92)</td>   <td>(1.54)</td>    <td>(0.54)</td>    <td>(1.57)</td>  \n",
       "</tr>\n",
       "<tr>\n",
       "  <th>C(specialty)[T.25]</th> <td>-15.71**</td>  <td>1.60**</td>   <td>2.85**</td>     <td>0.53</td>     <td>2.43**</td>  \n",
       "</tr>\n",
       "<tr>\n",
       "  <th></th>                    <td>(7.94)</td>   <td>(0.65)</td>   <td>(1.11)</td>    <td>(0.41)</td>    <td>(1.15)</td>  \n",
       "</tr>\n",
       "<tr>\n",
       "  <th>C(specialty)[T.26]</th>  <td>-12.44</td>   <td>1.60**</td>   <td>2.67**</td>     <td>0.48</td>      <td>2.18*</td>  \n",
       "</tr>\n",
       "<tr>\n",
       "  <th></th>                    <td>(7.75)</td>   <td>(0.64)</td>   <td>(1.09)</td>    <td>(0.41)</td>    <td>(1.13)</td>  \n",
       "</tr>\n",
       "<tr>\n",
       "  <th>C(specialty)[T.27]</th>   <td>-4.98</td>    <td>1.17*</td>   <td>2.39**</td>     <td>0.60</td>     <td>2.38**</td>  \n",
       "</tr>\n",
       "<tr>\n",
       "  <th></th>                    <td>(8.21)</td>   <td>(0.68)</td>   <td>(1.13)</td>    <td>(0.43)</td>    <td>(1.18)</td>  \n",
       "</tr>\n",
       "<tr>\n",
       "  <th>C(specialty)[T.28]</th>   <td>-6.42</td>   <td>1.39**</td>   <td>2.51**</td>     <td>0.54</td>     <td>2.24**</td>  \n",
       "</tr>\n",
       "<tr>\n",
       "  <th></th>                    <td>(7.65)</td>   <td>(0.63)</td>   <td>(1.08)</td>    <td>(0.40)</td>    <td>(1.12)</td>  \n",
       "</tr>\n",
       "<tr>\n",
       "  <th>C(specialty)[T.29]</th>   <td>-2.38</td>    <td>0.46</td>     <td>1.70</td>      <td>0.66</td>      <td>2.13*</td>  \n",
       "</tr>\n",
       "<tr>\n",
       "  <th></th>                    <td>(8.39)</td>   <td>(0.69)</td>   <td>(1.14)</td>    <td>(0.45)</td>    <td>(1.22)</td>  \n",
       "</tr>\n",
       "<tr>\n",
       "  <th>C(specialty)[T.2]</th>    <td>-2.29</td>   <td>1.53**</td>   <td>2.62**</td>     <td>0.60</td>     <td>2.30**</td>  \n",
       "</tr>\n",
       "<tr>\n",
       "  <th></th>                    <td>(7.67)</td>   <td>(0.63)</td>   <td>(1.09)</td>    <td>(0.40)</td>    <td>(1.12)</td>  \n",
       "</tr>\n",
       "<tr>\n",
       "  <th>C(specialty)[T.30]</th>   <td>3.00</td>     <td>-0.16</td>    <td>1.14</td>      <td>0.33</td>      <td>1.64</td>   \n",
       "</tr>\n",
       "<tr>\n",
       "  <th></th>                    <td>(7.65)</td>   <td>(0.63)</td>   <td>(1.08)</td>    <td>(0.40)</td>    <td>(1.13)</td>  \n",
       "</tr>\n",
       "<tr>\n",
       "  <th>C(specialty)[T.31]</th>  <td>-12.04</td>    <td>0.98</td>     <td>2.00*</td>     <td>0.51</td>      <td>1.95*</td>  \n",
       "</tr>\n",
       "<tr>\n",
       "  <th></th>                    <td>(7.69)</td>   <td>(0.63)</td>   <td>(1.09)</td>    <td>(0.41)</td>    <td>(1.13)</td>  \n",
       "</tr>\n",
       "<tr>\n",
       "  <th>C(specialty)[T.32]</th>   <td>-4.41</td>    <td>1.02</td>    <td>2.15**</td>     <td>0.47</td>      <td>2.10*</td>  \n",
       "</tr>\n",
       "<tr>\n",
       "  <th></th>                    <td>(7.60)</td>   <td>(0.63)</td>   <td>(1.08)</td>    <td>(0.40)</td>    <td>(1.12)</td>  \n",
       "</tr>\n",
       "<tr>\n",
       "  <th>C(specialty)[T.33]</th>  <td>-10.75</td>   <td>1.63***</td>  <td>2.98***</td>    <td>0.74*</td>    <td>2.76**</td>  \n",
       "</tr>\n",
       "<tr>\n",
       "  <th></th>                    <td>(7.66)</td>   <td>(0.63)</td>   <td>(1.09)</td>    <td>(0.40)</td>    <td>(1.13)</td>  \n",
       "</tr>\n",
       "<tr>\n",
       "  <th>C(specialty)[T.34]</th>   <td>0.13</td>    <td>1.25**</td>    <td>2.05*</td>     <td>0.19</td>      <td>1.56</td>   \n",
       "</tr>\n",
       "<tr>\n",
       "  <th></th>                    <td>(7.70)</td>   <td>(0.63)</td>   <td>(1.09)</td>    <td>(0.40)</td>    <td>(1.13)</td>  \n",
       "</tr>\n",
       "<tr>\n",
       "  <th>C(specialty)[T.35]</th>   <td>-0.00</td>    <td>0.20</td>     <td>1.58</td>      <td>0.59</td>      <td>2.19*</td>  \n",
       "</tr>\n",
       "<tr>\n",
       "  <th></th>                    <td>(7.68)</td>   <td>(0.63)</td>   <td>(1.09)</td>    <td>(0.41)</td>    <td>(1.13)</td>  \n",
       "</tr>\n",
       "<tr>\n",
       "  <th>C(specialty)[T.36]</th>   <td>0.99</td>     <td>1.91*</td>    <td>2.45</td>      <td>0.48</td>      <td>1.62</td>   \n",
       "</tr>\n",
       "<tr>\n",
       "  <th></th>                    <td>(13.88)</td>  <td>(1.14)</td>   <td>(1.63)</td>    <td>(0.65)</td>    <td>(1.66)</td>  \n",
       "</tr>\n",
       "<tr>\n",
       "  <th>C(specialty)[T.37]</th>  <td>-11.03</td>   <td>1.62**</td>   <td>2.75**</td>     <td>0.67*</td>    <td>2.43**</td>  \n",
       "</tr>\n",
       "<tr>\n",
       "  <th></th>                    <td>(7.76)</td>   <td>(0.64)</td>   <td>(1.09)</td>    <td>(0.41)</td>    <td>(1.13)</td>  \n",
       "</tr>\n",
       "<tr>\n",
       "  <th>C(specialty)[T.38]</th>   <td>-8.82</td>    <td>1.08*</td>   <td>2.31**</td>     <td>0.65</td>     <td>2.41**</td>  \n",
       "</tr>\n",
       "<tr>\n",
       "  <th></th>                    <td>(7.63)</td>   <td>(0.63)</td>   <td>(1.08)</td>    <td>(0.40)</td>    <td>(1.12)</td>  \n",
       "</tr>\n",
       "<tr>\n",
       "  <th>C(specialty)[T.39]</th>   <td>-8.46</td>   <td>1.30**</td>    <td>1.93*</td>     <td>0.25</td>      <td>1.47</td>   \n",
       "</tr>\n",
       "<tr>\n",
       "  <th></th>                    <td>(7.63)</td>   <td>(0.63)</td>   <td>(1.08)</td>    <td>(0.40)</td>    <td>(1.12)</td>  \n",
       "</tr>\n",
       "<tr>\n",
       "  <th>C(specialty)[T.3]</th>    <td>7.66</td>     <td>-0.52</td>    <td>1.01</td>      <td>0.54</td>      <td>2.04*</td>  \n",
       "</tr>\n",
       "<tr>\n",
       "  <th></th>                    <td>(7.60)</td>   <td>(0.63)</td>   <td>(1.08)</td>    <td>(0.40)</td>    <td>(1.12)</td>  \n",
       "</tr>\n",
       "<tr>\n",
       "  <th>C(specialty)[T.40]</th>  <td>-11.69</td>    <td>1.38</td>     <td>1.52</td>      <td>0.24</td>      <td>1.01</td>   \n",
       "</tr>\n",
       "<tr>\n",
       "  <th></th>                    <td>(10.75)</td>  <td>(0.88)</td>   <td>(1.32)</td>    <td>(0.52)</td>    <td>(1.35)</td>  \n",
       "</tr>\n",
       "<tr>\n",
       "  <th>C(specialty)[T.41]</th>   <td>-9.88</td>   <td>1.64***</td>  <td>2.90***</td>    <td>0.51</td>     <td>2.38**</td>  \n",
       "</tr>\n",
       "<tr>\n",
       "  <th></th>                    <td>(7.65)</td>   <td>(0.63)</td>   <td>(1.09)</td>    <td>(0.40)</td>    <td>(1.12)</td>  \n",
       "</tr>\n",
       "<tr>\n",
       "  <th>C(specialty)[T.42]</th>   <td>-2.61</td>    <td>-0.78</td>    <td>0.91</td>      <td>0.37</td>      <td>2.12*</td>  \n",
       "</tr>\n",
       "<tr>\n",
       "  <th></th>                    <td>(7.98)</td>   <td>(0.66)</td>   <td>(1.11)</td>    <td>(0.44)</td>    <td>(1.19)</td>  \n",
       "</tr>\n",
       "<tr>\n",
       "  <th>C(specialty)[T.43]</th>   <td>-5.98</td>    <td>0.22</td>     <td>1.93</td>      <td>0.02</td>      <td>2.30*</td>  \n",
       "</tr>\n",
       "<tr>\n",
       "  <th></th>                    <td>(9.56)</td>   <td>(0.79)</td>   <td>(1.23)</td>    <td>(0.51)</td>    <td>(1.38)</td>  \n",
       "</tr>\n",
       "<tr>\n",
       "  <th>C(specialty)[T.44]</th>   <td>-9.44</td>   <td>1.63***</td>  <td>2.83***</td>    <td>0.54</td>     <td>2.40**</td>  \n",
       "</tr>\n",
       "<tr>\n",
       "  <th></th>                    <td>(7.62)</td>   <td>(0.63)</td>   <td>(1.08)</td>    <td>(0.40)</td>    <td>(1.12)</td>  \n",
       "</tr>\n",
       "<tr>\n",
       "  <th>C(specialty)[T.45]</th>   <td>6.41</td>    <td>1.46**</td>   <td>2.64**</td>     <td>0.58</td>     <td>2.36**</td>  \n",
       "</tr>\n",
       "<tr>\n",
       "  <th></th>                    <td>(7.61)</td>   <td>(0.63)</td>   <td>(1.08)</td>    <td>(0.40)</td>    <td>(1.12)</td>  \n",
       "</tr>\n",
       "<tr>\n",
       "  <th>C(specialty)[T.46]</th>   <td>-5.13</td>    <td>0.28</td>     <td>1.80</td>      <td>0.86*</td>    <td>2.79**</td>  \n",
       "</tr>\n",
       "<tr>\n",
       "  <th></th>                    <td>(8.96)</td>   <td>(0.74)</td>   <td>(1.18)</td>    <td>(0.48)</td>    <td>(1.37)</td>  \n",
       "</tr>\n",
       "<tr>\n",
       "  <th>C(specialty)[T.47]</th>  <td>-37.02*</td>   <td>1.90</td>     <td>9.99</td>      <td>1.05</td>      <td>17.37</td>  \n",
       "</tr>\n",
       "<tr>\n",
       "  <th></th>                    <td>(21.49)</td>  <td>(1.77)</td>   <td>(61.58)</td>   <td>(0.98)</td>   <td>(2737.07)</td>\n",
       "</tr>\n",
       "<tr>\n",
       "  <th>C(specialty)[T.48]</th>   <td>-7.39</td>   <td>1.50**</td>   <td>2.55**</td>     <td>0.43</td>      <td>2.09*</td>  \n",
       "</tr>\n",
       "<tr>\n",
       "  <th></th>                    <td>(7.61)</td>   <td>(0.63)</td>   <td>(1.08)</td>    <td>(0.40)</td>    <td>(1.12)</td>  \n",
       "</tr>\n",
       "<tr>\n",
       "  <th>C(specialty)[T.49]</th>   <td>-4.60</td>    <td>1.27*</td>   <td>2.62**</td>     <td>0.72*</td>    <td>2.78**</td>  \n",
       "</tr>\n",
       "<tr>\n",
       "  <th></th>                    <td>(8.11)</td>   <td>(0.67)</td>   <td>(1.12)</td>    <td>(0.42)</td>    <td>(1.19)</td>  \n",
       "</tr>\n",
       "<tr>\n",
       "  <th>C(specialty)[T.4]</th>    <td>-2.51</td>    <td>-2.25</td>   <td>-15.72</td>       <td></td>          <td></td>     \n",
       "</tr>\n",
       "<tr>\n",
       "  <th></th>                    <td>(21.49)</td>  <td>(1.77)</td>  <td>(6238.36)</td>     <td></td>          <td></td>     \n",
       "</tr>\n",
       "<tr>\n",
       "  <th>C(specialty)[T.50]</th>   <td>-4.33</td>   <td>1.45**</td>   <td>2.38**</td>     <td>0.42</td>      <td>1.94*</td>  \n",
       "</tr>\n",
       "<tr>\n",
       "  <th></th>                    <td>(7.63)</td>   <td>(0.63)</td>   <td>(1.08)</td>    <td>(0.40)</td>    <td>(1.12)</td>  \n",
       "</tr>\n",
       "<tr>\n",
       "  <th>C(specialty)[T.51]</th>   <td>-0.53</td>    <td>1.20*</td>    <td>1.96*</td>     <td>0.20</td>      <td>1.49</td>   \n",
       "</tr>\n",
       "<tr>\n",
       "  <th></th>                    <td>(7.71)</td>   <td>(0.63)</td>   <td>(1.09)</td>    <td>(0.41)</td>    <td>(1.13)</td>  \n",
       "</tr>\n",
       "<tr>\n",
       "  <th>C(specialty)[T.52]</th>   <td>11.34</td>   <td>-1.14*</td>    <td>0.51</td>      <td>0.58</td>      <td>2.15*</td>  \n",
       "</tr>\n",
       "<tr>\n",
       "  <th></th>                    <td>(7.66)</td>   <td>(0.63)</td>   <td>(1.09)</td>    <td>(0.41)</td>    <td>(1.13)</td>  \n",
       "</tr>\n",
       "<tr>\n",
       "  <th>C(specialty)[T.53]</th>  <td>-11.08</td>    <td>1.27*</td>   <td>2.64**</td>     <td>0.66</td>     <td>2.70**</td>  \n",
       "</tr>\n",
       "<tr>\n",
       "  <th></th>                    <td>(7.95)</td>   <td>(0.65)</td>   <td>(1.11)</td>    <td>(0.42)</td>    <td>(1.16)</td>  \n",
       "</tr>\n",
       "<tr>\n",
       "  <th>C(specialty)[T.54]</th>   <td>-8.80</td>    <td>1.10</td>     <td>2.07</td>      <td>0.52</td>      <td>1.96</td>   \n",
       "</tr>\n",
       "<tr>\n",
       "  <th></th>                    <td>(10.75)</td>  <td>(0.88)</td>   <td>(1.32)</td>    <td>(0.54)</td>    <td>(1.42)</td>  \n",
       "</tr>\n",
       "<tr>\n",
       "  <th>C(specialty)[T.55]</th>   <td>-4.46</td>    <td>1.13*</td>    <td>1.90*</td>     <td>0.29</td>      <td>1.53</td>   \n",
       "</tr>\n",
       "<tr>\n",
       "  <th></th>                    <td>(7.64)</td>   <td>(0.63)</td>   <td>(1.08)</td>    <td>(0.40)</td>    <td>(1.12)</td>  \n",
       "</tr>\n",
       "<tr>\n",
       "  <th>C(specialty)[T.56]</th>   <td>6.89</td>    <td>-1.43**</td>   <td>0.32</td>      <td>0.82</td>     <td>3.07**</td>  \n",
       "</tr>\n",
       "<tr>\n",
       "  <th></th>                    <td>(8.25)</td>   <td>(0.68)</td>   <td>(1.16)</td>    <td>(0.51)</td>    <td>(1.55)</td>  \n",
       "</tr>\n",
       "<tr>\n",
       "  <th>C(specialty)[T.57]</th>  <td>-16.36*</td>   <td>-0.03</td>    <td>1.28</td>      <td>0.57</td>      <td>1.90</td>   \n",
       "</tr>\n",
       "<tr>\n",
       "  <th></th>                    <td>(9.72)</td>   <td>(0.80)</td>   <td>(1.25)</td>    <td>(0.54)</td>    <td>(1.41)</td>  \n",
       "</tr>\n",
       "<tr>\n",
       "  <th>C(specialty)[T.58]</th>   <td>-8.00</td>   <td>1.66***</td>  <td>2.97***</td>    <td>0.57</td>     <td>2.51**</td>  \n",
       "</tr>\n",
       "<tr>\n",
       "  <th></th>                    <td>(7.71)</td>   <td>(0.63)</td>   <td>(1.09)</td>    <td>(0.41)</td>    <td>(1.13)</td>  \n",
       "</tr>\n",
       "<tr>\n",
       "  <th>C(specialty)[T.59]</th> <td>-24.02***</td>  <td>0.50</td>     <td>1.38</td>      <td>0.38</td>      <td>1.43</td>   \n",
       "</tr>\n",
       "<tr>\n",
       "  <th></th>                    <td>(9.20)</td>   <td>(0.76)</td>   <td>(1.20)</td>    <td>(0.48)</td>    <td>(1.27)</td>  \n",
       "</tr>\n",
       "<tr>\n",
       "  <th>C(specialty)[T.5]</th>  <td>-78.05***</td>  <td>1.40</td>    <td>-14.63</td>     <td>-0.20</td>    <td>-14.80</td>  \n",
       "</tr>\n",
       "<tr>\n",
       "  <th></th>                    <td>(21.50)</td>  <td>(1.77)</td>  <td>(3887.33)</td>  <td>(0.98)</td>   <td>(2713.79)</td>\n",
       "</tr>\n",
       "<tr>\n",
       "  <th>C(specialty)[T.60]</th>   <td>-1.15</td>   <td>1.71**</td>   <td>2.65**</td>     <td>0.63</td>      <td>2.19*</td>  \n",
       "</tr>\n",
       "<tr>\n",
       "  <th></th>                    <td>(9.91)</td>   <td>(0.82)</td>   <td>(1.28)</td>    <td>(0.49)</td>    <td>(1.31)</td>  \n",
       "</tr>\n",
       "<tr>\n",
       "  <th>C(specialty)[T.61]</th>   <td>-9.62</td>    <td>0.80</td>     <td>1.58</td>      <td>0.15</td>      <td>1.35</td>   \n",
       "</tr>\n",
       "<tr>\n",
       "  <th></th>                    <td>(7.64)</td>   <td>(0.63)</td>   <td>(1.08)</td>    <td>(0.40)</td>    <td>(1.12)</td>  \n",
       "</tr>\n",
       "<tr>\n",
       "  <th>C(specialty)[T.62]</th>   <td>-5.25</td>   <td>1.32**</td>   <td>2.30**</td>     <td>0.52</td>      <td>2.05*</td>  \n",
       "</tr>\n",
       "<tr>\n",
       "  <th></th>                    <td>(7.63)</td>   <td>(0.63)</td>   <td>(1.08)</td>    <td>(0.40)</td>    <td>(1.12)</td>  \n",
       "</tr>\n",
       "<tr>\n",
       "  <th>C(specialty)[T.63]</th>   <td>-4.64</td>    <td>1.17*</td>   <td>2.49**</td>    <td>0.83**</td>    <td>2.82**</td>  \n",
       "</tr>\n",
       "<tr>\n",
       "  <th></th>                    <td>(7.71)</td>   <td>(0.63)</td>   <td>(1.09)</td>    <td>(0.41)</td>    <td>(1.13)</td>  \n",
       "</tr>\n",
       "<tr>\n",
       "  <th>C(specialty)[T.64]</th>  <td>-12.58</td>   <td>1.38**</td>   <td>2.18**</td>     <td>0.31</td>      <td>1.73</td>   \n",
       "</tr>\n",
       "<tr>\n",
       "  <th></th>                    <td>(7.67)</td>   <td>(0.63)</td>   <td>(1.09)</td>    <td>(0.40)</td>    <td>(1.12)</td>  \n",
       "</tr>\n",
       "<tr>\n",
       "  <th>C(specialty)[T.65]</th>  <td>-15.26*</td>   <td>1.15</td>     <td>1.95*</td>     <td>0.19</td>      <td>1.58</td>   \n",
       "</tr>\n",
       "<tr>\n",
       "  <th></th>                    <td>(8.56)</td>   <td>(0.70)</td>   <td>(1.15)</td>    <td>(0.44)</td>    <td>(1.19)</td>  \n",
       "</tr>\n",
       "<tr>\n",
       "  <th>C(specialty)[T.66]</th>   <td>-7.39</td>   <td>1.61**</td>   <td>2.83**</td>     <td>0.61</td>     <td>2.47**</td>  \n",
       "</tr>\n",
       "<tr>\n",
       "  <th></th>                    <td>(7.88)</td>   <td>(0.65)</td>   <td>(1.11)</td>    <td>(0.41)</td>    <td>(1.15)</td>  \n",
       "</tr>\n",
       "<tr>\n",
       "  <th>C(specialty)[T.67]</th>   <td>-7.73</td>   <td>1.79***</td>  <td>3.58***</td>    <td>0.81*</td>    <td>3.48***</td> \n",
       "</tr>\n",
       "<tr>\n",
       "  <th></th>                    <td>(8.07)</td>   <td>(0.66)</td>   <td>(1.15)</td>    <td>(0.42)</td>    <td>(1.21)</td>  \n",
       "</tr>\n",
       "<tr>\n",
       "  <th>C(specialty)[T.68]</th>   <td>-1.75</td>   <td>1.61**</td>   <td>3.05***</td>    <td>0.71*</td>    <td>2.82**</td>  \n",
       "</tr>\n",
       "<tr>\n",
       "  <th></th>                    <td>(7.69)</td>   <td>(0.63)</td>   <td>(1.09)</td>    <td>(0.40)</td>    <td>(1.13)</td>  \n",
       "</tr>\n",
       "<tr>\n",
       "  <th>C(specialty)[T.69]</th>   <td>-8.57</td>    <td>1.33*</td>   <td>3.32**</td>     <td>0.90*</td>     <td>24.58</td>  \n",
       "</tr>\n",
       "<tr>\n",
       "  <th></th>                    <td>(9.72)</td>   <td>(0.80)</td>   <td>(1.33)</td>    <td>(0.50)</td>  <td>(40161.37)</td>\n",
       "</tr>\n",
       "<tr>\n",
       "  <th>C(specialty)[T.6]</th>   <td>-12.81*</td>  <td>1.38**</td>   <td>2.68**</td>     <td>0.67*</td>    <td>2.64**</td>  \n",
       "</tr>\n",
       "<tr>\n",
       "  <th></th>                    <td>(7.72)</td>   <td>(0.64)</td>   <td>(1.09)</td>    <td>(0.41)</td>    <td>(1.13)</td>  \n",
       "</tr>\n",
       "<tr>\n",
       "  <th>C(specialty)[T.70]</th>   <td>-6.22</td>   <td>1.40**</td>   <td>2.34**</td>     <td>0.35</td>      <td>1.89*</td>  \n",
       "</tr>\n",
       "<tr>\n",
       "  <th></th>                    <td>(7.62)</td>   <td>(0.63)</td>   <td>(1.08)</td>    <td>(0.40)</td>    <td>(1.12)</td>  \n",
       "</tr>\n",
       "<tr>\n",
       "  <th>C(specialty)[T.71]</th>   <td>-4.91</td>   <td>1.33**</td>   <td>2.42**</td>     <td>0.51</td>      <td>2.16*</td>  \n",
       "</tr>\n",
       "<tr>\n",
       "  <th></th>                    <td>(7.66)</td>   <td>(0.63)</td>   <td>(1.09)</td>    <td>(0.40)</td>    <td>(1.12)</td>  \n",
       "</tr>\n",
       "<tr>\n",
       "  <th>C(specialty)[T.7]</th>    <td>4.69</td>    <td>1.64***</td>  <td>3.03***</td>    <td>0.73*</td>    <td>2.77**</td>  \n",
       "</tr>\n",
       "<tr>\n",
       "  <th></th>                    <td>(7.69)</td>   <td>(0.63)</td>   <td>(1.09)</td>    <td>(0.40)</td>    <td>(1.13)</td>  \n",
       "</tr>\n",
       "<tr>\n",
       "  <th>C(specialty)[T.8]</th>    <td>-8.74</td>   <td>1.43**</td>   <td>2.65**</td>     <td>0.68*</td>    <td>2.52**</td>  \n",
       "</tr>\n",
       "<tr>\n",
       "  <th></th>                    <td>(7.61)</td>   <td>(0.63)</td>   <td>(1.08)</td>    <td>(0.40)</td>    <td>(1.12)</td>  \n",
       "</tr>\n",
       "<tr>\n",
       "  <th>C(specialty)[T.9]</th>    <td>12.81</td>    <td>0.73</td>    <td>-14.31</td>     <td>-0.53</td>    <td>-14.46</td>  \n",
       "</tr>\n",
       "<tr>\n",
       "  <th></th>                    <td>(21.49)</td>  <td>(1.77)</td>  <td>(3401.33)</td>  <td>(0.98)</td>   <td>(2709.52)</td>\n",
       "</tr>\n",
       "<tr>\n",
       "  <th>Gender</th>             <td>-0.82***</td>  <td>0.12***</td>  <td>0.18***</td>   <td>0.06***</td>   <td>0.19***</td> \n",
       "</tr>\n",
       "<tr>\n",
       "  <th></th>                    <td>(0.20)</td>   <td>(0.02)</td>   <td>(0.02)</td>    <td>(0.01)</td>    <td>(0.03)</td>  \n",
       "</tr>\n",
       "<tr>\n",
       "  <th>Intercept</th>          <td>85.77***</td>  <td>2.05***</td>  <td>-1.90*</td>    <td>3.74***</td>    <td>-0.92</td>  \n",
       "</tr>\n",
       "<tr>\n",
       "  <th></th>                    <td>(7.61)</td>   <td>(0.63)</td>   <td>(1.08)</td>    <td>(0.40)</td>    <td>(1.12)</td>  \n",
       "</tr>\n",
       "<tr>\n",
       "  <th>experienceyear</th>      <td>0.06***</td>  <td>0.01***</td>   <td>-0.00</td>   <td>-0.01***</td>  <td>-0.02***</td> \n",
       "</tr>\n",
       "<tr>\n",
       "  <th></th>                    <td>(0.01)</td>   <td>(0.00)</td>   <td>(0.00)</td>    <td>(0.00)</td>    <td>(0.00)</td>  \n",
       "</tr>\n",
       "<tr>\n",
       "  <th>mean</th>                   <td></td>       <td>-0.00</td>    <td>-0.00</td>     <td>-0.00</td>       <td></td>     \n",
       "</tr>\n",
       "<tr>\n",
       "  <th></th>                       <td></td>      <td>(0.00)</td>   <td>(0.00)</td>    <td>(0.00)</td>       <td></td>     \n",
       "</tr>\n",
       "<tr>\n",
       "  <th>R2</th>                   <td>0.000</td>    <td>0.000</td>      <td></td>        <td>0.000</td>       <td></td>     \n",
       "</tr>\n",
       "<tr>\n",
       "  <th>N</th>                    <td>66024</td>    <td>65987</td>    <td>65987</td>     <td>50168</td>     <td>50168</td>  \n",
       "</tr>\n",
       "</table>"
      ],
      "text/plain": [
       "<class 'statsmodels.iolib.summary2.Summary'>\n",
       "\"\"\"\n",
       "\n",
       "==================================================================\n",
       "                       M1       M2       M3       M4        M5    \n",
       "------------------------------------------------------------------\n",
       "C(specialty)[T.10] 5.30      -1.75** -10.45    -0.45    -13.67    \n",
       "                   (9.56)    (0.79)  (136.73)  (0.75)   (1038.76) \n",
       "C(specialty)[T.11] 12.48     -0.85   0.58      -0.15    1.34      \n",
       "                   (10.13)   (0.83)  (1.35)    (0.60)   (1.50)    \n",
       "C(specialty)[T.12] 3.45      -0.85   0.79      0.49     2.10*     \n",
       "                   (7.63)    (0.63)  (1.08)    (0.40)   (1.12)    \n",
       "C(specialty)[T.13] -9.43     1.70*** 3.43***   0.61     3.05***   \n",
       "                   (7.77)    (0.64)  (1.10)    (0.41)   (1.14)    \n",
       "C(specialty)[T.14] -5.84     0.58    1.77      0.43     1.95*     \n",
       "                   (7.73)    (0.64)  (1.09)    (0.41)   (1.13)    \n",
       "C(specialty)[T.15] -5.55     1.58**  2.64**    0.51     2.18*     \n",
       "                   (7.61)    (0.63)  (1.08)    (0.40)   (1.12)    \n",
       "C(specialty)[T.16] 0.56      -0.71   0.87      0.52     2.06*     \n",
       "                   (7.60)    (0.63)  (1.08)    (0.40)   (1.12)    \n",
       "C(specialty)[T.17] -18.16**  0.12    1.28      0.20     1.49      \n",
       "                   (7.61)    (0.63)  (1.08)    (0.40)   (1.12)    \n",
       "C(specialty)[T.18] -11.17    1.35**  2.05*     0.25     1.55      \n",
       "                   (7.66)    (0.63)  (1.08)    (0.40)   (1.12)    \n",
       "C(specialty)[T.19] -8.82     1.43**  2.52**    0.50     2.19*     \n",
       "                   (7.60)    (0.63)  (1.08)    (0.40)   (1.12)    \n",
       "C(specialty)[T.1]  -22.25**  1.44*   2.99**    0.92*    3.53**    \n",
       "                   (9.43)    (0.78)  (1.27)    (0.48)   (1.53)    \n",
       "C(specialty)[T.20] 1.49      1.45**  2.45**    0.44     2.04*     \n",
       "                   (7.61)    (0.63)  (1.08)    (0.40)   (1.12)    \n",
       "C(specialty)[T.21] -2.78     1.27**  2.32**    0.50     2.11*     \n",
       "                   (7.72)    (0.64)  (1.09)    (0.41)   (1.13)    \n",
       "C(specialty)[T.22] -8.73     1.53**  2.83***   0.60     2.55**    \n",
       "                   (7.62)    (0.63)  (1.08)    (0.40)   (1.12)    \n",
       "C(specialty)[T.23] -11.87    1.04    1.83*     0.39     1.60      \n",
       "                   (7.93)    (0.65)  (1.10)    (0.42)   (1.14)    \n",
       "C(specialty)[T.24] -5.03     1.90**  3.47**    0.70     2.92*     \n",
       "                   (11.19)   (0.92)  (1.54)    (0.54)   (1.57)    \n",
       "C(specialty)[T.25] -15.71**  1.60**  2.85**    0.53     2.43**    \n",
       "                   (7.94)    (0.65)  (1.11)    (0.41)   (1.15)    \n",
       "C(specialty)[T.26] -12.44    1.60**  2.67**    0.48     2.18*     \n",
       "                   (7.75)    (0.64)  (1.09)    (0.41)   (1.13)    \n",
       "C(specialty)[T.27] -4.98     1.17*   2.39**    0.60     2.38**    \n",
       "                   (8.21)    (0.68)  (1.13)    (0.43)   (1.18)    \n",
       "C(specialty)[T.28] -6.42     1.39**  2.51**    0.54     2.24**    \n",
       "                   (7.65)    (0.63)  (1.08)    (0.40)   (1.12)    \n",
       "C(specialty)[T.29] -2.38     0.46    1.70      0.66     2.13*     \n",
       "                   (8.39)    (0.69)  (1.14)    (0.45)   (1.22)    \n",
       "C(specialty)[T.2]  -2.29     1.53**  2.62**    0.60     2.30**    \n",
       "                   (7.67)    (0.63)  (1.09)    (0.40)   (1.12)    \n",
       "C(specialty)[T.30] 3.00      -0.16   1.14      0.33     1.64      \n",
       "                   (7.65)    (0.63)  (1.08)    (0.40)   (1.13)    \n",
       "C(specialty)[T.31] -12.04    0.98    2.00*     0.51     1.95*     \n",
       "                   (7.69)    (0.63)  (1.09)    (0.41)   (1.13)    \n",
       "C(specialty)[T.32] -4.41     1.02    2.15**    0.47     2.10*     \n",
       "                   (7.60)    (0.63)  (1.08)    (0.40)   (1.12)    \n",
       "C(specialty)[T.33] -10.75    1.63*** 2.98***   0.74*    2.76**    \n",
       "                   (7.66)    (0.63)  (1.09)    (0.40)   (1.13)    \n",
       "C(specialty)[T.34] 0.13      1.25**  2.05*     0.19     1.56      \n",
       "                   (7.70)    (0.63)  (1.09)    (0.40)   (1.13)    \n",
       "C(specialty)[T.35] -0.00     0.20    1.58      0.59     2.19*     \n",
       "                   (7.68)    (0.63)  (1.09)    (0.41)   (1.13)    \n",
       "C(specialty)[T.36] 0.99      1.91*   2.45      0.48     1.62      \n",
       "                   (13.88)   (1.14)  (1.63)    (0.65)   (1.66)    \n",
       "C(specialty)[T.37] -11.03    1.62**  2.75**    0.67*    2.43**    \n",
       "                   (7.76)    (0.64)  (1.09)    (0.41)   (1.13)    \n",
       "C(specialty)[T.38] -8.82     1.08*   2.31**    0.65     2.41**    \n",
       "                   (7.63)    (0.63)  (1.08)    (0.40)   (1.12)    \n",
       "C(specialty)[T.39] -8.46     1.30**  1.93*     0.25     1.47      \n",
       "                   (7.63)    (0.63)  (1.08)    (0.40)   (1.12)    \n",
       "C(specialty)[T.3]  7.66      -0.52   1.01      0.54     2.04*     \n",
       "                   (7.60)    (0.63)  (1.08)    (0.40)   (1.12)    \n",
       "C(specialty)[T.40] -11.69    1.38    1.52      0.24     1.01      \n",
       "                   (10.75)   (0.88)  (1.32)    (0.52)   (1.35)    \n",
       "C(specialty)[T.41] -9.88     1.64*** 2.90***   0.51     2.38**    \n",
       "                   (7.65)    (0.63)  (1.09)    (0.40)   (1.12)    \n",
       "C(specialty)[T.42] -2.61     -0.78   0.91      0.37     2.12*     \n",
       "                   (7.98)    (0.66)  (1.11)    (0.44)   (1.19)    \n",
       "C(specialty)[T.43] -5.98     0.22    1.93      0.02     2.30*     \n",
       "                   (9.56)    (0.79)  (1.23)    (0.51)   (1.38)    \n",
       "C(specialty)[T.44] -9.44     1.63*** 2.83***   0.54     2.40**    \n",
       "                   (7.62)    (0.63)  (1.08)    (0.40)   (1.12)    \n",
       "C(specialty)[T.45] 6.41      1.46**  2.64**    0.58     2.36**    \n",
       "                   (7.61)    (0.63)  (1.08)    (0.40)   (1.12)    \n",
       "C(specialty)[T.46] -5.13     0.28    1.80      0.86*    2.79**    \n",
       "                   (8.96)    (0.74)  (1.18)    (0.48)   (1.37)    \n",
       "C(specialty)[T.47] -37.02*   1.90    9.99      1.05     17.37     \n",
       "                   (21.49)   (1.77)  (61.58)   (0.98)   (2737.07) \n",
       "C(specialty)[T.48] -7.39     1.50**  2.55**    0.43     2.09*     \n",
       "                   (7.61)    (0.63)  (1.08)    (0.40)   (1.12)    \n",
       "C(specialty)[T.49] -4.60     1.27*   2.62**    0.72*    2.78**    \n",
       "                   (8.11)    (0.67)  (1.12)    (0.42)   (1.19)    \n",
       "C(specialty)[T.4]  -2.51     -2.25   -15.72                       \n",
       "                   (21.49)   (1.77)  (6238.36)                    \n",
       "C(specialty)[T.50] -4.33     1.45**  2.38**    0.42     1.94*     \n",
       "                   (7.63)    (0.63)  (1.08)    (0.40)   (1.12)    \n",
       "C(specialty)[T.51] -0.53     1.20*   1.96*     0.20     1.49      \n",
       "                   (7.71)    (0.63)  (1.09)    (0.41)   (1.13)    \n",
       "C(specialty)[T.52] 11.34     -1.14*  0.51      0.58     2.15*     \n",
       "                   (7.66)    (0.63)  (1.09)    (0.41)   (1.13)    \n",
       "C(specialty)[T.53] -11.08    1.27*   2.64**    0.66     2.70**    \n",
       "                   (7.95)    (0.65)  (1.11)    (0.42)   (1.16)    \n",
       "C(specialty)[T.54] -8.80     1.10    2.07      0.52     1.96      \n",
       "                   (10.75)   (0.88)  (1.32)    (0.54)   (1.42)    \n",
       "C(specialty)[T.55] -4.46     1.13*   1.90*     0.29     1.53      \n",
       "                   (7.64)    (0.63)  (1.08)    (0.40)   (1.12)    \n",
       "C(specialty)[T.56] 6.89      -1.43** 0.32      0.82     3.07**    \n",
       "                   (8.25)    (0.68)  (1.16)    (0.51)   (1.55)    \n",
       "C(specialty)[T.57] -16.36*   -0.03   1.28      0.57     1.90      \n",
       "                   (9.72)    (0.80)  (1.25)    (0.54)   (1.41)    \n",
       "C(specialty)[T.58] -8.00     1.66*** 2.97***   0.57     2.51**    \n",
       "                   (7.71)    (0.63)  (1.09)    (0.41)   (1.13)    \n",
       "C(specialty)[T.59] -24.02*** 0.50    1.38      0.38     1.43      \n",
       "                   (9.20)    (0.76)  (1.20)    (0.48)   (1.27)    \n",
       "C(specialty)[T.5]  -78.05*** 1.40    -14.63    -0.20    -14.80    \n",
       "                   (21.50)   (1.77)  (3887.33) (0.98)   (2713.79) \n",
       "C(specialty)[T.60] -1.15     1.71**  2.65**    0.63     2.19*     \n",
       "                   (9.91)    (0.82)  (1.28)    (0.49)   (1.31)    \n",
       "C(specialty)[T.61] -9.62     0.80    1.58      0.15     1.35      \n",
       "                   (7.64)    (0.63)  (1.08)    (0.40)   (1.12)    \n",
       "C(specialty)[T.62] -5.25     1.32**  2.30**    0.52     2.05*     \n",
       "                   (7.63)    (0.63)  (1.08)    (0.40)   (1.12)    \n",
       "C(specialty)[T.63] -4.64     1.17*   2.49**    0.83**   2.82**    \n",
       "                   (7.71)    (0.63)  (1.09)    (0.41)   (1.13)    \n",
       "C(specialty)[T.64] -12.58    1.38**  2.18**    0.31     1.73      \n",
       "                   (7.67)    (0.63)  (1.09)    (0.40)   (1.12)    \n",
       "C(specialty)[T.65] -15.26*   1.15    1.95*     0.19     1.58      \n",
       "                   (8.56)    (0.70)  (1.15)    (0.44)   (1.19)    \n",
       "C(specialty)[T.66] -7.39     1.61**  2.83**    0.61     2.47**    \n",
       "                   (7.88)    (0.65)  (1.11)    (0.41)   (1.15)    \n",
       "C(specialty)[T.67] -7.73     1.79*** 3.58***   0.81*    3.48***   \n",
       "                   (8.07)    (0.66)  (1.15)    (0.42)   (1.21)    \n",
       "C(specialty)[T.68] -1.75     1.61**  3.05***   0.71*    2.82**    \n",
       "                   (7.69)    (0.63)  (1.09)    (0.40)   (1.13)    \n",
       "C(specialty)[T.69] -8.57     1.33*   3.32**    0.90*    24.58     \n",
       "                   (9.72)    (0.80)  (1.33)    (0.50)   (40161.37)\n",
       "C(specialty)[T.6]  -12.81*   1.38**  2.68**    0.67*    2.64**    \n",
       "                   (7.72)    (0.64)  (1.09)    (0.41)   (1.13)    \n",
       "C(specialty)[T.70] -6.22     1.40**  2.34**    0.35     1.89*     \n",
       "                   (7.62)    (0.63)  (1.08)    (0.40)   (1.12)    \n",
       "C(specialty)[T.71] -4.91     1.33**  2.42**    0.51     2.16*     \n",
       "                   (7.66)    (0.63)  (1.09)    (0.40)   (1.12)    \n",
       "C(specialty)[T.7]  4.69      1.64*** 3.03***   0.73*    2.77**    \n",
       "                   (7.69)    (0.63)  (1.09)    (0.40)   (1.13)    \n",
       "C(specialty)[T.8]  -8.74     1.43**  2.65**    0.68*    2.52**    \n",
       "                   (7.61)    (0.63)  (1.08)    (0.40)   (1.12)    \n",
       "C(specialty)[T.9]  12.81     0.73    -14.31    -0.53    -14.46    \n",
       "                   (21.49)   (1.77)  (3401.33) (0.98)   (2709.52) \n",
       "Gender             -0.82***  0.12*** 0.18***   0.06***  0.19***   \n",
       "                   (0.20)    (0.02)  (0.02)    (0.01)   (0.03)    \n",
       "Intercept          85.77***  2.05*** -1.90*    3.74***  -0.92     \n",
       "                   (7.61)    (0.63)  (1.08)    (0.40)   (1.12)    \n",
       "experienceyear     0.06***   0.01*** -0.00     -0.01*** -0.02***  \n",
       "                   (0.01)    (0.00)  (0.00)    (0.00)   (0.00)    \n",
       "mean                         -0.00   -0.00     -0.00              \n",
       "                             (0.00)  (0.00)    (0.00)             \n",
       "R2                 0.000     0.000             0.000              \n",
       "N                  66024     65987   65987     50168    50168     \n",
       "==================================================================\n",
       "Standard errors in parentheses.\n",
       "* p<.1, ** p<.05, ***p<.01\n",
       "\"\"\""
      ]
     },
     "execution_count": 121,
     "metadata": {},
     "output_type": "execute_result"
    }
   ],
   "source": [
    "summary_col([model,model_or,model_sl,model_or_0,model_or_0_logit],stars=True,float_format='%.2f',info_dict=info_dict,model_names =['M1','M2','M3','M4','M5'])"
   ]
  },
  {
   "cell_type": "code",
   "execution_count": null,
   "metadata": {
    "collapsed": true
   },
   "outputs": [],
   "source": []
  }
 ],
 "metadata": {
  "kernelspec": {
   "display_name": "Python 3",
   "language": "python",
   "name": "python3"
  },
  "language_info": {
   "codemirror_mode": {
    "name": "ipython",
    "version": 3
   },
   "file_extension": ".py",
   "mimetype": "text/x-python",
   "name": "python",
   "nbconvert_exporter": "python",
   "pygments_lexer": "ipython3",
   "version": "3.6.0"
  }
 },
 "nbformat": 4,
 "nbformat_minor": 2
}
